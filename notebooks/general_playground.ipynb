{
 "cells": [
  {
   "cell_type": "code",
   "execution_count": 28,
   "metadata": {},
   "outputs": [],
   "source": [
    "import pypsa\n",
    "import pandas as pd\n",
    "import matplotlib.pyplot as plt\n",
    "sys.path.insert(1, '/media/pklein/SATA_SSD/GitHub/pypsa_utilities/eskom data/')\n",
    "sys.path.insert(1, '/mnt/wsl/PHYSICALDRIVE0p1/GitHub/pypsa_utilities/eskom data/')\n",
    "\n",
    "import data_utilities as du\n",
    "import plotting_utilities as pu\n",
    "import financial_utilities as fu\n",
    "import xarray as xr\n",
    "import cartopy.crs as ccrs\n",
    "from pypsa.descriptors import get_switchable_as_dense as get_as_dense\n",
    "import geopandas as gpd\n",
    "import rasterio\n",
    "from rasterio.plot import show\n",
    "import numpy as np\n",
    "from shapely.geometry import shape\n",
    "import rioxarray\n",
    "import atlite\n",
    "import shapely\n",
    "import warnings\n",
    "warnings.filterwarnings(action='ignore', category=RuntimeWarning) \n",
    "\n",
    "from pypsa.descriptors import (\n",
    "    Dict,\n",
    "    additional_linkports,\n",
    "    expand_series,\n",
    "    get_active_assets,\n",
    "    get_activity_mask,\n",
    "    get_bounds_pu,\n",
    "    get_extendable_i,\n",
    "    get_non_extendable_i,\n",
    "    nominal_attrs,\n",
    ")\n",
    "\n",
    "%run ../scripts/_helpers.py"
   ]
  },
  {
   "cell_type": "code",
   "execution_count": 29,
   "metadata": {},
   "outputs": [],
   "source": [
    "colour_map={'onwind':'#77D1E4',\n",
    "            'onwind_100MW':'#2eb8d6',\n",
    "            'solar':'#FFBB4E',\n",
    "            'solar_pv_1MW':'#FBDC81',\n",
    "            'solar_pv_100MW':'#F99B00',\n",
    "            'CSP':'#feed82',\n",
    "            'battery':'#cba3cb',\n",
    "            'bat_c':'#AA68AA',#CBA3CB\n",
    "            'bat_d':'#AA68AA',\n",
    "            'PHS':'#873f91',\n",
    "            'phs_c':'#873f91',\n",
    "            'phs_d':'#873f91',\n",
    "            'coal':'#3C3C3C',\n",
    "            'hydro':'#004F95',\n",
    "            'ocgt':'#8D7867',\n",
    "            'diesel':'#8D7867',\n",
    "            'gas':'#8D7867',\n",
    "            'OCGT':'#8D7867',\n",
    "            'CCGT':'#ffa69e',\n",
    "            'rmippp':'#51969B',\n",
    "            'biomass':'#8C9A07',\n",
    "            'nuclear':'#C84936',\n",
    "            'demand_response':'#817E80',\n",
    "            'loadshedding':'#DE9287'}"
   ]
  },
  {
   "cell_type": "code",
   "execution_count": 39,
   "metadata": {},
   "outputs": [
    {
     "name": "stderr",
     "output_type": "stream",
     "text": [
      "INFO:pypsa.io:Imported network solved_validation-4_RSA_redz_lcopt_LC-4380SEG.nc has buses, carriers, generators, global_constraints, loads, storage_units\n"
     ]
    }
   ],
   "source": [
    "n = pypsa.Network('../results/networks/solved_validation-4_RSA_redz_lcopt_LC-4380SEG.nc')"
   ]
  },
  {
   "cell_type": "code",
   "execution_count": 46,
   "metadata": {},
   "outputs": [
    {
     "name": "stderr",
     "output_type": "stream",
     "text": [
      "INFO:pypsa.io:Imported network solved_validation-4_RSA_redz_lcopt_LC-3000SEG.nc has buses, carriers, generators, global_constraints, loads, storage_units\n"
     ]
    }
   ],
   "source": [
    "n1 = pypsa.Network('../results/networks/solved_validation-4_RSA_redz_lcopt_LC-3000SEG.nc')"
   ]
  },
  {
   "cell_type": "code",
   "execution_count": 47,
   "metadata": {},
   "outputs": [
    {
     "name": "stderr",
     "output_type": "stream",
     "text": [
      "INFO:pypsa.io:Imported network solved_validation-4_RSA_redz_lcopt_LC.nc has buses, carriers, generators, global_constraints, loads, storage_units\n"
     ]
    }
   ],
   "source": [
    "n2 = pypsa.Network('../results/networks/solved_validation-4_RSA_redz_lcopt_LC.nc')"
   ]
  },
  {
   "cell_type": "code",
   "execution_count": 50,
   "metadata": {},
   "outputs": [],
   "source": [
    "def aggregate_capacity(n):\n",
    "    capacity=pd.DataFrame(np.nan,index=np.append(n.generators.carrier.unique(),n.storage_units.carrier.unique()),columns=range(n.investment_periods[0],n.investment_periods[-1]+1))       \n",
    "    carriers=n.generators.carrier.unique()\n",
    "    carriers = carriers[carriers !='load_shedding']\n",
    "    for y in n.investment_periods:\n",
    "        capacity.loc[carriers,y]=n.generators.p_nom_opt[(n.get_active_assets('Generator',y))].groupby(n.generators.carrier).sum()\n",
    "\n",
    "    carriers=n.storage_units.carrier.unique()\n",
    "    for y in n.investment_periods:\n",
    "        capacity.loc[carriers,y]=n.storage_units.p_nom_opt[(n.get_active_assets('StorageUnit',y))].groupby(n.storage_units.carrier).sum()\n",
    "\n",
    "    capacity.loc['OCGT',:]+=capacity.loc['gas',:]+capacity.loc['diesel',:]\n",
    "    capacity=capacity.interpolate(axis=1)\n",
    "    capacity=capacity.reindex(['nuclear','coal','CCGT','OCGT','hydro','PHS','biomass','onwind','CSP','solar','battery'])\n",
    "\n",
    "    return capacity"
   ]
  },
  {
   "cell_type": "code",
   "execution_count": 71,
   "metadata": {},
   "outputs": [],
   "source": [
    "def aggregate_energy(n):\n",
    "    def aggregate_p(n,y):\n",
    "        return pd.concat(\n",
    "            [\n",
    "                n.generators_t.p.mul(n.snapshot_weightings['objective'],axis=0).loc[y].sum().groupby(n.generators.carrier).sum(),\n",
    "                n.storage_units_t.p_dispatch.mul(n.snapshot_weightings['objective'],axis=0).loc[y].sum().groupby(n.storage_units.carrier).sum(),\n",
    "            ]\n",
    "        )\n",
    "    energy=pd.DataFrame(np.nan,index=np.append(n.generators.carrier.unique(),n.storage_units.carrier.unique()),columns=range(n.investment_periods[0],n.investment_periods[-1]+1))       \n",
    "    carriers=n.generators.carrier.unique()\n",
    "    #carriers = carriers[carriers !='load_shedding']\n",
    "    for y in n.investment_periods:\n",
    "        energy.loc[:,y]=aggregate_p(n,y)\n",
    "    energy = energy.interpolate(axis=1)\n",
    "    energy=energy.reindex(['nuclear','coal','CCGT','OCGT','hydro','PHS','biomass','onwind','CSP','solar','battery'])\n",
    "\n",
    "    return energy"
   ]
  },
  {
   "cell_type": "code",
   "execution_count": 78,
   "metadata": {},
   "outputs": [],
   "source": [
    "cap = aggregate_capacity(n)\n",
    "cap1 = aggregate_capacity(n1)\n",
    "cap2 = aggregate_capacity(n2)\n",
    "\n",
    "en = aggregate_energy(n)\n",
    "en1 = aggregate_energy(n1)\n",
    "en2 = aggregate_energy(n2)"
   ]
  },
  {
   "cell_type": "code",
   "execution_count": 80,
   "metadata": {},
   "outputs": [
    {
     "data": {
      "text/plain": [
       "<AxesSubplot: >"
      ]
     },
     "execution_count": 80,
     "metadata": {},
     "output_type": "execute_result"
    },
    {
     "data": {
      "image/png": "[encoded data removed]",
      "text/plain": [
       "<Figure size 640x480 with 1 Axes>"
      ]
     },
     "metadata": {},
     "output_type": "display_data"
    }
   ],
   "source": [
    "tech = 'solar'\n",
    "cap.loc[tech].plot()\n",
    "cap1.loc[tech].plot()\n",
    "cap2.loc[tech].plot(color='r')\n"
   ]
  },
  {
   "cell_type": "code",
   "execution_count": 76,
   "metadata": {},
   "outputs": [
    {
     "data": {
      "text/plain": [
       "<AxesSubplot: >"
      ]
     },
     "execution_count": 76,
     "metadata": {},
     "output_type": "execute_result"
    },
    {
     "data": {
      "image/png": "[encoded data removed]",
      "text/plain": [
       "<Figure size 640x480 with 1 Axes>"
      ]
     },
     "metadata": {},
     "output_type": "display_data"
    }
   ],
   "source": [
    "tech = 'coal'\n",
    "en.loc[tech].plot()\n",
    "en1.loc[tech].plot()\n",
    "en2.loc[tech].plot(color='r')\n"
   ]
  },
  {
   "cell_type": "code",
   "execution_count": 42,
   "metadata": {},
   "outputs": [
    {
     "data": {
      "image/png": "[encoded data removed]",
      "text/plain": [
       "<Figure size 640x480 with 1 Axes>"
      ]
     },
     "metadata": {},
     "output_type": "display_data"
    }
   ],
   "source": [
    "ax = (capacity/1000).T.plot.bar(stacked=True,color=colour_map,width=0.8)\n",
    "plt.ylabel('Installed Capacity (GW)')\n",
    "plt.xlabel(\"\")\n",
    "plt.ylim([0,280])\n",
    "plt.yticks(range(0, 280+1, 20))  # set y-axis ticks to increments of 20\n",
    "\n",
    "for spine in ax.spines:\n",
    "    ax.spines[spine].set_visible(False)\n",
    "\n",
    "cnt=0\n",
    "height = 0     \n",
    "dy = 1  # adjust this value to fine-tune the vertical spacing between annotations\n",
    "for bar in ax.containers:\n",
    "    end_cap = (capacity/1000).iloc[cnt,-1]\n",
    "    x = len(capacity.T)-1\n",
    "    y = end_cap/2+height+dy*cnt  # adjust y position based on index of the bar\n",
    "    ax.annotate(\n",
    "        capacity.index[cnt],\n",
    "        xy=(x, y),\n",
    "        xytext=(5, 0),\n",
    "        textcoords=\"offset points\",\n",
    "        va=\"center\",\n",
    "        color=ax.containers[cnt][-1].get_facecolor(),\n",
    "        #arrowprops=dict(arrowstyle='-', connectionstyle='angle3,angleA=0,angleB=-90', facecolor='black', width=1, headwidth=4, headlength=4),  # change arrow to line\n",
    "    )\n",
    "    height += end_cap\n",
    "    cnt+=1\n",
    "\n",
    "ax.legend().set_visible(False)\n",
    "\n",
    "#ax.grid(axis='y', color='lightgray',linestyle='-.',zorder=0)  # add light grey horizontal grid lines only\n"
   ]
  },
  {
   "cell_type": "code",
   "execution_count": 44,
   "metadata": {},
   "outputs": [
    {
     "data": {
      "image/png": "[encoded data removed]",
      "text/plain": [
       "<Figure size 640x480 with 1 Axes>"
      ]
     },
     "metadata": {},
     "output_type": "display_data"
    }
   ],
   "source": [
    "ax = (energy/1e6).T.plot.bar(stacked=True,color=colour_map,width=0.8)\n",
    "plt.ylabel('Energy production (TWh)')\n",
    "plt.xlabel(\"\")\n",
    "plt.ylim([0,240])\n",
    "plt.yticks(range(0, 240+1, 40))  # set y-axis ticks to increments of 20\n",
    "\n",
    "for spine in ax.spines:\n",
    "    ax.spines[spine].set_visible(False)\n",
    "\n",
    "cnt=0\n",
    "height = 0     \n",
    "dy = 1  # adjust this value to fine-tune the vertical spacing between annotations\n",
    "for bar in ax.containers:\n",
    "    end_cap = (energy/1e6).iloc[cnt,-1]\n",
    "    x = len(energy.T)-1\n",
    "    y = end_cap/2+height+dy*cnt  # adjust y position based on index of the bar\n",
    "    ax.annotate(\n",
    "        capacity.index[cnt],\n",
    "        xy=(x, y),\n",
    "        xytext=(5, 0),\n",
    "        textcoords=\"offset points\",\n",
    "        va=\"center\",\n",
    "        color=ax.containers[cnt][-1].get_facecolor(),\n",
    "        #arrowprops=dict(arrowstyle='-', connectionstyle='angle3,angleA=0,angleB=-90', facecolor='black', width=1, headwidth=4, headlength=4),  # change arrow to line\n",
    "    )\n",
    "    height += end_cap\n",
    "    cnt+=1\n",
    "\n",
    "ax.legend().set_visible(False)\n",
    "\n",
    "#ax.grid(axis='y', color='lightgray',linestyle='-.',zorder=0)  # add light grey horizontal grid lines only\n"
   ]
  },
  {
   "cell_type": "code",
   "execution_count": 20,
   "metadata": {},
   "outputs": [
    {
     "data": {
      "text/plain": [
       "period\n",
       "2019    2.379157e+08\n",
       "2020    2.375836e+08\n",
       "2021    2.260001e+08\n",
       "2022    2.254793e+08\n",
       "2023    2.177197e+08\n",
       "2024    2.150781e+08\n",
       "2025    1.969436e+08\n",
       "2026    1.946480e+08\n",
       "2027    1.938609e+08\n",
       "2028    1.887482e+08\n",
       "2029    1.741037e+08\n",
       "2030    8.542119e+08\n",
       "2035    7.016633e+08\n",
       "2040    5.304086e+08\n",
       "2045    3.580575e+08\n",
       "2050    3.180446e+08\n",
       "dtype: float64"
      ]
     },
     "execution_count": 20,
     "metadata": {},
     "output_type": "execute_result"
    }
   ],
   "source": [
    "period_weighting = n.investment_period_weightings[\"years\"]\n",
    "weightings = n.snapshot_weightings.mul(period_weighting, level=0, axis=0).loc[\n",
    "    n.snapshots\n",
    "]\n",
    "em_pu = n.generators.carrier.map(n.carriers.co2_emissions)\n",
    "em_pu = (\n",
    "    weightings[\"generators\"].to_frame(\"weightings\")\n",
    "    @ em_pu.to_frame(\"weightings\").T\n",
    ")\n",
    "emissions = em_pu.mul(n.generators_t.p/n.generators.efficiency).groupby(n.generators_t.p.index.get_level_values(0)).sum().sum(axis=1)\n",
    "emissions"
   ]
  },
  {
   "cell_type": "code",
   "execution_count": null,
   "metadata": {},
   "outputs": [],
   "source": [
    "emissions.sum()/1e9"
   ]
  },
  {
   "cell_type": "code",
   "execution_count": null,
   "metadata": {},
   "outputs": [],
   "source": [
    "eskom_data['loadshed_mlr'].groupby(eskom_data.index.year).sum().to_clipboard()"
   ]
  },
  {
   "cell_type": "code",
   "execution_count": null,
   "metadata": {},
   "outputs": [],
   "source": [
    "df = pd.read_csv('../data/Eskom EAF data.csv',index_col=[1,0],parse_dates=True)\n",
    "df['capacity'] = df['EAF %']/100 * df['MW'] \n",
    "\n",
    "\n",
    "for y in [2017,2018,2019,2020,2021,2022]:\n",
    "    data=df.loc['Generation Total','PCLF %']\n",
    "    plt.plot(data[data.index.year==y].values)\n",
    "\n"
   ]
  },
  {
   "cell_type": "code",
   "execution_count": null,
   "metadata": {},
   "outputs": [],
   "source": [
    "df = pd.read_csv('../data/Eskom EAF data.csv',index_col=[1,0],parse_dates=True)\n",
    "df['capacity'] = df['EAF %']/100 * df['MW'] \n",
    "stations=df[df.type=='coal'].index.get_level_values(0)"
   ]
  },
  {
   "cell_type": "code",
   "execution_count": null,
   "metadata": {},
   "outputs": [],
   "source": [
    "stations"
   ]
  },
  {
   "cell_type": "code",
   "execution_count": null,
   "metadata": {},
   "outputs": [],
   "source": [
    "df = pd.read_csv('../data/Eskom EAF data.csv',index_col=[1,0],parse_dates=True)\n",
    "df['capacity'] = df['EAF %']/100 * df['MW'] \n",
    "stations=df[df.type=='coal'].index.get_level_values(0).unique()\n",
    "eaf=pd.DataFrame(0,index=stations,columns=range(2017,2023))\n",
    "planned=pd.DataFrame(0,index=stations,columns=range(2017,2023))\n",
    "unplanned=pd.DataFrame(0,index=stations,columns=range(2017,2023))\n",
    "for s in stations:\n",
    "    eaf.loc[s,:]=df.loc[s,'EAF %'].groupby(df.loc[s,'EAF %'].index.year).mean()\n",
    "    planned.loc[s,:]=df.loc[s,'PCLF %'].groupby(df.loc[s,'PCLF %'].index.year).mean()\n",
    "    unplanned.loc[s,:]=df.loc[s,'UCLF %'].groupby(df.loc[s,'UCLF %'].index.year).mean()+df.loc[s,'OCLF %'].groupby(df.loc[s,'OCLF %'].index.year).mean()"
   ]
  },
  {
   "cell_type": "code",
   "execution_count": null,
   "metadata": {},
   "outputs": [],
   "source": [
    "df = pd.read_csv('../data/Eskom EAF data.csv',index_col=[1,0],parse_dates=True)\n",
    "df['capacity'] = df['EAF %']/100 * df['MW'] \n",
    "df=df[df.type=='coal']\n",
    "df.index=df.index.get_level_values(1)\n",
    "variable='EAF %'\n",
    "type_avg=df.groupby(level=0).mean()\n",
    "type_avg.drop(['MW','capacity'],axis=1)\n",
    "type_avg.loc[:,variable].groupby(type_avg.index.year).mean()"
   ]
  },
  {
   "cell_type": "code",
   "execution_count": null,
   "metadata": {},
   "outputs": [],
   "source": [
    "df = pd.read_csv('../data/Eskom EAF data.csv',index_col=[1,0],parse_dates=True)\n",
    "df['capacity'] = df['EAF %']/100 * df['MW'] \n",
    "stations=df[df.type=='coal'].index.get_level_values(0)\n",
    "\n",
    "installed_capacity=pd.DataFrame(0,index=stations,columns=range(2017,2023))\n",
    "for s in stations:\n",
    "    for y in range(2017,2023):\n",
    "        installed_capacity.loc[s,y]=df.loc[(s,str(y)),'MW'].mean()"
   ]
  },
  {
   "cell_type": "code",
   "execution_count": null,
   "metadata": {},
   "outputs": [],
   "source": [
    "installed_capacity.to_clipboard()"
   ]
  },
  {
   "cell_type": "code",
   "execution_count": null,
   "metadata": {},
   "outputs": [],
   "source": [
    "mean_pclf=type_avg[variable].groupby(type_avg.index.month).mean().to_clipboard()\n",
    "for y in [2017,2018,2019,2020,2021,2022]:\n",
    "    plt.plot(type_avg.loc[str(y),variable].values)\n",
    "\n",
    "plt.plot(mean_pclf.values,'k--',linewidth=3)\n",
    "plt.legend([2017,2018,2019,2020,2021,2022])"
   ]
  },
  {
   "cell_type": "code",
   "execution_count": null,
   "metadata": {},
   "outputs": [],
   "source": [
    "mean_pclf=coal_plants['UCLF %'].groupby(coal_plants.index.month).mean()\n",
    "for y in [2017,2018,2019,2020,2021,2022]:\n",
    "    plt.plot(coal_plants.loc[str(y),'UCLF %'].values)\n",
    "\n",
    "plt.plot(mean_pclf.values,'k--',linewidth=3)\n",
    "plt.legend([2017,2018,2019,2020,2021,2022])"
   ]
  },
  {
   "cell_type": "code",
   "execution_count": null,
   "metadata": {},
   "outputs": [],
   "source": [
    "plt.plot(eskom_data['coal_eaf'])\n",
    "plt.plot(df[df.type=='coal'].groupby('Date').sum()['capacity'].divide(df[df.type=='coal'].groupby('Date').sum()['MW']))\n",
    "plt.ylabel('Coal fleet EAF')"
   ]
  },
  {
   "cell_type": "code",
   "execution_count": null,
   "metadata": {},
   "outputs": [],
   "source": [
    "n365 = pypsa.Network('../results/version-0.6/networks/solved_za-original_27-supply_redz_lcopt_LC.nc')\n",
    "n365.generators.p_nom_opt[(n365.get_active_assets('Generator',2040)) & (n365.generators.carrier=='onwind')].plot.bar()"
   ]
  },
  {
   "cell_type": "code",
   "execution_count": null,
   "metadata": {},
   "outputs": [],
   "source": [
    "n350 = pypsa.Network('../results/version-0.6/networks/solved_za-original_27-supply_redz_lcopt_LC-350p.nc')\n",
    "n350.generators.p_nom_opt[(n350.get_active_assets('Generator',2040)) & (n350.generators.carrier=='onwind')].plot.bar()"
   ]
  },
  {
   "cell_type": "code",
   "execution_count": null,
   "metadata": {},
   "outputs": [],
   "source": [
    "n = pypsa.Network('../results/version-0.6/networks/solved_IRP-2019_RSA_redz_lcopt_LC.nc')"
   ]
  },
  {
   "cell_type": "code",
   "execution_count": null,
   "metadata": {},
   "outputs": [],
   "source": [
    "n[25] = pypsa.Network('../results/version-0.6/networks/solved_za-original_27-supply_redz_lcopt_LC-25p.nc')\n",
    "n[10] = pypsa.Network('../results/version-0.6/networks/solved_za-original_27-supply_redz_lcopt_LC-10p.nc')\n",
    "n[5] = pypsa.Network('../results/version-0.6/networks/solved_za-original_27-supply_redz_lcopt_LC-5p.nc')"
   ]
  },
  {
   "cell_type": "code",
   "execution_count": null,
   "metadata": {},
   "outputs": [],
   "source": [
    "#s={}\n",
    "#s[1200] = pypsa.Network('../results/version-0.6/networks/solved_za-original_27-supply_redz_lcopt_LC-1200SEG.nc')\n",
    "#s[2400] = pypsa.Network('../results/version-0.6/networks/solved_za-original_27-supply_redz_lcopt_LC-2400SEG.nc')\n",
    "s[3600] = pypsa.Network('../results/version-0.6/networks/solved_za-original_27-supply_redz_lcopt_LC-3600SEG.nc')"
   ]
  },
  {
   "cell_type": "code",
   "execution_count": null,
   "metadata": {},
   "outputs": [],
   "source": [
    "n={}\n",
    "n[365] = pypsa.Network('../results/version-0.6/networks/solved_za-original_27-supply_redz_lcopt_LC.nc')\n",
    "n[350] = pypsa.Network('../results/version-0.6/networks/solved_za-original_27-supply_redz_lcopt_LC-350p.nc')\n",
    "n[300] = pypsa.Network('../results/version-0.6/networks/solved_za-original_27-supply_redz_lcopt_LC-300p.nc')\n",
    "n[250] = pypsa.Network('../results/version-0.6/networks/solved_za-original_27-supply_redz_lcopt_LC-250p.nc')\n",
    "n[200] = pypsa.Network('../results/version-0.6/networks/solved_za-original_27-supply_redz_lcopt_LC-200p.nc')\n",
    "n[150] = pypsa.Network('../results/version-0.6/networks/solved_za-original_27-supply_redz_lcopt_LC-150p.nc')\n",
    "n[100] = pypsa.Network('../results/version-0.6/networks/solved_za-original_27-supply_redz_lcopt_LC-100p.nc')\n",
    "n[50] = pypsa.Network('../results/version-0.6/networks/solved_za-original_27-supply_redz_lcopt_LC-50p.nc')\n",
    "n[25] = pypsa.Network('../results/version-0.6/networks/solved_za-original_27-supply_redz_lcopt_LC-25p.nc')\n",
    "n[10] = pypsa.Network('../results/version-0.6/networks/solved_za-original_27-supply_redz_lcopt_LC-10p.nc')\n",
    "n[50] = pypsa.Network('../results/version-0.6/networks/solved_za-original_27-supply_redz_lcopt_LC-5p.nc')"
   ]
  },
  {
   "cell_type": "code",
   "execution_count": null,
   "metadata": {},
   "outputs": [],
   "source": [
    "n.investment_period_weightings"
   ]
  },
  {
   "cell_type": "code",
   "execution_count": null,
   "metadata": {},
   "outputs": [],
   "source": [
    "n.generators.p_nom_opt[n.get_active_assets('Generator',2025)].groupby(n.generators.carrier).sum()"
   ]
  },
  {
   "cell_type": "code",
   "execution_count": null,
   "metadata": {},
   "outputs": [],
   "source": [
    "n.generators.p_nom_opt[n.generators.carrier=='coal']"
   ]
  },
  {
   "cell_type": "code",
   "execution_count": null,
   "metadata": {},
   "outputs": [],
   "source": [
    "n.generators.p_nom_opt[n.generators.carrier=='solar']"
   ]
  },
  {
   "cell_type": "code",
   "execution_count": null,
   "metadata": {},
   "outputs": [],
   "source": [
    "nodes=[5,10,25,50,100,150,200,250,300,350,365]\n",
    "capacity = pd.DataFrame(0,index=n[365].generators.carrier.unique(),columns=nodes)\n",
    "for node in nodes:\n",
    "    p_nom_opt = n[node].generators.p_nom_opt.groupby(n365.generators.carrier).sum()\n",
    "    for tech in n365.generators.carrier:\n",
    "        capacity.loc[tech,node] = p_nom_opt[tech]\n"
   ]
  },
  {
   "cell_type": "code",
   "execution_count": null,
   "metadata": {},
   "outputs": [],
   "source": [
    "capacity = pd.DataFrame(0,index=n[365].generators.carrier,columns=nodes)"
   ]
  },
  {
   "cell_type": "code",
   "execution_count": null,
   "metadata": {},
   "outputs": [],
   "source": [
    "capacity.T.plot.area()"
   ]
  },
  {
   "cell_type": "code",
   "execution_count": null,
   "metadata": {},
   "outputs": [],
   "source": [
    "supply_regions = gpd.read_file(snakemake.input.supply_regions).buffer(-0.005) #.to_crs(n.crs)\n",
    "resarea = gpd.read_file(snakemake.input.resarea).to_crs(supply_regions.crs)"
   ]
  },
  {
   "cell_type": "code",
   "execution_count": null,
   "metadata": {},
   "outputs": [],
   "source": [
    "fig, ax = plt.subplots(figsize=[7, 7], subplot_kw={\"projection\": ccrs.PlateCarree()})\n",
    "n.plot(ax=ax, boundaries=[14, 34, -35, -22])"
   ]
  },
  {
   "cell_type": "code",
   "execution_count": null,
   "metadata": {},
   "outputs": [],
   "source": [
    "n.plot(ax=ax)"
   ]
  },
  {
   "cell_type": "code",
   "execution_count": null,
   "metadata": {},
   "outputs": [],
   "source": [
    "n.lines[['bus0','bus1','num_parallel','length','s_nom_min']]"
   ]
  },
  {
   "cell_type": "code",
   "execution_count": null,
   "metadata": {},
   "outputs": [],
   "source": [
    "n.lines['s_nom_opt']-n.lines['s_nom_min']"
   ]
  },
  {
   "cell_type": "code",
   "execution_count": null,
   "metadata": {},
   "outputs": [],
   "source": [
    "n.generators.p_nom_opt.groupby(n.generators.carrier).sum()"
   ]
  },
  {
   "cell_type": "code",
   "execution_count": null,
   "metadata": {},
   "outputs": [],
   "source": [
    "n.storage_units.p_nom_opt.groupby(n.storage_units.carrier=='battery').sum()"
   ]
  },
  {
   "cell_type": "code",
   "execution_count": null,
   "metadata": {},
   "outputs": [],
   "source": [
    "n.generators_t.p_max_pu['RSA onwind_2040'].mean()"
   ]
  },
  {
   "cell_type": "code",
   "execution_count": null,
   "metadata": {},
   "outputs": [],
   "source": [
    "n.generators_t.p['RSA onwind_2040'].mean()/n.generators.p_nom_opt['RSA onwind_2040']"
   ]
  },
  {
   "cell_type": "code",
   "execution_count": null,
   "metadata": {},
   "outputs": [],
   "source": [
    "co2_emi = (n.generators_t.p.sum()/n.generators.efficiency * n.generators.carrier.map(n.carriers.co2_emissions)).sum()\n",
    "co2_emi/1e6"
   ]
  },
  {
   "cell_type": "code",
   "execution_count": null,
   "metadata": {},
   "outputs": [],
   "source": [
    "n.investment_period_weightings"
   ]
  },
  {
   "cell_type": "code",
   "execution_count": null,
   "metadata": {},
   "outputs": [],
   "source": [
    "n.generators_t.p_max_pu.plot()"
   ]
  },
  {
   "cell_type": "code",
   "execution_count": null,
   "metadata": {},
   "outputs": [],
   "source": [
    "# Find the column name and index for all values equal to 5\n",
    "df = n.vars['Generator']['pnl']['p']\n",
    "value = 468128\n",
    "mask = df.eq(value)\n",
    "result = mask.where(mask).stack()\n",
    "print(result)\n"
   ]
  }
 ],
 "metadata": {
  "kernelspec": {
   "display_name": "Python 3.10.6 ('pypsa-eur')",
   "language": "python",
   "name": "python3"
  },
  "language_info": {
   "codemirror_mode": {
    "name": "ipython",
    "version": 3
   },
   "file_extension": ".py",
   "mimetype": "text/x-python",
   "name": "python",
   "nbconvert_exporter": "python",
   "pygments_lexer": "ipython3",
   "version": "3.10.6"
  },
  "orig_nbformat": 4,
  "vscode": {
   "interpreter": {
    "hash": "176109d3748470a01cf7c657233c4e326b36b49ffa10510176569af47614a650"
   }
  }
 },
 "nbformat": 4,
 "nbformat_minor": 2
}

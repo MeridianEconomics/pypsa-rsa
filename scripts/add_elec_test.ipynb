{
 "cells": [
  {
   "cell_type": "code",
   "execution_count": 2,
   "metadata": {},
   "outputs": [],
   "source": [
    "import pypsa \n",
    "import pandas as pd\n",
    "import matplotlib.pyplot as plt"
   ]
  },
  {
   "cell_type": "code",
   "execution_count": 7,
   "metadata": {},
   "outputs": [
    {
     "name": "stderr",
     "output_type": "stream",
     "text": [
      "INFO:pypsa.io:Imported network elec_grid-2040_11-supply_redz.nc has buses, carriers, generators, lines, loads, storage_units\n"
     ]
    }
   ],
   "source": [
    "n0 = pypsa.Network('../networks/elec_grid-2040_11-supply_redz.nc')"
   ]
  },
  {
   "cell_type": "code",
   "execution_count": 12,
   "metadata": {},
   "outputs": [
    {
     "name": "stderr",
     "output_type": "stream",
     "text": [
      "INFO:linopy.model: Solve linear problem using Xpress solver\n",
      "INFO:linopy.model:Solver options:\n",
      " - lpflags: 4\n",
      " - crossover: 0\n",
      "INFO:linopy.io:Writing objective.\n",
      "Writing constraints.: 100%|\u001b[38;2;128;191;255m██████████\u001b[0m| 23/23 [00:09<00:00,  2.47it/s]\n",
      "Writing continuous variables.: 100%|\u001b[38;2;128;191;255m██████████\u001b[0m| 9/9 [00:01<00:00,  6.87it/s]\n",
      "INFO:linopy.io: Writing time: 11.14s\n"
     ]
    },
    {
     "name": "stdout",
     "output_type": "stream",
     "text": [
      "Using the Community license in this session. If you have a full Xpress license, pass the full path to your license file to xpress.init(). If you want to use the FICO Community license and no longer want to see this message, use the following code before using the xpress module:\n",
      "  xpress.init('/home/pklein/anaconda3/envs/pypsa-earth-updated/lib/python3.10/site-packages/xpress/license/community-xpauth.xpr')\n",
      " \n",
      "Reading Problem linopy-problem-koqi39tw\n",
      "Problem Statistics\n",
      "     4301233 (      0 spare) rows\n",
      "     1787147 (      0 spare) structural columns\n",
      "     8697074 (      0 spare) non-zero elements\n",
      "MIP Entity Statistics\n",
      "           0 entities        0 sets        0 set members\n",
      "FICO Xpress v9.1.2, Hyper, solve started 15:29:39, Oct 27, 2023\n",
      "Heap usage: 1261MB (peak 2016MB, 51MB system)\n",
      "Minimizing LP linopy-problem-koqi39tw using up to 20 threads and up to 125GB memory, with these control settings:\n",
      "OUTPUTLOG = 1\n",
      "CROSSOVER = 0\n",
      "LPFLAGS = 4\n",
      "Original problem has:\n",
      "   4301233 rows      1787147 cols      8697074 elements\n",
      "Presolved problem has:\n",
      "   1928356 rows      1537983 cols      6060348 elements\n",
      "Presolve finished in 3 seconds\n",
      "Heap usage: 1775MB (peak 2998MB, 51MB system)\n",
      "\n",
      "Coefficient range                    original                 solved        \n",
      "  Coefficients   [min,max] : [ 2.50e-04,  1.11e+02] / [ 2.50e-04,  1.96e+00]\n",
      "  RHS and bounds [min,max] : [ 1.65e-03,  1.80e+04] / [ 8.23e-04,  1.80e+04]\n",
      "  Objective      [min,max] : [ 1.00e-02,  8.80e+06] / [ 1.00e-02,  8.80e+06]\n",
      "\n",
      "Building dual\n",
      "Barrier cache sizes : L1=48K L2=25600K\n",
      "Using AVX support\n",
      "Cores per CPU (CORESPERCPU): 20\n",
      "Barrier starts after 4 seconds, using up to 20 threads, 12 cores\n",
      "Matrix ordering - Dense cols.:  94870   NZ(L):  40749449   Flops:   6320337782\n",
      " \n",
      "  Its   P.inf      D.inf      U.inf      Primal obj.     Dual obj.      Compl.\n",
      "   0   2.70e+09   2.54e+04   0.00e+00  -1.8343676e+13  -0.0000000e+00   2.3e+15\n",
      "   1   5.29e+08   9.42e+03   0.00e+00  -2.6151269e+13   4.5551100e+12   8.5e+14\n",
      "   2   4.69e+08   3.42e+03   0.00e+00  -1.7973728e+13   6.7451567e+12   7.1e+14\n",
      "   3   6.36e+07   7.83e+01   0.00e+00  -9.4915059e+12   7.2824996e+12   9.8e+13\n",
      "   4   2.89e+06   2.36e+00   0.00e+00  -5.1601977e+11   4.9025581e+12   8.6e+12\n",
      "   5   2.93e+05   1.42e+00   0.00e+00  -1.1901298e+11   3.3228292e+12   3.7e+12\n",
      "   6   4.40e+04   2.84e-01   0.00e+00  -6.2872985e+10   1.1522108e+12   1.2e+12\n",
      "   7   1.27e+03   3.70e-01   0.00e+00   1.0994182e+11   5.6842772e+11   4.6e+11\n",
      "   8   1.26e+03   3.48e-01   0.00e+00   1.1094272e+11   5.5846334e+11   4.5e+11\n",
      "   9   5.55e+02   1.97e-01   0.00e+00   1.3379500e+11   4.4185978e+11   3.1e+11\n",
      "  10   1.59e+02   1.81e+00   0.00e+00   1.5633543e+11   3.2671330e+11   1.7e+11\n",
      "  11   1.20e+02   1.32e+00   0.00e+00   1.6259048e+11   2.9671697e+11   1.3e+11\n",
      "  12   9.16e+01   1.13e+00   0.00e+00   1.6855814e+11   2.8530661e+11   1.2e+11\n",
      "  13   8.96e+01   1.11e+00   0.00e+00   1.6904394e+11   2.8413649e+11   1.2e+11\n",
      "  14   7.32e+01   1.02e+00   0.00e+00   1.7314506e+11   2.7830147e+11   1.1e+11\n",
      "  15   7.15e+01   1.01e+00   0.00e+00   1.7359959e+11   2.7749593e+11   1.0e+11\n",
      "  16   6.59e+01   9.63e-01   0.00e+00   1.7514980e+11   2.7483696e+11   1.0e+11\n",
      "  17   6.42e+01   9.04e-01   0.00e+00   1.7562789e+11   2.7112820e+11   9.6e+10\n",
      "  18   5.36e+01   7.62e-01   0.00e+00   1.7877257e+11   2.6223123e+11   8.4e+10\n",
      "  19   4.20e+01   6.80e-01   0.00e+00   1.8279743e+11   2.5712600e+11   7.4e+10\n",
      "  20   3.65e+01   6.73e-01   0.00e+00   1.8500976e+11   2.5666784e+11   7.2e+10\n",
      "  21   3.49e+01   6.26e-01   0.00e+00   1.8569708e+11   2.5376206e+11   6.8e+10\n",
      "  22   2.38e+01   5.05e-01   0.00e+00   1.9085090e+11   2.4638176e+11   5.6e+10\n",
      "  23   1.28e+01   3.87e-01   0.00e+00   1.9684619e+11   2.3883436e+11   4.2e+10\n",
      "  24   8.59e+00   2.81e-01   0.00e+00   1.9939250e+11   2.3162601e+11   3.2e+10\n",
      "  25   5.93e+00   2.11e-01   0.00e+00   2.0135408e+11   2.2680461e+11   2.5e+10\n",
      "  26   4.57e+00   1.90e-01   0.00e+00   2.0254848e+11   2.2529277e+11   2.3e+10\n",
      "  27   4.13e+00   1.88e-01   0.00e+00   2.0296268e+11   2.2511088e+11   2.2e+10\n",
      "  28   3.15e+00   1.57e-01   0.00e+00   2.0388782e+11   2.2285285e+11   1.9e+10\n",
      "  29   2.28e+00   1.26e-01   0.00e+00   2.0481576e+11   2.2054159e+11   1.6e+10\n",
      "  30   1.68e+00   1.14e-01   0.00e+00   2.0554717e+11   2.1955688e+11   1.4e+10\n",
      "  31   1.32e+00   9.68e-02   0.00e+00   2.0603467e+11   2.1823834e+11   1.2e+10\n",
      "  32   1.11e+00   9.38e-02   0.00e+00   2.0634936e+11   2.1799790e+11   1.2e+10\n",
      "  33   9.05e-01   8.98e-02   0.00e+00   2.0667188e+11   2.1767509e+11   1.1e+10\n",
      "  34   7.38e-01   8.19e-02   0.00e+00   2.0694453e+11   2.1703051e+11   1.0e+10\n",
      "  35   6.07e-01   7.72e-02   0.00e+00   2.0717524e+11   2.1664481e+11   9.5e+09\n",
      "  36   4.64e-01   7.10e-02   0.00e+00   2.0744361e+11   2.1612951e+11   8.7e+09\n",
      "  37   3.52e-01   1.14e-01   0.00e+00   2.0767476e+11   2.1528780e+11   7.6e+09\n",
      "  38   2.90e-01   1.14e-01   0.00e+00   2.0782549e+11   2.1442064e+11   6.6e+09\n",
      "  39   2.14e-01   9.60e-02   0.00e+00   2.0804043e+11   2.1369841e+11   5.7e+09\n",
      "  40   1.54e-01   7.46e-02   0.00e+00   2.0824115e+11   2.1290047e+11   4.7e+09\n",
      "  41   1.25e-01   6.58e-02   0.00e+00   2.0835754e+11   2.1258057e+11   4.2e+09\n",
      "  42   1.05e-01   6.37e-02   0.00e+00   2.0844715e+11   2.1250179e+11   4.1e+09\n",
      "  43   8.50e-02   5.10e-02   0.00e+00   2.0853859e+11   2.1201545e+11   3.5e+09\n",
      "  44   6.44e-02   4.85e-02   0.00e+00   2.0864931e+11   2.1189339e+11   3.2e+09\n",
      "  45   4.85e-02   4.62e-02   0.00e+00   2.0874088e+11   2.1178152e+11   3.0e+09\n",
      "  46   3.15e-02   6.06e-02   0.00e+00   2.0884674e+11   2.1132767e+11   2.5e+09\n",
      "  47   2.27e-02   5.90e-02   0.00e+00   2.0891839e+11   2.1097526e+11   2.1e+09\n",
      "  48   1.53e-02   1.48e-01   0.00e+00   2.0899291e+11   2.1062286e+11   1.6e+09\n",
      "  49   1.40e-02   1.18e-01   0.00e+00   2.0903633e+11   2.1039722e+11   1.4e+09\n",
      "  50   1.24e-02   9.19e-02   0.00e+00   2.0909559e+11   2.1019926e+11   1.1e+09\n",
      "  51   1.25e-02   8.71e-02   0.00e+00   2.0912059e+11   2.1016125e+11   1.0e+09\n",
      "  52   1.30e-02   6.40e-02   0.00e+00   2.0914579e+11   2.0997569e+11   8.3e+08\n",
      "  53   1.24e-02   5.96e-02   0.00e+00   2.0916457e+11   2.0982924e+11   6.6e+08\n",
      "  54   1.11e-02   4.15e-02   0.00e+00   2.0919927e+11   2.0970852e+11   5.1e+08\n",
      "  55   1.10e-02   4.14e-02   0.00e+00   2.0921146e+11   2.0970783e+11   5.0e+08\n",
      "  56   1.05e-02   4.00e-02   0.00e+00   2.0922055e+11   2.0969732e+11   4.8e+08\n",
      "  57   1.16e-02   2.75e-02   0.00e+00   2.0923825e+11   2.0960754e+11   3.7e+08\n",
      "  58   1.18e-02   9.11e-02   0.00e+00   2.0925399e+11   2.0958310e+11   3.3e+08\n",
      "  59   1.73e-02   7.11e-02   0.00e+00   2.0928029e+11   2.0953853e+11   2.6e+08\n",
      "  60   2.07e-02   6.46e-02   0.00e+00   2.0929169e+11   2.0952452e+11   2.3e+08\n",
      "  61   2.02e-02   5.96e-02   0.00e+00   2.0930215e+11   2.0951367e+11   2.1e+08\n",
      "  62   1.61e-02   4.52e-02   0.00e+00   2.0930969e+11   2.0947012e+11   1.6e+08\n",
      "  63   1.86e-02   4.43e-02   0.00e+00   2.0931829e+11   2.0943452e+11   1.2e+08\n",
      "  64   2.19e-02   3.94e-02   0.00e+00   2.0932537e+11   2.0942749e+11   1.0e+08\n",
      "  65   2.81e-02   2.76e-02   0.00e+00   2.0933098e+11   2.0941034e+11   7.9e+07\n",
      "  66   2.74e-02   2.27e-02   0.00e+00   2.0933189e+11   2.0940262e+11   7.1e+07\n",
      "  67   2.65e-02   1.69e-02   0.00e+00   2.0933798e+11   2.0939340e+11   5.5e+07\n",
      "  68   2.22e-02   1.28e-02   0.00e+00   2.0934004e+11   2.0938642e+11   4.6e+07\n",
      "  69   2.02e-02   1.17e-02   0.00e+00   2.0934484e+11   2.0937855e+11   3.4e+07\n",
      "  70   1.72e-02   4.49e-02   0.00e+00   2.0934620e+11   2.0937755e+11   3.1e+07\n",
      "  71   2.58e-02   3.73e-02   0.00e+00   2.0934845e+11   2.0937495e+11   2.6e+07\n",
      "  72   2.71e-02   2.10e-02   0.00e+00   2.0935108e+11   2.0936922e+11   1.8e+07\n",
      "  73   2.68e-02   2.03e-02   0.00e+00   2.0935136e+11   2.0936896e+11   1.8e+07\n",
      "  74   2.17e-02   1.46e-02   0.00e+00   2.0935299e+11   2.0936671e+11   1.4e+07\n",
      "  75   2.25e-02   9.11e-03   0.00e+00   2.0935457e+11   2.0936438e+11   9.8e+06\n",
      "  76   2.53e-02   5.53e-03   0.00e+00   2.0935517e+11   2.0936271e+11   7.5e+06\n",
      "  77   2.59e-02   4.21e-03   0.00e+00   2.0935534e+11   2.0936204e+11   6.7e+06\n",
      "  78   5.26e-02   1.93e-03   0.00e+00   2.0935650e+11   2.0936083e+11   4.3e+06\n",
      "  79   1.11e-01   9.51e-04   0.00e+00   2.0935828e+11   2.0936019e+11   1.9e+06\n",
      "  80   1.05e-01   3.78e-04   0.00e+00   2.0935851e+11   2.0935966e+11   1.2e+06\n",
      "  81   5.88e-02   2.34e-04   0.00e+00   2.0935873e+11   2.0935950e+11   7.8e+05\n",
      "  82   1.84e-02   8.02e-05   0.00e+00   2.0935895e+11   2.0935930e+11   3.4e+05\n",
      "  83   1.25e-02   4.41e-05   0.00e+00   2.0935899e+11   2.0935922e+11   2.3e+05\n",
      "  84   9.41e-03   3.93e-05   0.00e+00   2.0935902e+11   2.0935921e+11   1.9e+05\n",
      "  85   9.09e-03   3.76e-05   0.00e+00   2.0935902e+11   2.0935921e+11   1.8e+05\n",
      "  86   8.45e-03   3.65e-05   0.00e+00   2.0935903e+11   2.0935920e+11   1.8e+05\n",
      "  87   6.08e-03   2.23e-05   0.00e+00   2.0935905e+11   2.0935918e+11   1.3e+05\n",
      "  88   5.43e-03   2.19e-05   0.00e+00   2.0935905e+11   2.0935918e+11   1.2e+05\n",
      "  89   3.91e-03   1.99e-05   0.00e+00   2.0935907e+11   2.0935917e+11   1.1e+05\n",
      "  90   3.68e-03   1.17e-05   0.00e+00   2.0935907e+11   2.0935915e+11   8.4e+04\n",
      "  91   2.16e-03   6.04e-06   0.00e+00   2.0935908e+11   2.0935914e+11   5.6e+04\n",
      "  92   1.49e-03   2.20e-06   0.00e+00   2.0935909e+11   2.0935913e+11   3.3e+04\n",
      "  93   5.52e-04   1.11e-06   0.00e+00   2.0935911e+11   2.0935912e+11   1.4e+04\n",
      "  94   4.64e-04   6.46e-07   0.00e+00   2.0935912e+11   2.0935912e+11   4.3e+03\n",
      "Barrier method finished in 223 seconds\n",
      "Uncrunching matrix\n",
      "Optimal solution found\n",
      "Barrier solved problem\n",
      "  94 barrier iterations in 224.22 seconds at time 227\n",
      "\n",
      "Final objective                       : 2.093591150035729e+11\n",
      "  Max primal violation      (abs/rel) : 4.135e-05 / 4.041e-07\n",
      "  Max dual violation        (abs/rel) : 4.644e-04 / 7.019e-05\n",
      "  Max complementarity viol. (abs/rel) : 3.838e-01 / 1.223e-06\n"
     ]
    },
    {
     "name": "stderr",
     "output_type": "stream",
     "text": [
      "INFO:linopy.constants: Optimization successful: \n",
      "Status: ok\n",
      "Termination condition: optimal\n",
      "Solution: 1787147 primals, 4301233 duals\n",
      "Objective: 2.09e+11\n",
      "Solver model: available\n",
      "Solver message: lp_optimal\n",
      "\n",
      "/home/pklein/.local/lib/python3.10/site-packages/linopy/common.py:101: UserWarning:\n",
      "\n",
      "Coordinates across variables not equal. Perform outer join.\n",
      "\n",
      "INFO:pypsa.optimization.optimize:The shadow-prices of the constraints Kirchhoff-Voltage-Law were not assigned to the network.\n"
     ]
    },
    {
     "data": {
      "text/plain": [
       "('ok', 'optimal')"
      ]
     },
     "execution_count": 12,
     "metadata": {},
     "output_type": "execute_result"
    }
   ],
   "source": [
    "n0.optimize(solver_name=\"xpress\", solver_options={\"lpflags\":4,\"crossover\":0})"
   ]
  },
  {
   "cell_type": "code",
   "execution_count": 16,
   "metadata": {},
   "outputs": [
    {
     "data": {
      "text/plain": [
       "carrier\n",
       "ccgt-gas         6923.425552\n",
       "coal            22927.000011\n",
       "hydro             683.020000\n",
       "hydro_import     1764.000413\n",
       "nuclear          1854.000009\n",
       "ocgt-diesel      1593.214914\n",
       "ocgt-gas          425.000000\n",
       "onwind          35653.651409\n",
       "solar_pv        45269.173851\n",
       "Name: p_nom_opt, dtype: float64"
      ]
     },
     "execution_count": 16,
     "metadata": {},
     "output_type": "execute_result"
    }
   ],
   "source": [
    "n0.generators.p_nom_opt.groupby(n0.generators.carrier).sum()"
   ]
  }
 ],
 "metadata": {
  "kernelspec": {
   "display_name": "pypsa-za2",
   "language": "python",
   "name": "python3"
  },
  "language_info": {
   "codemirror_mode": {
    "name": "ipython",
    "version": 3
   },
   "file_extension": ".py",
   "mimetype": "text/x-python",
   "name": "python",
   "nbconvert_exporter": "python",
   "pygments_lexer": "ipython3",
   "version": "3.10.11"
  }
 },
 "nbformat": 4,
 "nbformat_minor": 2
}

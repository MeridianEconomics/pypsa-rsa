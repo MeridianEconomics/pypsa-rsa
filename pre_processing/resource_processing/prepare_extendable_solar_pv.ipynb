{
 "cells": [
  {
   "cell_type": "markdown",
   "metadata": {},
   "source": [
    "# Overview\n",
    "\n",
    "This notebook is used to create the hourly solar PV profiles that are used for the PyPSA-RSA model. The output file is a NetCDF file with the following dimensions:\n",
    "- Technology type (Fixed Tilt, Tracking, Rooftop)\n",
    "- Supply regions (bus)\n",
    "- Intra region areas available for generation\n",
    "- Hourly generation profiles (normalised)\n",
    "\n",
    "Supply region resolution - \n",
    "- 1 - whole of RSA\n",
    "- 10 - Eskom defined transmission regions\n",
    "- 34 - Eskom defined local supply areas\n",
    "\n",
    "Sub-region options:\n",
    "- All area\n",
    "- Renewable Energy Development Zones\n",
    "- Power Corridors\n",
    "- Active EIA applications\n",
    "- REDZ + EIA applications \n",
    "\n",
    "Intra-region aggregation options:\n",
    "- Average all available cells\n",
    "- Weight cells by availability matrix\n",
    "- Quantile"
   ]
  },
  {
   "cell_type": "markdown",
   "metadata": {},
   "source": [
    "# Setting up ERA5 cutout using atlite"
   ]
  },
  {
   "cell_type": "code",
   "execution_count": 1,
   "metadata": {},
   "outputs": [],
   "source": [
    "import atlite\n",
    "import xarray as xr\n",
    "import pandas as pd\n",
    "import numpy as np\n",
    "import matplotlib.pyplot as plt\n",
    "import geopandas as gpd\n",
    "from dask.distributed import Client, LocalCluster\n",
    "from IPython.display import clear_output\n",
    "from _helpers import (\n",
    "    load_gis_data,\n",
    "    generate_pv_timeseries,\n",
    "    aggregate_intra_region,\n",
    ")\n",
    "\n",
    "import warnings\n",
    "warnings.filterwarnings('ignore')"
   ]
  },
  {
   "cell_type": "code",
   "execution_count": 2,
   "metadata": {},
   "outputs": [],
   "source": [
    "agg_params = {\n",
    "    \"availability_threshold\":0,\n",
    "    \"scale_by_availability\": True,      \n",
    "    \"aggregation_method\":\"mean\", # quantile\n",
    "    \"quantile\": 0.2,\n",
    "}\n",
    "run_generation = True"
   ]
  },
  {
   "cell_type": "markdown",
   "metadata": {},
   "source": [
    "# Load Atlite cutout\n",
    "Can use ERA5 or Sarah data for solar PV"
   ]
  },
  {
   "cell_type": "code",
   "execution_count": 3,
   "metadata": {},
   "outputs": [],
   "source": [
    "#Before running this script you must build an era5 cutout for South Africa using the atlite module\n",
    "cutout = atlite.Cutout(\n",
    "    path=\"../../cutouts/RSA-2017_22-sarah.nc\",\n",
    "    chunks={'time': 100}\n",
    ")\n",
    "cutout.data = cutout.data.sel(time=~((cutout.data.time.dt.month == 2) & (cutout.data.time.dt.day == 29)))\n"
   ]
  },
  {
   "cell_type": "markdown",
   "metadata": {},
   "source": [
    "# Load GIS data"
   ]
  },
  {
   "cell_type": "code",
   "execution_count": 4,
   "metadata": {},
   "outputs": [
    {
     "name": "stdout",
     "output_type": "stream",
     "text": [
      "Loading Eskom Supply Regions from ../../data/bundle/rsa_supply_regions.gpkg\n",
      "Loading EIA applications from ../../data/bundle/REEA_OR_2023_Q3.shp\n",
      "Loading REDZs from ../../data/bundle/REDZs.shp\n",
      "Loading Power Corridors from ../../data/bundle/Power_corridors.shp\n",
      "Loading SACAD from ../../data/bundle/SACAD_OR_2023_Q3.shp\n",
      "Loading SAPAD from ../../data/bundle/SAPAD_OR_2023_Q3.shp\n",
      "Loading SKA exclusion from ../../data/bundle/SKA/SKA_exclusion.shp\n"
     ]
    }
   ],
   "source": [
    "data_bundle_path = \"../../data/bundle\"\n",
    "gis_data = load_gis_data(data_bundle_path)"
   ]
  },
  {
   "cell_type": "markdown",
   "metadata": {},
   "source": [
    "# Create Regional timeseries data for solar PV"
   ]
  },
  {
   "cell_type": "code",
   "execution_count": 6,
   "metadata": {},
   "outputs": [
    {
     "name": "stdout",
     "output_type": "stream",
     "text": [
      "Calculating average based on intra region area: redz_corridors_eia for bus: Witkop\n"
     ]
    }
   ],
   "source": [
    "for module in [\"era5\",\"sarah\"]:\n",
    "    print(\"Calculating timeseries data for Fixed Tilt, Single Axis Tracker and Rooftop PV\")\n",
    "    fixed_tilt_cf = generate_pv_timeseries(cutout, \"Fixed Tilt\", dc_ac_ratio = 1.15, module = module)\n",
    "    sat_cf = generate_pv_timeseries(cutout, \"Single Axis\", dc_ac_ratio = 1.15, module = module)\n",
    "    rooftop_cf = generate_pv_timeseries(cutout, \"Rooftop\", dc_ac_ratio = 1, module = module)\n",
    "\n",
    "    for r in gis_data[\"supply_regions\"].keys():\n",
    "        availability_matrix = xr.open_dataarray(f\"availability/availability_matrix_{r}.nc\")\n",
    "        rooftop_availability_matrix = xr.open_dataarray(f\"availability/rooftop_availability_matrix_{r}.nc\")\n",
    "        timeseries = xr.DataArray(\n",
    "            coords = {\n",
    "                \"time\": cutout.data.coords[\"time\"].values, \n",
    "                \"bus\": availability_matrix.coords[\"bus\"], \n",
    "                \"_type\": [\"Fixed Tilt\", \"Single Axis\", \"Rooftop\"], \n",
    "                \"intra_region\": [\"all\", \"redz\", \"corridors\", \"redz_corridors_eia\"]},\n",
    "            dims = [\"time\", \"bus\", \"_type\", \"intra_region\"],\n",
    "        )\n",
    "\n",
    "        for intra_region in timeseries.coords[\"intra_region\"].values:\n",
    "            for bus in availability_matrix.coords[\"bus\"].values:\n",
    "                print(f\"Calculating average based on intra region area: {intra_region} for bus: {bus}\")\n",
    "                region_availability = availability_matrix.sel(area=intra_region,bus=bus).rename({\"y\":\"lat\",\"x\":\"lon\"})\n",
    "                rooftop_region_availability = rooftop_availability_matrix.sel(bus=bus).rename({\"y\":\"lat\",\"x\":\"lon\"})\n",
    "                timeseries.loc[dict(_type=\"Fixed Tilt\", bus=bus, intra_region=intra_region)] = aggregate_intra_region(fixed_tilt_cf, region_availability, **agg_params)\n",
    "                timeseries.loc[dict(_type=\"Single Axis\", bus=bus, intra_region=intra_region)] = aggregate_intra_region(sat_cf, region_availability, **agg_params)\n",
    "                timeseries.loc[dict(_type=\"Rooftop\", bus=bus, intra_region=intra_region)] = aggregate_intra_region(rooftop_cf, rooftop_region_availability, **agg_params)\n",
    "                clear_output(wait=True)  \n",
    "\n",
    "        timeseries.to_netcdf(f\"timeseries_data/extendable_solar_pv_{module}_{r}.nc\")"
   ]
  },
  {
   "cell_type": "code",
   "execution_count": null,
   "metadata": {},
   "outputs": [
    {
     "name": "stdout",
     "output_type": "stream",
     "text": [
      "Calculating average based on intra region area: all for bus: RSA\n",
      "Calculating average based on intra region area: redz for bus: RSA\n",
      "Calculating average based on intra region area: corridors for bus: RSA\n",
      "Calculating average based on intra region area: redz_corridors_eia for bus: RSA\n",
      "Calculating average based on intra region area: all for bus: Namaqualand\n",
      "Calculating average based on intra region area: all for bus: West Coast\n",
      "Calculating average based on intra region area: all for bus: Peninsula\n",
      "Calculating average based on intra region area: all for bus: Southern Cape\n",
      "Calculating average based on intra region area: all for bus: Port Elizabeth\n",
      "Calculating average based on intra region area: all for bus: Karoo\n",
      "Calculating average based on intra region area: all for bus: Kimberley\n",
      "Calculating average based on intra region area: all for bus: Carletonville\n",
      "Calculating average based on intra region area: all for bus: Welkom\n",
      "Calculating average based on intra region area: all for bus: Bloemfontein\n",
      "Calculating average based on intra region area: all for bus: East London\n",
      "Calculating average based on intra region area: all for bus: Pinetown\n",
      "Calculating average based on intra region area: all for bus: Ladysmith\n",
      "Calculating average based on intra region area: all for bus: Vaal Triangle\n",
      "Calculating average based on intra region area: all for bus: West Rand\n",
      "Calculating average based on intra region area: all for bus: Rustenburg\n",
      "Calculating average based on intra region area: all for bus: Waterberg\n",
      "Calculating average based on intra region area: all for bus: Polokwane\n",
      "Calculating average based on intra region area: all for bus: Warmbad\n",
      "Calculating average based on intra region area: all for bus: Pretoria\n",
      "Calculating average based on intra region area: all for bus: Johannesburg\n",
      "Calculating average based on intra region area: all for bus: Nigel\n",
      "Calculating average based on intra region area: all for bus: Highveld South\n",
      "Calculating average based on intra region area: all for bus: Highveld North\n",
      "Calculating average based on intra region area: all for bus: Lowveld\n",
      "Calculating average based on intra region area: all for bus: Newcastle\n",
      "Calculating average based on intra region area: all for bus: Empangeni\n",
      "Calculating average based on intra region area: redz for bus: Namaqualand\n",
      "Calculating average based on intra region area: redz for bus: West Coast\n",
      "Calculating average based on intra region area: redz for bus: Peninsula\n",
      "Calculating average based on intra region area: redz for bus: Southern Cape\n",
      "Calculating average based on intra region area: redz for bus: Port Elizabeth\n",
      "Calculating average based on intra region area: redz for bus: Karoo\n",
      "Calculating average based on intra region area: redz for bus: Kimberley\n",
      "Calculating average based on intra region area: redz for bus: Carletonville\n",
      "Calculating average based on intra region area: redz for bus: Welkom\n",
      "Calculating average based on intra region area: redz for bus: Bloemfontein\n",
      "Calculating average based on intra region area: redz for bus: East London\n",
      "Calculating average based on intra region area: redz for bus: Pinetown\n",
      "Calculating average based on intra region area: redz for bus: Ladysmith\n",
      "Calculating average based on intra region area: redz for bus: Vaal Triangle\n",
      "Calculating average based on intra region area: redz for bus: West Rand\n",
      "Calculating average based on intra region area: redz for bus: Rustenburg\n",
      "Calculating average based on intra region area: redz for bus: Waterberg\n",
      "Calculating average based on intra region area: redz for bus: Polokwane\n",
      "Calculating average based on intra region area: redz for bus: Warmbad\n",
      "Calculating average based on intra region area: redz for bus: Pretoria\n",
      "Calculating average based on intra region area: redz for bus: Johannesburg\n",
      "Calculating average based on intra region area: redz for bus: Nigel\n",
      "Calculating average based on intra region area: redz for bus: Highveld South\n",
      "Calculating average based on intra region area: redz for bus: Highveld North\n",
      "Calculating average based on intra region area: redz for bus: Lowveld\n",
      "Calculating average based on intra region area: redz for bus: Newcastle\n",
      "Calculating average based on intra region area: redz for bus: Empangeni\n",
      "Calculating average based on intra region area: corridors for bus: Namaqualand\n",
      "Calculating average based on intra region area: corridors for bus: West Coast\n",
      "Calculating average based on intra region area: corridors for bus: Peninsula\n",
      "Calculating average based on intra region area: corridors for bus: Southern Cape\n",
      "Calculating average based on intra region area: corridors for bus: Port Elizabeth\n",
      "Calculating average based on intra region area: corridors for bus: Karoo\n",
      "Calculating average based on intra region area: corridors for bus: Kimberley\n",
      "Calculating average based on intra region area: corridors for bus: Carletonville\n",
      "Calculating average based on intra region area: corridors for bus: Welkom\n",
      "Calculating average based on intra region area: corridors for bus: Bloemfontein\n",
      "Calculating average based on intra region area: corridors for bus: East London\n",
      "Calculating average based on intra region area: corridors for bus: Pinetown\n",
      "Calculating average based on intra region area: corridors for bus: Ladysmith\n",
      "Calculating average based on intra region area: corridors for bus: Vaal Triangle\n",
      "Calculating average based on intra region area: corridors for bus: West Rand\n",
      "Calculating average based on intra region area: corridors for bus: Rustenburg\n",
      "Calculating average based on intra region area: corridors for bus: Waterberg\n",
      "Calculating average based on intra region area: corridors for bus: Polokwane\n",
      "Calculating average based on intra region area: corridors for bus: Warmbad\n",
      "Calculating average based on intra region area: corridors for bus: Pretoria\n",
      "Calculating average based on intra region area: corridors for bus: Johannesburg\n",
      "Calculating average based on intra region area: corridors for bus: Nigel\n",
      "Calculating average based on intra region area: corridors for bus: Highveld South\n",
      "Calculating average based on intra region area: corridors for bus: Highveld North\n",
      "Calculating average based on intra region area: corridors for bus: Lowveld\n",
      "Calculating average based on intra region area: corridors for bus: Newcastle\n",
      "Calculating average based on intra region area: corridors for bus: Empangeni\n",
      "Calculating average based on intra region area: redz_corridors_eia for bus: Namaqualand\n",
      "Calculating average based on intra region area: redz_corridors_eia for bus: West Coast\n",
      "Calculating average based on intra region area: redz_corridors_eia for bus: Peninsula\n",
      "Calculating average based on intra region area: redz_corridors_eia for bus: Southern Cape\n",
      "Calculating average based on intra region area: redz_corridors_eia for bus: Port Elizabeth\n",
      "Calculating average based on intra region area: redz_corridors_eia for bus: Karoo\n",
      "Calculating average based on intra region area: redz_corridors_eia for bus: Kimberley\n",
      "Calculating average based on intra region area: redz_corridors_eia for bus: Carletonville\n",
      "Calculating average based on intra region area: redz_corridors_eia for bus: Welkom\n",
      "Calculating average based on intra region area: redz_corridors_eia for bus: Bloemfontein\n",
      "Calculating average based on intra region area: redz_corridors_eia for bus: East London\n",
      "Calculating average based on intra region area: redz_corridors_eia for bus: Pinetown\n",
      "Calculating average based on intra region area: redz_corridors_eia for bus: Ladysmith\n",
      "Calculating average based on intra region area: redz_corridors_eia for bus: Vaal Triangle\n",
      "Calculating average based on intra region area: redz_corridors_eia for bus: West Rand\n",
      "Calculating average based on intra region area: redz_corridors_eia for bus: Rustenburg\n",
      "Calculating average based on intra region area: redz_corridors_eia for bus: Waterberg\n",
      "Calculating average based on intra region area: redz_corridors_eia for bus: Polokwane\n",
      "Calculating average based on intra region area: redz_corridors_eia for bus: Warmbad\n",
      "Calculating average based on intra region area: redz_corridors_eia for bus: Pretoria\n",
      "Calculating average based on intra region area: redz_corridors_eia for bus: Johannesburg\n",
      "Calculating average based on intra region area: redz_corridors_eia for bus: Nigel\n",
      "Calculating average based on intra region area: redz_corridors_eia for bus: Highveld South\n",
      "Calculating average based on intra region area: redz_corridors_eia for bus: Highveld North\n",
      "Calculating average based on intra region area: redz_corridors_eia for bus: Lowveld\n",
      "Calculating average based on intra region area: redz_corridors_eia for bus: Newcastle\n",
      "Calculating average based on intra region area: redz_corridors_eia for bus: Empangeni\n"
     ]
    }
   ],
   "source": [
    "for module in [\"csir\"]:\n",
    "\n",
    "    for r in [1, 27]:\n",
    "        availability_matrix = xr.open_dataarray(f\"availability/availability_matrix_{r}.nc\")\n",
    "        csir_fise = pd.read_excel(\"csir_fise_SWA_data.xlsx\", sheet_name = f\"{r}-solar_pv\", index_col=0, parse_dates=True)\n",
    "        csir_fise = csir_fise.iloc[1:]\n",
    "        csir_fise.index = pd.DatetimeIndex(csir_fise.index)\n",
    "        csir_fise = csir_fise[~((csir_fise.index.month == 2) & (csir_fise.index.day == 29))]\n",
    "\n",
    "        csir_fise = pd.concat(\n",
    "            [csir_fise]\n",
    "            * (len(cutout.data.coords[\"time\"].values) // len(csir_fise)),\n",
    "            ignore_index=True,\n",
    "        )  \n",
    "\n",
    "        timeseries = xr.DataArray(\n",
    "            coords = {\n",
    "                \"time\": cutout.data.coords[\"time\"].values, \n",
    "                \"bus\": availability_matrix.coords[\"bus\"], \n",
    "                \"_type\": [\"Fixed Tilt\", \"Single Axis\", \"Rooftop\"], \n",
    "                \"intra_region\": [\"all\", \"redz\", \"corridors\", \"redz_corridors_eia\"]},\n",
    "            dims = [\"time\", \"bus\", \"_type\", \"intra_region\"],\n",
    "        )\n",
    "\n",
    "        for intra_region in timeseries.coords[\"intra_region\"].values:\n",
    "            for bus in availability_matrix.coords[\"bus\"].values:\n",
    "                print(f\"Calculating average based on intra region area: {intra_region} for bus: {bus}\")\n",
    "                timeseries.loc[dict(_type=\"Fixed Tilt\", bus=bus, intra_region=intra_region)] = csir_fise[bus].values\n",
    "\n",
    "        timeseries.to_netcdf(f\"timeseries_data/extendable_solar_pv_{module}_{r}.nc\")"
   ]
  }
 ],
 "metadata": {
  "kernelspec": {
   "display_name": "pypsa-earth-updated",
   "language": "python",
   "name": "python3"
  },
  "language_info": {
   "codemirror_mode": {
    "name": "ipython",
    "version": 3
   },
   "file_extension": ".py",
   "mimetype": "text/x-python",
   "name": "python",
   "nbconvert_exporter": "python",
   "pygments_lexer": "ipython3",
   "version": "3.10.11"
  }
 },
 "nbformat": 4,
 "nbformat_minor": 2
}

{
 "cells": [
  {
   "cell_type": "code",
   "execution_count": 1,
   "metadata": {},
   "outputs": [],
   "source": [
    "import pypsa\n",
    "import pandas as pd\n",
    "import matplotlib.pyplot as plt\n",
    "sys.path.insert(1, '/mnt/d/GitHub/pypsa_utilities/eskom data/')\n",
    "\n",
    "import data_utilities as du\n",
    "import plotting_utilities as pu\n",
    "import financial_utilities as fu\n",
    "import xarray as xr\n",
    "import cartopy.crs as ccrs"
   ]
  },
  {
   "cell_type": "code",
   "execution_count": 2,
   "metadata": {},
   "outputs": [],
   "source": [
    "eskom_data=du.eskom_data('../data/ESK2791.csv')"
   ]
  },
  {
   "cell_type": "code",
   "execution_count": 15,
   "metadata": {},
   "outputs": [],
   "source": [
    "eskom_data['other_re_installed'].groupby(eskom_data.index.year).max().to_clipboard()"
   ]
  },
  {
   "cell_type": "code",
   "execution_count": null,
   "metadata": {},
   "outputs": [],
   "source": []
  },
  {
   "cell_type": "code",
   "execution_count": 6,
   "metadata": {},
   "outputs": [],
   "source": [
    "eskom_data['loadshed_mlr'].groupby(eskom_data.index.year).sum().to_clipboard()"
   ]
  },
  {
   "cell_type": "code",
   "execution_count": null,
   "metadata": {},
   "outputs": [],
   "source": [
    "df = pd.read_csv('../data/Eskom EAF data.csv',index_col=[1,0],parse_dates=True)\n",
    "df['capacity'] = df['EAF %']/100 * df['MW'] \n",
    "\n",
    "\n",
    "for y in [2017,2018,2019,2020,2021,2022]:\n",
    "    data=df.loc['Generation Total','PCLF %']\n",
    "    plt.plot(data[data.index.year==y].values)\n",
    "\n"
   ]
  },
  {
   "cell_type": "code",
   "execution_count": null,
   "metadata": {},
   "outputs": [],
   "source": [
    "df = pd.read_csv('../data/Eskom EAF data.csv',index_col=[1,0],parse_dates=True)\n",
    "df['capacity'] = df['EAF %']/100 * df['MW'] \n",
    "stations=df[df.type=='coal'].index.get_level_values(0)"
   ]
  },
  {
   "cell_type": "code",
   "execution_count": null,
   "metadata": {},
   "outputs": [],
   "source": [
    "stations"
   ]
  },
  {
   "cell_type": "code",
   "execution_count": null,
   "metadata": {},
   "outputs": [],
   "source": [
    "df = pd.read_csv('../data/Eskom EAF data.csv',index_col=[1,0],parse_dates=True)\n",
    "df['capacity'] = df['EAF %']/100 * df['MW'] \n",
    "stations=df[df.type=='coal'].index.get_level_values(0).unique()\n",
    "eaf=pd.DataFrame(0,index=stations,columns=range(2017,2023))\n",
    "planned=pd.DataFrame(0,index=stations,columns=range(2017,2023))\n",
    "unplanned=pd.DataFrame(0,index=stations,columns=range(2017,2023))\n",
    "for s in stations:\n",
    "    eaf.loc[s,:]=df.loc[s,'EAF %'].groupby(df.loc[s,'EAF %'].index.year).mean()\n",
    "    planned.loc[s,:]=df.loc[s,'PCLF %'].groupby(df.loc[s,'PCLF %'].index.year).mean()\n",
    "    unplanned.loc[s,:]=df.loc[s,'UCLF %'].groupby(df.loc[s,'UCLF %'].index.year).mean()+df.loc[s,'OCLF %'].groupby(df.loc[s,'OCLF %'].index.year).mean()"
   ]
  },
  {
   "cell_type": "code",
   "execution_count": null,
   "metadata": {},
   "outputs": [],
   "source": [
    "df = pd.read_csv('../data/Eskom EAF data.csv',index_col=[1,0],parse_dates=True)\n",
    "df['capacity'] = df['EAF %']/100 * df['MW'] \n",
    "df=df[df.type=='coal']\n",
    "df.index=df.index.get_level_values(1)\n",
    "variable='EAF %'\n",
    "type_avg=df.groupby(level=0).mean()\n",
    "type_avg.drop(['MW','capacity'],axis=1)\n",
    "type_avg.loc[:,variable].groupby(type_avg.index.year).mean()"
   ]
  },
  {
   "cell_type": "code",
   "execution_count": null,
   "metadata": {},
   "outputs": [],
   "source": [
    "df = pd.read_csv('../data/Eskom EAF data.csv',index_col=[1,0],parse_dates=True)\n",
    "df['capacity'] = df['EAF %']/100 * df['MW'] \n",
    "stations=df[df.type=='coal'].index.get_level_values(0)\n",
    "\n",
    "installed_capacity=pd.DataFrame(0,index=stations,columns=range(2017,2023))\n",
    "for s in stations:\n",
    "    for y in range(2017,2023):\n",
    "        installed_capacity.loc[s,y]=df.loc[(s,str(y)),'MW'].mean()"
   ]
  },
  {
   "cell_type": "code",
   "execution_count": null,
   "metadata": {},
   "outputs": [],
   "source": [
    "installed_capacity.to_clipboard()"
   ]
  },
  {
   "cell_type": "code",
   "execution_count": null,
   "metadata": {},
   "outputs": [],
   "source": [
    "mean_pclf=type_avg[variable].groupby(type_avg.index.month).mean().to_clipboard()\n",
    "for y in [2017,2018,2019,2020,2021,2022]:\n",
    "    plt.plot(type_avg.loc[str(y),variable].values)\n",
    "\n",
    "plt.plot(mean_pclf.values,'k--',linewidth=3)\n",
    "plt.legend([2017,2018,2019,2020,2021,2022])"
   ]
  },
  {
   "cell_type": "code",
   "execution_count": null,
   "metadata": {},
   "outputs": [],
   "source": [
    "mean_pclf=coal_plants['UCLF %'].groupby(coal_plants.index.month).mean()\n",
    "for y in [2017,2018,2019,2020,2021,2022]:\n",
    "    plt.plot(coal_plants.loc[str(y),'UCLF %'].values)\n",
    "\n",
    "plt.plot(mean_pclf.values,'k--',linewidth=3)\n",
    "plt.legend([2017,2018,2019,2020,2021,2022])"
   ]
  },
  {
   "cell_type": "code",
   "execution_count": null,
   "metadata": {},
   "outputs": [],
   "source": [
    "plt.plot(eskom_data['coal_eaf'])\n",
    "plt.plot(df[df.type=='coal'].groupby('Date').sum()['capacity'].divide(df[df.type=='coal'].groupby('Date').sum()['MW']))\n",
    "plt.ylabel('Coal fleet EAF')"
   ]
  },
  {
   "cell_type": "code",
   "execution_count": 22,
   "metadata": {},
   "outputs": [
    {
     "name": "stderr",
     "output_type": "stream",
     "text": [
      "INFO:pypsa.io:Imported network solved_za-original_10-supply_redz_lcopt_Co2L.nc has buses, carriers, generators, global_constraints, lines, loads, storage_units\n"
     ]
    }
   ],
   "source": [
    "n = pypsa.Network('../results/version-0.6/networks/solved_za-original_10-supply_redz_lcopt_Co2L.nc')"
   ]
  },
  {
   "cell_type": "code",
   "execution_count": null,
   "metadata": {},
   "outputs": [],
   "source": [
    "# plotting:\n",
    "#   map:\n",
    "#     figsize: [7, 7]\n",
    "#     boundaries: [14, 34, -35, -22] #[x1,x2,y1,y2]\n",
    "#     p_nom:\n",
    "#       bus_size_factor: 5.e+4\n",
    "#       linewidth_factor: 3.e+3 #1.e+3 # 1.e+3  #3.e+3"
   ]
  },
  {
   "cell_type": "code",
   "execution_count": null,
   "metadata": {},
   "outputs": [],
   "source": [
    "supply_regions = gpd.read_file(snakemake.input.supply_regions).buffer(-0.005) #.to_crs(n.crs)\n",
    "resarea = gpd.read_file(snakemake.input.resarea).to_crs(supply_regions.crs)"
   ]
  },
  {
   "cell_type": "code",
   "execution_count": 38,
   "metadata": {},
   "outputs": [
    {
     "data": {
      "text/plain": [
       "(<matplotlib.collections.PatchCollection at 0x7f6d10be7f40>,\n",
       " <matplotlib.collections.LineCollection at 0x7f6d10be7070>)"
      ]
     },
     "execution_count": 38,
     "metadata": {},
     "output_type": "execute_result"
    },
    {
     "data": {
      "image/png": "[encoded data removed]",
      "text/plain": [
       "<Figure size 504x504 with 1 Axes>"
      ]
     },
     "metadata": {
      "needs_background": "light"
     },
     "output_type": "display_data"
    }
   ],
   "source": [
    "fig, ax = plt.subplots(figsize=[7, 7], subplot_kw={\"projection\": ccrs.PlateCarree()})\n",
    "n.plot(ax=ax, boundaries=[14, 34, -35, -22])"
   ]
  },
  {
   "cell_type": "code",
   "execution_count": 29,
   "metadata": {},
   "outputs": [
    {
     "data": {
      "text/plain": [
       "(<matplotlib.collections.PatchCollection at 0x7f6d19a628e0>,\n",
       " <matplotlib.collections.LineCollection at 0x7f6d19b435e0>)"
      ]
     },
     "execution_count": 29,
     "metadata": {},
     "output_type": "execute_result"
    }
   ],
   "source": [
    "n.plot(ax=ax)"
   ]
  },
  {
   "cell_type": "code",
   "execution_count": 19,
   "metadata": {},
   "outputs": [
    {
     "data": {
      "text/html": [
       "<div>\n",
       "<style scoped>\n",
       "    .dataframe tbody tr th:only-of-type {\n",
       "        vertical-align: middle;\n",
       "    }\n",
       "\n",
       "    .dataframe tbody tr th {\n",
       "        vertical-align: top;\n",
       "    }\n",
       "\n",
       "    .dataframe thead th {\n",
       "        text-align: right;\n",
       "    }\n",
       "</style>\n",
       "<table border=\"1\" class=\"dataframe\">\n",
       "  <thead>\n",
       "    <tr style=\"text-align: right;\">\n",
       "      <th></th>\n",
       "      <th>bus0</th>\n",
       "      <th>bus1</th>\n",
       "      <th>num_parallel</th>\n",
       "      <th>length</th>\n",
       "      <th>s_nom_min</th>\n",
       "    </tr>\n",
       "    <tr>\n",
       "      <th>Line</th>\n",
       "      <th></th>\n",
       "      <th></th>\n",
       "      <th></th>\n",
       "      <th></th>\n",
       "      <th></th>\n",
       "    </tr>\n",
       "  </thead>\n",
       "  <tbody>\n",
       "    <tr>\n",
       "      <th>0</th>\n",
       "      <td>EASTERN CAPE</td>\n",
       "      <td>FREE STATE</td>\n",
       "      <td>0.775623</td>\n",
       "      <td>494.565353</td>\n",
       "      <td>1317.087898</td>\n",
       "    </tr>\n",
       "    <tr>\n",
       "      <th>1</th>\n",
       "      <td>EASTERN CAPE</td>\n",
       "      <td>KZN</td>\n",
       "      <td>0.775623</td>\n",
       "      <td>702.781934</td>\n",
       "      <td>1317.087898</td>\n",
       "    </tr>\n",
       "    <tr>\n",
       "      <th>2</th>\n",
       "      <td>EASTERN CAPE</td>\n",
       "      <td>NORTHERN CAPE</td>\n",
       "      <td>7.958380</td>\n",
       "      <td>709.406767</td>\n",
       "      <td>13514.145017</td>\n",
       "    </tr>\n",
       "    <tr>\n",
       "      <th>4</th>\n",
       "      <td>FREE STATE</td>\n",
       "      <td>GAUTENG</td>\n",
       "      <td>4.712396</td>\n",
       "      <td>381.671114</td>\n",
       "      <td>8002.132162</td>\n",
       "    </tr>\n",
       "    <tr>\n",
       "      <th>5</th>\n",
       "      <td>FREE STATE</td>\n",
       "      <td>KZN</td>\n",
       "      <td>1.508830</td>\n",
       "      <td>473.546735</td>\n",
       "      <td>2562.147552</td>\n",
       "    </tr>\n",
       "    <tr>\n",
       "      <th>6</th>\n",
       "      <td>FREE STATE</td>\n",
       "      <td>MPUMALANGA</td>\n",
       "      <td>7.225173</td>\n",
       "      <td>569.987267</td>\n",
       "      <td>12269.085363</td>\n",
       "    </tr>\n",
       "    <tr>\n",
       "      <th>7</th>\n",
       "      <td>FREE STATE</td>\n",
       "      <td>NORTH WEST</td>\n",
       "      <td>0.775623</td>\n",
       "      <td>366.030831</td>\n",
       "      <td>1317.087898</td>\n",
       "    </tr>\n",
       "    <tr>\n",
       "      <th>8</th>\n",
       "      <td>FREE STATE</td>\n",
       "      <td>NORTHERN CAPE</td>\n",
       "      <td>9.509626</td>\n",
       "      <td>674.168985</td>\n",
       "      <td>16148.320813</td>\n",
       "    </tr>\n",
       "    <tr>\n",
       "      <th>9</th>\n",
       "      <td>GAUTENG</td>\n",
       "      <td>LIMPOPO</td>\n",
       "      <td>0.366603</td>\n",
       "      <td>354.359250</td>\n",
       "      <td>622.529827</td>\n",
       "    </tr>\n",
       "    <tr>\n",
       "      <th>10</th>\n",
       "      <td>GAUTENG</td>\n",
       "      <td>MPUMALANGA</td>\n",
       "      <td>15.937725</td>\n",
       "      <td>273.427528</td>\n",
       "      <td>27063.892565</td>\n",
       "    </tr>\n",
       "    <tr>\n",
       "      <th>11</th>\n",
       "      <td>GAUTENG</td>\n",
       "      <td>NORTH WEST</td>\n",
       "      <td>8.223909</td>\n",
       "      <td>325.828086</td>\n",
       "      <td>13965.041827</td>\n",
       "    </tr>\n",
       "    <tr>\n",
       "      <th>12</th>\n",
       "      <td>KZN</td>\n",
       "      <td>MPUMALANGA</td>\n",
       "      <td>8.266326</td>\n",
       "      <td>399.031056</td>\n",
       "      <td>14037.070071</td>\n",
       "    </tr>\n",
       "    <tr>\n",
       "      <th>13</th>\n",
       "      <td>LIMPOPO</td>\n",
       "      <td>MPUMALANGA</td>\n",
       "      <td>3.060076</td>\n",
       "      <td>316.949315</td>\n",
       "      <td>5196.323349</td>\n",
       "    </tr>\n",
       "    <tr>\n",
       "      <th>14</th>\n",
       "      <td>LIMPOPO</td>\n",
       "      <td>NORTH WEST</td>\n",
       "      <td>6.306060</td>\n",
       "      <td>586.917745</td>\n",
       "      <td>10708.336203</td>\n",
       "    </tr>\n",
       "    <tr>\n",
       "      <th>15</th>\n",
       "      <td>NORTH WEST</td>\n",
       "      <td>NORTHERN CAPE</td>\n",
       "      <td>7.225173</td>\n",
       "      <td>672.151780</td>\n",
       "      <td>12269.085363</td>\n",
       "    </tr>\n",
       "    <tr>\n",
       "      <th>16</th>\n",
       "      <td>NORTHERN CAPE</td>\n",
       "      <td>WESTERN CAPE</td>\n",
       "      <td>16.001593</td>\n",
       "      <td>503.724971</td>\n",
       "      <td>27172.346522</td>\n",
       "    </tr>\n",
       "  </tbody>\n",
       "</table>\n",
       "</div>"
      ],
      "text/plain": [
       "               bus0           bus1  num_parallel      length     s_nom_min\n",
       "Line                                                                      \n",
       "0      EASTERN CAPE     FREE STATE      0.775623  494.565353   1317.087898\n",
       "1      EASTERN CAPE            KZN      0.775623  702.781934   1317.087898\n",
       "2      EASTERN CAPE  NORTHERN CAPE      7.958380  709.406767  13514.145017\n",
       "4        FREE STATE        GAUTENG      4.712396  381.671114   8002.132162\n",
       "5        FREE STATE            KZN      1.508830  473.546735   2562.147552\n",
       "6        FREE STATE     MPUMALANGA      7.225173  569.987267  12269.085363\n",
       "7        FREE STATE     NORTH WEST      0.775623  366.030831   1317.087898\n",
       "8        FREE STATE  NORTHERN CAPE      9.509626  674.168985  16148.320813\n",
       "9           GAUTENG        LIMPOPO      0.366603  354.359250    622.529827\n",
       "10          GAUTENG     MPUMALANGA     15.937725  273.427528  27063.892565\n",
       "11          GAUTENG     NORTH WEST      8.223909  325.828086  13965.041827\n",
       "12              KZN     MPUMALANGA      8.266326  399.031056  14037.070071\n",
       "13          LIMPOPO     MPUMALANGA      3.060076  316.949315   5196.323349\n",
       "14          LIMPOPO     NORTH WEST      6.306060  586.917745  10708.336203\n",
       "15       NORTH WEST  NORTHERN CAPE      7.225173  672.151780  12269.085363\n",
       "16    NORTHERN CAPE   WESTERN CAPE     16.001593  503.724971  27172.346522"
      ]
     },
     "execution_count": 19,
     "metadata": {},
     "output_type": "execute_result"
    }
   ],
   "source": [
    "n.lines[['bus0','bus1','num_parallel','length','s_nom_min']]"
   ]
  },
  {
   "cell_type": "code",
   "execution_count": 18,
   "metadata": {},
   "outputs": [
    {
     "data": {
      "text/plain": [
       "Line\n",
       "0        0.026466\n",
       "1      511.364081\n",
       "2        0.052320\n",
       "4        0.025606\n",
       "5      873.306989\n",
       "6        0.016355\n",
       "7      574.254739\n",
       "8        0.016591\n",
       "9        0.040905\n",
       "10       0.023069\n",
       "11    6456.179768\n",
       "12       0.017079\n",
       "13       0.028437\n",
       "14       0.014536\n",
       "15       0.010777\n",
       "16       0.096711\n",
       "dtype: float64"
      ]
     },
     "execution_count": 18,
     "metadata": {},
     "output_type": "execute_result"
    }
   ],
   "source": [
    "n.lines['s_nom_opt']-n.lines['s_nom_min']"
   ]
  },
  {
   "cell_type": "code",
   "execution_count": 255,
   "metadata": {},
   "outputs": [
    {
     "data": {
      "text/plain": [
       "carrier\n",
       "CCGT       10986.255965\n",
       "CSP          600.000000\n",
       "OCGT       19902.625973\n",
       "biomass      193.060000\n",
       "coal       18610.042110\n",
       "diesel      1005.000000\n",
       "gas          425.000000\n",
       "hydro       2447.020000\n",
       "nuclear     1854.062427\n",
       "onwind     66244.888120\n",
       "solar      48430.089174\n",
       "Name: p_nom_opt, dtype: float64"
      ]
     },
     "execution_count": 255,
     "metadata": {},
     "output_type": "execute_result"
    }
   ],
   "source": [
    "n.generators.p_nom_opt.groupby(n.generators.carrier).sum()"
   ]
  },
  {
   "cell_type": "code",
   "execution_count": 237,
   "metadata": {},
   "outputs": [
    {
     "data": {
      "text/plain": [
       "carrier\n",
       "False     2912.000000\n",
       "True     30977.145211\n",
       "Name: p_nom_opt, dtype: float64"
      ]
     },
     "execution_count": 237,
     "metadata": {},
     "output_type": "execute_result"
    }
   ],
   "source": [
    "n.storage_units.p_nom_opt.groupby(n.storage_units.carrier=='battery').sum()"
   ]
  },
  {
   "cell_type": "code",
   "execution_count": 246,
   "metadata": {},
   "outputs": [
    {
     "data": {
      "text/plain": [
       "0.36794823059360743"
      ]
     },
     "execution_count": 246,
     "metadata": {},
     "output_type": "execute_result"
    }
   ],
   "source": [
    "n.generators_t.p_max_pu['RSA onwind_2040'].mean()"
   ]
  },
  {
   "cell_type": "code",
   "execution_count": 245,
   "metadata": {},
   "outputs": [
    {
     "data": {
      "text/plain": [
       "0.31765458296685184"
      ]
     },
     "execution_count": 245,
     "metadata": {},
     "output_type": "execute_result"
    }
   ],
   "source": [
    "n.generators_t.p['RSA onwind_2040'].mean()/n.generators.p_nom_opt['RSA onwind_2040']"
   ]
  },
  {
   "cell_type": "code",
   "execution_count": 253,
   "metadata": {},
   "outputs": [
    {
     "data": {
      "text/plain": [
       "62.6626460703809"
      ]
     },
     "execution_count": 253,
     "metadata": {},
     "output_type": "execute_result"
    }
   ],
   "source": [
    "co2_emi = (n.generators_t.p.sum()/n.generators.efficiency * n.generators.carrier.map(n.carriers.co2_emissions)).sum()\n",
    "co2_emi/1e6"
   ]
  },
  {
   "cell_type": "code",
   "execution_count": 160,
   "metadata": {},
   "outputs": [
    {
     "data": {
      "text/html": [
       "<div>\n",
       "<style scoped>\n",
       "    .dataframe tbody tr th:only-of-type {\n",
       "        vertical-align: middle;\n",
       "    }\n",
       "\n",
       "    .dataframe tbody tr th {\n",
       "        vertical-align: top;\n",
       "    }\n",
       "\n",
       "    .dataframe thead th {\n",
       "        text-align: right;\n",
       "    }\n",
       "</style>\n",
       "<table border=\"1\" class=\"dataframe\">\n",
       "  <thead>\n",
       "    <tr style=\"text-align: right;\">\n",
       "      <th></th>\n",
       "      <th>objective</th>\n",
       "      <th>years</th>\n",
       "    </tr>\n",
       "    <tr>\n",
       "      <th>name</th>\n",
       "      <th></th>\n",
       "      <th></th>\n",
       "    </tr>\n",
       "  </thead>\n",
       "  <tbody>\n",
       "    <tr>\n",
       "      <th>2040</th>\n",
       "      <td>1</td>\n",
       "      <td>1</td>\n",
       "    </tr>\n",
       "  </tbody>\n",
       "</table>\n",
       "</div>"
      ],
      "text/plain": [
       "      objective  years\n",
       "name                  \n",
       "2040          1      1"
      ]
     },
     "execution_count": 160,
     "metadata": {},
     "output_type": "execute_result"
    }
   ],
   "source": [
    "n.investment_period_weightings"
   ]
  },
  {
   "cell_type": "code",
   "execution_count": null,
   "metadata": {},
   "outputs": [],
   "source": [
    "n.generators_t.p_max_pu.plot()"
   ]
  }
 ],
 "metadata": {
  "kernelspec": {
   "display_name": "Python 3.9.13 ('pypsa-eur')",
   "language": "python",
   "name": "python3"
  },
  "language_info": {
   "codemirror_mode": {
    "name": "ipython",
    "version": 3
   },
   "file_extension": ".py",
   "mimetype": "text/x-python",
   "name": "python",
   "nbconvert_exporter": "python",
   "pygments_lexer": "ipython3",
   "version": "3.9.13"
  },
  "orig_nbformat": 4,
  "vscode": {
   "interpreter": {
    "hash": "176109d3748470a01cf7c657233c4e326b36b49ffa10510176569af47614a650"
   }
  }
 },
 "nbformat": 4,
 "nbformat_minor": 2
}

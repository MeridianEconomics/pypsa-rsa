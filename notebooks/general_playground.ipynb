{
 "cells": [
  {
   "cell_type": "code",
   "execution_count": 2,
   "metadata": {},
   "outputs": [],
   "source": [
    "import pypsa\n",
    "import pandas as pd\n",
    "import matplotlib.pyplot as plt\n",
    "sys.path.insert(1, '/home/pklein/Documents/GitHub/pypsa_utilities/eskom data/')\n",
    "\n",
    "import data_utilities as du\n",
    "import plotting_utilities as pu\n",
    "import financial_utilities as fu\n",
    "import xarray as xr\n",
    "import cartopy.crs as ccrs"
   ]
  },
  {
   "cell_type": "code",
   "execution_count": 3,
   "metadata": {},
   "outputs": [
    {
     "name": "stderr",
     "output_type": "stream",
     "text": [
      "INFO:pypsa.io:Imported network solved_IRP-2019_10-supply_redz_lcopt_LC.nc has buses, carriers, generators, global_constraints, lines, loads, storage_units\n"
     ]
    }
   ],
   "source": [
    "n0 = pypsa.Network('../results/version-0.6/networks/solved_IRP-2019_10-supply_redz_lcopt_LC.nc')"
   ]
  },
  {
   "cell_type": "code",
   "execution_count": 61,
   "metadata": {},
   "outputs": [
    {
     "name": "stderr",
     "output_type": "stream",
     "text": [
      "INFO:pypsa.io:Imported network solved_IRP-2019_RSA_redz_lcopt_LC.nc has buses, carriers, generators, global_constraints, loads, storage_units\n"
     ]
    }
   ],
   "source": [
    "n1 = pypsa.Network('../results/version-0.6/networks/solved_IRP-2019_RSA_redz_lcopt_LC.nc')"
   ]
  },
  {
   "cell_type": "code",
   "execution_count": 62,
   "metadata": {},
   "outputs": [
    {
     "data": {
      "text/html": [
       "<div>\n",
       "<style scoped>\n",
       "    .dataframe tbody tr th:only-of-type {\n",
       "        vertical-align: middle;\n",
       "    }\n",
       "\n",
       "    .dataframe tbody tr th {\n",
       "        vertical-align: top;\n",
       "    }\n",
       "\n",
       "    .dataframe thead th {\n",
       "        text-align: right;\n",
       "    }\n",
       "</style>\n",
       "<table border=\"1\" class=\"dataframe\">\n",
       "  <thead>\n",
       "    <tr style=\"text-align: right;\">\n",
       "      <th>Load</th>\n",
       "      <th>RSA</th>\n",
       "    </tr>\n",
       "    <tr>\n",
       "      <th>period</th>\n",
       "      <th></th>\n",
       "    </tr>\n",
       "  </thead>\n",
       "  <tbody>\n",
       "    <tr>\n",
       "      <th>2022</th>\n",
       "      <td>252.3981</td>\n",
       "    </tr>\n",
       "    <tr>\n",
       "      <th>2025</th>\n",
       "      <td>264.3416</td>\n",
       "    </tr>\n",
       "    <tr>\n",
       "      <th>2026</th>\n",
       "      <td>268.6277</td>\n",
       "    </tr>\n",
       "    <tr>\n",
       "      <th>2027</th>\n",
       "      <td>272.9137</td>\n",
       "    </tr>\n",
       "    <tr>\n",
       "      <th>2028</th>\n",
       "      <td>276.1282</td>\n",
       "    </tr>\n",
       "    <tr>\n",
       "      <th>2029</th>\n",
       "      <td>279.8785</td>\n",
       "    </tr>\n",
       "    <tr>\n",
       "      <th>2030</th>\n",
       "      <td>284.7003</td>\n",
       "    </tr>\n",
       "  </tbody>\n",
       "</table>\n",
       "</div>"
      ],
      "text/plain": [
       "Load         RSA\n",
       "period          \n",
       "2022    252.3981\n",
       "2025    264.3416\n",
       "2026    268.6277\n",
       "2027    272.9137\n",
       "2028    276.1282\n",
       "2029    279.8785\n",
       "2030    284.7003"
      ]
     },
     "execution_count": 62,
     "metadata": {},
     "output_type": "execute_result"
    }
   ],
   "source": [
    "n1.loads_t.p_set.groupby(n1.snapshots.get_level_values(0)).sum()/1e6"
   ]
  },
  {
   "cell_type": "code",
   "execution_count": 19,
   "metadata": {},
   "outputs": [
    {
     "data": {
      "text/plain": [
       "carrier\n",
       "CCGT                3000.000001\n",
       "CSP                  600.000000\n",
       "OCGT               10114.183779\n",
       "biomass              193.060000\n",
       "coal               42003.000004\n",
       "diesel              3072.000000\n",
       "gas                  425.000000\n",
       "hydro               2447.020000\n",
       "load_shedding    1000000.000000\n",
       "nuclear             1854.000001\n",
       "onwind             23342.589932\n",
       "solar              16287.069940\n",
       "Name: p_nom_opt, dtype: float64"
      ]
     },
     "execution_count": 19,
     "metadata": {},
     "output_type": "execute_result"
    }
   ],
   "source": [
    "n1.generators.p_nom_opt[n1.get_active_assets('Generator',2030)].groupby(n1.generators.carrier).sum()"
   ]
  },
  {
   "cell_type": "code",
   "execution_count": 14,
   "metadata": {},
   "outputs": [
    {
     "data": {
      "text/html": [
       "<div>\n",
       "<style scoped>\n",
       "    .dataframe tbody tr th:only-of-type {\n",
       "        vertical-align: middle;\n",
       "    }\n",
       "\n",
       "    .dataframe tbody tr th {\n",
       "        vertical-align: top;\n",
       "    }\n",
       "\n",
       "    .dataframe thead th {\n",
       "        text-align: right;\n",
       "    }\n",
       "</style>\n",
       "<table border=\"1\" class=\"dataframe\">\n",
       "  <thead>\n",
       "    <tr style=\"text-align: right;\">\n",
       "      <th></th>\n",
       "      <th>bus</th>\n",
       "      <th>carrier</th>\n",
       "      <th>build_year</th>\n",
       "      <th>lifetime</th>\n",
       "      <th>p_nom</th>\n",
       "      <th>p_nom_extendable</th>\n",
       "      <th>ramp_limit_up</th>\n",
       "      <th>ramp_limit_down</th>\n",
       "      <th>marginal_cost</th>\n",
       "      <th>capital_cost</th>\n",
       "      <th>...</th>\n",
       "      <th>sign</th>\n",
       "      <th>committable</th>\n",
       "      <th>start_up_cost</th>\n",
       "      <th>shut_down_cost</th>\n",
       "      <th>min_up_time</th>\n",
       "      <th>min_down_time</th>\n",
       "      <th>up_time_before</th>\n",
       "      <th>down_time_before</th>\n",
       "      <th>ramp_limit_start_up</th>\n",
       "      <th>ramp_limit_shut_down</th>\n",
       "    </tr>\n",
       "    <tr>\n",
       "      <th>Generator</th>\n",
       "      <th></th>\n",
       "      <th></th>\n",
       "      <th></th>\n",
       "      <th></th>\n",
       "      <th></th>\n",
       "      <th></th>\n",
       "      <th></th>\n",
       "      <th></th>\n",
       "      <th></th>\n",
       "      <th></th>\n",
       "      <th></th>\n",
       "      <th></th>\n",
       "      <th></th>\n",
       "      <th></th>\n",
       "      <th></th>\n",
       "      <th></th>\n",
       "      <th></th>\n",
       "      <th></th>\n",
       "      <th></th>\n",
       "      <th></th>\n",
       "      <th></th>\n",
       "    </tr>\n",
       "  </thead>\n",
       "  <tbody>\n",
       "    <tr>\n",
       "      <th>Duvha</th>\n",
       "      <td>MPUMALANGA</td>\n",
       "      <td>coal</td>\n",
       "      <td>2025</td>\n",
       "      <td>9.0</td>\n",
       "      <td>2875.0</td>\n",
       "      <td>False</td>\n",
       "      <td>0.068870</td>\n",
       "      <td>0.068870</td>\n",
       "      <td>187.211790</td>\n",
       "      <td>594000.0</td>\n",
       "      <td>...</td>\n",
       "      <td>1.0</td>\n",
       "      <td>False</td>\n",
       "      <td>0.0</td>\n",
       "      <td>0.0</td>\n",
       "      <td>0</td>\n",
       "      <td>0</td>\n",
       "      <td>1</td>\n",
       "      <td>0</td>\n",
       "      <td>1.0</td>\n",
       "      <td>1.0</td>\n",
       "    </tr>\n",
       "    <tr>\n",
       "      <th>Grootvlei</th>\n",
       "      <td>MPUMALANGA</td>\n",
       "      <td>coal</td>\n",
       "      <td>2025</td>\n",
       "      <td>3.0</td>\n",
       "      <td>570.0</td>\n",
       "      <td>False</td>\n",
       "      <td>0.094737</td>\n",
       "      <td>0.094737</td>\n",
       "      <td>335.690788</td>\n",
       "      <td>594000.0</td>\n",
       "      <td>...</td>\n",
       "      <td>1.0</td>\n",
       "      <td>False</td>\n",
       "      <td>0.0</td>\n",
       "      <td>0.0</td>\n",
       "      <td>0</td>\n",
       "      <td>0</td>\n",
       "      <td>1</td>\n",
       "      <td>0</td>\n",
       "      <td>1.0</td>\n",
       "      <td>1.0</td>\n",
       "    </tr>\n",
       "    <tr>\n",
       "      <th>Hendrina</th>\n",
       "      <td>MPUMALANGA</td>\n",
       "      <td>coal</td>\n",
       "      <td>2025</td>\n",
       "      <td>1.0</td>\n",
       "      <td>1098.0</td>\n",
       "      <td>False</td>\n",
       "      <td>0.060109</td>\n",
       "      <td>0.060109</td>\n",
       "      <td>263.237984</td>\n",
       "      <td>594000.0</td>\n",
       "      <td>...</td>\n",
       "      <td>1.0</td>\n",
       "      <td>False</td>\n",
       "      <td>0.0</td>\n",
       "      <td>0.0</td>\n",
       "      <td>0</td>\n",
       "      <td>0</td>\n",
       "      <td>1</td>\n",
       "      <td>0</td>\n",
       "      <td>1.0</td>\n",
       "      <td>1.0</td>\n",
       "    </tr>\n",
       "    <tr>\n",
       "      <th>Kendal</th>\n",
       "      <td>MPUMALANGA</td>\n",
       "      <td>coal</td>\n",
       "      <td>2025</td>\n",
       "      <td>18.0</td>\n",
       "      <td>3840.0</td>\n",
       "      <td>False</td>\n",
       "      <td>0.028125</td>\n",
       "      <td>0.028125</td>\n",
       "      <td>275.615249</td>\n",
       "      <td>594000.0</td>\n",
       "      <td>...</td>\n",
       "      <td>1.0</td>\n",
       "      <td>False</td>\n",
       "      <td>0.0</td>\n",
       "      <td>0.0</td>\n",
       "      <td>0</td>\n",
       "      <td>0</td>\n",
       "      <td>1</td>\n",
       "      <td>0</td>\n",
       "      <td>1.0</td>\n",
       "      <td>1.0</td>\n",
       "    </tr>\n",
       "    <tr>\n",
       "      <th>Komati</th>\n",
       "      <td>MPUMALANGA</td>\n",
       "      <td>coal</td>\n",
       "      <td>2025</td>\n",
       "      <td>3.0</td>\n",
       "      <td>114.0</td>\n",
       "      <td>False</td>\n",
       "      <td>0.263158</td>\n",
       "      <td>0.263158</td>\n",
       "      <td>300.400044</td>\n",
       "      <td>594000.0</td>\n",
       "      <td>...</td>\n",
       "      <td>1.0</td>\n",
       "      <td>False</td>\n",
       "      <td>0.0</td>\n",
       "      <td>0.0</td>\n",
       "      <td>0</td>\n",
       "      <td>0</td>\n",
       "      <td>1</td>\n",
       "      <td>0</td>\n",
       "      <td>1.0</td>\n",
       "      <td>1.0</td>\n",
       "    </tr>\n",
       "    <tr>\n",
       "      <th>...</th>\n",
       "      <td>...</td>\n",
       "      <td>...</td>\n",
       "      <td>...</td>\n",
       "      <td>...</td>\n",
       "      <td>...</td>\n",
       "      <td>...</td>\n",
       "      <td>...</td>\n",
       "      <td>...</td>\n",
       "      <td>...</td>\n",
       "      <td>...</td>\n",
       "      <td>...</td>\n",
       "      <td>...</td>\n",
       "      <td>...</td>\n",
       "      <td>...</td>\n",
       "      <td>...</td>\n",
       "      <td>...</td>\n",
       "      <td>...</td>\n",
       "      <td>...</td>\n",
       "      <td>...</td>\n",
       "      <td>...</td>\n",
       "      <td>...</td>\n",
       "    </tr>\n",
       "    <tr>\n",
       "      <th>KZN load_shedding</th>\n",
       "      <td>KZN</td>\n",
       "      <td>load_shedding</td>\n",
       "      <td>2025</td>\n",
       "      <td>100.0</td>\n",
       "      <td>1000000.0</td>\n",
       "      <td>False</td>\n",
       "      <td>NaN</td>\n",
       "      <td>NaN</td>\n",
       "      <td>100000.009230</td>\n",
       "      <td>0.0</td>\n",
       "      <td>...</td>\n",
       "      <td>1.0</td>\n",
       "      <td>False</td>\n",
       "      <td>0.0</td>\n",
       "      <td>0.0</td>\n",
       "      <td>0</td>\n",
       "      <td>0</td>\n",
       "      <td>1</td>\n",
       "      <td>0</td>\n",
       "      <td>1.0</td>\n",
       "      <td>1.0</td>\n",
       "    </tr>\n",
       "    <tr>\n",
       "      <th>LIMPOPO load_shedding</th>\n",
       "      <td>LIMPOPO</td>\n",
       "      <td>load_shedding</td>\n",
       "      <td>2025</td>\n",
       "      <td>100.0</td>\n",
       "      <td>1000000.0</td>\n",
       "      <td>False</td>\n",
       "      <td>NaN</td>\n",
       "      <td>NaN</td>\n",
       "      <td>100000.010585</td>\n",
       "      <td>0.0</td>\n",
       "      <td>...</td>\n",
       "      <td>1.0</td>\n",
       "      <td>False</td>\n",
       "      <td>0.0</td>\n",
       "      <td>0.0</td>\n",
       "      <td>0</td>\n",
       "      <td>0</td>\n",
       "      <td>1</td>\n",
       "      <td>0</td>\n",
       "      <td>1.0</td>\n",
       "      <td>1.0</td>\n",
       "    </tr>\n",
       "    <tr>\n",
       "      <th>MPUMALANGA load_shedding</th>\n",
       "      <td>MPUMALANGA</td>\n",
       "      <td>load_shedding</td>\n",
       "      <td>2025</td>\n",
       "      <td>100.0</td>\n",
       "      <td>1000000.0</td>\n",
       "      <td>False</td>\n",
       "      <td>NaN</td>\n",
       "      <td>NaN</td>\n",
       "      <td>100000.009867</td>\n",
       "      <td>0.0</td>\n",
       "      <td>...</td>\n",
       "      <td>1.0</td>\n",
       "      <td>False</td>\n",
       "      <td>0.0</td>\n",
       "      <td>0.0</td>\n",
       "      <td>0</td>\n",
       "      <td>0</td>\n",
       "      <td>1</td>\n",
       "      <td>0</td>\n",
       "      <td>1.0</td>\n",
       "      <td>1.0</td>\n",
       "    </tr>\n",
       "    <tr>\n",
       "      <th>NORTH WEST load_shedding</th>\n",
       "      <td>NORTH WEST</td>\n",
       "      <td>load_shedding</td>\n",
       "      <td>2025</td>\n",
       "      <td>100.0</td>\n",
       "      <td>1000000.0</td>\n",
       "      <td>False</td>\n",
       "      <td>NaN</td>\n",
       "      <td>NaN</td>\n",
       "      <td>100000.010565</td>\n",
       "      <td>0.0</td>\n",
       "      <td>...</td>\n",
       "      <td>1.0</td>\n",
       "      <td>False</td>\n",
       "      <td>0.0</td>\n",
       "      <td>0.0</td>\n",
       "      <td>0</td>\n",
       "      <td>0</td>\n",
       "      <td>1</td>\n",
       "      <td>0</td>\n",
       "      <td>1.0</td>\n",
       "      <td>1.0</td>\n",
       "    </tr>\n",
       "    <tr>\n",
       "      <th>WESTERN CAPE load_shedding</th>\n",
       "      <td>WESTERN CAPE</td>\n",
       "      <td>load_shedding</td>\n",
       "      <td>2025</td>\n",
       "      <td>100.0</td>\n",
       "      <td>1000000.0</td>\n",
       "      <td>False</td>\n",
       "      <td>NaN</td>\n",
       "      <td>NaN</td>\n",
       "      <td>100000.010641</td>\n",
       "      <td>0.0</td>\n",
       "      <td>...</td>\n",
       "      <td>1.0</td>\n",
       "      <td>False</td>\n",
       "      <td>0.0</td>\n",
       "      <td>0.0</td>\n",
       "      <td>0</td>\n",
       "      <td>0</td>\n",
       "      <td>1</td>\n",
       "      <td>0</td>\n",
       "      <td>1.0</td>\n",
       "      <td>1.0</td>\n",
       "    </tr>\n",
       "  </tbody>\n",
       "</table>\n",
       "<p>68 rows × 30 columns</p>\n",
       "</div>"
      ],
      "text/plain": [
       "                                     bus        carrier  build_year  lifetime  \\\n",
       "Generator                                                                       \n",
       "Duvha                         MPUMALANGA           coal        2025       9.0   \n",
       "Grootvlei                     MPUMALANGA           coal        2025       3.0   \n",
       "Hendrina                      MPUMALANGA           coal        2025       1.0   \n",
       "Kendal                        MPUMALANGA           coal        2025      18.0   \n",
       "Komati                        MPUMALANGA           coal        2025       3.0   \n",
       "...                                  ...            ...         ...       ...   \n",
       "KZN load_shedding                    KZN  load_shedding        2025     100.0   \n",
       "LIMPOPO load_shedding            LIMPOPO  load_shedding        2025     100.0   \n",
       "MPUMALANGA load_shedding      MPUMALANGA  load_shedding        2025     100.0   \n",
       "NORTH WEST load_shedding      NORTH WEST  load_shedding        2025     100.0   \n",
       "WESTERN CAPE load_shedding  WESTERN CAPE  load_shedding        2025     100.0   \n",
       "\n",
       "                                p_nom  p_nom_extendable  ramp_limit_up  \\\n",
       "Generator                                                                \n",
       "Duvha                          2875.0             False       0.068870   \n",
       "Grootvlei                       570.0             False       0.094737   \n",
       "Hendrina                       1098.0             False       0.060109   \n",
       "Kendal                         3840.0             False       0.028125   \n",
       "Komati                          114.0             False       0.263158   \n",
       "...                               ...               ...            ...   \n",
       "KZN load_shedding           1000000.0             False            NaN   \n",
       "LIMPOPO load_shedding       1000000.0             False            NaN   \n",
       "MPUMALANGA load_shedding    1000000.0             False            NaN   \n",
       "NORTH WEST load_shedding    1000000.0             False            NaN   \n",
       "WESTERN CAPE load_shedding  1000000.0             False            NaN   \n",
       "\n",
       "                            ramp_limit_down  marginal_cost  capital_cost  ...  \\\n",
       "Generator                                                                 ...   \n",
       "Duvha                              0.068870     187.211790      594000.0  ...   \n",
       "Grootvlei                          0.094737     335.690788      594000.0  ...   \n",
       "Hendrina                           0.060109     263.237984      594000.0  ...   \n",
       "Kendal                             0.028125     275.615249      594000.0  ...   \n",
       "Komati                             0.263158     300.400044      594000.0  ...   \n",
       "...                                     ...            ...           ...  ...   \n",
       "KZN load_shedding                       NaN  100000.009230           0.0  ...   \n",
       "LIMPOPO load_shedding                   NaN  100000.010585           0.0  ...   \n",
       "MPUMALANGA load_shedding                NaN  100000.009867           0.0  ...   \n",
       "NORTH WEST load_shedding                NaN  100000.010565           0.0  ...   \n",
       "WESTERN CAPE load_shedding              NaN  100000.010641           0.0  ...   \n",
       "\n",
       "                            sign  committable  start_up_cost shut_down_cost  \\\n",
       "Generator                                                                     \n",
       "Duvha                        1.0        False            0.0            0.0   \n",
       "Grootvlei                    1.0        False            0.0            0.0   \n",
       "Hendrina                     1.0        False            0.0            0.0   \n",
       "Kendal                       1.0        False            0.0            0.0   \n",
       "Komati                       1.0        False            0.0            0.0   \n",
       "...                          ...          ...            ...            ...   \n",
       "KZN load_shedding            1.0        False            0.0            0.0   \n",
       "LIMPOPO load_shedding        1.0        False            0.0            0.0   \n",
       "MPUMALANGA load_shedding     1.0        False            0.0            0.0   \n",
       "NORTH WEST load_shedding     1.0        False            0.0            0.0   \n",
       "WESTERN CAPE load_shedding   1.0        False            0.0            0.0   \n",
       "\n",
       "                            min_up_time min_down_time  up_time_before  \\\n",
       "Generator                                                               \n",
       "Duvha                                 0             0               1   \n",
       "Grootvlei                             0             0               1   \n",
       "Hendrina                              0             0               1   \n",
       "Kendal                                0             0               1   \n",
       "Komati                                0             0               1   \n",
       "...                                 ...           ...             ...   \n",
       "KZN load_shedding                     0             0               1   \n",
       "LIMPOPO load_shedding                 0             0               1   \n",
       "MPUMALANGA load_shedding              0             0               1   \n",
       "NORTH WEST load_shedding              0             0               1   \n",
       "WESTERN CAPE load_shedding            0             0               1   \n",
       "\n",
       "                            down_time_before  ramp_limit_start_up  \\\n",
       "Generator                                                           \n",
       "Duvha                                      0                  1.0   \n",
       "Grootvlei                                  0                  1.0   \n",
       "Hendrina                                   0                  1.0   \n",
       "Kendal                                     0                  1.0   \n",
       "Komati                                     0                  1.0   \n",
       "...                                      ...                  ...   \n",
       "KZN load_shedding                          0                  1.0   \n",
       "LIMPOPO load_shedding                      0                  1.0   \n",
       "MPUMALANGA load_shedding                   0                  1.0   \n",
       "NORTH WEST load_shedding                   0                  1.0   \n",
       "WESTERN CAPE load_shedding                 0                  1.0   \n",
       "\n",
       "                            ramp_limit_shut_down  \n",
       "Generator                                         \n",
       "Duvha                                        1.0  \n",
       "Grootvlei                                    1.0  \n",
       "Hendrina                                     1.0  \n",
       "Kendal                                       1.0  \n",
       "Komati                                       1.0  \n",
       "...                                          ...  \n",
       "KZN load_shedding                            1.0  \n",
       "LIMPOPO load_shedding                        1.0  \n",
       "MPUMALANGA load_shedding                     1.0  \n",
       "NORTH WEST load_shedding                     1.0  \n",
       "WESTERN CAPE load_shedding                   1.0  \n",
       "\n",
       "[68 rows x 30 columns]"
      ]
     },
     "execution_count": 14,
     "metadata": {},
     "output_type": "execute_result"
    }
   ],
   "source": [
    "n1.generators[n1.generators.p_nom_extendable==False]"
   ]
  },
  {
   "cell_type": "code",
   "execution_count": 5,
   "metadata": {},
   "outputs": [],
   "source": [
    "n=n0\n",
    "capacity=pd.DataFrame(0,index=n.generators.carrier.unique(),columns=n.investment_periods)       \n",
    "carriers=n.generators.carrier.unique()\n",
    "carriers = carriers[carriers !='load_shedding']\n",
    "for y in n.investment_periods:\n",
    "    capacity.loc[carriers,y]=n.generators.p_nom_opt[(n.get_active_assets('Generator',y))].groupby(n.generators.carrier).sum()\n",
    "\n"
   ]
  },
  {
   "cell_type": "code",
   "execution_count": 6,
   "metadata": {},
   "outputs": [
    {
     "data": {
      "text/html": [
       "<div>\n",
       "<style scoped>\n",
       "    .dataframe tbody tr th:only-of-type {\n",
       "        vertical-align: middle;\n",
       "    }\n",
       "\n",
       "    .dataframe tbody tr th {\n",
       "        vertical-align: top;\n",
       "    }\n",
       "\n",
       "    .dataframe thead th {\n",
       "        text-align: right;\n",
       "    }\n",
       "</style>\n",
       "<table border=\"1\" class=\"dataframe\">\n",
       "  <thead>\n",
       "    <tr style=\"text-align: right;\">\n",
       "      <th>name</th>\n",
       "      <th>2025</th>\n",
       "      <th>2030</th>\n",
       "      <th>2035</th>\n",
       "      <th>2040</th>\n",
       "      <th>2045</th>\n",
       "      <th>2050</th>\n",
       "    </tr>\n",
       "  </thead>\n",
       "  <tbody>\n",
       "    <tr>\n",
       "      <th>coal</th>\n",
       "      <td>46634.988780</td>\n",
       "      <td>42003.000004</td>\n",
       "      <td>38467.888394</td>\n",
       "      <td>45365.534718</td>\n",
       "      <td>37839.942987</td>\n",
       "      <td>45991.685553</td>\n",
       "    </tr>\n",
       "    <tr>\n",
       "      <th>nuclear</th>\n",
       "      <td>3853.999997</td>\n",
       "      <td>3853.999997</td>\n",
       "      <td>3853.999997</td>\n",
       "      <td>3853.999997</td>\n",
       "      <td>1999.999997</td>\n",
       "      <td>1999.999997</td>\n",
       "    </tr>\n",
       "    <tr>\n",
       "      <th>hydro</th>\n",
       "      <td>2447.020000</td>\n",
       "      <td>2447.020000</td>\n",
       "      <td>2447.020000</td>\n",
       "      <td>2447.020000</td>\n",
       "      <td>2447.020000</td>\n",
       "      <td>2447.020000</td>\n",
       "    </tr>\n",
       "    <tr>\n",
       "      <th>diesel</th>\n",
       "      <td>3072.000000</td>\n",
       "      <td>3072.000000</td>\n",
       "      <td>3072.000000</td>\n",
       "      <td>1005.000000</td>\n",
       "      <td>1005.000000</td>\n",
       "      <td>1005.000000</td>\n",
       "    </tr>\n",
       "    <tr>\n",
       "      <th>gas</th>\n",
       "      <td>425.000000</td>\n",
       "      <td>425.000000</td>\n",
       "      <td>425.000000</td>\n",
       "      <td>425.000000</td>\n",
       "      <td>425.000000</td>\n",
       "      <td>425.000000</td>\n",
       "    </tr>\n",
       "    <tr>\n",
       "      <th>CSP</th>\n",
       "      <td>600.000000</td>\n",
       "      <td>600.000000</td>\n",
       "      <td>600.000000</td>\n",
       "      <td>600.000000</td>\n",
       "      <td>450.000000</td>\n",
       "      <td>200.000000</td>\n",
       "    </tr>\n",
       "    <tr>\n",
       "      <th>biomass</th>\n",
       "      <td>193.060000</td>\n",
       "      <td>193.060000</td>\n",
       "      <td>193.060000</td>\n",
       "      <td>193.060000</td>\n",
       "      <td>193.060000</td>\n",
       "      <td>185.500000</td>\n",
       "    </tr>\n",
       "    <tr>\n",
       "      <th>solar</th>\n",
       "      <td>3499.999980</td>\n",
       "      <td>13499.996169</td>\n",
       "      <td>23499.989012</td>\n",
       "      <td>33499.979608</td>\n",
       "      <td>40336.565774</td>\n",
       "      <td>46174.265489</td>\n",
       "    </tr>\n",
       "    <tr>\n",
       "      <th>onwind</th>\n",
       "      <td>4999.999997</td>\n",
       "      <td>5002.170506</td>\n",
       "      <td>24494.566313</td>\n",
       "      <td>23156.160433</td>\n",
       "      <td>22978.391532</td>\n",
       "      <td>22976.227921</td>\n",
       "    </tr>\n",
       "    <tr>\n",
       "      <th>CCGT</th>\n",
       "      <td>2999.999934</td>\n",
       "      <td>2999.999934</td>\n",
       "      <td>2999.999934</td>\n",
       "      <td>2999.999934</td>\n",
       "      <td>2999.999934</td>\n",
       "      <td>2999.999934</td>\n",
       "    </tr>\n",
       "    <tr>\n",
       "      <th>OCGT</th>\n",
       "      <td>3000.000003</td>\n",
       "      <td>17995.249297</td>\n",
       "      <td>18000.839097</td>\n",
       "      <td>19380.466820</td>\n",
       "      <td>19406.463845</td>\n",
       "      <td>22216.279154</td>\n",
       "    </tr>\n",
       "    <tr>\n",
       "      <th>load_shedding</th>\n",
       "      <td>0.000000</td>\n",
       "      <td>0.000000</td>\n",
       "      <td>0.000000</td>\n",
       "      <td>0.000000</td>\n",
       "      <td>0.000000</td>\n",
       "      <td>0.000000</td>\n",
       "    </tr>\n",
       "  </tbody>\n",
       "</table>\n",
       "</div>"
      ],
      "text/plain": [
       "name                   2025          2030          2035          2040  \\\n",
       "coal           46634.988780  42003.000004  38467.888394  45365.534718   \n",
       "nuclear         3853.999997   3853.999997   3853.999997   3853.999997   \n",
       "hydro           2447.020000   2447.020000   2447.020000   2447.020000   \n",
       "diesel          3072.000000   3072.000000   3072.000000   1005.000000   \n",
       "gas              425.000000    425.000000    425.000000    425.000000   \n",
       "CSP              600.000000    600.000000    600.000000    600.000000   \n",
       "biomass          193.060000    193.060000    193.060000    193.060000   \n",
       "solar           3499.999980  13499.996169  23499.989012  33499.979608   \n",
       "onwind          4999.999997   5002.170506  24494.566313  23156.160433   \n",
       "CCGT            2999.999934   2999.999934   2999.999934   2999.999934   \n",
       "OCGT            3000.000003  17995.249297  18000.839097  19380.466820   \n",
       "load_shedding      0.000000      0.000000      0.000000      0.000000   \n",
       "\n",
       "name                   2045          2050  \n",
       "coal           37839.942987  45991.685553  \n",
       "nuclear         1999.999997   1999.999997  \n",
       "hydro           2447.020000   2447.020000  \n",
       "diesel          1005.000000   1005.000000  \n",
       "gas              425.000000    425.000000  \n",
       "CSP              450.000000    200.000000  \n",
       "biomass          193.060000    185.500000  \n",
       "solar          40336.565774  46174.265489  \n",
       "onwind         22978.391532  22976.227921  \n",
       "CCGT            2999.999934   2999.999934  \n",
       "OCGT           19406.463845  22216.279154  \n",
       "load_shedding      0.000000      0.000000  "
      ]
     },
     "execution_count": 6,
     "metadata": {},
     "output_type": "execute_result"
    }
   ],
   "source": [
    "capacity"
   ]
  },
  {
   "cell_type": "code",
   "execution_count": 11,
   "metadata": {},
   "outputs": [
    {
     "data": {
      "text/plain": [
       "<AxesSubplot: xlabel='period,timestep'>"
      ]
     },
     "execution_count": 11,
     "metadata": {},
     "output_type": "execute_result"
    },
    {
     "data": {
      "image/png": "[encoded data removed]",
      "text/plain": [
       "<Figure size 640x480 with 1 Axes>"
      ]
     },
     "metadata": {},
     "output_type": "display_data"
    }
   ],
   "source": [
    "n.generators_t.p[n.generators[n.generators.carrier=='load_shedding'].index].plot()"
   ]
  },
  {
   "cell_type": "code",
   "execution_count": 7,
   "metadata": {},
   "outputs": [
    {
     "data": {
      "text/plain": [
       "StorageUnit\n",
       "Drakensberg                     1000.000000\n",
       "Ingula                          1332.000000\n",
       "Palmiet                          400.000000\n",
       "Steenbras                        180.000000\n",
       "NORTHERN CAPE 1 battery_2025     155.633492\n",
       "                                   ...     \n",
       "KZN battery_2050                  26.431301\n",
       "LIMPOPO battery_2050              21.833353\n",
       "MPUMALANGA battery_2050           21.717800\n",
       "NORTH WEST battery_2050           27.654609\n",
       "WESTERN CAPE battery_2050         95.471672\n",
       "Name: p_nom_opt, Length: 64, dtype: float64"
      ]
     },
     "execution_count": 7,
     "metadata": {},
     "output_type": "execute_result"
    }
   ],
   "source": [
    "n.storage_units.p_nom_opt"
   ]
  },
  {
   "cell_type": "code",
   "execution_count": 12,
   "metadata": {},
   "outputs": [
    {
     "data": {
      "text/html": [
       "<div>\n",
       "<style scoped>\n",
       "    .dataframe tbody tr th:only-of-type {\n",
       "        vertical-align: middle;\n",
       "    }\n",
       "\n",
       "    .dataframe tbody tr th {\n",
       "        vertical-align: top;\n",
       "    }\n",
       "\n",
       "    .dataframe thead th {\n",
       "        text-align: right;\n",
       "    }\n",
       "</style>\n",
       "<table border=\"1\" class=\"dataframe\">\n",
       "  <thead>\n",
       "    <tr style=\"text-align: right;\">\n",
       "      <th></th>\n",
       "      <th>carrier_attribute</th>\n",
       "      <th>sense</th>\n",
       "      <th>investment_period</th>\n",
       "      <th>type</th>\n",
       "      <th>constant</th>\n",
       "      <th>mu</th>\n",
       "    </tr>\n",
       "    <tr>\n",
       "      <th>GlobalConstraint</th>\n",
       "      <th></th>\n",
       "      <th></th>\n",
       "      <th></th>\n",
       "      <th></th>\n",
       "      <th></th>\n",
       "      <th></th>\n",
       "    </tr>\n",
       "  </thead>\n",
       "  <tbody>\n",
       "    <tr>\n",
       "      <th>max_period_limit_battery_2025</th>\n",
       "      <td>battery</td>\n",
       "      <td>&lt;=</td>\n",
       "      <td>2025.0</td>\n",
       "      <td>tech_capacity_expansion_limit</td>\n",
       "      <td>2000.0</td>\n",
       "      <td>3.582603e+08</td>\n",
       "    </tr>\n",
       "    <tr>\n",
       "      <th>max_period_limit_battery_2030</th>\n",
       "      <td>battery</td>\n",
       "      <td>&lt;=</td>\n",
       "      <td>2030.0</td>\n",
       "      <td>tech_capacity_expansion_limit</td>\n",
       "      <td>100000.0</td>\n",
       "      <td>3.828864e-04</td>\n",
       "    </tr>\n",
       "    <tr>\n",
       "      <th>max_period_limit_battery_2035</th>\n",
       "      <td>battery</td>\n",
       "      <td>&lt;=</td>\n",
       "      <td>2035.0</td>\n",
       "      <td>tech_capacity_expansion_limit</td>\n",
       "      <td>100000.0</td>\n",
       "      <td>3.846671e-04</td>\n",
       "    </tr>\n",
       "    <tr>\n",
       "      <th>max_period_limit_battery_2040</th>\n",
       "      <td>battery</td>\n",
       "      <td>&lt;=</td>\n",
       "      <td>2040.0</td>\n",
       "      <td>tech_capacity_expansion_limit</td>\n",
       "      <td>100000.0</td>\n",
       "      <td>4.036152e-04</td>\n",
       "    </tr>\n",
       "    <tr>\n",
       "      <th>max_period_limit_battery_2045</th>\n",
       "      <td>battery</td>\n",
       "      <td>&lt;=</td>\n",
       "      <td>2045.0</td>\n",
       "      <td>tech_capacity_expansion_limit</td>\n",
       "      <td>100000.0</td>\n",
       "      <td>1.113735e-03</td>\n",
       "    </tr>\n",
       "    <tr>\n",
       "      <th>max_period_limit_battery_2050</th>\n",
       "      <td>battery</td>\n",
       "      <td>&lt;=</td>\n",
       "      <td>2050.0</td>\n",
       "      <td>tech_capacity_expansion_limit</td>\n",
       "      <td>100000.0</td>\n",
       "      <td>2.672666e+00</td>\n",
       "    </tr>\n",
       "  </tbody>\n",
       "</table>\n",
       "</div>"
      ],
      "text/plain": [
       "                              carrier_attribute sense  investment_period  \\\n",
       "GlobalConstraint                                                           \n",
       "max_period_limit_battery_2025           battery    <=             2025.0   \n",
       "max_period_limit_battery_2030           battery    <=             2030.0   \n",
       "max_period_limit_battery_2035           battery    <=             2035.0   \n",
       "max_period_limit_battery_2040           battery    <=             2040.0   \n",
       "max_period_limit_battery_2045           battery    <=             2045.0   \n",
       "max_period_limit_battery_2050           battery    <=             2050.0   \n",
       "\n",
       "                                                        type  constant  \\\n",
       "GlobalConstraint                                                         \n",
       "max_period_limit_battery_2025  tech_capacity_expansion_limit    2000.0   \n",
       "max_period_limit_battery_2030  tech_capacity_expansion_limit  100000.0   \n",
       "max_period_limit_battery_2035  tech_capacity_expansion_limit  100000.0   \n",
       "max_period_limit_battery_2040  tech_capacity_expansion_limit  100000.0   \n",
       "max_period_limit_battery_2045  tech_capacity_expansion_limit  100000.0   \n",
       "max_period_limit_battery_2050  tech_capacity_expansion_limit  100000.0   \n",
       "\n",
       "                                         mu  \n",
       "GlobalConstraint                             \n",
       "max_period_limit_battery_2025  3.582603e+08  \n",
       "max_period_limit_battery_2030  3.828864e-04  \n",
       "max_period_limit_battery_2035  3.846671e-04  \n",
       "max_period_limit_battery_2040  4.036152e-04  \n",
       "max_period_limit_battery_2045  1.113735e-03  \n",
       "max_period_limit_battery_2050  2.672666e+00  "
      ]
     },
     "execution_count": 12,
     "metadata": {},
     "output_type": "execute_result"
    }
   ],
   "source": [
    "n.global_constraints[n.global_constraints['carrier_attribute']=='battery']"
   ]
  },
  {
   "cell_type": "code",
   "execution_count": 15,
   "metadata": {},
   "outputs": [
    {
     "data": {
      "text/plain": [
       "<AxesSubplot: xlabel='name'>"
      ]
     },
     "execution_count": 15,
     "metadata": {},
     "output_type": "execute_result"
    },
    {
     "data": {
      "image/png": "[encoded data removed]",
      "text/plain": [
       "<Figure size 640x480 with 1 Axes>"
      ]
     },
     "metadata": {},
     "output_type": "display_data"
    }
   ],
   "source": [
    "capacity.T.plot.bar(stacked=True)"
   ]
  },
  {
   "cell_type": "code",
   "execution_count": 19,
   "metadata": {},
   "outputs": [
    {
     "data": {
      "text/html": [
       "<div>\n",
       "<style scoped>\n",
       "    .dataframe tbody tr th:only-of-type {\n",
       "        vertical-align: middle;\n",
       "    }\n",
       "\n",
       "    .dataframe tbody tr th {\n",
       "        vertical-align: top;\n",
       "    }\n",
       "\n",
       "    .dataframe thead th {\n",
       "        text-align: right;\n",
       "    }\n",
       "</style>\n",
       "<table border=\"1\" class=\"dataframe\">\n",
       "  <thead>\n",
       "    <tr style=\"text-align: right;\">\n",
       "      <th></th>\n",
       "      <th>carrier_attribute</th>\n",
       "      <th>sense</th>\n",
       "      <th>investment_period</th>\n",
       "      <th>type</th>\n",
       "      <th>constant</th>\n",
       "      <th>mu</th>\n",
       "    </tr>\n",
       "    <tr>\n",
       "      <th>GlobalConstraint</th>\n",
       "      <th></th>\n",
       "      <th></th>\n",
       "      <th></th>\n",
       "      <th></th>\n",
       "      <th></th>\n",
       "      <th></th>\n",
       "    </tr>\n",
       "  </thead>\n",
       "  <tbody>\n",
       "    <tr>\n",
       "      <th>max_period_limit_biomass_2025</th>\n",
       "      <td>biomass</td>\n",
       "      <td>&lt;=</td>\n",
       "      <td>2025.0</td>\n",
       "      <td>tech_capacity_expansion_limit</td>\n",
       "      <td>100000.0</td>\n",
       "      <td>0.000000e+00</td>\n",
       "    </tr>\n",
       "    <tr>\n",
       "      <th>max_period_limit_solar_2025</th>\n",
       "      <td>solar</td>\n",
       "      <td>&lt;=</td>\n",
       "      <td>2025.0</td>\n",
       "      <td>tech_capacity_expansion_limit</td>\n",
       "      <td>4000.0</td>\n",
       "      <td>6.977080e+08</td>\n",
       "    </tr>\n",
       "    <tr>\n",
       "      <th>max_period_limit_onwind_2025</th>\n",
       "      <td>onwind</td>\n",
       "      <td>&lt;=</td>\n",
       "      <td>2025.0</td>\n",
       "      <td>tech_capacity_expansion_limit</td>\n",
       "      <td>5000.0</td>\n",
       "      <td>1.124587e+09</td>\n",
       "    </tr>\n",
       "    <tr>\n",
       "      <th>max_period_limit_CCGT_2025</th>\n",
       "      <td>CCGT</td>\n",
       "      <td>&lt;=</td>\n",
       "      <td>2025.0</td>\n",
       "      <td>tech_capacity_expansion_limit</td>\n",
       "      <td>0.0</td>\n",
       "      <td>3.016649e+09</td>\n",
       "    </tr>\n",
       "    <tr>\n",
       "      <th>max_period_limit_OCGT_2025</th>\n",
       "      <td>OCGT</td>\n",
       "      <td>&lt;=</td>\n",
       "      <td>2025.0</td>\n",
       "      <td>tech_capacity_expansion_limit</td>\n",
       "      <td>3000.0</td>\n",
       "      <td>2.993399e+09</td>\n",
       "    </tr>\n",
       "    <tr>\n",
       "      <th>max_period_limit_coal_2025</th>\n",
       "      <td>coal</td>\n",
       "      <td>&lt;=</td>\n",
       "      <td>2025.0</td>\n",
       "      <td>tech_capacity_expansion_limit</td>\n",
       "      <td>10000.0</td>\n",
       "      <td>2.430924e+09</td>\n",
       "    </tr>\n",
       "    <tr>\n",
       "      <th>max_period_limit_nuclear_2025</th>\n",
       "      <td>nuclear</td>\n",
       "      <td>&lt;=</td>\n",
       "      <td>2025.0</td>\n",
       "      <td>tech_capacity_expansion_limit</td>\n",
       "      <td>2000.0</td>\n",
       "      <td>7.804030e-02</td>\n",
       "    </tr>\n",
       "    <tr>\n",
       "      <th>max_period_limit_biomass_2030</th>\n",
       "      <td>biomass</td>\n",
       "      <td>&lt;=</td>\n",
       "      <td>2030.0</td>\n",
       "      <td>tech_capacity_expansion_limit</td>\n",
       "      <td>100000.0</td>\n",
       "      <td>0.000000e+00</td>\n",
       "    </tr>\n",
       "    <tr>\n",
       "      <th>max_period_limit_solar_2030</th>\n",
       "      <td>solar</td>\n",
       "      <td>&lt;=</td>\n",
       "      <td>2030.0</td>\n",
       "      <td>tech_capacity_expansion_limit</td>\n",
       "      <td>14000.0</td>\n",
       "      <td>8.964934e+04</td>\n",
       "    </tr>\n",
       "    <tr>\n",
       "      <th>max_period_limit_onwind_2030</th>\n",
       "      <td>onwind</td>\n",
       "      <td>&lt;=</td>\n",
       "      <td>2030.0</td>\n",
       "      <td>tech_capacity_expansion_limit</td>\n",
       "      <td>20000.0</td>\n",
       "      <td>7.558651e+06</td>\n",
       "    </tr>\n",
       "    <tr>\n",
       "      <th>max_period_limit_CCGT_2030</th>\n",
       "      <td>CCGT</td>\n",
       "      <td>&lt;=</td>\n",
       "      <td>2030.0</td>\n",
       "      <td>tech_capacity_expansion_limit</td>\n",
       "      <td>15000.0</td>\n",
       "      <td>0.000000e+00</td>\n",
       "    </tr>\n",
       "    <tr>\n",
       "      <th>max_period_limit_OCGT_2030</th>\n",
       "      <td>OCGT</td>\n",
       "      <td>&lt;=</td>\n",
       "      <td>2030.0</td>\n",
       "      <td>tech_capacity_expansion_limit</td>\n",
       "      <td>18000.0</td>\n",
       "      <td>1.463891e+00</td>\n",
       "    </tr>\n",
       "    <tr>\n",
       "      <th>max_period_limit_coal_2030</th>\n",
       "      <td>coal</td>\n",
       "      <td>&lt;=</td>\n",
       "      <td>2030.0</td>\n",
       "      <td>tech_capacity_expansion_limit</td>\n",
       "      <td>10005.0</td>\n",
       "      <td>3.164592e+04</td>\n",
       "    </tr>\n",
       "    <tr>\n",
       "      <th>max_period_limit_nuclear_2030</th>\n",
       "      <td>nuclear</td>\n",
       "      <td>&lt;=</td>\n",
       "      <td>2030.0</td>\n",
       "      <td>tech_capacity_expansion_limit</td>\n",
       "      <td>100000.0</td>\n",
       "      <td>0.000000e+00</td>\n",
       "    </tr>\n",
       "  </tbody>\n",
       "</table>\n",
       "</div>"
      ],
      "text/plain": [
       "                              carrier_attribute sense  investment_period  \\\n",
       "GlobalConstraint                                                           \n",
       "max_period_limit_biomass_2025           biomass    <=             2025.0   \n",
       "max_period_limit_solar_2025               solar    <=             2025.0   \n",
       "max_period_limit_onwind_2025             onwind    <=             2025.0   \n",
       "max_period_limit_CCGT_2025                 CCGT    <=             2025.0   \n",
       "max_period_limit_OCGT_2025                 OCGT    <=             2025.0   \n",
       "max_period_limit_coal_2025                 coal    <=             2025.0   \n",
       "max_period_limit_nuclear_2025           nuclear    <=             2025.0   \n",
       "max_period_limit_biomass_2030           biomass    <=             2030.0   \n",
       "max_period_limit_solar_2030               solar    <=             2030.0   \n",
       "max_period_limit_onwind_2030             onwind    <=             2030.0   \n",
       "max_period_limit_CCGT_2030                 CCGT    <=             2030.0   \n",
       "max_period_limit_OCGT_2030                 OCGT    <=             2030.0   \n",
       "max_period_limit_coal_2030                 coal    <=             2030.0   \n",
       "max_period_limit_nuclear_2030           nuclear    <=             2030.0   \n",
       "\n",
       "                                                        type  constant  \\\n",
       "GlobalConstraint                                                         \n",
       "max_period_limit_biomass_2025  tech_capacity_expansion_limit  100000.0   \n",
       "max_period_limit_solar_2025    tech_capacity_expansion_limit    4000.0   \n",
       "max_period_limit_onwind_2025   tech_capacity_expansion_limit    5000.0   \n",
       "max_period_limit_CCGT_2025     tech_capacity_expansion_limit       0.0   \n",
       "max_period_limit_OCGT_2025     tech_capacity_expansion_limit    3000.0   \n",
       "max_period_limit_coal_2025     tech_capacity_expansion_limit   10000.0   \n",
       "max_period_limit_nuclear_2025  tech_capacity_expansion_limit    2000.0   \n",
       "max_period_limit_biomass_2030  tech_capacity_expansion_limit  100000.0   \n",
       "max_period_limit_solar_2030    tech_capacity_expansion_limit   14000.0   \n",
       "max_period_limit_onwind_2030   tech_capacity_expansion_limit   20000.0   \n",
       "max_period_limit_CCGT_2030     tech_capacity_expansion_limit   15000.0   \n",
       "max_period_limit_OCGT_2030     tech_capacity_expansion_limit   18000.0   \n",
       "max_period_limit_coal_2030     tech_capacity_expansion_limit   10005.0   \n",
       "max_period_limit_nuclear_2030  tech_capacity_expansion_limit  100000.0   \n",
       "\n",
       "                                         mu  \n",
       "GlobalConstraint                             \n",
       "max_period_limit_biomass_2025  0.000000e+00  \n",
       "max_period_limit_solar_2025    6.977080e+08  \n",
       "max_period_limit_onwind_2025   1.124587e+09  \n",
       "max_period_limit_CCGT_2025     3.016649e+09  \n",
       "max_period_limit_OCGT_2025     2.993399e+09  \n",
       "max_period_limit_coal_2025     2.430924e+09  \n",
       "max_period_limit_nuclear_2025  7.804030e-02  \n",
       "max_period_limit_biomass_2030  0.000000e+00  \n",
       "max_period_limit_solar_2030    8.964934e+04  \n",
       "max_period_limit_onwind_2030   7.558651e+06  \n",
       "max_period_limit_CCGT_2030     0.000000e+00  \n",
       "max_period_limit_OCGT_2030     1.463891e+00  \n",
       "max_period_limit_coal_2030     3.164592e+04  \n",
       "max_period_limit_nuclear_2030  0.000000e+00  "
      ]
     },
     "execution_count": 19,
     "metadata": {},
     "output_type": "execute_result"
    }
   ],
   "source": [
    "n.global_constraints[n.global_constraints['sense']=='<=']"
   ]
  },
  {
   "cell_type": "code",
   "execution_count": 2,
   "metadata": {},
   "outputs": [],
   "source": [
    "eskom_data=du.eskom_data('../data/ESK2791.csv')"
   ]
  },
  {
   "cell_type": "code",
   "execution_count": 15,
   "metadata": {},
   "outputs": [],
   "source": [
    "eskom_data['other_re_installed'].groupby(eskom_data.index.year).max().to_clipboard()"
   ]
  },
  {
   "cell_type": "code",
   "execution_count": null,
   "metadata": {},
   "outputs": [],
   "source": []
  },
  {
   "cell_type": "code",
   "execution_count": 6,
   "metadata": {},
   "outputs": [],
   "source": [
    "eskom_data['loadshed_mlr'].groupby(eskom_data.index.year).sum().to_clipboard()"
   ]
  },
  {
   "cell_type": "code",
   "execution_count": null,
   "metadata": {},
   "outputs": [],
   "source": [
    "df = pd.read_csv('../data/Eskom EAF data.csv',index_col=[1,0],parse_dates=True)\n",
    "df['capacity'] = df['EAF %']/100 * df['MW'] \n",
    "\n",
    "\n",
    "for y in [2017,2018,2019,2020,2021,2022]:\n",
    "    data=df.loc['Generation Total','PCLF %']\n",
    "    plt.plot(data[data.index.year==y].values)\n",
    "\n"
   ]
  },
  {
   "cell_type": "code",
   "execution_count": null,
   "metadata": {},
   "outputs": [],
   "source": [
    "df = pd.read_csv('../data/Eskom EAF data.csv',index_col=[1,0],parse_dates=True)\n",
    "df['capacity'] = df['EAF %']/100 * df['MW'] \n",
    "stations=df[df.type=='coal'].index.get_level_values(0)"
   ]
  },
  {
   "cell_type": "code",
   "execution_count": null,
   "metadata": {},
   "outputs": [],
   "source": [
    "stations"
   ]
  },
  {
   "cell_type": "code",
   "execution_count": null,
   "metadata": {},
   "outputs": [],
   "source": [
    "df = pd.read_csv('../data/Eskom EAF data.csv',index_col=[1,0],parse_dates=True)\n",
    "df['capacity'] = df['EAF %']/100 * df['MW'] \n",
    "stations=df[df.type=='coal'].index.get_level_values(0).unique()\n",
    "eaf=pd.DataFrame(0,index=stations,columns=range(2017,2023))\n",
    "planned=pd.DataFrame(0,index=stations,columns=range(2017,2023))\n",
    "unplanned=pd.DataFrame(0,index=stations,columns=range(2017,2023))\n",
    "for s in stations:\n",
    "    eaf.loc[s,:]=df.loc[s,'EAF %'].groupby(df.loc[s,'EAF %'].index.year).mean()\n",
    "    planned.loc[s,:]=df.loc[s,'PCLF %'].groupby(df.loc[s,'PCLF %'].index.year).mean()\n",
    "    unplanned.loc[s,:]=df.loc[s,'UCLF %'].groupby(df.loc[s,'UCLF %'].index.year).mean()+df.loc[s,'OCLF %'].groupby(df.loc[s,'OCLF %'].index.year).mean()"
   ]
  },
  {
   "cell_type": "code",
   "execution_count": null,
   "metadata": {},
   "outputs": [],
   "source": [
    "df = pd.read_csv('../data/Eskom EAF data.csv',index_col=[1,0],parse_dates=True)\n",
    "df['capacity'] = df['EAF %']/100 * df['MW'] \n",
    "df=df[df.type=='coal']\n",
    "df.index=df.index.get_level_values(1)\n",
    "variable='EAF %'\n",
    "type_avg=df.groupby(level=0).mean()\n",
    "type_avg.drop(['MW','capacity'],axis=1)\n",
    "type_avg.loc[:,variable].groupby(type_avg.index.year).mean()"
   ]
  },
  {
   "cell_type": "code",
   "execution_count": null,
   "metadata": {},
   "outputs": [],
   "source": [
    "df = pd.read_csv('../data/Eskom EAF data.csv',index_col=[1,0],parse_dates=True)\n",
    "df['capacity'] = df['EAF %']/100 * df['MW'] \n",
    "stations=df[df.type=='coal'].index.get_level_values(0)\n",
    "\n",
    "installed_capacity=pd.DataFrame(0,index=stations,columns=range(2017,2023))\n",
    "for s in stations:\n",
    "    for y in range(2017,2023):\n",
    "        installed_capacity.loc[s,y]=df.loc[(s,str(y)),'MW'].mean()"
   ]
  },
  {
   "cell_type": "code",
   "execution_count": null,
   "metadata": {},
   "outputs": [],
   "source": [
    "installed_capacity.to_clipboard()"
   ]
  },
  {
   "cell_type": "code",
   "execution_count": null,
   "metadata": {},
   "outputs": [],
   "source": [
    "mean_pclf=type_avg[variable].groupby(type_avg.index.month).mean().to_clipboard()\n",
    "for y in [2017,2018,2019,2020,2021,2022]:\n",
    "    plt.plot(type_avg.loc[str(y),variable].values)\n",
    "\n",
    "plt.plot(mean_pclf.values,'k--',linewidth=3)\n",
    "plt.legend([2017,2018,2019,2020,2021,2022])"
   ]
  },
  {
   "cell_type": "code",
   "execution_count": null,
   "metadata": {},
   "outputs": [],
   "source": [
    "mean_pclf=coal_plants['UCLF %'].groupby(coal_plants.index.month).mean()\n",
    "for y in [2017,2018,2019,2020,2021,2022]:\n",
    "    plt.plot(coal_plants.loc[str(y),'UCLF %'].values)\n",
    "\n",
    "plt.plot(mean_pclf.values,'k--',linewidth=3)\n",
    "plt.legend([2017,2018,2019,2020,2021,2022])"
   ]
  },
  {
   "cell_type": "code",
   "execution_count": null,
   "metadata": {},
   "outputs": [],
   "source": [
    "plt.plot(eskom_data['coal_eaf'])\n",
    "plt.plot(df[df.type=='coal'].groupby('Date').sum()['capacity'].divide(df[df.type=='coal'].groupby('Date').sum()['MW']))\n",
    "plt.ylabel('Coal fleet EAF')"
   ]
  },
  {
   "cell_type": "code",
   "execution_count": 18,
   "metadata": {},
   "outputs": [
    {
     "name": "stderr",
     "output_type": "stream",
     "text": [
      "INFO:pypsa.io:Imported network solved_za-original_27-supply_redz_lcopt_LC.nc has buses, carriers, generators, lines, loads, storage_units\n"
     ]
    },
    {
     "data": {
      "text/plain": [
       "<AxesSubplot:xlabel='Generator'>"
      ]
     },
     "execution_count": 18,
     "metadata": {},
     "output_type": "execute_result"
    },
    {
     "data": {
      "image/png": "[encoded data removed]",
      "text/plain": [
       "<Figure size 432x288 with 1 Axes>"
      ]
     },
     "metadata": {
      "needs_background": "light"
     },
     "output_type": "display_data"
    }
   ],
   "source": [
    "n365 = pypsa.Network('../results/version-0.6/networks/solved_za-original_27-supply_redz_lcopt_LC.nc')\n",
    "n365.generators.p_nom_opt[(n365.get_active_assets('Generator',2040)) & (n365.generators.carrier=='onwind')].plot.bar()"
   ]
  },
  {
   "cell_type": "code",
   "execution_count": 22,
   "metadata": {},
   "outputs": [
    {
     "name": "stderr",
     "output_type": "stream",
     "text": [
      "INFO:pypsa.io:Imported network solved_za-original_27-supply_redz_lcopt_LC-350p.nc has buses, carriers, generators, lines, loads, storage_units\n"
     ]
    },
    {
     "data": {
      "text/plain": [
       "<AxesSubplot:xlabel='Generator'>"
      ]
     },
     "execution_count": 22,
     "metadata": {},
     "output_type": "execute_result"
    },
    {
     "data": {
      "image/png": "[encoded data removed]",
      "text/plain": [
       "<Figure size 432x288 with 1 Axes>"
      ]
     },
     "metadata": {
      "needs_background": "light"
     },
     "output_type": "display_data"
    }
   ],
   "source": [
    "n350 = pypsa.Network('../results/version-0.6/networks/solved_za-original_27-supply_redz_lcopt_LC-350p.nc')\n",
    "n350.generators.p_nom_opt[(n350.get_active_assets('Generator',2040)) & (n350.generators.carrier=='onwind')].plot.bar()"
   ]
  },
  {
   "cell_type": "code",
   "execution_count": 23,
   "metadata": {},
   "outputs": [
    {
     "name": "stderr",
     "output_type": "stream",
     "text": [
      "INFO:pypsa.io:Imported network solved_IRP-2019_RSA_redz_lcopt_LC.nc has buses, carriers, generators, loads, storage_units\n"
     ]
    }
   ],
   "source": [
    "n = pypsa.Network('../results/version-0.6/networks/solved_IRP-2019_RSA_redz_lcopt_LC.nc')"
   ]
  },
  {
   "cell_type": "code",
   "execution_count": 62,
   "metadata": {},
   "outputs": [
    {
     "name": "stderr",
     "output_type": "stream",
     "text": [
      "INFO:pypsa.io:Imported network solved_za-original_27-supply_redz_lcopt_LC-25p.nc has buses, carriers, generators, lines, loads, storage_units\n",
      "INFO:pypsa.io:Imported network solved_za-original_27-supply_redz_lcopt_LC-10p.nc has buses, carriers, generators, lines, loads, storage_units\n",
      "INFO:pypsa.io:Imported network solved_za-original_27-supply_redz_lcopt_LC-5p.nc has buses, carriers, generators, lines, loads, storage_units\n"
     ]
    }
   ],
   "source": [
    "n[25] = pypsa.Network('../results/version-0.6/networks/solved_za-original_27-supply_redz_lcopt_LC-25p.nc')\n",
    "n[10] = pypsa.Network('../results/version-0.6/networks/solved_za-original_27-supply_redz_lcopt_LC-10p.nc')\n",
    "n[5] = pypsa.Network('../results/version-0.6/networks/solved_za-original_27-supply_redz_lcopt_LC-5p.nc')"
   ]
  },
  {
   "cell_type": "code",
   "execution_count": 80,
   "metadata": {},
   "outputs": [
    {
     "name": "stderr",
     "output_type": "stream",
     "text": [
      "INFO:pypsa.io:Imported network solved_za-original_27-supply_redz_lcopt_LC-3600SEG.nc has buses, carriers, generators, lines, loads, storage_units\n"
     ]
    }
   ],
   "source": [
    "#s={}\n",
    "#s[1200] = pypsa.Network('../results/version-0.6/networks/solved_za-original_27-supply_redz_lcopt_LC-1200SEG.nc')\n",
    "#s[2400] = pypsa.Network('../results/version-0.6/networks/solved_za-original_27-supply_redz_lcopt_LC-2400SEG.nc')\n",
    "s[3600] = pypsa.Network('../results/version-0.6/networks/solved_za-original_27-supply_redz_lcopt_LC-3600SEG.nc')"
   ]
  },
  {
   "cell_type": "code",
   "execution_count": 38,
   "metadata": {},
   "outputs": [
    {
     "name": "stderr",
     "output_type": "stream",
     "text": [
      "INFO:pypsa.io:Imported network solved_za-original_27-supply_redz_lcopt_LC.nc has buses, carriers, generators, lines, loads, storage_units\n",
      "INFO:pypsa.io:Imported network solved_za-original_27-supply_redz_lcopt_LC-350p.nc has buses, carriers, generators, lines, loads, storage_units\n",
      "INFO:pypsa.io:Imported network solved_za-original_27-supply_redz_lcopt_LC-300p.nc has buses, carriers, generators, lines, loads, storage_units\n",
      "INFO:pypsa.io:Imported network solved_za-original_27-supply_redz_lcopt_LC-250p.nc has buses, carriers, generators, lines, loads, storage_units\n",
      "INFO:pypsa.io:Imported network solved_za-original_27-supply_redz_lcopt_LC-200p.nc has buses, carriers, generators, lines, loads, storage_units\n",
      "INFO:pypsa.io:Imported network solved_za-original_27-supply_redz_lcopt_LC-150p.nc has buses, carriers, generators, lines, loads, storage_units\n",
      "INFO:pypsa.io:Imported network solved_za-original_27-supply_redz_lcopt_LC-100p.nc has buses, carriers, generators, lines, loads, storage_units\n",
      "INFO:pypsa.io:Imported network solved_za-original_27-supply_redz_lcopt_LC-50p.nc has buses, carriers, generators, lines, loads, storage_units\n"
     ]
    }
   ],
   "source": [
    "n={}\n",
    "n[365] = pypsa.Network('../results/version-0.6/networks/solved_za-original_27-supply_redz_lcopt_LC.nc')\n",
    "n[350] = pypsa.Network('../results/version-0.6/networks/solved_za-original_27-supply_redz_lcopt_LC-350p.nc')\n",
    "n[300] = pypsa.Network('../results/version-0.6/networks/solved_za-original_27-supply_redz_lcopt_LC-300p.nc')\n",
    "n[250] = pypsa.Network('../results/version-0.6/networks/solved_za-original_27-supply_redz_lcopt_LC-250p.nc')\n",
    "n[200] = pypsa.Network('../results/version-0.6/networks/solved_za-original_27-supply_redz_lcopt_LC-200p.nc')\n",
    "n[150] = pypsa.Network('../results/version-0.6/networks/solved_za-original_27-supply_redz_lcopt_LC-150p.nc')\n",
    "n[100] = pypsa.Network('../results/version-0.6/networks/solved_za-original_27-supply_redz_lcopt_LC-100p.nc')\n",
    "n[50] = pypsa.Network('../results/version-0.6/networks/solved_za-original_27-supply_redz_lcopt_LC-50p.nc')\n",
    "n[25] = pypsa.Network('../results/version-0.6/networks/solved_za-original_27-supply_redz_lcopt_LC-25p.nc')\n",
    "n[10] = pypsa.Network('../results/version-0.6/networks/solved_za-original_27-supply_redz_lcopt_LC-10p.nc')\n",
    "n[50] = pypsa.Network('../results/version-0.6/networks/solved_za-original_27-supply_redz_lcopt_LC-5p.nc')"
   ]
  },
  {
   "cell_type": "code",
   "execution_count": 31,
   "metadata": {},
   "outputs": [
    {
     "data": {
      "text/html": [
       "<div>\n",
       "<style scoped>\n",
       "    .dataframe tbody tr th:only-of-type {\n",
       "        vertical-align: middle;\n",
       "    }\n",
       "\n",
       "    .dataframe tbody tr th {\n",
       "        vertical-align: top;\n",
       "    }\n",
       "\n",
       "    .dataframe thead th {\n",
       "        text-align: right;\n",
       "    }\n",
       "</style>\n",
       "<table border=\"1\" class=\"dataframe\">\n",
       "  <thead>\n",
       "    <tr style=\"text-align: right;\">\n",
       "      <th></th>\n",
       "      <th>objective</th>\n",
       "      <th>years</th>\n",
       "    </tr>\n",
       "    <tr>\n",
       "      <th>name</th>\n",
       "      <th></th>\n",
       "      <th></th>\n",
       "    </tr>\n",
       "  </thead>\n",
       "  <tbody>\n",
       "    <tr>\n",
       "      <th>2025</th>\n",
       "      <td>4.312127</td>\n",
       "      <td>5</td>\n",
       "    </tr>\n",
       "    <tr>\n",
       "      <th>2030</th>\n",
       "      <td>2.934761</td>\n",
       "      <td>5</td>\n",
       "    </tr>\n",
       "    <tr>\n",
       "      <th>2035</th>\n",
       "      <td>1.997349</td>\n",
       "      <td>5</td>\n",
       "    </tr>\n",
       "    <tr>\n",
       "      <th>2040</th>\n",
       "      <td>1.359362</td>\n",
       "      <td>5</td>\n",
       "    </tr>\n",
       "  </tbody>\n",
       "</table>\n",
       "</div>"
      ],
      "text/plain": [
       "      objective  years\n",
       "name                  \n",
       "2025   4.312127      5\n",
       "2030   2.934761      5\n",
       "2035   1.997349      5\n",
       "2040   1.359362      5"
      ]
     },
     "execution_count": 31,
     "metadata": {},
     "output_type": "execute_result"
    }
   ],
   "source": [
    "n.investment_period_weightings"
   ]
  },
  {
   "cell_type": "code",
   "execution_count": 28,
   "metadata": {},
   "outputs": [
    {
     "data": {
      "text/plain": [
       "carrier\n",
       "CCGT       15273.324689\n",
       "CSP          600.000000\n",
       "OCGT       18655.519965\n",
       "biomass      193.060000\n",
       "coal       36635.058473\n",
       "diesel      3072.000000\n",
       "gas          425.000000\n",
       "hydro       2447.020000\n",
       "nuclear     1854.017612\n",
       "onwind     25481.799337\n",
       "solar      24999.084064\n",
       "Name: p_nom_opt, dtype: float64"
      ]
     },
     "execution_count": 28,
     "metadata": {},
     "output_type": "execute_result"
    }
   ],
   "source": [
    "n.generators.p_nom_opt[n.get_active_assets('Generator',2025)].groupby(n.generators.carrier).sum()"
   ]
  },
  {
   "cell_type": "code",
   "execution_count": 22,
   "metadata": {},
   "outputs": [
    {
     "data": {
      "text/plain": [
       "Generator\n",
       "Duvha             2875.000000\n",
       "Grootvlei          570.000000\n",
       "Hendrina          1098.000000\n",
       "Kendal            3840.000000\n",
       "Komati             114.000000\n",
       "Kriel             2850.000000\n",
       "Kusile            2880.000000\n",
       "Lethabo           3558.000000\n",
       "MajubaDry         1833.000000\n",
       "MajubaWet         2010.000000\n",
       "Matimba           3690.000000\n",
       "Matla             3450.000000\n",
       "Medupi            3597.000000\n",
       "Tutuka            3510.000000\n",
       "Municipal_Coal     160.000000\n",
       "Sasol_SSF          600.000000\n",
       "RSA coal_2025        0.061846\n",
       "RSA coal_2030        0.063909\n",
       "RSA coal_2035        0.117561\n",
       "RSA coal_2040        0.661647\n",
       "Name: p_nom_opt, dtype: float64"
      ]
     },
     "execution_count": 22,
     "metadata": {},
     "output_type": "execute_result"
    }
   ],
   "source": [
    "n.generators.p_nom_opt[n.generators.carrier=='coal']"
   ]
  },
  {
   "cell_type": "code",
   "execution_count": 18,
   "metadata": {},
   "outputs": [
    {
     "data": {
      "text/plain": [
       "Generator\n",
       "RSA REIPPPP_BW1_solar      625.170000\n",
       "RSA REIPPPP_BW2_solar      414.000000\n",
       "RSA REIPPPP_BW3_solar      435.000000\n",
       "RSA REIPPPP_BW4_solar      812.900000\n",
       "RSA solar_2025           22712.176992\n",
       "RSA solar_2030               0.905760\n",
       "RSA solar_2035            9087.808068\n",
       "RSA solar_2040            1890.721361\n",
       "Name: p_nom_opt, dtype: float64"
      ]
     },
     "execution_count": 18,
     "metadata": {},
     "output_type": "execute_result"
    }
   ],
   "source": [
    "n.generators.p_nom_opt[n.generators.carrier=='solar']"
   ]
  },
  {
   "cell_type": "code",
   "execution_count": 63,
   "metadata": {},
   "outputs": [],
   "source": [
    "nodes=[5,10,25,50,100,150,200,250,300,350,365]\n",
    "capacity = pd.DataFrame(0,index=n[365].generators.carrier.unique(),columns=nodes)\n",
    "for node in nodes:\n",
    "    p_nom_opt = n[node].generators.p_nom_opt.groupby(n365.generators.carrier).sum()\n",
    "    for tech in n365.generators.carrier:\n",
    "        capacity.loc[tech,node] = p_nom_opt[tech]\n"
   ]
  },
  {
   "cell_type": "code",
   "execution_count": 55,
   "metadata": {},
   "outputs": [],
   "source": [
    "capacity = pd.DataFrame(0,index=n[365].generators.carrier,columns=nodes)"
   ]
  },
  {
   "cell_type": "code",
   "execution_count": 64,
   "metadata": {},
   "outputs": [
    {
     "data": {
      "text/plain": [
       "<AxesSubplot:>"
      ]
     },
     "execution_count": 64,
     "metadata": {},
     "output_type": "execute_result"
    },
    {
     "data": {
      "image/png": "[encoded data removed]",
      "text/plain": [
       "<Figure size 432x288 with 1 Axes>"
      ]
     },
     "metadata": {
      "needs_background": "light"
     },
     "output_type": "display_data"
    }
   ],
   "source": [
    "capacity.T.plot.area()"
   ]
  },
  {
   "cell_type": "code",
   "execution_count": null,
   "metadata": {},
   "outputs": [],
   "source": [
    "supply_regions = gpd.read_file(snakemake.input.supply_regions).buffer(-0.005) #.to_crs(n.crs)\n",
    "resarea = gpd.read_file(snakemake.input.resarea).to_crs(supply_regions.crs)"
   ]
  },
  {
   "cell_type": "code",
   "execution_count": 38,
   "metadata": {},
   "outputs": [
    {
     "data": {
      "text/plain": [
       "(<matplotlib.collections.PatchCollection at 0x7f6d10be7f40>,\n",
       " <matplotlib.collections.LineCollection at 0x7f6d10be7070>)"
      ]
     },
     "execution_count": 38,
     "metadata": {},
     "output_type": "execute_result"
    },
    {
     "data": {
      "image/png": "[encoded data removed]",
      "text/plain": [
       "<Figure size 504x504 with 1 Axes>"
      ]
     },
     "metadata": {
      "needs_background": "light"
     },
     "output_type": "display_data"
    }
   ],
   "source": [
    "fig, ax = plt.subplots(figsize=[7, 7], subplot_kw={\"projection\": ccrs.PlateCarree()})\n",
    "n.plot(ax=ax, boundaries=[14, 34, -35, -22])"
   ]
  },
  {
   "cell_type": "code",
   "execution_count": 29,
   "metadata": {},
   "outputs": [
    {
     "data": {
      "text/plain": [
       "(<matplotlib.collections.PatchCollection at 0x7f6d19a628e0>,\n",
       " <matplotlib.collections.LineCollection at 0x7f6d19b435e0>)"
      ]
     },
     "execution_count": 29,
     "metadata": {},
     "output_type": "execute_result"
    }
   ],
   "source": [
    "n.plot(ax=ax)"
   ]
  },
  {
   "cell_type": "code",
   "execution_count": 19,
   "metadata": {},
   "outputs": [
    {
     "data": {
      "text/html": [
       "<div>\n",
       "<style scoped>\n",
       "    .dataframe tbody tr th:only-of-type {\n",
       "        vertical-align: middle;\n",
       "    }\n",
       "\n",
       "    .dataframe tbody tr th {\n",
       "        vertical-align: top;\n",
       "    }\n",
       "\n",
       "    .dataframe thead th {\n",
       "        text-align: right;\n",
       "    }\n",
       "</style>\n",
       "<table border=\"1\" class=\"dataframe\">\n",
       "  <thead>\n",
       "    <tr style=\"text-align: right;\">\n",
       "      <th></th>\n",
       "      <th>bus0</th>\n",
       "      <th>bus1</th>\n",
       "      <th>num_parallel</th>\n",
       "      <th>length</th>\n",
       "      <th>s_nom_min</th>\n",
       "    </tr>\n",
       "    <tr>\n",
       "      <th>Line</th>\n",
       "      <th></th>\n",
       "      <th></th>\n",
       "      <th></th>\n",
       "      <th></th>\n",
       "      <th></th>\n",
       "    </tr>\n",
       "  </thead>\n",
       "  <tbody>\n",
       "    <tr>\n",
       "      <th>0</th>\n",
       "      <td>EASTERN CAPE</td>\n",
       "      <td>FREE STATE</td>\n",
       "      <td>0.775623</td>\n",
       "      <td>494.565353</td>\n",
       "      <td>1317.087898</td>\n",
       "    </tr>\n",
       "    <tr>\n",
       "      <th>1</th>\n",
       "      <td>EASTERN CAPE</td>\n",
       "      <td>KZN</td>\n",
       "      <td>0.775623</td>\n",
       "      <td>702.781934</td>\n",
       "      <td>1317.087898</td>\n",
       "    </tr>\n",
       "    <tr>\n",
       "      <th>2</th>\n",
       "      <td>EASTERN CAPE</td>\n",
       "      <td>NORTHERN CAPE</td>\n",
       "      <td>7.958380</td>\n",
       "      <td>709.406767</td>\n",
       "      <td>13514.145017</td>\n",
       "    </tr>\n",
       "    <tr>\n",
       "      <th>4</th>\n",
       "      <td>FREE STATE</td>\n",
       "      <td>GAUTENG</td>\n",
       "      <td>4.712396</td>\n",
       "      <td>381.671114</td>\n",
       "      <td>8002.132162</td>\n",
       "    </tr>\n",
       "    <tr>\n",
       "      <th>5</th>\n",
       "      <td>FREE STATE</td>\n",
       "      <td>KZN</td>\n",
       "      <td>1.508830</td>\n",
       "      <td>473.546735</td>\n",
       "      <td>2562.147552</td>\n",
       "    </tr>\n",
       "    <tr>\n",
       "      <th>6</th>\n",
       "      <td>FREE STATE</td>\n",
       "      <td>MPUMALANGA</td>\n",
       "      <td>7.225173</td>\n",
       "      <td>569.987267</td>\n",
       "      <td>12269.085363</td>\n",
       "    </tr>\n",
       "    <tr>\n",
       "      <th>7</th>\n",
       "      <td>FREE STATE</td>\n",
       "      <td>NORTH WEST</td>\n",
       "      <td>0.775623</td>\n",
       "      <td>366.030831</td>\n",
       "      <td>1317.087898</td>\n",
       "    </tr>\n",
       "    <tr>\n",
       "      <th>8</th>\n",
       "      <td>FREE STATE</td>\n",
       "      <td>NORTHERN CAPE</td>\n",
       "      <td>9.509626</td>\n",
       "      <td>674.168985</td>\n",
       "      <td>16148.320813</td>\n",
       "    </tr>\n",
       "    <tr>\n",
       "      <th>9</th>\n",
       "      <td>GAUTENG</td>\n",
       "      <td>LIMPOPO</td>\n",
       "      <td>0.366603</td>\n",
       "      <td>354.359250</td>\n",
       "      <td>622.529827</td>\n",
       "    </tr>\n",
       "    <tr>\n",
       "      <th>10</th>\n",
       "      <td>GAUTENG</td>\n",
       "      <td>MPUMALANGA</td>\n",
       "      <td>15.937725</td>\n",
       "      <td>273.427528</td>\n",
       "      <td>27063.892565</td>\n",
       "    </tr>\n",
       "    <tr>\n",
       "      <th>11</th>\n",
       "      <td>GAUTENG</td>\n",
       "      <td>NORTH WEST</td>\n",
       "      <td>8.223909</td>\n",
       "      <td>325.828086</td>\n",
       "      <td>13965.041827</td>\n",
       "    </tr>\n",
       "    <tr>\n",
       "      <th>12</th>\n",
       "      <td>KZN</td>\n",
       "      <td>MPUMALANGA</td>\n",
       "      <td>8.266326</td>\n",
       "      <td>399.031056</td>\n",
       "      <td>14037.070071</td>\n",
       "    </tr>\n",
       "    <tr>\n",
       "      <th>13</th>\n",
       "      <td>LIMPOPO</td>\n",
       "      <td>MPUMALANGA</td>\n",
       "      <td>3.060076</td>\n",
       "      <td>316.949315</td>\n",
       "      <td>5196.323349</td>\n",
       "    </tr>\n",
       "    <tr>\n",
       "      <th>14</th>\n",
       "      <td>LIMPOPO</td>\n",
       "      <td>NORTH WEST</td>\n",
       "      <td>6.306060</td>\n",
       "      <td>586.917745</td>\n",
       "      <td>10708.336203</td>\n",
       "    </tr>\n",
       "    <tr>\n",
       "      <th>15</th>\n",
       "      <td>NORTH WEST</td>\n",
       "      <td>NORTHERN CAPE</td>\n",
       "      <td>7.225173</td>\n",
       "      <td>672.151780</td>\n",
       "      <td>12269.085363</td>\n",
       "    </tr>\n",
       "    <tr>\n",
       "      <th>16</th>\n",
       "      <td>NORTHERN CAPE</td>\n",
       "      <td>WESTERN CAPE</td>\n",
       "      <td>16.001593</td>\n",
       "      <td>503.724971</td>\n",
       "      <td>27172.346522</td>\n",
       "    </tr>\n",
       "  </tbody>\n",
       "</table>\n",
       "</div>"
      ],
      "text/plain": [
       "               bus0           bus1  num_parallel      length     s_nom_min\n",
       "Line                                                                      \n",
       "0      EASTERN CAPE     FREE STATE      0.775623  494.565353   1317.087898\n",
       "1      EASTERN CAPE            KZN      0.775623  702.781934   1317.087898\n",
       "2      EASTERN CAPE  NORTHERN CAPE      7.958380  709.406767  13514.145017\n",
       "4        FREE STATE        GAUTENG      4.712396  381.671114   8002.132162\n",
       "5        FREE STATE            KZN      1.508830  473.546735   2562.147552\n",
       "6        FREE STATE     MPUMALANGA      7.225173  569.987267  12269.085363\n",
       "7        FREE STATE     NORTH WEST      0.775623  366.030831   1317.087898\n",
       "8        FREE STATE  NORTHERN CAPE      9.509626  674.168985  16148.320813\n",
       "9           GAUTENG        LIMPOPO      0.366603  354.359250    622.529827\n",
       "10          GAUTENG     MPUMALANGA     15.937725  273.427528  27063.892565\n",
       "11          GAUTENG     NORTH WEST      8.223909  325.828086  13965.041827\n",
       "12              KZN     MPUMALANGA      8.266326  399.031056  14037.070071\n",
       "13          LIMPOPO     MPUMALANGA      3.060076  316.949315   5196.323349\n",
       "14          LIMPOPO     NORTH WEST      6.306060  586.917745  10708.336203\n",
       "15       NORTH WEST  NORTHERN CAPE      7.225173  672.151780  12269.085363\n",
       "16    NORTHERN CAPE   WESTERN CAPE     16.001593  503.724971  27172.346522"
      ]
     },
     "execution_count": 19,
     "metadata": {},
     "output_type": "execute_result"
    }
   ],
   "source": [
    "n.lines[['bus0','bus1','num_parallel','length','s_nom_min']]"
   ]
  },
  {
   "cell_type": "code",
   "execution_count": 18,
   "metadata": {},
   "outputs": [
    {
     "data": {
      "text/plain": [
       "Line\n",
       "0        0.026466\n",
       "1      511.364081\n",
       "2        0.052320\n",
       "4        0.025606\n",
       "5      873.306989\n",
       "6        0.016355\n",
       "7      574.254739\n",
       "8        0.016591\n",
       "9        0.040905\n",
       "10       0.023069\n",
       "11    6456.179768\n",
       "12       0.017079\n",
       "13       0.028437\n",
       "14       0.014536\n",
       "15       0.010777\n",
       "16       0.096711\n",
       "dtype: float64"
      ]
     },
     "execution_count": 18,
     "metadata": {},
     "output_type": "execute_result"
    }
   ],
   "source": [
    "n.lines['s_nom_opt']-n.lines['s_nom_min']"
   ]
  },
  {
   "cell_type": "code",
   "execution_count": 255,
   "metadata": {},
   "outputs": [
    {
     "data": {
      "text/plain": [
       "carrier\n",
       "CCGT       10986.255965\n",
       "CSP          600.000000\n",
       "OCGT       19902.625973\n",
       "biomass      193.060000\n",
       "coal       18610.042110\n",
       "diesel      1005.000000\n",
       "gas          425.000000\n",
       "hydro       2447.020000\n",
       "nuclear     1854.062427\n",
       "onwind     66244.888120\n",
       "solar      48430.089174\n",
       "Name: p_nom_opt, dtype: float64"
      ]
     },
     "execution_count": 255,
     "metadata": {},
     "output_type": "execute_result"
    }
   ],
   "source": [
    "n.generators.p_nom_opt.groupby(n.generators.carrier).sum()"
   ]
  },
  {
   "cell_type": "code",
   "execution_count": 237,
   "metadata": {},
   "outputs": [
    {
     "data": {
      "text/plain": [
       "carrier\n",
       "False     2912.000000\n",
       "True     30977.145211\n",
       "Name: p_nom_opt, dtype: float64"
      ]
     },
     "execution_count": 237,
     "metadata": {},
     "output_type": "execute_result"
    }
   ],
   "source": [
    "n.storage_units.p_nom_opt.groupby(n.storage_units.carrier=='battery').sum()"
   ]
  },
  {
   "cell_type": "code",
   "execution_count": 246,
   "metadata": {},
   "outputs": [
    {
     "data": {
      "text/plain": [
       "0.36794823059360743"
      ]
     },
     "execution_count": 246,
     "metadata": {},
     "output_type": "execute_result"
    }
   ],
   "source": [
    "n.generators_t.p_max_pu['RSA onwind_2040'].mean()"
   ]
  },
  {
   "cell_type": "code",
   "execution_count": 245,
   "metadata": {},
   "outputs": [
    {
     "data": {
      "text/plain": [
       "0.31765458296685184"
      ]
     },
     "execution_count": 245,
     "metadata": {},
     "output_type": "execute_result"
    }
   ],
   "source": [
    "n.generators_t.p['RSA onwind_2040'].mean()/n.generators.p_nom_opt['RSA onwind_2040']"
   ]
  },
  {
   "cell_type": "code",
   "execution_count": 253,
   "metadata": {},
   "outputs": [
    {
     "data": {
      "text/plain": [
       "62.6626460703809"
      ]
     },
     "execution_count": 253,
     "metadata": {},
     "output_type": "execute_result"
    }
   ],
   "source": [
    "co2_emi = (n.generators_t.p.sum()/n.generators.efficiency * n.generators.carrier.map(n.carriers.co2_emissions)).sum()\n",
    "co2_emi/1e6"
   ]
  },
  {
   "cell_type": "code",
   "execution_count": 160,
   "metadata": {},
   "outputs": [
    {
     "data": {
      "text/html": [
       "<div>\n",
       "<style scoped>\n",
       "    .dataframe tbody tr th:only-of-type {\n",
       "        vertical-align: middle;\n",
       "    }\n",
       "\n",
       "    .dataframe tbody tr th {\n",
       "        vertical-align: top;\n",
       "    }\n",
       "\n",
       "    .dataframe thead th {\n",
       "        text-align: right;\n",
       "    }\n",
       "</style>\n",
       "<table border=\"1\" class=\"dataframe\">\n",
       "  <thead>\n",
       "    <tr style=\"text-align: right;\">\n",
       "      <th></th>\n",
       "      <th>objective</th>\n",
       "      <th>years</th>\n",
       "    </tr>\n",
       "    <tr>\n",
       "      <th>name</th>\n",
       "      <th></th>\n",
       "      <th></th>\n",
       "    </tr>\n",
       "  </thead>\n",
       "  <tbody>\n",
       "    <tr>\n",
       "      <th>2040</th>\n",
       "      <td>1</td>\n",
       "      <td>1</td>\n",
       "    </tr>\n",
       "  </tbody>\n",
       "</table>\n",
       "</div>"
      ],
      "text/plain": [
       "      objective  years\n",
       "name                  \n",
       "2040          1      1"
      ]
     },
     "execution_count": 160,
     "metadata": {},
     "output_type": "execute_result"
    }
   ],
   "source": [
    "n.investment_period_weightings"
   ]
  },
  {
   "cell_type": "code",
   "execution_count": null,
   "metadata": {},
   "outputs": [],
   "source": [
    "n.generators_t.p_max_pu.plot()"
   ]
  }
 ],
 "metadata": {
  "kernelspec": {
   "display_name": "Python 3.9.13 ('pypsa-eur')",
   "language": "python",
   "name": "python3"
  },
  "language_info": {
   "codemirror_mode": {
    "name": "ipython",
    "version": 3
   },
   "file_extension": ".py",
   "mimetype": "text/x-python",
   "name": "python",
   "nbconvert_exporter": "python",
   "pygments_lexer": "ipython3",
   "version": "3.10.6"
  },
  "orig_nbformat": 4,
  "vscode": {
   "interpreter": {
    "hash": "176109d3748470a01cf7c657233c4e326b36b49ffa10510176569af47614a650"
   }
  }
 },
 "nbformat": 4,
 "nbformat_minor": 2
}

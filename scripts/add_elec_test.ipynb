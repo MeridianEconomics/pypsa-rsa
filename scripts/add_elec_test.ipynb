{
 "cells": [
  {
   "cell_type": "code",
   "execution_count": 11,
   "metadata": {},
   "outputs": [],
   "source": [
    "import pypsa \n",
    "import pandas as pd\n",
    "import matplotlib.pyplot as plt\n",
    "import numpy as np\n",
    "\n",
    "from custom_constraints import set_operational_limits"
   ]
  },
  {
   "cell_type": "code",
   "execution_count": 12,
   "metadata": {},
   "outputs": [],
   "source": [
    "model_file = pd.ExcelFile(\"../data/model_file.xlsx\")\n",
    "model_setup = (\n",
    "    pd.read_excel(\n",
    "        model_file, \n",
    "        sheet_name=\"model_setup\",\n",
    "        index_col=[0])\n",
    "        .loc[\"grid-expansion\"]\n",
    ")\n"
   ]
  },
  {
   "cell_type": "code",
   "execution_count": 14,
   "metadata": {},
   "outputs": [
    {
     "ename": "FileNotFoundError",
     "evalue": "[Errno 2] No such file or directory: '/mnt/wsl/PHYSICALDRIVE1p2/Shared Github/pypsa-za2/networks/grid-2030-2040_11-supply.nc'",
     "output_type": "error",
     "traceback": [
      "\u001b[0;31m---------------------------------------------------------------------------\u001b[0m",
      "\u001b[0;31mKeyError\u001b[0m                                  Traceback (most recent call last)",
      "File \u001b[0;32m~/anaconda3/envs/pypsa_github/lib/python3.11/site-packages/xarray/backends/file_manager.py:211\u001b[0m, in \u001b[0;36mCachingFileManager._acquire_with_cache_info\u001b[0;34m(self, needs_lock)\u001b[0m\n\u001b[1;32m    210\u001b[0m \u001b[39mtry\u001b[39;00m:\n\u001b[0;32m--> 211\u001b[0m     file \u001b[39m=\u001b[39m \u001b[39mself\u001b[39;49m\u001b[39m.\u001b[39;49m_cache[\u001b[39mself\u001b[39;49m\u001b[39m.\u001b[39;49m_key]\n\u001b[1;32m    212\u001b[0m \u001b[39mexcept\u001b[39;00m \u001b[39mKeyError\u001b[39;00m:\n",
      "File \u001b[0;32m~/anaconda3/envs/pypsa_github/lib/python3.11/site-packages/xarray/backends/lru_cache.py:56\u001b[0m, in \u001b[0;36mLRUCache.__getitem__\u001b[0;34m(self, key)\u001b[0m\n\u001b[1;32m     55\u001b[0m \u001b[39mwith\u001b[39;00m \u001b[39mself\u001b[39m\u001b[39m.\u001b[39m_lock:\n\u001b[0;32m---> 56\u001b[0m     value \u001b[39m=\u001b[39m \u001b[39mself\u001b[39;49m\u001b[39m.\u001b[39;49m_cache[key]\n\u001b[1;32m     57\u001b[0m     \u001b[39mself\u001b[39m\u001b[39m.\u001b[39m_cache\u001b[39m.\u001b[39mmove_to_end(key)\n",
      "\u001b[0;31mKeyError\u001b[0m: [<class 'netCDF4._netCDF4.Dataset'>, ('/mnt/wsl/PHYSICALDRIVE1p2/Shared Github/pypsa-za2/networks/grid-2030-2040_11-supply.nc',), 'r', (('clobber', True), ('diskless', False), ('format', 'NETCDF4'), ('persist', False)), '58ed90bc-d45c-42e7-b278-61e92ff3bf41']",
      "\nDuring handling of the above exception, another exception occurred:\n",
      "\u001b[0;31mFileNotFoundError\u001b[0m                         Traceback (most recent call last)",
      "\u001b[1;32m/mnt/wsl/PHYSICALDRIVE1p2/Shared Github/pypsa-za2/scripts/add_elec_test.ipynb Cell 3\u001b[0m line \u001b[0;36m2\n\u001b[1;32m      <a href='vscode-notebook-cell://wsl%2Bubuntu-20.04/mnt/wsl/PHYSICALDRIVE1p2/Shared%20Github/pypsa-za2/scripts/add_elec_test.ipynb#W1sdnNjb2RlLXJlbW90ZQ%3D%3D?line=0'>1</a>\u001b[0m \u001b[39m#n0 = pypsa.Network('../networks/elec_grid-2040_30-supply_redz.nc')\u001b[39;00m\n\u001b[0;32m----> <a href='vscode-notebook-cell://wsl%2Bubuntu-20.04/mnt/wsl/PHYSICALDRIVE1p2/Shared%20Github/pypsa-za2/scripts/add_elec_test.ipynb#W1sdnNjb2RlLXJlbW90ZQ%3D%3D?line=1'>2</a>\u001b[0m n0 \u001b[39m=\u001b[39m pypsa\u001b[39m.\u001b[39;49mNetwork(\u001b[39m'\u001b[39;49m\u001b[39m../networks/grid-2030-2040_11-supply.nc\u001b[39;49m\u001b[39m'\u001b[39;49m)\n",
      "File \u001b[0;32m~/anaconda3/envs/pypsa_github/lib/python3.11/site-packages/pypsa/components.py:355\u001b[0m, in \u001b[0;36mNetwork.__init__\u001b[0;34m(self, import_name, name, ignore_standard_types, override_components, override_component_attrs, **kwargs)\u001b[0m\n\u001b[1;32m    353\u001b[0m     \u001b[39mself\u001b[39m\u001b[39m.\u001b[39mimport_from_hdf5(import_name)\n\u001b[1;32m    354\u001b[0m \u001b[39melif\u001b[39;00m \u001b[39mstr\u001b[39m(import_name)\u001b[39m.\u001b[39mendswith(\u001b[39m\"\u001b[39m\u001b[39m.nc\u001b[39m\u001b[39m\"\u001b[39m):\n\u001b[0;32m--> 355\u001b[0m     \u001b[39mself\u001b[39;49m\u001b[39m.\u001b[39;49mimport_from_netcdf(import_name)\n\u001b[1;32m    356\u001b[0m \u001b[39melif\u001b[39;00m import_name\u001b[39m.\u001b[39mis_dir():\n\u001b[1;32m    357\u001b[0m     \u001b[39mself\u001b[39m\u001b[39m.\u001b[39mimport_from_csv_folder(import_name)\n",
      "File \u001b[0;32m~/anaconda3/envs/pypsa_github/lib/python3.11/site-packages/pypsa/io.py:657\u001b[0m, in \u001b[0;36mimport_from_netcdf\u001b[0;34m(network, path, skip_time)\u001b[0m\n\u001b[1;32m    654\u001b[0m \u001b[39massert\u001b[39;00m has_xarray, \u001b[39m\"\u001b[39m\u001b[39mxarray must be installed for netCDF support.\u001b[39m\u001b[39m\"\u001b[39m\n\u001b[1;32m    656\u001b[0m basename \u001b[39m=\u001b[39m Path(path)\u001b[39m.\u001b[39mname\n\u001b[0;32m--> 657\u001b[0m \u001b[39mwith\u001b[39;00m ImporterNetCDF(path\u001b[39m=\u001b[39;49mpath) \u001b[39mas\u001b[39;00m importer:\n\u001b[1;32m    658\u001b[0m     _import_from_importer(network, importer, basename\u001b[39m=\u001b[39mbasename, skip_time\u001b[39m=\u001b[39mskip_time)\n",
      "File \u001b[0;32m~/anaconda3/envs/pypsa_github/lib/python3.11/site-packages/pypsa/io.py:290\u001b[0m, in \u001b[0;36mImporterNetCDF.__init__\u001b[0;34m(self, path)\u001b[0m\n\u001b[1;32m    288\u001b[0m     \u001b[39mif\u001b[39;00m validators\u001b[39m.\u001b[39murl(\u001b[39mstr\u001b[39m(path)):\n\u001b[1;32m    289\u001b[0m         path \u001b[39m=\u001b[39m _retrieve_from_url(path)\n\u001b[0;32m--> 290\u001b[0m     \u001b[39mself\u001b[39m\u001b[39m.\u001b[39mds \u001b[39m=\u001b[39m xr\u001b[39m.\u001b[39;49mopen_dataset(path)\n\u001b[1;32m    291\u001b[0m \u001b[39melse\u001b[39;00m:\n\u001b[1;32m    292\u001b[0m     \u001b[39mself\u001b[39m\u001b[39m.\u001b[39mds \u001b[39m=\u001b[39m path\n",
      "File \u001b[0;32m~/anaconda3/envs/pypsa_github/lib/python3.11/site-packages/xarray/backends/api.py:573\u001b[0m, in \u001b[0;36mopen_dataset\u001b[0;34m(filename_or_obj, engine, chunks, cache, decode_cf, mask_and_scale, decode_times, decode_timedelta, use_cftime, concat_characters, decode_coords, drop_variables, inline_array, chunked_array_type, from_array_kwargs, backend_kwargs, **kwargs)\u001b[0m\n\u001b[1;32m    561\u001b[0m decoders \u001b[39m=\u001b[39m _resolve_decoders_kwargs(\n\u001b[1;32m    562\u001b[0m     decode_cf,\n\u001b[1;32m    563\u001b[0m     open_backend_dataset_parameters\u001b[39m=\u001b[39mbackend\u001b[39m.\u001b[39mopen_dataset_parameters,\n\u001b[0;32m   (...)\u001b[0m\n\u001b[1;32m    569\u001b[0m     decode_coords\u001b[39m=\u001b[39mdecode_coords,\n\u001b[1;32m    570\u001b[0m )\n\u001b[1;32m    572\u001b[0m overwrite_encoded_chunks \u001b[39m=\u001b[39m kwargs\u001b[39m.\u001b[39mpop(\u001b[39m\"\u001b[39m\u001b[39moverwrite_encoded_chunks\u001b[39m\u001b[39m\"\u001b[39m, \u001b[39mNone\u001b[39;00m)\n\u001b[0;32m--> 573\u001b[0m backend_ds \u001b[39m=\u001b[39m backend\u001b[39m.\u001b[39;49mopen_dataset(\n\u001b[1;32m    574\u001b[0m     filename_or_obj,\n\u001b[1;32m    575\u001b[0m     drop_variables\u001b[39m=\u001b[39;49mdrop_variables,\n\u001b[1;32m    576\u001b[0m     \u001b[39m*\u001b[39;49m\u001b[39m*\u001b[39;49mdecoders,\n\u001b[1;32m    577\u001b[0m     \u001b[39m*\u001b[39;49m\u001b[39m*\u001b[39;49mkwargs,\n\u001b[1;32m    578\u001b[0m )\n\u001b[1;32m    579\u001b[0m ds \u001b[39m=\u001b[39m _dataset_from_backend_dataset(\n\u001b[1;32m    580\u001b[0m     backend_ds,\n\u001b[1;32m    581\u001b[0m     filename_or_obj,\n\u001b[0;32m   (...)\u001b[0m\n\u001b[1;32m    591\u001b[0m     \u001b[39m*\u001b[39m\u001b[39m*\u001b[39mkwargs,\n\u001b[1;32m    592\u001b[0m )\n\u001b[1;32m    593\u001b[0m \u001b[39mreturn\u001b[39;00m ds\n",
      "File \u001b[0;32m~/anaconda3/envs/pypsa_github/lib/python3.11/site-packages/xarray/backends/netCDF4_.py:603\u001b[0m, in \u001b[0;36mNetCDF4BackendEntrypoint.open_dataset\u001b[0;34m(self, filename_or_obj, mask_and_scale, decode_times, concat_characters, decode_coords, drop_variables, use_cftime, decode_timedelta, group, mode, format, clobber, diskless, persist, lock, autoclose)\u001b[0m\n\u001b[1;32m    582\u001b[0m \u001b[39mdef\u001b[39;00m \u001b[39mopen_dataset\u001b[39m(  \u001b[39m# type: ignore[override]  # allow LSP violation, not supporting **kwargs\u001b[39;00m\n\u001b[1;32m    583\u001b[0m     \u001b[39mself\u001b[39m,\n\u001b[1;32m    584\u001b[0m     filename_or_obj: \u001b[39mstr\u001b[39m \u001b[39m|\u001b[39m os\u001b[39m.\u001b[39mPathLike[Any] \u001b[39m|\u001b[39m BufferedIOBase \u001b[39m|\u001b[39m AbstractDataStore,\n\u001b[0;32m   (...)\u001b[0m\n\u001b[1;32m    600\u001b[0m     autoclose\u001b[39m=\u001b[39m\u001b[39mFalse\u001b[39;00m,\n\u001b[1;32m    601\u001b[0m ) \u001b[39m-\u001b[39m\u001b[39m>\u001b[39m Dataset:\n\u001b[1;32m    602\u001b[0m     filename_or_obj \u001b[39m=\u001b[39m _normalize_path(filename_or_obj)\n\u001b[0;32m--> 603\u001b[0m     store \u001b[39m=\u001b[39m NetCDF4DataStore\u001b[39m.\u001b[39;49mopen(\n\u001b[1;32m    604\u001b[0m         filename_or_obj,\n\u001b[1;32m    605\u001b[0m         mode\u001b[39m=\u001b[39;49mmode,\n\u001b[1;32m    606\u001b[0m         \u001b[39mformat\u001b[39;49m\u001b[39m=\u001b[39;49m\u001b[39mformat\u001b[39;49m,\n\u001b[1;32m    607\u001b[0m         group\u001b[39m=\u001b[39;49mgroup,\n\u001b[1;32m    608\u001b[0m         clobber\u001b[39m=\u001b[39;49mclobber,\n\u001b[1;32m    609\u001b[0m         diskless\u001b[39m=\u001b[39;49mdiskless,\n\u001b[1;32m    610\u001b[0m         persist\u001b[39m=\u001b[39;49mpersist,\n\u001b[1;32m    611\u001b[0m         lock\u001b[39m=\u001b[39;49mlock,\n\u001b[1;32m    612\u001b[0m         autoclose\u001b[39m=\u001b[39;49mautoclose,\n\u001b[1;32m    613\u001b[0m     )\n\u001b[1;32m    615\u001b[0m     store_entrypoint \u001b[39m=\u001b[39m StoreBackendEntrypoint()\n\u001b[1;32m    616\u001b[0m     \u001b[39mwith\u001b[39;00m close_on_error(store):\n",
      "File \u001b[0;32m~/anaconda3/envs/pypsa_github/lib/python3.11/site-packages/xarray/backends/netCDF4_.py:400\u001b[0m, in \u001b[0;36mNetCDF4DataStore.open\u001b[0;34m(cls, filename, mode, format, group, clobber, diskless, persist, lock, lock_maker, autoclose)\u001b[0m\n\u001b[1;32m    394\u001b[0m kwargs \u001b[39m=\u001b[39m \u001b[39mdict\u001b[39m(\n\u001b[1;32m    395\u001b[0m     clobber\u001b[39m=\u001b[39mclobber, diskless\u001b[39m=\u001b[39mdiskless, persist\u001b[39m=\u001b[39mpersist, \u001b[39mformat\u001b[39m\u001b[39m=\u001b[39m\u001b[39mformat\u001b[39m\n\u001b[1;32m    396\u001b[0m )\n\u001b[1;32m    397\u001b[0m manager \u001b[39m=\u001b[39m CachingFileManager(\n\u001b[1;32m    398\u001b[0m     netCDF4\u001b[39m.\u001b[39mDataset, filename, mode\u001b[39m=\u001b[39mmode, kwargs\u001b[39m=\u001b[39mkwargs\n\u001b[1;32m    399\u001b[0m )\n\u001b[0;32m--> 400\u001b[0m \u001b[39mreturn\u001b[39;00m \u001b[39mcls\u001b[39;49m(manager, group\u001b[39m=\u001b[39;49mgroup, mode\u001b[39m=\u001b[39;49mmode, lock\u001b[39m=\u001b[39;49mlock, autoclose\u001b[39m=\u001b[39;49mautoclose)\n",
      "File \u001b[0;32m~/anaconda3/envs/pypsa_github/lib/python3.11/site-packages/xarray/backends/netCDF4_.py:347\u001b[0m, in \u001b[0;36mNetCDF4DataStore.__init__\u001b[0;34m(self, manager, group, mode, lock, autoclose)\u001b[0m\n\u001b[1;32m    345\u001b[0m \u001b[39mself\u001b[39m\u001b[39m.\u001b[39m_group \u001b[39m=\u001b[39m group\n\u001b[1;32m    346\u001b[0m \u001b[39mself\u001b[39m\u001b[39m.\u001b[39m_mode \u001b[39m=\u001b[39m mode\n\u001b[0;32m--> 347\u001b[0m \u001b[39mself\u001b[39m\u001b[39m.\u001b[39mformat \u001b[39m=\u001b[39m \u001b[39mself\u001b[39;49m\u001b[39m.\u001b[39;49mds\u001b[39m.\u001b[39mdata_model\n\u001b[1;32m    348\u001b[0m \u001b[39mself\u001b[39m\u001b[39m.\u001b[39m_filename \u001b[39m=\u001b[39m \u001b[39mself\u001b[39m\u001b[39m.\u001b[39mds\u001b[39m.\u001b[39mfilepath()\n\u001b[1;32m    349\u001b[0m \u001b[39mself\u001b[39m\u001b[39m.\u001b[39mis_remote \u001b[39m=\u001b[39m is_remote_uri(\u001b[39mself\u001b[39m\u001b[39m.\u001b[39m_filename)\n",
      "File \u001b[0;32m~/anaconda3/envs/pypsa_github/lib/python3.11/site-packages/xarray/backends/netCDF4_.py:409\u001b[0m, in \u001b[0;36mNetCDF4DataStore.ds\u001b[0;34m(self)\u001b[0m\n\u001b[1;32m    407\u001b[0m \u001b[39m@property\u001b[39m\n\u001b[1;32m    408\u001b[0m \u001b[39mdef\u001b[39;00m \u001b[39mds\u001b[39m(\u001b[39mself\u001b[39m):\n\u001b[0;32m--> 409\u001b[0m     \u001b[39mreturn\u001b[39;00m \u001b[39mself\u001b[39;49m\u001b[39m.\u001b[39;49m_acquire()\n",
      "File \u001b[0;32m~/anaconda3/envs/pypsa_github/lib/python3.11/site-packages/xarray/backends/netCDF4_.py:403\u001b[0m, in \u001b[0;36mNetCDF4DataStore._acquire\u001b[0;34m(self, needs_lock)\u001b[0m\n\u001b[1;32m    402\u001b[0m \u001b[39mdef\u001b[39;00m \u001b[39m_acquire\u001b[39m(\u001b[39mself\u001b[39m, needs_lock\u001b[39m=\u001b[39m\u001b[39mTrue\u001b[39;00m):\n\u001b[0;32m--> 403\u001b[0m     \u001b[39mwith\u001b[39;49;00m \u001b[39mself\u001b[39;49m\u001b[39m.\u001b[39;49m_manager\u001b[39m.\u001b[39;49macquire_context(needs_lock) \u001b[39mas\u001b[39;49;00m root:\n\u001b[1;32m    404\u001b[0m         ds \u001b[39m=\u001b[39;49m _nc4_require_group(root, \u001b[39mself\u001b[39;49m\u001b[39m.\u001b[39;49m_group, \u001b[39mself\u001b[39;49m\u001b[39m.\u001b[39;49m_mode)\n\u001b[1;32m    405\u001b[0m     \u001b[39mreturn\u001b[39;00m ds\n",
      "File \u001b[0;32m~/anaconda3/envs/pypsa_github/lib/python3.11/contextlib.py:137\u001b[0m, in \u001b[0;36m_GeneratorContextManager.__enter__\u001b[0;34m(self)\u001b[0m\n\u001b[1;32m    135\u001b[0m \u001b[39mdel\u001b[39;00m \u001b[39mself\u001b[39m\u001b[39m.\u001b[39margs, \u001b[39mself\u001b[39m\u001b[39m.\u001b[39mkwds, \u001b[39mself\u001b[39m\u001b[39m.\u001b[39mfunc\n\u001b[1;32m    136\u001b[0m \u001b[39mtry\u001b[39;00m:\n\u001b[0;32m--> 137\u001b[0m     \u001b[39mreturn\u001b[39;00m \u001b[39mnext\u001b[39m(\u001b[39mself\u001b[39m\u001b[39m.\u001b[39mgen)\n\u001b[1;32m    138\u001b[0m \u001b[39mexcept\u001b[39;00m \u001b[39mStopIteration\u001b[39;00m:\n\u001b[1;32m    139\u001b[0m     \u001b[39mraise\u001b[39;00m \u001b[39mRuntimeError\u001b[39;00m(\u001b[39m\"\u001b[39m\u001b[39mgenerator didn\u001b[39m\u001b[39m'\u001b[39m\u001b[39mt yield\u001b[39m\u001b[39m\"\u001b[39m) \u001b[39mfrom\u001b[39;00m \u001b[39mNone\u001b[39;00m\n",
      "File \u001b[0;32m~/anaconda3/envs/pypsa_github/lib/python3.11/site-packages/xarray/backends/file_manager.py:199\u001b[0m, in \u001b[0;36mCachingFileManager.acquire_context\u001b[0;34m(self, needs_lock)\u001b[0m\n\u001b[1;32m    196\u001b[0m \u001b[39m@contextlib\u001b[39m\u001b[39m.\u001b[39mcontextmanager\n\u001b[1;32m    197\u001b[0m \u001b[39mdef\u001b[39;00m \u001b[39macquire_context\u001b[39m(\u001b[39mself\u001b[39m, needs_lock\u001b[39m=\u001b[39m\u001b[39mTrue\u001b[39;00m):\n\u001b[1;32m    198\u001b[0m \u001b[39m    \u001b[39m\u001b[39m\"\"\"Context manager for acquiring a file.\"\"\"\u001b[39;00m\n\u001b[0;32m--> 199\u001b[0m     file, cached \u001b[39m=\u001b[39m \u001b[39mself\u001b[39;49m\u001b[39m.\u001b[39;49m_acquire_with_cache_info(needs_lock)\n\u001b[1;32m    200\u001b[0m     \u001b[39mtry\u001b[39;00m:\n\u001b[1;32m    201\u001b[0m         \u001b[39myield\u001b[39;00m file\n",
      "File \u001b[0;32m~/anaconda3/envs/pypsa_github/lib/python3.11/site-packages/xarray/backends/file_manager.py:217\u001b[0m, in \u001b[0;36mCachingFileManager._acquire_with_cache_info\u001b[0;34m(self, needs_lock)\u001b[0m\n\u001b[1;32m    215\u001b[0m     kwargs \u001b[39m=\u001b[39m kwargs\u001b[39m.\u001b[39mcopy()\n\u001b[1;32m    216\u001b[0m     kwargs[\u001b[39m\"\u001b[39m\u001b[39mmode\u001b[39m\u001b[39m\"\u001b[39m] \u001b[39m=\u001b[39m \u001b[39mself\u001b[39m\u001b[39m.\u001b[39m_mode\n\u001b[0;32m--> 217\u001b[0m file \u001b[39m=\u001b[39m \u001b[39mself\u001b[39;49m\u001b[39m.\u001b[39;49m_opener(\u001b[39m*\u001b[39;49m\u001b[39mself\u001b[39;49m\u001b[39m.\u001b[39;49m_args, \u001b[39m*\u001b[39;49m\u001b[39m*\u001b[39;49mkwargs)\n\u001b[1;32m    218\u001b[0m \u001b[39mif\u001b[39;00m \u001b[39mself\u001b[39m\u001b[39m.\u001b[39m_mode \u001b[39m==\u001b[39m \u001b[39m\"\u001b[39m\u001b[39mw\u001b[39m\u001b[39m\"\u001b[39m:\n\u001b[1;32m    219\u001b[0m     \u001b[39m# ensure file doesn't get overridden when opened again\u001b[39;00m\n\u001b[1;32m    220\u001b[0m     \u001b[39mself\u001b[39m\u001b[39m.\u001b[39m_mode \u001b[39m=\u001b[39m \u001b[39m\"\u001b[39m\u001b[39ma\u001b[39m\u001b[39m\"\u001b[39m\n",
      "File \u001b[0;32msrc/netCDF4/_netCDF4.pyx:2464\u001b[0m, in \u001b[0;36mnetCDF4._netCDF4.Dataset.__init__\u001b[0;34m()\u001b[0m\n",
      "File \u001b[0;32msrc/netCDF4/_netCDF4.pyx:2027\u001b[0m, in \u001b[0;36mnetCDF4._netCDF4._ensure_nc_success\u001b[0;34m()\u001b[0m\n",
      "\u001b[0;31mFileNotFoundError\u001b[0m: [Errno 2] No such file or directory: '/mnt/wsl/PHYSICALDRIVE1p2/Shared Github/pypsa-za2/networks/grid-2030-2040_11-supply.nc'"
     ]
    }
   ],
   "source": [
    "#n0 = pypsa.Network('../networks/elec_grid-2040_30-supply_redz.nc')\n",
    "n0 = pypsa.Network('../networks/grid-2030-2040_11-supply.nc')"
   ]
  },
  {
   "cell_type": "code",
   "execution_count": null,
   "metadata": {},
   "outputs": [],
   "source": [
    "n0.optimize.create_model()\n",
    "set_operational_limits(n0, model_file, model_setup)"
   ]
  },
  {
   "cell_type": "code",
   "execution_count": null,
   "metadata": {},
   "outputs": [
    {
     "name": "stderr",
     "output_type": "stream",
     "text": [
      "INFO:linopy.model: Solve problem using Xpress solver\n",
      "INFO:linopy.model:Solver options:\n",
      " - lpflags: 4\n",
      " - crossover: 0\n",
      "INFO:linopy.io:Writing objective.\n",
      "Writing constraints.: 100%|\u001b[38;2;128;191;255m██████████\u001b[0m| 49/49 [00:21<00:00,  2.33it/s]\n",
      "Writing continuous variables.: 100%|\u001b[38;2;128;191;255m██████████\u001b[0m| 9/9 [00:02<00:00,  3.29it/s]\n",
      "INFO:linopy.io: Writing time: 25.06s\n"
     ]
    },
    {
     "name": "stdout",
     "output_type": "stream",
     "text": [
      "Using the Community license in this session. If you have a full Xpress license, pass the full path to your license file to xpress.init(). If you want to use the FICO Community license and no longer want to see this message, use the following code before using the xpress module:\n",
      "  xpress.init('/home/pklein/anaconda3/envs/pypsa_github/lib/python3.11/site-packages/xpress/license/community-xpauth.xpr')\n",
      " \n",
      "Reading Problem linopy-problem-xtn7grro\n",
      "Problem Statistics\n",
      "    10740190 (      0 spare) rows\n",
      "     4296206 (      0 spare) structural columns\n",
      "    20071501 (      0 spare) non-zero elements\n",
      "MIP Entity Statistics\n",
      "           0 entities        0 sets        0 set members\n",
      "FICO Xpress v9.1.3, Hyper, solve started 11:12:25, Nov 9, 2023\n",
      "Heap usage: 3097MB (peak 4965MB, 131MB system)\n",
      "Minimizing LP linopy-problem-xtn7grro using up to 20 threads and up to 117GB memory, with these control settings:\n",
      "OUTPUTLOG = 1\n",
      "CROSSOVER = 0\n",
      "LPFLAGS = 4\n",
      "Original problem has:\n",
      "  10740190 rows      4296206 cols     20071501 elements\n",
      " \n",
      " \n",
      "The problem is infeasible due to row c11722723\n",
      "Presolve finished in 2 seconds\n",
      "Heap usage: 3097MB (peak 4965MB, 131MB system)\n"
     ]
    },
    {
     "name": "stderr",
     "output_type": "stream",
     "text": [
      "WARNING:linopy.constants:Optimization failed: \n",
      "Status: warning\n",
      "Termination condition: infeasible\n",
      "Solution: 0 primals, 0 duals\n",
      "Objective: nan\n",
      "Solver model: available\n",
      "Solver message: lp_infeas\n",
      "\n"
     ]
    },
    {
     "data": {
      "text/plain": [
       "('warning', 'infeasible')"
      ]
     },
     "execution_count": 5,
     "metadata": {},
     "output_type": "execute_result"
    }
   ],
   "source": [
    "#n0.optimize.create_model(multi_investment_periods=True)\n",
    "n0.model.constraints.remove(\"Kirchhoff-Voltage-Law\")\n",
    "n0.optimize.solve_model(solver_name='xpress', solver_options = {\"lpflags\":4, \"crossover\":0})"
   ]
  },
  {
   "cell_type": "code",
   "execution_count": null,
   "metadata": {},
   "outputs": [
    {
     "data": {
      "text/plain": [
       "Constraint `min-ocgt_gas-month-2025`\n",
       "------------------------------------\n",
       "+2 Generator-p[(2025, Timestamp('2025-01-01 00:00:00')), Gauteng-ocgt_gas_Sasol] + 4 Generator-p[(2025, Timestamp('2025-01-01 02:00:00')), Gauteng-ocgt_gas_Sasol] + 2 Generator-p[(2025, Timestamp('2025-01-01 06:00:00')), Gauteng-ocgt_gas_Sasol] ... +2 Generator-p[(2025, Timestamp('2025-01-31 16:00:00')), Western Cape-ocgt_gas_eskom] + 4 Generator-p[(2025, Timestamp('2025-01-31 18:00:00')), Western Cape-ocgt_gas_eskom] + 2 Generator-p[(2025, Timestamp('2025-01-31 22:00:00')), Western Cape-ocgt_gas_eskom] ≥ 285324.0"
      ]
     },
     "execution_count": 10,
     "metadata": {},
     "output_type": "execute_result"
    }
   ],
   "source": [
    "n0.model.constraints[\"min-ocgt_gas-month-2025\"].sel(month=1)"
   ]
  },
  {
   "cell_type": "code",
   "execution_count": null,
   "metadata": {},
   "outputs": [
    {
     "data": {
      "text/plain": [
       "('Generator-p',\n",
       " {'snapshot': (2025, Timestamp('2025-02-01 00:00:00')),\n",
       "  'Generator': 'Gauteng-ocgt_gas_Sasol'})"
      ]
     },
     "execution_count": 10,
     "metadata": {},
     "output_type": "execute_result"
    }
   ],
   "source": [
    "n0.model.variables.get_label_position(57528)"
   ]
  },
  {
   "cell_type": "code",
   "execution_count": null,
   "metadata": {},
   "outputs": [
    {
     "data": {
      "text/plain": [
       "carrier\n",
       "biomass         0.0\n",
       "ccgt_gas        0.0\n",
       "coal            0.0\n",
       "hydro           0.0\n",
       "hydro_import    0.0\n",
       "nuclear         0.0\n",
       "ocgt_diesel     0.0\n",
       "ocgt_gas        0.0\n",
       "solar_csp       0.0\n",
       "solar_pv        0.0\n",
       "wind            0.0\n",
       "Name: p_nom_opt, dtype: float64"
      ]
     },
     "execution_count": 6,
     "metadata": {},
     "output_type": "execute_result"
    }
   ],
   "source": [
    "n0.generators.p_nom_opt.groupby(n0.generators.carrier).sum()"
   ]
  },
  {
   "cell_type": "code",
   "execution_count": null,
   "metadata": {},
   "outputs": [
    {
     "data": {
      "text/plain": [
       "StorageUnit\n",
       "Drakensberg               0.0\n",
       "Ingula                    0.0\n",
       "Palmiet                   0.0\n",
       "Steenbras                 0.0\n",
       "Western Cape-phs-2035     0.0\n",
       "Western Cape-phs-2040     0.0\n",
       "Gauteng-phs-2035          0.0\n",
       "Gauteng-phs-2040          0.0\n",
       "KwaZulu Natal-phs-2035    0.0\n",
       "KwaZulu Natal-phs-2040    0.0\n",
       "Name: p_nom_opt, dtype: float64"
      ]
     },
     "execution_count": 7,
     "metadata": {},
     "output_type": "execute_result"
    }
   ],
   "source": [
    "n0.storage_units.query(\"carrier == 'phs'\").p_nom_opt"
   ]
  },
  {
   "cell_type": "code",
   "execution_count": null,
   "metadata": {},
   "outputs": [
    {
     "ename": "KeyError",
     "evalue": "\"None of [Index(['Eastern Cape-wind_BW1', 'Hydra Cluster-wind_BW1',\\n       'Northern Cape-wind_BW1', 'Western Cape-wind_BW1',\\n       'Eastern Cape-wind_BW2', 'Hydra Cluster-wind_BW2',\\n       'Western Cape-wind_BW2', 'Eastern Cape-wind_BW3',\\n       'Northern Cape-wind_BW3', 'Western Cape-wind_BW3',\\n       'Eastern Cape-wind_BW4', 'Hydra Cluster-wind_BW4',\\n       'KwaZulu Natal-wind_BW4', 'Northern Cape-wind_BW4',\\n       'Western Cape-wind_BW4', 'Eastern Cape-wind_BW5',\\n       'Hydra Cluster-wind_BW5', 'Western Cape-wind_BW5',\\n       'Eastern Cape-wind_BW6', 'Hydra Cluster-wind_BW6',\\n       'Western Cape-wind_BW6', 'Western Cape-wind-2025',\\n       'Western Cape-wind-2030', 'Western Cape-wind-2035',\\n       'Western Cape-wind-2040', 'Northern Cape-wind-2025',\\n       'Northern Cape-wind-2030', 'Northern Cape-wind-2035',\\n       'Northern Cape-wind-2040', 'Eastern Cape-wind-2025',\\n       'Eastern Cape-wind-2030', 'Eastern Cape-wind-2035',\\n       'Eastern Cape-wind-2040', 'Hydra Cluster-wind-2025',\\n       'Hydra Cluster-wind-2030', 'Hydra Cluster-wind-2035',\\n       'Hydra Cluster-wind-2040', 'Free State-wind-2025',\\n       'Free State-wind-2030', 'Free State-wind-2035', 'Free State-wind-2040',\\n       'Gauteng-wind-2025', 'Gauteng-wind-2030', 'Gauteng-wind-2035',\\n       'Gauteng-wind-2040', 'KwaZulu Natal-wind-2025',\\n       'KwaZulu Natal-wind-2030', 'KwaZulu Natal-wind-2035',\\n       'KwaZulu Natal-wind-2040', 'Pelly-wind-2025', 'Pelly-wind-2030',\\n       'Pelly-wind-2035', 'Pelly-wind-2040', 'Limpopo-wind-2025',\\n       'Limpopo-wind-2030', 'Limpopo-wind-2035', 'Limpopo-wind-2040'],\\n      dtype='object', name='Generator')] are in the [columns]\"",
     "output_type": "error",
     "traceback": [
      "\u001b[0;31m---------------------------------------------------------------------------\u001b[0m",
      "\u001b[0;31mKeyError\u001b[0m                                  Traceback (most recent call last)",
      "\u001b[1;32m/mnt/wsl/PHYSICALDRIVE1p2/Shared Github/pypsa-za2/scripts/add_elec_test.ipynb Cell 8\u001b[0m line \u001b[0;36m1\n\u001b[0;32m----> <a href='vscode-notebook-cell://wsl%2Bubuntu-20.04/mnt/wsl/PHYSICALDRIVE1p2/Shared%20Github/pypsa-za2/scripts/add_elec_test.ipynb#X32sdnNjb2RlLXJlbW90ZQ%3D%3D?line=0'>1</a>\u001b[0m n0\u001b[39m.\u001b[39;49mgenerators_t\u001b[39m.\u001b[39;49mp[n0\u001b[39m.\u001b[39;49mgenerators[n0\u001b[39m.\u001b[39;49mgenerators\u001b[39m.\u001b[39;49mcarrier\u001b[39m==\u001b[39;49m\u001b[39m\"\u001b[39;49m\u001b[39mwind\u001b[39;49m\u001b[39m\"\u001b[39;49m]\u001b[39m.\u001b[39;49mindex]\u001b[39m.\u001b[39msum()\u001b[39m/\u001b[39m\u001b[39m1e6\u001b[39m\n",
      "File \u001b[0;32m~/anaconda3/envs/pypsa_github/lib/python3.11/site-packages/pandas/core/frame.py:3902\u001b[0m, in \u001b[0;36mDataFrame.__getitem__\u001b[0;34m(self, key)\u001b[0m\n\u001b[1;32m   3900\u001b[0m     \u001b[39mif\u001b[39;00m is_iterator(key):\n\u001b[1;32m   3901\u001b[0m         key \u001b[39m=\u001b[39m \u001b[39mlist\u001b[39m(key)\n\u001b[0;32m-> 3902\u001b[0m     indexer \u001b[39m=\u001b[39m \u001b[39mself\u001b[39;49m\u001b[39m.\u001b[39;49mcolumns\u001b[39m.\u001b[39;49m_get_indexer_strict(key, \u001b[39m\"\u001b[39;49m\u001b[39mcolumns\u001b[39;49m\u001b[39m\"\u001b[39;49m)[\u001b[39m1\u001b[39m]\n\u001b[1;32m   3904\u001b[0m \u001b[39m# take() does not accept boolean indexers\u001b[39;00m\n\u001b[1;32m   3905\u001b[0m \u001b[39mif\u001b[39;00m \u001b[39mgetattr\u001b[39m(indexer, \u001b[39m\"\u001b[39m\u001b[39mdtype\u001b[39m\u001b[39m\"\u001b[39m, \u001b[39mNone\u001b[39;00m) \u001b[39m==\u001b[39m \u001b[39mbool\u001b[39m:\n",
      "File \u001b[0;32m~/anaconda3/envs/pypsa_github/lib/python3.11/site-packages/pandas/core/indexes/base.py:6114\u001b[0m, in \u001b[0;36mIndex._get_indexer_strict\u001b[0;34m(self, key, axis_name)\u001b[0m\n\u001b[1;32m   6111\u001b[0m \u001b[39melse\u001b[39;00m:\n\u001b[1;32m   6112\u001b[0m     keyarr, indexer, new_indexer \u001b[39m=\u001b[39m \u001b[39mself\u001b[39m\u001b[39m.\u001b[39m_reindex_non_unique(keyarr)\n\u001b[0;32m-> 6114\u001b[0m \u001b[39mself\u001b[39;49m\u001b[39m.\u001b[39;49m_raise_if_missing(keyarr, indexer, axis_name)\n\u001b[1;32m   6116\u001b[0m keyarr \u001b[39m=\u001b[39m \u001b[39mself\u001b[39m\u001b[39m.\u001b[39mtake(indexer)\n\u001b[1;32m   6117\u001b[0m \u001b[39mif\u001b[39;00m \u001b[39misinstance\u001b[39m(key, Index):\n\u001b[1;32m   6118\u001b[0m     \u001b[39m# GH 42790 - Preserve name from an Index\u001b[39;00m\n",
      "File \u001b[0;32m~/anaconda3/envs/pypsa_github/lib/python3.11/site-packages/pandas/core/indexes/base.py:6175\u001b[0m, in \u001b[0;36mIndex._raise_if_missing\u001b[0;34m(self, key, indexer, axis_name)\u001b[0m\n\u001b[1;32m   6173\u001b[0m     \u001b[39mif\u001b[39;00m use_interval_msg:\n\u001b[1;32m   6174\u001b[0m         key \u001b[39m=\u001b[39m \u001b[39mlist\u001b[39m(key)\n\u001b[0;32m-> 6175\u001b[0m     \u001b[39mraise\u001b[39;00m \u001b[39mKeyError\u001b[39;00m(\u001b[39mf\u001b[39m\u001b[39m\"\u001b[39m\u001b[39mNone of [\u001b[39m\u001b[39m{\u001b[39;00mkey\u001b[39m}\u001b[39;00m\u001b[39m] are in the [\u001b[39m\u001b[39m{\u001b[39;00maxis_name\u001b[39m}\u001b[39;00m\u001b[39m]\u001b[39m\u001b[39m\"\u001b[39m)\n\u001b[1;32m   6177\u001b[0m not_found \u001b[39m=\u001b[39m \u001b[39mlist\u001b[39m(ensure_index(key)[missing_mask\u001b[39m.\u001b[39mnonzero()[\u001b[39m0\u001b[39m]]\u001b[39m.\u001b[39munique())\n\u001b[1;32m   6178\u001b[0m \u001b[39mraise\u001b[39;00m \u001b[39mKeyError\u001b[39;00m(\u001b[39mf\u001b[39m\u001b[39m\"\u001b[39m\u001b[39m{\u001b[39;00mnot_found\u001b[39m}\u001b[39;00m\u001b[39m not in index\u001b[39m\u001b[39m\"\u001b[39m)\n",
      "\u001b[0;31mKeyError\u001b[0m: \"None of [Index(['Eastern Cape-wind_BW1', 'Hydra Cluster-wind_BW1',\\n       'Northern Cape-wind_BW1', 'Western Cape-wind_BW1',\\n       'Eastern Cape-wind_BW2', 'Hydra Cluster-wind_BW2',\\n       'Western Cape-wind_BW2', 'Eastern Cape-wind_BW3',\\n       'Northern Cape-wind_BW3', 'Western Cape-wind_BW3',\\n       'Eastern Cape-wind_BW4', 'Hydra Cluster-wind_BW4',\\n       'KwaZulu Natal-wind_BW4', 'Northern Cape-wind_BW4',\\n       'Western Cape-wind_BW4', 'Eastern Cape-wind_BW5',\\n       'Hydra Cluster-wind_BW5', 'Western Cape-wind_BW5',\\n       'Eastern Cape-wind_BW6', 'Hydra Cluster-wind_BW6',\\n       'Western Cape-wind_BW6', 'Western Cape-wind-2025',\\n       'Western Cape-wind-2030', 'Western Cape-wind-2035',\\n       'Western Cape-wind-2040', 'Northern Cape-wind-2025',\\n       'Northern Cape-wind-2030', 'Northern Cape-wind-2035',\\n       'Northern Cape-wind-2040', 'Eastern Cape-wind-2025',\\n       'Eastern Cape-wind-2030', 'Eastern Cape-wind-2035',\\n       'Eastern Cape-wind-2040', 'Hydra Cluster-wind-2025',\\n       'Hydra Cluster-wind-2030', 'Hydra Cluster-wind-2035',\\n       'Hydra Cluster-wind-2040', 'Free State-wind-2025',\\n       'Free State-wind-2030', 'Free State-wind-2035', 'Free State-wind-2040',\\n       'Gauteng-wind-2025', 'Gauteng-wind-2030', 'Gauteng-wind-2035',\\n       'Gauteng-wind-2040', 'KwaZulu Natal-wind-2025',\\n       'KwaZulu Natal-wind-2030', 'KwaZulu Natal-wind-2035',\\n       'KwaZulu Natal-wind-2040', 'Pelly-wind-2025', 'Pelly-wind-2030',\\n       'Pelly-wind-2035', 'Pelly-wind-2040', 'Limpopo-wind-2025',\\n       'Limpopo-wind-2030', 'Limpopo-wind-2035', 'Limpopo-wind-2040'],\\n      dtype='object', name='Generator')] are in the [columns]\""
     ]
    }
   ],
   "source": [
    "n0.generators_t.p[n0.generators[n0.generators.carrier==\"wind\"].index].sum()/1e6"
   ]
  },
  {
   "cell_type": "code",
   "execution_count": null,
   "metadata": {},
   "outputs": [],
   "source": [
    "n0.generators_t.p[n0.generators[n0.generators.carrier==\"coal\"].index].sum().sum()/1e6"
   ]
  },
  {
   "cell_type": "code",
   "execution_count": null,
   "metadata": {},
   "outputs": [],
   "source": [
    "n0.generators_t.p[n0.generators[n0.generators.carrier==\"solar_pv\"].index].sum().sum()/1e6"
   ]
  },
  {
   "cell_type": "code",
   "execution_count": null,
   "metadata": {},
   "outputs": [],
   "source": [
    "n0.loads_t.p_set.sum().sum()/1e6"
   ]
  },
  {
   "cell_type": "code",
   "execution_count": null,
   "metadata": {},
   "outputs": [],
   "source": [
    "n0.storage_units.query(\"carrier=='phs'\")"
   ]
  },
  {
   "cell_type": "code",
   "execution_count": null,
   "metadata": {},
   "outputs": [],
   "source": [
    "n0.statistics()"
   ]
  },
  {
   "cell_type": "code",
   "execution_count": null,
   "metadata": {},
   "outputs": [],
   "source": [
    "n0.loads_t.p_set.sum(axis=1).plot()"
   ]
  },
  {
   "cell_type": "code",
   "execution_count": null,
   "metadata": {},
   "outputs": [],
   "source": [
    "n0.generators_t.p_max_pu.mean()"
   ]
  },
  {
   "cell_type": "code",
   "execution_count": null,
   "metadata": {},
   "outputs": [],
   "source": [
    "n0.generators.query(\"p_nom_extendable == False\")"
   ]
  },
  {
   "cell_type": "code",
   "execution_count": null,
   "metadata": {},
   "outputs": [],
   "source": [
    "n0.generators_t.p.mean()"
   ]
  },
  {
   "cell_type": "code",
   "execution_count": null,
   "metadata": {},
   "outputs": [],
   "source": [
    "#n0.buses.loc[\"Northern Cape\", \"nom_max_wind\"] = 2000\n",
    "n0.buses.loc[\"Hydra Cluster\", \"nom_max_solar_pv\"] = 1000\n",
    "n0.buses.loc[\"Gauteng\", \"nom_min_nuclear\"] = 2200"
   ]
  },
  {
   "cell_type": "code",
   "execution_count": null,
   "metadata": {},
   "outputs": [],
   "source": [
    "#n0.export_to_netcdf('../networks/solved_elec_grid-expansion_11-supply_redz.nc')"
   ]
  },
  {
   "cell_type": "code",
   "execution_count": null,
   "metadata": {},
   "outputs": [],
   "source": [
    "model_setup = \"base\"\n",
    "model_file = pd.ExcelFile('../data/model_file.xlsx')\n",
    "\n",
    "ext_max_build = (\n",
    "    pd.read_excel(\n",
    "        model_file, \n",
    "        sheet_name='extendable_max_build',\n",
    "        index_col=[0,1,2,3])\n",
    ").loc[model_setup]\n",
    "ext_max_build.replace(\"unc\", np.inf, inplace=True)\n",
    "\n",
    "# global max build\n",
    "\n",
    "\n",
    "# bus-carrier max_build\n",
    "\n",
    "\n",
    "\n",
    "\n",
    "\n",
    "\n",
    "\n",
    "\n",
    "ext_min_build = (\n",
    "    pd.read_excel(\n",
    "        model_file, \n",
    "        sheet_name='extendable_min_build',\n",
    "        index_col=[0,1,2])\n",
    ").loc[model_setup]\n",
    "ext_min_build.replace(0, np.nan, inplace=True)\n",
    "\n",
    "# build_constraints = (pd.read_excel('../data/model_file.xlsx', \n",
    "#                             sheet_name='new_build_limits',\n",
    "#                             index_col=[0,1,2])).loc[model_setup['new_build_limits']]\n",
    "\n",
    "# max_build = build_constraints.loc['max_installed_limit'].fillna(100000)\n",
    "# min_build = build_constraints.loc['min_installed_limit']\n",
    "         \n"
   ]
  },
  {
   "cell_type": "code",
   "execution_count": null,
   "metadata": {},
   "outputs": [],
   "source": []
  },
  {
   "cell_type": "code",
   "execution_count": null,
   "metadata": {},
   "outputs": [],
   "source": [
    "ext_max_build.loc[(\"11-supply\",\"Western Cape\")]"
   ]
  },
  {
   "cell_type": "code",
   "execution_count": null,
   "metadata": {},
   "outputs": [],
   "source": [
    "n0.generators.p_nom_opt.groupby(n0.generators.carrier).sum()"
   ]
  },
  {
   "cell_type": "code",
   "execution_count": null,
   "metadata": {},
   "outputs": [],
   "source": [
    "n0.storage_units.p_nom_opt.groupby(n0.storage_units.carrier).sum()"
   ]
  },
  {
   "cell_type": "code",
   "execution_count": null,
   "metadata": {},
   "outputs": [],
   "source": [
    "n0.statistics()"
   ]
  }
 ],
 "metadata": {
  "kernelspec": {
   "display_name": "pypsa-za2",
   "language": "python",
   "name": "python3"
  },
  "language_info": {
   "codemirror_mode": {
    "name": "ipython",
    "version": 3
   },
   "file_extension": ".py",
   "mimetype": "text/x-python",
   "name": "python",
   "nbconvert_exporter": "python",
   "pygments_lexer": "ipython3",
   "version": "3.11.5"
  }
 },
 "nbformat": 4,
 "nbformat_minor": 2
}

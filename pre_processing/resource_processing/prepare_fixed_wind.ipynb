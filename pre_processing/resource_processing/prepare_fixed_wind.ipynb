{
 "cells": [
  {
   "cell_type": "markdown",
   "metadata": {},
   "source": [
    "# Overview\n",
    "This notebook compares the predicted wind generation profiles at each existing REIPPPP site.\n",
    "The aggregated fleet production is then validated against actual Eskom data"
   ]
  },
  {
   "cell_type": "code",
   "execution_count": 2,
   "metadata": {},
   "outputs": [],
   "source": [
    "import atlite\n",
    "import xarray as xr\n",
    "import pandas as pd\n",
    "import numpy as np\n",
    "import os\n",
    "import matplotlib.pyplot as plt\n",
    "from geopy.distance import great_circle\n",
    "from shapely.geometry import Point\n",
    "import rioxarray\n",
    "import rasterio\n",
    "\n",
    "import warnings\n",
    "warnings.filterwarnings('ignore')\n",
    "\n",
    "from _helpers import(\n",
    "    load_turbine_power_curves,\n",
    "    generate_wind_timeseries,\n",
    "    find_closest_wasa_file,\n",
    "    load_gis_data,\n",
    ")\n",
    "\n",
    "import geopandas as gpd"
   ]
  },
  {
   "cell_type": "code",
   "execution_count": 3,
   "metadata": {},
   "outputs": [],
   "source": [
    "# apply Global Wind Atlas correction\n",
    "apply_ws_correction = True"
   ]
  },
  {
   "cell_type": "markdown",
   "metadata": {},
   "source": [
    "# Load input data"
   ]
  },
  {
   "cell_type": "code",
   "execution_count": 4,
   "metadata": {},
   "outputs": [],
   "source": [
    "turbine_class, turbine_power_curves = load_turbine_power_curves('../../data/turbine_power_curves.csv')\n",
    "\n",
    "# load REIPPPP plant data\n",
    "reippp_data = pd.read_csv('reipppp_wind_data.csv', index_col=0)\n",
    "reippp_data[\"ignore\"] = reippp_data[\"COD\"].isna()\n",
    "reippp_data[\"COD\"] = pd.to_datetime(reippp_data[\"COD\"])\n",
    "\n",
    "#load Eskom data portal data\n",
    "eskom_data = pd.read_csv('../../data/eskom_data.csv', index_col=0, parse_dates=True)"
   ]
  },
  {
   "cell_type": "code",
   "execution_count": 5,
   "metadata": {},
   "outputs": [
    {
     "name": "stdout",
     "output_type": "stream",
     "text": [
      "Loading Eskom Supply Regions from ../../data/bundle/rsa_supply_regions.gpkg\n",
      "Loading EIA applications from ../../data/bundle/REEA_OR_2023_Q3.shp\n",
      "Loading REDZs from ../../data/bundle/REDZs.shp\n",
      "Loading Power Corridors from ../../data/bundle/Power_corridors.shp\n",
      "Loading SACAD from ../../data/bundle/SACAD_OR_2023_Q3.shp\n",
      "Loading SAPAD from ../../data/bundle/SAPAD_OR_2023_Q3.shp\n",
      "Loading SKA exclusion from ../../data/bundle/SKA/SKA_exclusion.shp\n"
     ]
    }
   ],
   "source": [
    "data_bundle_path = \"../../data/bundle\"\n",
    "gis_data = load_gis_data(data_bundle_path)"
   ]
  },
  {
   "cell_type": "markdown",
   "metadata": {},
   "source": [
    "# atlite ERA5"
   ]
  },
  {
   "cell_type": "code",
   "execution_count": 6,
   "metadata": {},
   "outputs": [],
   "source": [
    "# load cutouts - already downloaded\n",
    "cutout_era5 = atlite.Cutout(\n",
    "    path=\"../../cutouts/RSA-2010_22-era5.nc\",\n",
    "    chunks={\"time\": 1000},\n",
    ")\n",
    "\n",
    "cutout_era5.data = cutout_era5.data.sel(time=slice(\"2017\",\"2022\"))\n",
    "cutout_era5.data = cutout_era5.data.sel(time=~((cutout_era5.data.time.dt.month == 2) & (cutout_era5.data.time.dt.day == 29)))"
   ]
  },
  {
   "cell_type": "code",
   "execution_count": 7,
   "metadata": {},
   "outputs": [
    {
     "data": {
      "image/png": "[encoded data removed]",
      "text/plain": [
       "<Figure size 640x480 with 2 Axes>"
      ]
     },
     "metadata": {},
     "output_type": "display_data"
    }
   ],
   "source": [
    "if apply_ws_correction:\n",
    "    gwa_data = rioxarray.open_rasterio(\"../../data/bundle/ZAF_wind-speed_100m.tif\")\n",
    "    ds=gwa_data.sel(band=1, x=slice(*cutout_era5.extent[[0,1]]), y=slice(*cutout_era5.extent[[3,2]]))\n",
    "    ds=ds.where(ds!=-999)\n",
    "    ds=atlite.gis.regrid(ds,cutout_era5.data.x, cutout_era5.data.y,resampling=rasterio.warp.Resampling.average)\n",
    "\n",
    "    bias_correction = ds/cutout_era5.data.wnd100m.mean(\"time\") \n",
    "    bias_correction=bias_correction.fillna(1)\n",
    "    fig, ax = plt.subplots()\n",
    "    bias_correction.plot(ax=ax)\n",
    "    ax.set_xlim(16,34)\n",
    "    ax.set_ylim(-35,-22)\n",
    "\n",
    "    cutout_era5.data.wnd100m.values=(bias_correction*cutout_era5.data.wnd100m).transpose('time', 'y', 'x').values"
   ]
  },
  {
   "cell_type": "code",
   "execution_count": 8,
   "metadata": {},
   "outputs": [],
   "source": [
    "for hub_height in range(60, 121, 5):\n",
    "    cutout_era5.data[f\"wnd{hub_height}m\"] = atlite.wind.extrapolate_wind_speed(cutout_era5.data, hub_height, from_height=100)"
   ]
  },
  {
   "cell_type": "code",
   "execution_count": 9,
   "metadata": {},
   "outputs": [],
   "source": [
    "era5_power = pd.DataFrame(0, index = cutout_era5.coords[\"time\"].values, columns = reippp_data.index)\n",
    "era5_pu = era5_power.copy()\n",
    "\n",
    "for plant, row in reippp_data.iterrows():\n",
    "    \n",
    "    # search cutout.grid fo the closest cell to the plant\n",
    "    point = Point(row[\"longitude\"], row[\"latitude\"])\n",
    "    nearest_point = cutout_era5.grid.geometry.distance(point).idxmin()\n",
    "    cell_name = cutout_era5.grid.loc[nearest_point].name\n",
    "    close_hub_height = min(range(60, 121, 5), key=lambda x:abs(x-row[\"hub_height\"]))\n",
    "    \n",
    "    avg_hub_wind_speed = cutout_era5.data[f\"wnd{close_hub_height}m\"].sel(y=row[\"latitude\"], x=row[\"longitude\"], method=\"nearest\").mean(\"time\").values\n",
    "    turb_class=3\n",
    "    if avg_hub_wind_speed>8.5:\n",
    "        turb_class=1\n",
    "    elif (avg_hub_wind_speed<7.5) & (avg_hub_wind_speed>6.5):\n",
    "        turb_class=2\n",
    "\n",
    "    turbine = turbine_class[turb_class]\n",
    "    turbine[\"hub_height\"] = hub_height\n",
    "\n",
    "    era5_pu[plant] = pd.Series(\n",
    "        cutout_era5.wind(\n",
    "            turbine=turbine, \n",
    "            shapes=cutout_era5.grid.iloc[cell_name:cell_name+1], \n",
    "            smooth=False, \n",
    "            add_cutout_windspeed=True, \n",
    "            per_unit=True\n",
    "        ).values[:,0],\n",
    "        index = cutout_era5.coords[\"time\"].values, \n",
    "    )\n",
    "\n",
    "    instl_cap = pd.Series(row[\"capacity\"], index = era5_pu.index)\n",
    "    instl_cap[instl_cap.index < row[\"COD\"]] = 0\n",
    "    capacity= instl_cap\n",
    "    if row[\"ignore\"]:\n",
    "        capacity = 0\n",
    "    era5_power[plant] = era5_pu[plant] * capacity"
   ]
  },
  {
   "cell_type": "markdown",
   "metadata": {},
   "source": [
    "# WASA"
   ]
  },
  {
   "cell_type": "markdown",
   "metadata": {},
   "source": [
    "WASA\n",
    "This code assumes that data points for each reippp site have been downloaded from the available WASA timeseries dataset"
   ]
  },
  {
   "cell_type": "code",
   "execution_count": 10,
   "metadata": {},
   "outputs": [],
   "source": [
    "def wind_power_calc(data, power_curve, turbine_class):\n",
    "    return np.interp(data, power_curve.index, power_curve[f\"Class {turbine_class}\"].values)\n",
    "\n",
    "wasa_files = []\n",
    "for root, dirs, files in os.walk(\"../../data/weather/WASA weather files\"):\n",
    "    wasa_files.extend(file for file in files if file.endswith(\".csv\") and file.startswith(\"lat\"))"
   ]
  },
  {
   "cell_type": "code",
   "execution_count": 11,
   "metadata": {},
   "outputs": [],
   "source": [
    "date_range = cutout_era5.coords[\"time\"].values\n",
    "wasa_power=pd.DataFrame(0,index=date_range, columns=reippp_data.index)\n",
    "wasa_pu = wasa_power.copy()\n",
    "for plant, row in reippp_data.iterrows():\n",
    "        filename = find_closest_wasa_file((row[\"latitude\"],row[\"longitude\"]), wasa_files)\n",
    "        wind_data = pd.read_csv(f\"../../data/weather/WASA weather files/{filename}\",index_col=0,skiprows=8,parse_dates=True).resample('H').mean()\n",
    "        idx = wind_data.index.intersection(date_range)\n",
    "        wind_data = wind_data.loc[idx]\n",
    "\n",
    "        try:\n",
    "            hub_height = row['hub_height']\n",
    "        except:\n",
    "            hub_height=100\n",
    "\n",
    "        if int(hub_height) not in [60,100,120,160]:\n",
    "            wind_speed = pd.concat([wind_data[['S60','S100','S120','S160']].interpolate(), pd.Series(index=wind_data.index,name='hub_height')],axis=1)\n",
    "            wind_speed = wind_speed.rename(columns={'S60':60,'S100':100,'S120':120,'S160':160,'hub_height':hub_height})\n",
    "            wind_speed.sort_index(axis=1,inplace=True)\n",
    "            hub_wind_speed = wind_speed.interpolate(\"pchip\", axis=1)[hub_height]\n",
    "        else:\n",
    "            hub_wind_speed = wind_data[f\"S{int(hub_height)}\"]\n",
    "        \n",
    "        avg_hub_wind_speed = hub_wind_speed.mean()\n",
    "        \n",
    "        turb_class=3\n",
    "        if avg_hub_wind_speed>8.5:\n",
    "            turb_class=1\n",
    "        elif (avg_hub_wind_speed<7.5) & (avg_hub_wind_speed>6.5):\n",
    "            turb_class=2 \n",
    "\n",
    "        instl_cap = pd.Series(row[\"capacity\"], index = wasa_power.index)\n",
    "        instl_cap[instl_cap.index < row[\"COD\"]] = 0\n",
    "\n",
    "        wasa_pu.loc[wind_speed.index, plant] = pd.Series(wind_power_calc(hub_wind_speed, turbine_power_curves, turb_class), index= wind_speed.index)\n",
    "        capacity = instl_cap\n",
    "        if row[\"ignore\"]:\n",
    "            capacity = 0\n",
    "        wasa_power.loc[wind_speed.index, plant] = wasa_pu.loc[wind_speed.index, plant] * capacity\n",
    "        "
   ]
  },
  {
   "cell_type": "code",
   "execution_count": 12,
   "metadata": {},
   "outputs": [],
   "source": [
    "# remove any 29 Feb on leap years\n",
    "era5_power = era5_power[~((era5_power.index.month == 2) & (era5_power.index.day == 29))]\n",
    "era5_pu = era5_pu[~((era5_pu.index.month == 2) & (era5_pu.index.day == 29))]\n",
    "wasa_power = wasa_power[~((wasa_power.index.month == 2) & (wasa_power.index.day == 29))]\n",
    "wasa_pu = wasa_pu[~((wasa_pu.index.month == 2) & (wasa_pu.index.day == 29))]"
   ]
  },
  {
   "cell_type": "markdown",
   "metadata": {},
   "source": [
    "# CSIR - Fraunhofer SWA Study"
   ]
  },
  {
   "cell_type": "code",
   "execution_count": 13,
   "metadata": {},
   "outputs": [],
   "source": [
    "# Only available for RSA as single region or as 27 Supply Regions\n",
    "csir_fise = pd.read_excel(\"csir_fise_SWA_data.xlsx\", sheet_name = \"27-wind\", index_col=0, parse_dates=True)\n",
    "csir_fise = csir_fise.iloc[1:]\n",
    "csir_fise.index = pd.DatetimeIndex(csir_fise.index)\n",
    "csir_fise = csir_fise[~((csir_fise.index.month == 2) & (csir_fise.index.day == 29))]\n",
    "csir_fise = csir_fise.loc[\"2012\":\"2014\"]"
   ]
  },
  {
   "cell_type": "code",
   "execution_count": 14,
   "metadata": {},
   "outputs": [],
   "source": [
    "points_gdf = [Point(lon, lat) for lon,lat in reippp_data[[\"longitude\", \"latitude\"]].values]\n",
    "points_gdf = gpd.GeoDataFrame(geometry=points_gdf, crs=\"EPSG:4326\")\n",
    "region_list = gpd.sjoin(points_gdf,gis_data[\"supply_regions\"][27],how=\"left\",op=\"within\")[\"name\"]\n",
    "reippp_data[\"csir_region\"] = region_list.values\n",
    "\n",
    "# Only 2 year is available in CSIR-FISE data which gets repeated to fill up according to the REIPPPP data\n",
    "csir_pu = pd.DataFrame(\n",
    "    index = era5_pu.index,\n",
    "    columns = reippp_data.index\n",
    ")\n",
    "for idx, row in reippp_data.iterrows():\n",
    "    for y in range(2017, 2023, 2):\n",
    "        csir_pu.loc[csir_pu.index.year.isin([y, y+1]), idx] = csir_fise[row[\"csir_region\"]].values"
   ]
  },
  {
   "cell_type": "markdown",
   "metadata": {},
   "source": [
    "# Save and Export"
   ]
  },
  {
   "cell_type": "code",
   "execution_count": 15,
   "metadata": {},
   "outputs": [],
   "source": [
    "for module in [\"era5\", \"wasa\", \"csir\"]:\n",
    "\n",
    "    timeseries = xr.DataArray(\n",
    "        np.zeros((len(era5_pu), len(era5_pu.columns), 2)),\n",
    "        coords = {\"time\": era5_pu.index, \"plant\": era5_pu.columns.values, \"param\":[\"power\", \"pu\"]},\n",
    "        dims = [\"time\", \"plant\", \"param\"]\n",
    "    )\n",
    "    if module == \"era5\":\n",
    "        timeseries.loc[dict(plant=era5_pu.columns.values, param=\"pu\")] = era5_pu.values\n",
    "        timeseries.loc[dict(plant=era5_pu.columns.values, param=\"power\")] = era5_power.values\n",
    "    elif module == \"csir\":\n",
    "        timeseries.loc[dict(plant=csir_pu.columns.values, param=\"pu\")] = csir_pu.values    \n",
    "    else:\n",
    "        timeseries.loc[dict(plant=wasa_pu.columns.values, param=\"pu\")] = wasa_pu.values\n",
    "        timeseries.loc[dict(plant=wasa_pu.columns.values, param=\"power\")] = wasa_power.values\n",
    "\n",
    "\n",
    "    timeseries.to_netcdf(f\"timeseries_data/fixed_wind_{module}.nc\")"
   ]
  }
 ],
 "metadata": {
  "kernelspec": {
   "display_name": "atlite",
   "language": "python",
   "name": "python3"
  },
  "language_info": {
   "codemirror_mode": {
    "name": "ipython",
    "version": 3
   },
   "file_extension": ".py",
   "mimetype": "text/x-python",
   "name": "python",
   "nbconvert_exporter": "python",
   "pygments_lexer": "ipython3",
   "version": "3.10.11"
  }
 },
 "nbformat": 4,
 "nbformat_minor": 2
}

{
 "cells": [
  {
   "cell_type": "code",
   "execution_count": 287,
   "metadata": {},
   "outputs": [],
   "source": [
    "import pypsa\n",
    "import pandas as pd\n",
    "import matplotlib.pyplot as plt\n",
    "sys.path.insert(1, '/media/pklein/SATA_SSD/GitHub/pypsa_utilities/eskom data/')\n",
    "sys.path.insert(1, '/mnt/wsl/PHYSICALDRIVE0p1/GitHub/pypsa_utilities/eskom data/')\n",
    "\n",
    "import data_utilities as du\n",
    "import plotting_utilities as pu\n",
    "import financial_utilities as fu\n",
    "import xarray as xr\n",
    "import cartopy.crs as ccrs\n",
    "from pypsa.descriptors import get_switchable_as_dense as get_as_dense\n",
    "import geopandas as gpd\n",
    "import rasterio\n",
    "from rasterio.plot import show\n",
    "import numpy as np\n",
    "from shapely.geometry import shape\n",
    "import rioxarray\n",
    "import atlite\n",
    "import shapely\n",
    "import warnings\n",
    "warnings.filterwarnings(action='ignore', category=RuntimeWarning) \n"
   ]
  },
  {
   "cell_type": "code",
   "execution_count": 292,
   "metadata": {},
   "outputs": [],
   "source": [
    "def aggregate_p(n,y):\n",
    "    return pd.concat(\n",
    "        [\n",
    "            n.generators_t.p.loc[y].sum().groupby(n.generators.carrier).sum(),\n",
    "            n.storage_units_t.p.loc[y].sum().groupby(n.storage_units.carrier).sum(),\n",
    "            n.stores_t.p.loc[y].sum().groupby(n.stores.carrier).sum(),\n",
    "            -n.loads_t.p.loc[y].sum().groupby(n.loads.carrier).sum(),\n",
    "        ]\n",
    "    )\n",
    "\n",
    "\n",
    "def aggregate_e_nom(n):\n",
    "    return pd.concat(\n",
    "        [\n",
    "            (n.storage_units[\"p_nom_opt\"] * n.storage_units[\"max_hours\"])\n",
    "            .groupby(n.storage_units[\"carrier\"])\n",
    "            .sum(),\n",
    "            n.stores[\"e_nom_opt\"].groupby(n.stores.carrier).sum(),\n",
    "        ]\n",
    "    )\n",
    "\n",
    "\n",
    "def aggregate_p_curtailed(n,y):\n",
    "    return pd.concat(\n",
    "        [\n",
    "            (\n",
    "                (\n",
    "                    n.generators_t.loc[y].p_max_pu.sum().multiply(n.generators.p_nom_opt)\n",
    "                    - n.generators_t.loc[y].p.sum()\n",
    "                )\n",
    "                .groupby(n.generators.carrier)\n",
    "                .sum()\n",
    "            ),\n",
    "            (\n",
    "                (n.storage_units_t.inflow.loc[y].sum() - n.storage_units_t.p.loc[y].sum())\n",
    "                .groupby(n.storage_units.carrier)\n",
    "                .sum()\n",
    "            ),\n",
    "        ]\n",
    "    )"
   ]
  },
  {
   "cell_type": "code",
   "execution_count": 24,
   "metadata": {},
   "outputs": [],
   "source": [
    "colour_map={'onwind':'#77D1E4',\n",
    "            'onwind_100MW':'#2eb8d6',\n",
    "            'solar':'#FFBB4E',\n",
    "            'solar_pv_1MW':'#FBDC81',\n",
    "            'solar_pv_100MW':'#F99B00',\n",
    "            'CSP':'#feed82',\n",
    "            'battery':'#cba3cb',\n",
    "            'bat_c':'#AA68AA',#CBA3CB\n",
    "            'bat_d':'#AA68AA',\n",
    "            'PHS':'#873f91',\n",
    "            'phs_c':'#873f91',\n",
    "            'phs_d':'#873f91',\n",
    "            'coal':'#3C3C3C',\n",
    "            'hydro':'#004F95',\n",
    "            'ocgt':'#8D7867',\n",
    "            'diesel':'#8D7867',\n",
    "            'gas':'#8D7867',\n",
    "            'OCGT':'#8D7867',\n",
    "            'CCGT':'#ffa69e',\n",
    "            'rmippp':'#51969B',\n",
    "            'biomass':'#8C9A07',\n",
    "            'nuclear':'#C84936',\n",
    "            'demand_response':'#817E80',\n",
    "            'loadshedding':'#DE9287'}"
   ]
  },
  {
   "cell_type": "code",
   "execution_count": 63,
   "metadata": {},
   "outputs": [],
   "source": [
    "df = pd.read_excel('../data/digitized_system_eaf.xlsx',sheet_name=None,index_col=0)"
   ]
  },
  {
   "cell_type": "code",
   "execution_count": 62,
   "metadata": {},
   "outputs": [],
   "source": [
    "df1 = pd.concat([df['CSIR-ambitions-2019'],pd.DataFrame(index=range(2019,2051),columns=['value'])],axis=0)['System EAF']\n",
    "(0.88*df1.sort_index().interpolate()).to_clipboard()"
   ]
  },
  {
   "cell_type": "code",
   "execution_count": null,
   "metadata": {},
   "outputs": [],
   "source": [
    "def generate_datetimeindex(start_date: str, end_date: str) -> pd.DatetimeIndex:\n",
    "    start_date = pd.to_datetime(start_date)\n",
    "    end_date = pd.to_datetime(end_date)\n",
    "    return pd.date_range(start_date, end_date, freq='1H')\n",
    "\n",
    "\n",
    "# Generate the DatetimeIndex\n",
    "idx = generate_datetimeindex('2009-01-01', '2021-12-31')\n",
    "\n",
    "# Create a DataFrame with the DatetimeIndex\n",
    "df = pd.DataFrame({'date': idx})\n",
    "\n",
    "# Write the DataFrame to an Excel file\n",
    "df.to_clipboard()\n"
   ]
  },
  {
   "cell_type": "code",
   "execution_count": 81,
   "metadata": {},
   "outputs": [
    {
     "name": "stderr",
     "output_type": "stream",
     "text": [
      "INFO:pypsa.io:Imported network pre_CSIR-ambitions-2022_RSA_redz_lcopt_LC.nc has buses, carriers, generators, global_constraints, loads, storage_units\n",
      "INFO:pypsa.io:Imported network pre_CSIR-ambitions-2022_RSA_redz_lcopt_LC_backup.nc has buses, carriers, generators, global_constraints, loads, storage_units\n"
     ]
    }
   ],
   "source": [
    "n0 = pypsa.Network('../networks/pre_CSIR-ambitions-2022_RSA_redz_lcopt_LC.nc')"
   ]
  },
  {
   "cell_type": "code",
   "execution_count": 91,
   "metadata": {},
   "outputs": [
    {
     "name": "stderr",
     "output_type": "stream",
     "text": [
      "INFO:pypsa.io:Imported network pre_CSIR-ambitions-2022_RSA_redz_lcopt_LC (copy).nc has buses, carriers, generators, global_constraints, loads, storage_units\n"
     ]
    }
   ],
   "source": [
    "n1 = pypsa.Network('../networks/pre_CSIR-ambitions-2022_RSA_redz_lcopt_LC (copy).nc')"
   ]
  },
  {
   "cell_type": "code",
   "execution_count": 265,
   "metadata": {},
   "outputs": [
    {
     "name": "stderr",
     "output_type": "stream",
     "text": [
      "INFO:pypsa.io:Imported network solved_validation-3_RSA_redz_lcopt_LC.nc has buses, carriers, generators, global_constraints, loads, storage_units\n"
     ]
    }
   ],
   "source": [
    "n = pypsa.Network('../results/networks/solved_validation-3_RSA_redz_lcopt_LC.nc')"
   ]
  },
  {
   "cell_type": "code",
   "execution_count": null,
   "metadata": {},
   "outputs": [],
   "source": [
    "reserve_type='total'\n",
    "carriers = ['battery','PHS']\n",
    "carriers=['diesel','gas','OCGT','CCGT','battery','PHS'] \n",
    "y=2030\n",
    "p_nom=n.generators.p_nom_opt[n.get_active_assets('Generator',y) & n.generators.carrier.isin(carriers)].sum()+n.storage_units.p_nom_opt[n.get_active_assets('StorageUnit',y)].sum()\n",
    "(p_nom-n.generators_t.p.loc[y][n.generators.p_nom_opt[n.get_active_assets('Generator',y) & n.generators.carrier.isin(carriers)].index].sum(axis=1)-n.storage_units_t.p_dispatch.loc[y].sum(axis=1)).min()"
   ]
  },
  {
   "cell_type": "code",
   "execution_count": 266,
   "metadata": {},
   "outputs": [],
   "source": [
    "capacity=pd.DataFrame(np.nan,index=np.append(n.generators.carrier.unique(),n.storage_units.carrier.unique()),columns=range(n.investment_periods[0],n.investment_periods[-1]+1))       \n",
    "carriers=n.generators.carrier.unique()\n",
    "carriers = carriers[carriers !='load_shedding']\n",
    "for y in n.investment_periods:\n",
    "    capacity.loc[carriers,y]=n.generators.p_nom_opt[(n.get_active_assets('Generator',y))].groupby(n.generators.carrier).sum()\n",
    "\n",
    "carriers=n.storage_units.carrier.unique()\n",
    "for y in n.investment_periods:\n",
    "    capacity.loc[carriers,y]=n.storage_units.p_nom_opt[(n.get_active_assets('StorageUnit',y))].groupby(n.storage_units.carrier).sum()\n",
    "\n",
    "capacity.loc['OCGT',:]+=capacity.loc['gas',:]+capacity.loc['diesel',:]\n",
    "capacity=capacity.T.interpolate().T\n",
    "capacity=capacity.reindex(['nuclear','coal','CCGT','OCGT','hydro','PHS','biomass','onwind','CSP','solar','battery'])"
   ]
  },
  {
   "cell_type": "code",
   "execution_count": 267,
   "metadata": {},
   "outputs": [
    {
     "data": {
      "text/html": [
       "<div>\n",
       "<style scoped>\n",
       "    .dataframe tbody tr th:only-of-type {\n",
       "        vertical-align: middle;\n",
       "    }\n",
       "\n",
       "    .dataframe tbody tr th {\n",
       "        vertical-align: top;\n",
       "    }\n",
       "\n",
       "    .dataframe thead th {\n",
       "        text-align: right;\n",
       "    }\n",
       "</style>\n",
       "<table border=\"1\" class=\"dataframe\">\n",
       "  <thead>\n",
       "    <tr style=\"text-align: right;\">\n",
       "      <th></th>\n",
       "      <th>2022</th>\n",
       "      <th>2023</th>\n",
       "      <th>2024</th>\n",
       "      <th>2025</th>\n",
       "      <th>2026</th>\n",
       "      <th>2027</th>\n",
       "      <th>2028</th>\n",
       "      <th>2029</th>\n",
       "      <th>2030</th>\n",
       "      <th>2031</th>\n",
       "      <th>...</th>\n",
       "      <th>2041</th>\n",
       "      <th>2042</th>\n",
       "      <th>2043</th>\n",
       "      <th>2044</th>\n",
       "      <th>2045</th>\n",
       "      <th>2046</th>\n",
       "      <th>2047</th>\n",
       "      <th>2048</th>\n",
       "      <th>2049</th>\n",
       "      <th>2050</th>\n",
       "    </tr>\n",
       "  </thead>\n",
       "  <tbody>\n",
       "    <tr>\n",
       "      <th>nuclear</th>\n",
       "      <td>1854.033565</td>\n",
       "      <td>1854.033565</td>\n",
       "      <td>1854.033565</td>\n",
       "      <td>1854.033565</td>\n",
       "      <td>1854.033565</td>\n",
       "      <td>1854.033565</td>\n",
       "      <td>1854.033565</td>\n",
       "      <td>1854.033565</td>\n",
       "      <td>1854.033565</td>\n",
       "      <td>1854.033565</td>\n",
       "      <td>...</td>\n",
       "      <td>1854.033565</td>\n",
       "      <td>1854.033565</td>\n",
       "      <td>927.033565</td>\n",
       "      <td>0.033565</td>\n",
       "      <td>0.033565</td>\n",
       "      <td>0.033565</td>\n",
       "      <td>0.033565</td>\n",
       "      <td>0.033565</td>\n",
       "      <td>0.033565</td>\n",
       "      <td>0.033565</td>\n",
       "    </tr>\n",
       "    <tr>\n",
       "      <th>coal</th>\n",
       "      <td>40216.075088</td>\n",
       "      <td>39475.633795</td>\n",
       "      <td>38735.192501</td>\n",
       "      <td>37136.260873</td>\n",
       "      <td>35537.329246</td>\n",
       "      <td>35195.412456</td>\n",
       "      <td>34853.495666</td>\n",
       "      <td>33428.598500</td>\n",
       "      <td>32003.701334</td>\n",
       "      <td>32003.850368</td>\n",
       "      <td>...</td>\n",
       "      <td>17029.676384</td>\n",
       "      <td>15444.357664</td>\n",
       "      <td>13656.912662</td>\n",
       "      <td>11869.467660</td>\n",
       "      <td>11870.202710</td>\n",
       "      <td>11870.937761</td>\n",
       "      <td>10954.977354</td>\n",
       "      <td>10039.016948</td>\n",
       "      <td>10039.293496</td>\n",
       "      <td>10039.570044</td>\n",
       "    </tr>\n",
       "    <tr>\n",
       "      <th>CCGT</th>\n",
       "      <td>5199.323393</td>\n",
       "      <td>5199.323393</td>\n",
       "      <td>5199.323393</td>\n",
       "      <td>5199.323393</td>\n",
       "      <td>5199.323393</td>\n",
       "      <td>5199.323393</td>\n",
       "      <td>5199.323393</td>\n",
       "      <td>5199.323393</td>\n",
       "      <td>5199.323393</td>\n",
       "      <td>5199.323393</td>\n",
       "      <td>...</td>\n",
       "      <td>5199.323393</td>\n",
       "      <td>5199.323393</td>\n",
       "      <td>5199.323393</td>\n",
       "      <td>5199.323393</td>\n",
       "      <td>5199.323393</td>\n",
       "      <td>5199.323393</td>\n",
       "      <td>5199.323393</td>\n",
       "      <td>5199.323393</td>\n",
       "      <td>5199.323393</td>\n",
       "      <td>5199.323393</td>\n",
       "    </tr>\n",
       "    <tr>\n",
       "      <th>OCGT</th>\n",
       "      <td>3497.338790</td>\n",
       "      <td>3613.465389</td>\n",
       "      <td>3729.591987</td>\n",
       "      <td>5166.842573</td>\n",
       "      <td>6604.093158</td>\n",
       "      <td>6607.507881</td>\n",
       "      <td>6610.922605</td>\n",
       "      <td>6612.199614</td>\n",
       "      <td>6613.476624</td>\n",
       "      <td>6615.108692</td>\n",
       "      <td>...</td>\n",
       "      <td>10568.277549</td>\n",
       "      <td>12216.967364</td>\n",
       "      <td>13766.887843</td>\n",
       "      <td>15316.808321</td>\n",
       "      <td>15575.133987</td>\n",
       "      <td>15833.459653</td>\n",
       "      <td>16778.952131</td>\n",
       "      <td>17724.444610</td>\n",
       "      <td>17728.173219</td>\n",
       "      <td>17731.901829</td>\n",
       "    </tr>\n",
       "    <tr>\n",
       "      <th>hydro</th>\n",
       "      <td>2447.020000</td>\n",
       "      <td>2447.020000</td>\n",
       "      <td>2447.020000</td>\n",
       "      <td>2447.020000</td>\n",
       "      <td>2447.020000</td>\n",
       "      <td>2447.020000</td>\n",
       "      <td>2447.020000</td>\n",
       "      <td>2447.020000</td>\n",
       "      <td>2447.020000</td>\n",
       "      <td>2447.020000</td>\n",
       "      <td>...</td>\n",
       "      <td>2447.020000</td>\n",
       "      <td>2447.020000</td>\n",
       "      <td>2447.020000</td>\n",
       "      <td>2447.020000</td>\n",
       "      <td>2447.020000</td>\n",
       "      <td>2447.020000</td>\n",
       "      <td>2447.020000</td>\n",
       "      <td>2447.020000</td>\n",
       "      <td>2447.020000</td>\n",
       "      <td>2447.020000</td>\n",
       "    </tr>\n",
       "    <tr>\n",
       "      <th>PHS</th>\n",
       "      <td>2912.000000</td>\n",
       "      <td>2912.000000</td>\n",
       "      <td>2912.000000</td>\n",
       "      <td>2912.000000</td>\n",
       "      <td>2912.000000</td>\n",
       "      <td>2912.000000</td>\n",
       "      <td>2912.000000</td>\n",
       "      <td>2912.000000</td>\n",
       "      <td>2912.000000</td>\n",
       "      <td>2912.000000</td>\n",
       "      <td>...</td>\n",
       "      <td>7772.478779</td>\n",
       "      <td>7904.483934</td>\n",
       "      <td>7906.826018</td>\n",
       "      <td>7909.168101</td>\n",
       "      <td>7910.033212</td>\n",
       "      <td>7910.898322</td>\n",
       "      <td>7911.297586</td>\n",
       "      <td>7911.696851</td>\n",
       "      <td>7911.848423</td>\n",
       "      <td>7911.999995</td>\n",
       "    </tr>\n",
       "    <tr>\n",
       "      <th>biomass</th>\n",
       "      <td>193.060000</td>\n",
       "      <td>193.060000</td>\n",
       "      <td>193.060000</td>\n",
       "      <td>193.060000</td>\n",
       "      <td>193.060000</td>\n",
       "      <td>193.060000</td>\n",
       "      <td>193.060000</td>\n",
       "      <td>193.060000</td>\n",
       "      <td>193.060000</td>\n",
       "      <td>193.060000</td>\n",
       "      <td>...</td>\n",
       "      <td>193.060000</td>\n",
       "      <td>193.060000</td>\n",
       "      <td>193.060000</td>\n",
       "      <td>193.060000</td>\n",
       "      <td>193.060000</td>\n",
       "      <td>193.060000</td>\n",
       "      <td>193.060000</td>\n",
       "      <td>193.060000</td>\n",
       "      <td>181.030000</td>\n",
       "      <td>169.000000</td>\n",
       "    </tr>\n",
       "    <tr>\n",
       "      <th>onwind</th>\n",
       "      <td>3444.168378</td>\n",
       "      <td>4974.115636</td>\n",
       "      <td>6504.062895</td>\n",
       "      <td>8402.415758</td>\n",
       "      <td>10300.768622</td>\n",
       "      <td>11400.257770</td>\n",
       "      <td>12499.746918</td>\n",
       "      <td>14367.194976</td>\n",
       "      <td>16234.643034</td>\n",
       "      <td>16334.385662</td>\n",
       "      <td>...</td>\n",
       "      <td>36928.029138</td>\n",
       "      <td>39917.105081</td>\n",
       "      <td>42696.348597</td>\n",
       "      <td>45475.592114</td>\n",
       "      <td>46709.161936</td>\n",
       "      <td>47942.731759</td>\n",
       "      <td>49676.957264</td>\n",
       "      <td>51411.182770</td>\n",
       "      <td>52184.410968</td>\n",
       "      <td>52957.639166</td>\n",
       "    </tr>\n",
       "    <tr>\n",
       "      <th>CSP</th>\n",
       "      <td>600.000000</td>\n",
       "      <td>600.000000</td>\n",
       "      <td>600.000000</td>\n",
       "      <td>600.000000</td>\n",
       "      <td>600.000000</td>\n",
       "      <td>600.000000</td>\n",
       "      <td>600.000000</td>\n",
       "      <td>600.000000</td>\n",
       "      <td>600.000000</td>\n",
       "      <td>600.000000</td>\n",
       "      <td>...</td>\n",
       "      <td>600.000000</td>\n",
       "      <td>600.000000</td>\n",
       "      <td>600.000000</td>\n",
       "      <td>600.000000</td>\n",
       "      <td>525.000000</td>\n",
       "      <td>450.000000</td>\n",
       "      <td>425.000000</td>\n",
       "      <td>400.000000</td>\n",
       "      <td>400.000000</td>\n",
       "      <td>400.000000</td>\n",
       "    </tr>\n",
       "    <tr>\n",
       "      <th>solar</th>\n",
       "      <td>2560.746997</td>\n",
       "      <td>4268.325499</td>\n",
       "      <td>5975.904000</td>\n",
       "      <td>9421.498697</td>\n",
       "      <td>12867.093394</td>\n",
       "      <td>14617.600275</td>\n",
       "      <td>16368.107156</td>\n",
       "      <td>19188.595630</td>\n",
       "      <td>22009.084104</td>\n",
       "      <td>23135.926974</td>\n",
       "      <td>...</td>\n",
       "      <td>50893.976334</td>\n",
       "      <td>53126.660390</td>\n",
       "      <td>56340.361618</td>\n",
       "      <td>59554.062846</td>\n",
       "      <td>60932.059748</td>\n",
       "      <td>62310.056650</td>\n",
       "      <td>64298.041496</td>\n",
       "      <td>66286.026342</td>\n",
       "      <td>67864.986929</td>\n",
       "      <td>69443.947515</td>\n",
       "    </tr>\n",
       "    <tr>\n",
       "      <th>battery</th>\n",
       "      <td>0.523576</td>\n",
       "      <td>1.316936</td>\n",
       "      <td>2.110296</td>\n",
       "      <td>629.896029</td>\n",
       "      <td>1257.681762</td>\n",
       "      <td>1983.179998</td>\n",
       "      <td>2708.678233</td>\n",
       "      <td>3827.398085</td>\n",
       "      <td>4946.117937</td>\n",
       "      <td>5263.458417</td>\n",
       "      <td>...</td>\n",
       "      <td>10599.273045</td>\n",
       "      <td>10695.771529</td>\n",
       "      <td>11505.972023</td>\n",
       "      <td>12316.172517</td>\n",
       "      <td>12753.910067</td>\n",
       "      <td>13191.647617</td>\n",
       "      <td>13770.816836</td>\n",
       "      <td>14349.986054</td>\n",
       "      <td>15317.250328</td>\n",
       "      <td>16284.514602</td>\n",
       "    </tr>\n",
       "  </tbody>\n",
       "</table>\n",
       "<p>11 rows × 29 columns</p>\n",
       "</div>"
      ],
      "text/plain": [
       "                 2022          2023          2024          2025          2026  \\\n",
       "nuclear   1854.033565   1854.033565   1854.033565   1854.033565   1854.033565   \n",
       "coal     40216.075088  39475.633795  38735.192501  37136.260873  35537.329246   \n",
       "CCGT      5199.323393   5199.323393   5199.323393   5199.323393   5199.323393   \n",
       "OCGT      3497.338790   3613.465389   3729.591987   5166.842573   6604.093158   \n",
       "hydro     2447.020000   2447.020000   2447.020000   2447.020000   2447.020000   \n",
       "PHS       2912.000000   2912.000000   2912.000000   2912.000000   2912.000000   \n",
       "biomass    193.060000    193.060000    193.060000    193.060000    193.060000   \n",
       "onwind    3444.168378   4974.115636   6504.062895   8402.415758  10300.768622   \n",
       "CSP        600.000000    600.000000    600.000000    600.000000    600.000000   \n",
       "solar     2560.746997   4268.325499   5975.904000   9421.498697  12867.093394   \n",
       "battery      0.523576      1.316936      2.110296    629.896029   1257.681762   \n",
       "\n",
       "                 2027          2028          2029          2030          2031  \\\n",
       "nuclear   1854.033565   1854.033565   1854.033565   1854.033565   1854.033565   \n",
       "coal     35195.412456  34853.495666  33428.598500  32003.701334  32003.850368   \n",
       "CCGT      5199.323393   5199.323393   5199.323393   5199.323393   5199.323393   \n",
       "OCGT      6607.507881   6610.922605   6612.199614   6613.476624   6615.108692   \n",
       "hydro     2447.020000   2447.020000   2447.020000   2447.020000   2447.020000   \n",
       "PHS       2912.000000   2912.000000   2912.000000   2912.000000   2912.000000   \n",
       "biomass    193.060000    193.060000    193.060000    193.060000    193.060000   \n",
       "onwind   11400.257770  12499.746918  14367.194976  16234.643034  16334.385662   \n",
       "CSP        600.000000    600.000000    600.000000    600.000000    600.000000   \n",
       "solar    14617.600275  16368.107156  19188.595630  22009.084104  23135.926974   \n",
       "battery   1983.179998   2708.678233   3827.398085   4946.117937   5263.458417   \n",
       "\n",
       "         ...          2041          2042          2043          2044  \\\n",
       "nuclear  ...   1854.033565   1854.033565    927.033565      0.033565   \n",
       "coal     ...  17029.676384  15444.357664  13656.912662  11869.467660   \n",
       "CCGT     ...   5199.323393   5199.323393   5199.323393   5199.323393   \n",
       "OCGT     ...  10568.277549  12216.967364  13766.887843  15316.808321   \n",
       "hydro    ...   2447.020000   2447.020000   2447.020000   2447.020000   \n",
       "PHS      ...   7772.478779   7904.483934   7906.826018   7909.168101   \n",
       "biomass  ...    193.060000    193.060000    193.060000    193.060000   \n",
       "onwind   ...  36928.029138  39917.105081  42696.348597  45475.592114   \n",
       "CSP      ...    600.000000    600.000000    600.000000    600.000000   \n",
       "solar    ...  50893.976334  53126.660390  56340.361618  59554.062846   \n",
       "battery  ...  10599.273045  10695.771529  11505.972023  12316.172517   \n",
       "\n",
       "                 2045          2046          2047          2048          2049  \\\n",
       "nuclear      0.033565      0.033565      0.033565      0.033565      0.033565   \n",
       "coal     11870.202710  11870.937761  10954.977354  10039.016948  10039.293496   \n",
       "CCGT      5199.323393   5199.323393   5199.323393   5199.323393   5199.323393   \n",
       "OCGT     15575.133987  15833.459653  16778.952131  17724.444610  17728.173219   \n",
       "hydro     2447.020000   2447.020000   2447.020000   2447.020000   2447.020000   \n",
       "PHS       7910.033212   7910.898322   7911.297586   7911.696851   7911.848423   \n",
       "biomass    193.060000    193.060000    193.060000    193.060000    181.030000   \n",
       "onwind   46709.161936  47942.731759  49676.957264  51411.182770  52184.410968   \n",
       "CSP        525.000000    450.000000    425.000000    400.000000    400.000000   \n",
       "solar    60932.059748  62310.056650  64298.041496  66286.026342  67864.986929   \n",
       "battery  12753.910067  13191.647617  13770.816836  14349.986054  15317.250328   \n",
       "\n",
       "                 2050  \n",
       "nuclear      0.033565  \n",
       "coal     10039.570044  \n",
       "CCGT      5199.323393  \n",
       "OCGT     17731.901829  \n",
       "hydro     2447.020000  \n",
       "PHS       7911.999995  \n",
       "biomass    169.000000  \n",
       "onwind   52957.639166  \n",
       "CSP        400.000000  \n",
       "solar    69443.947515  \n",
       "battery  16284.514602  \n",
       "\n",
       "[11 rows x 29 columns]"
      ]
     },
     "execution_count": 267,
     "metadata": {},
     "output_type": "execute_result"
    }
   ],
   "source": [
    "capacity"
   ]
  },
  {
   "cell_type": "code",
   "execution_count": 297,
   "metadata": {},
   "outputs": [],
   "source": [
    "def aggregate_p(n,y):\n",
    "    return pd.concat(\n",
    "        [\n",
    "            n.generators_t.p.loc[y].sum().groupby(n.generators.carrier).sum(),\n",
    "            n.storage_units_t.p.loc[y].sum().groupby(n.storage_units.carrier).sum(),\n",
    "        ]\n",
    "    )"
   ]
  },
  {
   "cell_type": "code",
   "execution_count": 298,
   "metadata": {},
   "outputs": [
    {
     "data": {
      "text/plain": [
       "carrier\n",
       "CCGT             1.366382e+07\n",
       "CSP              1.986254e+06\n",
       "OCGT             3.734301e+01\n",
       "biomass          9.566110e+05\n",
       "coal             1.934270e+08\n",
       "diesel           8.310313e+03\n",
       "gas              5.616520e+03\n",
       "hydro            9.531451e+06\n",
       "load_shedding    2.421796e-01\n",
       "nuclear          1.217929e+07\n",
       "onwind           1.067975e+07\n",
       "solar            4.200002e+06\n",
       "PHS             -1.101595e+06\n",
       "battery         -1.103027e+02\n",
       "dtype: float64"
      ]
     },
     "execution_count": 298,
     "metadata": {},
     "output_type": "execute_result"
    }
   ],
   "source": [
    "energy = aggregate_p(n,2022)\n",
    "energy"
   ]
  },
  {
   "cell_type": "code",
   "execution_count": null,
   "metadata": {},
   "outputs": [],
   "source": [
    "energy=pd.DataFrame(np.nan,index=np.append(n.generators.carrier.unique(),n.storage_units.carrier.unique()),columns=range(n.investment_periods[0],n.investment_periods[-1]+1))       \n",
    "carriers=n.generators.carrier.unique()\n",
    "carriers = carriers[carriers !='load_shedding']\n",
    "for y in n.investment_periods:\n",
    "    \n",
    "    \n",
    "    \n",
    "    energy.loc[carriers,y]=n.generators_t.p.p_nom_opt[(n.get_active_assets('Generator',y))].groupby(n.generators.carrier).sum()\n",
    "\n",
    "carriers=n.storage_units.carrier.unique()\n",
    "for y in n.investment_periods:\n",
    "    capacity.loc[carriers,y]=n.storage_units.p_nom_opt[(n.get_active_assets('StorageUnit',y))].groupby(n.storage_units.carrier).sum()\n",
    "\n",
    "capacity.loc['OCGT',:]+=capacity.loc['gas',:]+capacity.loc['diesel',:]\n",
    "capacity=capacity.T.interpolate().T\n",
    "capacity=capacity.reindex(['nuclear','coal','CCGT','OCGT','hydro','PHS','biomass','onwind','CSP','solar','battery'])"
   ]
  },
  {
   "cell_type": "code",
   "execution_count": 278,
   "metadata": {},
   "outputs": [
    {
     "data": {
      "image/png": "[encoded data removed]",
      "text/plain": [
       "<Figure size 640x480 with 1 Axes>"
      ]
     },
     "metadata": {},
     "output_type": "display_data"
    }
   ],
   "source": [
    "ax = (capacity/1000).T.plot.bar(stacked=True,color=colour_map,width=0.8)\n",
    "plt.ylabel('Installed Capacity (GW)')\n",
    "plt.xlabel(\"\")\n",
    "plt.ylim([0,200])\n",
    "plt.yticks(range(0, 200+1, 20))  # set y-axis ticks to increments of 20\n",
    "\n",
    "for spine in ax.spines:\n",
    "    ax.spines[spine].set_visible(False)\n",
    "\n",
    "cnt=0\n",
    "height = 0     \n",
    "dy = 1  # adjust this value to fine-tune the vertical spacing between annotations\n",
    "for bar in ax.containers:\n",
    "    end_cap = (capacity/1000).iloc[cnt,-1]\n",
    "    x = len(capacity.T)-1\n",
    "    y = end_cap/2+height+dy*cnt  # adjust y position based on index of the bar\n",
    "    ax.annotate(\n",
    "        capacity.index[cnt],\n",
    "        xy=(x, y),\n",
    "        xytext=(5, 0),\n",
    "        textcoords=\"offset points\",\n",
    "        va=\"center\",\n",
    "        color=ax.containers[cnt][-1].get_facecolor(),\n",
    "        #arrowprops=dict(arrowstyle='-', connectionstyle='angle3,angleA=0,angleB=-90', facecolor='black', width=1, headwidth=4, headlength=4),  # change arrow to line\n",
    "    )\n",
    "    height += end_cap\n",
    "    cnt+=1\n",
    "\n",
    "ax.legend().set_visible(False)\n",
    "\n",
    "#ax.grid(axis='y', color='lightgray',linestyle='-.',zorder=0)  # add light grey horizontal grid lines only\n"
   ]
  },
  {
   "cell_type": "code",
   "execution_count": 275,
   "metadata": {},
   "outputs": [
    {
     "data": {
      "text/plain": [
       "29"
      ]
     },
     "execution_count": 275,
     "metadata": {},
     "output_type": "execute_result"
    }
   ],
   "source": [
    "len(capacity.T)"
   ]
  },
  {
   "cell_type": "code",
   "execution_count": 73,
   "metadata": {},
   "outputs": [
    {
     "data": {
      "text/html": [
       "<div>\n",
       "<style scoped>\n",
       "    .dataframe tbody tr th:only-of-type {\n",
       "        vertical-align: middle;\n",
       "    }\n",
       "\n",
       "    .dataframe tbody tr th {\n",
       "        vertical-align: top;\n",
       "    }\n",
       "\n",
       "    .dataframe thead th {\n",
       "        text-align: right;\n",
       "    }\n",
       "</style>\n",
       "<table border=\"1\" class=\"dataframe\">\n",
       "  <thead>\n",
       "    <tr style=\"text-align: right;\">\n",
       "      <th>Load</th>\n",
       "      <th>RSA</th>\n",
       "    </tr>\n",
       "    <tr>\n",
       "      <th>period</th>\n",
       "      <th></th>\n",
       "    </tr>\n",
       "  </thead>\n",
       "  <tbody>\n",
       "    <tr>\n",
       "      <th>2022</th>\n",
       "      <td>2.455365e+08</td>\n",
       "    </tr>\n",
       "    <tr>\n",
       "      <th>2025</th>\n",
       "      <td>2.571553e+08</td>\n",
       "    </tr>\n",
       "    <tr>\n",
       "      <th>2030</th>\n",
       "      <td>2.769605e+08</td>\n",
       "    </tr>\n",
       "    <tr>\n",
       "      <th>2035</th>\n",
       "      <td>2.941598e+08</td>\n",
       "    </tr>\n",
       "    <tr>\n",
       "      <th>2040</th>\n",
       "      <td>3.113591e+08</td>\n",
       "    </tr>\n",
       "    <tr>\n",
       "      <th>2045</th>\n",
       "      <td>3.285584e+08</td>\n",
       "    </tr>\n",
       "    <tr>\n",
       "      <th>2050</th>\n",
       "      <td>3.457576e+08</td>\n",
       "    </tr>\n",
       "  </tbody>\n",
       "</table>\n",
       "</div>"
      ],
      "text/plain": [
       "Load             RSA\n",
       "period              \n",
       "2022    2.455365e+08\n",
       "2025    2.571553e+08\n",
       "2030    2.769605e+08\n",
       "2035    2.941598e+08\n",
       "2040    3.113591e+08\n",
       "2045    3.285584e+08\n",
       "2050    3.457576e+08"
      ]
     },
     "execution_count": 73,
     "metadata": {},
     "output_type": "execute_result"
    }
   ],
   "source": [
    "n.loads_t.p_set.groupby(n.snapshots.get_level_values(0)).sum()"
   ]
  },
  {
   "cell_type": "code",
   "execution_count": 70,
   "metadata": {},
   "outputs": [
    {
     "data": {
      "text/plain": [
       "period\n",
       "2022    0.014566\n",
       "2025    0.015292\n",
       "2030    0.011443\n",
       "2035    0.009126\n",
       "2040    0.009816\n",
       "2045    0.010352\n",
       "2050    0.009658\n",
       "Name: RSA load_shedding, dtype: float64"
      ]
     },
     "execution_count": 70,
     "metadata": {},
     "output_type": "execute_result"
    }
   ],
   "source": [
    "n.generators_t.p['RSA load_shedding'].groupby(n.generators_t.p.index.get_level_values(0)).sum()/1e6"
   ]
  },
  {
   "cell_type": "code",
   "execution_count": null,
   "metadata": {},
   "outputs": [],
   "source": [
    "years=n.generators_t.p.index.get_level_values(0)\n",
    "n.generators_t.p[n.generators[n.generators.carrier.isin(['diesel'])].index].sum(axis=1).groupby(years).sum()/(3056*8760)"
   ]
  },
  {
   "cell_type": "code",
   "execution_count": null,
   "metadata": {},
   "outputs": [],
   "source": [
    "n.storage_units.p_nom_opt"
   ]
  },
  {
   "cell_type": "code",
   "execution_count": null,
   "metadata": {},
   "outputs": [],
   "source": [
    "n.storage_units_t.state_of_charge['Drakensberg'].plot()"
   ]
  },
  {
   "cell_type": "code",
   "execution_count": null,
   "metadata": {},
   "outputs": [],
   "source": [
    "n.global_constraints[n.global_constraints['sense']=='<=']"
   ]
  },
  {
   "cell_type": "code",
   "execution_count": null,
   "metadata": {},
   "outputs": [],
   "source": [
    "eskom_data=du.eskom_data('../data/ESK2791.csv')"
   ]
  },
  {
   "cell_type": "code",
   "execution_count": null,
   "metadata": {},
   "outputs": [],
   "source": [
    "eskom_data['other_re_installed'].groupby(eskom_data.index.year).max().to_clipboard()"
   ]
  },
  {
   "cell_type": "code",
   "execution_count": null,
   "metadata": {},
   "outputs": [],
   "source": []
  },
  {
   "cell_type": "code",
   "execution_count": null,
   "metadata": {},
   "outputs": [],
   "source": [
    "eskom_data['loadshed_mlr'].groupby(eskom_data.index.year).sum().to_clipboard()"
   ]
  },
  {
   "cell_type": "code",
   "execution_count": null,
   "metadata": {},
   "outputs": [],
   "source": [
    "df = pd.read_csv('../data/Eskom EAF data.csv',index_col=[1,0],parse_dates=True)\n",
    "df['capacity'] = df['EAF %']/100 * df['MW'] \n",
    "\n",
    "\n",
    "for y in [2017,2018,2019,2020,2021,2022]:\n",
    "    data=df.loc['Generation Total','PCLF %']\n",
    "    plt.plot(data[data.index.year==y].values)\n",
    "\n"
   ]
  },
  {
   "cell_type": "code",
   "execution_count": null,
   "metadata": {},
   "outputs": [],
   "source": [
    "df = pd.read_csv('../data/Eskom EAF data.csv',index_col=[1,0],parse_dates=True)\n",
    "df['capacity'] = df['EAF %']/100 * df['MW'] \n",
    "stations=df[df.type=='coal'].index.get_level_values(0)"
   ]
  },
  {
   "cell_type": "code",
   "execution_count": null,
   "metadata": {},
   "outputs": [],
   "source": [
    "stations"
   ]
  },
  {
   "cell_type": "code",
   "execution_count": null,
   "metadata": {},
   "outputs": [],
   "source": [
    "df = pd.read_csv('../data/Eskom EAF data.csv',index_col=[1,0],parse_dates=True)\n",
    "df['capacity'] = df['EAF %']/100 * df['MW'] \n",
    "stations=df[df.type=='coal'].index.get_level_values(0).unique()\n",
    "eaf=pd.DataFrame(0,index=stations,columns=range(2017,2023))\n",
    "planned=pd.DataFrame(0,index=stations,columns=range(2017,2023))\n",
    "unplanned=pd.DataFrame(0,index=stations,columns=range(2017,2023))\n",
    "for s in stations:\n",
    "    eaf.loc[s,:]=df.loc[s,'EAF %'].groupby(df.loc[s,'EAF %'].index.year).mean()\n",
    "    planned.loc[s,:]=df.loc[s,'PCLF %'].groupby(df.loc[s,'PCLF %'].index.year).mean()\n",
    "    unplanned.loc[s,:]=df.loc[s,'UCLF %'].groupby(df.loc[s,'UCLF %'].index.year).mean()+df.loc[s,'OCLF %'].groupby(df.loc[s,'OCLF %'].index.year).mean()"
   ]
  },
  {
   "cell_type": "code",
   "execution_count": null,
   "metadata": {},
   "outputs": [],
   "source": [
    "df = pd.read_csv('../data/Eskom EAF data.csv',index_col=[1,0],parse_dates=True)\n",
    "df['capacity'] = df['EAF %']/100 * df['MW'] \n",
    "df=df[df.type=='coal']\n",
    "df.index=df.index.get_level_values(1)\n",
    "variable='EAF %'\n",
    "type_avg=df.groupby(level=0).mean()\n",
    "type_avg.drop(['MW','capacity'],axis=1)\n",
    "type_avg.loc[:,variable].groupby(type_avg.index.year).mean()"
   ]
  },
  {
   "cell_type": "code",
   "execution_count": null,
   "metadata": {},
   "outputs": [],
   "source": [
    "df = pd.read_csv('../data/Eskom EAF data.csv',index_col=[1,0],parse_dates=True)\n",
    "df['capacity'] = df['EAF %']/100 * df['MW'] \n",
    "stations=df[df.type=='coal'].index.get_level_values(0)\n",
    "\n",
    "installed_capacity=pd.DataFrame(0,index=stations,columns=range(2017,2023))\n",
    "for s in stations:\n",
    "    for y in range(2017,2023):\n",
    "        installed_capacity.loc[s,y]=df.loc[(s,str(y)),'MW'].mean()"
   ]
  },
  {
   "cell_type": "code",
   "execution_count": null,
   "metadata": {},
   "outputs": [],
   "source": [
    "installed_capacity.to_clipboard()"
   ]
  },
  {
   "cell_type": "code",
   "execution_count": null,
   "metadata": {},
   "outputs": [],
   "source": [
    "mean_pclf=type_avg[variable].groupby(type_avg.index.month).mean().to_clipboard()\n",
    "for y in [2017,2018,2019,2020,2021,2022]:\n",
    "    plt.plot(type_avg.loc[str(y),variable].values)\n",
    "\n",
    "plt.plot(mean_pclf.values,'k--',linewidth=3)\n",
    "plt.legend([2017,2018,2019,2020,2021,2022])"
   ]
  },
  {
   "cell_type": "code",
   "execution_count": null,
   "metadata": {},
   "outputs": [],
   "source": [
    "mean_pclf=coal_plants['UCLF %'].groupby(coal_plants.index.month).mean()\n",
    "for y in [2017,2018,2019,2020,2021,2022]:\n",
    "    plt.plot(coal_plants.loc[str(y),'UCLF %'].values)\n",
    "\n",
    "plt.plot(mean_pclf.values,'k--',linewidth=3)\n",
    "plt.legend([2017,2018,2019,2020,2021,2022])"
   ]
  },
  {
   "cell_type": "code",
   "execution_count": null,
   "metadata": {},
   "outputs": [],
   "source": [
    "plt.plot(eskom_data['coal_eaf'])\n",
    "plt.plot(df[df.type=='coal'].groupby('Date').sum()['capacity'].divide(df[df.type=='coal'].groupby('Date').sum()['MW']))\n",
    "plt.ylabel('Coal fleet EAF')"
   ]
  },
  {
   "cell_type": "code",
   "execution_count": null,
   "metadata": {},
   "outputs": [],
   "source": [
    "n365 = pypsa.Network('../results/version-0.6/networks/solved_za-original_27-supply_redz_lcopt_LC.nc')\n",
    "n365.generators.p_nom_opt[(n365.get_active_assets('Generator',2040)) & (n365.generators.carrier=='onwind')].plot.bar()"
   ]
  },
  {
   "cell_type": "code",
   "execution_count": null,
   "metadata": {},
   "outputs": [],
   "source": [
    "n350 = pypsa.Network('../results/version-0.6/networks/solved_za-original_27-supply_redz_lcopt_LC-350p.nc')\n",
    "n350.generators.p_nom_opt[(n350.get_active_assets('Generator',2040)) & (n350.generators.carrier=='onwind')].plot.bar()"
   ]
  },
  {
   "cell_type": "code",
   "execution_count": null,
   "metadata": {},
   "outputs": [],
   "source": [
    "n = pypsa.Network('../results/version-0.6/networks/solved_IRP-2019_RSA_redz_lcopt_LC.nc')"
   ]
  },
  {
   "cell_type": "code",
   "execution_count": null,
   "metadata": {},
   "outputs": [],
   "source": [
    "n[25] = pypsa.Network('../results/version-0.6/networks/solved_za-original_27-supply_redz_lcopt_LC-25p.nc')\n",
    "n[10] = pypsa.Network('../results/version-0.6/networks/solved_za-original_27-supply_redz_lcopt_LC-10p.nc')\n",
    "n[5] = pypsa.Network('../results/version-0.6/networks/solved_za-original_27-supply_redz_lcopt_LC-5p.nc')"
   ]
  },
  {
   "cell_type": "code",
   "execution_count": null,
   "metadata": {},
   "outputs": [],
   "source": [
    "#s={}\n",
    "#s[1200] = pypsa.Network('../results/version-0.6/networks/solved_za-original_27-supply_redz_lcopt_LC-1200SEG.nc')\n",
    "#s[2400] = pypsa.Network('../results/version-0.6/networks/solved_za-original_27-supply_redz_lcopt_LC-2400SEG.nc')\n",
    "s[3600] = pypsa.Network('../results/version-0.6/networks/solved_za-original_27-supply_redz_lcopt_LC-3600SEG.nc')"
   ]
  },
  {
   "cell_type": "code",
   "execution_count": null,
   "metadata": {},
   "outputs": [],
   "source": [
    "n={}\n",
    "n[365] = pypsa.Network('../results/version-0.6/networks/solved_za-original_27-supply_redz_lcopt_LC.nc')\n",
    "n[350] = pypsa.Network('../results/version-0.6/networks/solved_za-original_27-supply_redz_lcopt_LC-350p.nc')\n",
    "n[300] = pypsa.Network('../results/version-0.6/networks/solved_za-original_27-supply_redz_lcopt_LC-300p.nc')\n",
    "n[250] = pypsa.Network('../results/version-0.6/networks/solved_za-original_27-supply_redz_lcopt_LC-250p.nc')\n",
    "n[200] = pypsa.Network('../results/version-0.6/networks/solved_za-original_27-supply_redz_lcopt_LC-200p.nc')\n",
    "n[150] = pypsa.Network('../results/version-0.6/networks/solved_za-original_27-supply_redz_lcopt_LC-150p.nc')\n",
    "n[100] = pypsa.Network('../results/version-0.6/networks/solved_za-original_27-supply_redz_lcopt_LC-100p.nc')\n",
    "n[50] = pypsa.Network('../results/version-0.6/networks/solved_za-original_27-supply_redz_lcopt_LC-50p.nc')\n",
    "n[25] = pypsa.Network('../results/version-0.6/networks/solved_za-original_27-supply_redz_lcopt_LC-25p.nc')\n",
    "n[10] = pypsa.Network('../results/version-0.6/networks/solved_za-original_27-supply_redz_lcopt_LC-10p.nc')\n",
    "n[50] = pypsa.Network('../results/version-0.6/networks/solved_za-original_27-supply_redz_lcopt_LC-5p.nc')"
   ]
  },
  {
   "cell_type": "code",
   "execution_count": null,
   "metadata": {},
   "outputs": [],
   "source": [
    "n.investment_period_weightings"
   ]
  },
  {
   "cell_type": "code",
   "execution_count": null,
   "metadata": {},
   "outputs": [],
   "source": [
    "n.generators.p_nom_opt[n.get_active_assets('Generator',2025)].groupby(n.generators.carrier).sum()"
   ]
  },
  {
   "cell_type": "code",
   "execution_count": null,
   "metadata": {},
   "outputs": [],
   "source": [
    "n.generators.p_nom_opt[n.generators.carrier=='coal']"
   ]
  },
  {
   "cell_type": "code",
   "execution_count": null,
   "metadata": {},
   "outputs": [],
   "source": [
    "n.generators.p_nom_opt[n.generators.carrier=='solar']"
   ]
  },
  {
   "cell_type": "code",
   "execution_count": null,
   "metadata": {},
   "outputs": [],
   "source": [
    "nodes=[5,10,25,50,100,150,200,250,300,350,365]\n",
    "capacity = pd.DataFrame(0,index=n[365].generators.carrier.unique(),columns=nodes)\n",
    "for node in nodes:\n",
    "    p_nom_opt = n[node].generators.p_nom_opt.groupby(n365.generators.carrier).sum()\n",
    "    for tech in n365.generators.carrier:\n",
    "        capacity.loc[tech,node] = p_nom_opt[tech]\n"
   ]
  },
  {
   "cell_type": "code",
   "execution_count": null,
   "metadata": {},
   "outputs": [],
   "source": [
    "capacity = pd.DataFrame(0,index=n[365].generators.carrier,columns=nodes)"
   ]
  },
  {
   "cell_type": "code",
   "execution_count": null,
   "metadata": {},
   "outputs": [],
   "source": [
    "capacity.T.plot.area()"
   ]
  },
  {
   "cell_type": "code",
   "execution_count": null,
   "metadata": {},
   "outputs": [],
   "source": [
    "supply_regions = gpd.read_file(snakemake.input.supply_regions).buffer(-0.005) #.to_crs(n.crs)\n",
    "resarea = gpd.read_file(snakemake.input.resarea).to_crs(supply_regions.crs)"
   ]
  },
  {
   "cell_type": "code",
   "execution_count": null,
   "metadata": {},
   "outputs": [],
   "source": [
    "fig, ax = plt.subplots(figsize=[7, 7], subplot_kw={\"projection\": ccrs.PlateCarree()})\n",
    "n.plot(ax=ax, boundaries=[14, 34, -35, -22])"
   ]
  },
  {
   "cell_type": "code",
   "execution_count": null,
   "metadata": {},
   "outputs": [],
   "source": [
    "n.plot(ax=ax)"
   ]
  },
  {
   "cell_type": "code",
   "execution_count": null,
   "metadata": {},
   "outputs": [],
   "source": [
    "n.lines[['bus0','bus1','num_parallel','length','s_nom_min']]"
   ]
  },
  {
   "cell_type": "code",
   "execution_count": null,
   "metadata": {},
   "outputs": [],
   "source": [
    "n.lines['s_nom_opt']-n.lines['s_nom_min']"
   ]
  },
  {
   "cell_type": "code",
   "execution_count": null,
   "metadata": {},
   "outputs": [],
   "source": [
    "n.generators.p_nom_opt.groupby(n.generators.carrier).sum()"
   ]
  },
  {
   "cell_type": "code",
   "execution_count": null,
   "metadata": {},
   "outputs": [],
   "source": [
    "n.storage_units.p_nom_opt.groupby(n.storage_units.carrier=='battery').sum()"
   ]
  },
  {
   "cell_type": "code",
   "execution_count": null,
   "metadata": {},
   "outputs": [],
   "source": [
    "n.generators_t.p_max_pu['RSA onwind_2040'].mean()"
   ]
  },
  {
   "cell_type": "code",
   "execution_count": null,
   "metadata": {},
   "outputs": [],
   "source": [
    "n.generators_t.p['RSA onwind_2040'].mean()/n.generators.p_nom_opt['RSA onwind_2040']"
   ]
  },
  {
   "cell_type": "code",
   "execution_count": null,
   "metadata": {},
   "outputs": [],
   "source": [
    "co2_emi = (n.generators_t.p.sum()/n.generators.efficiency * n.generators.carrier.map(n.carriers.co2_emissions)).sum()\n",
    "co2_emi/1e6"
   ]
  },
  {
   "cell_type": "code",
   "execution_count": null,
   "metadata": {},
   "outputs": [],
   "source": [
    "n.investment_period_weightings"
   ]
  },
  {
   "cell_type": "code",
   "execution_count": null,
   "metadata": {},
   "outputs": [],
   "source": [
    "n.generators_t.p_max_pu.plot()"
   ]
  },
  {
   "cell_type": "code",
   "execution_count": null,
   "metadata": {},
   "outputs": [],
   "source": [
    "# Find the column name and index for all values equal to 5\n",
    "df = n.vars['Generator']['pnl']['p']\n",
    "value = 468128\n",
    "mask = df.eq(value)\n",
    "result = mask.where(mask).stack()\n",
    "print(result)\n"
   ]
  }
 ],
 "metadata": {
  "kernelspec": {
   "display_name": "Python 3.10.6 ('pypsa-eur')",
   "language": "python",
   "name": "python3"
  },
  "language_info": {
   "codemirror_mode": {
    "name": "ipython",
    "version": 3
   },
   "file_extension": ".py",
   "mimetype": "text/x-python",
   "name": "python",
   "nbconvert_exporter": "python",
   "pygments_lexer": "ipython3",
   "version": "3.10.6"
  },
  "orig_nbformat": 4,
  "vscode": {
   "interpreter": {
    "hash": "176109d3748470a01cf7c657233c4e326b36b49ffa10510176569af47614a650"
   }
  }
 },
 "nbformat": 4,
 "nbformat_minor": 2
}

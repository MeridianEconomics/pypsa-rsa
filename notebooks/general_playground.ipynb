{
 "cells": [
  {
   "cell_type": "code",
   "execution_count": 2,
   "metadata": {},
   "outputs": [],
   "source": [
    "import pypsa\n",
    "import pandas as pd\n",
    "import matplotlib.pyplot as plt\n",
    "sys.path.insert(1, '/mnt/d/GitHub/pypsa_utilities/eskom data/')\n",
    "\n",
    "import data_utilities as du\n",
    "import plotting_utilities as pu\n",
    "import financial_utilities as fu\n",
    "import xarray as xr"
   ]
  },
  {
   "cell_type": "code",
   "execution_count": null,
   "metadata": {},
   "outputs": [],
   "source": [
    "eskom_data=du.eskom_data('../data/ESK2546.csv')"
   ]
  },
  {
   "cell_type": "code",
   "execution_count": null,
   "metadata": {},
   "outputs": [],
   "source": [
    "df = pd.read_csv('../data/Eskom EAF data.csv',index_col=[1,0],parse_dates=True)\n",
    "df['capacity'] = df['EAF %']/100 * df['MW'] \n",
    "\n",
    "\n",
    "for y in [2017,2018,2019,2020,2021,2022]:\n",
    "    data=df.loc['Generation Total','PCLF %']\n",
    "    plt.plot(data[data.index.year==y].values)\n",
    "\n"
   ]
  },
  {
   "cell_type": "code",
   "execution_count": null,
   "metadata": {},
   "outputs": [],
   "source": [
    "df = pd.read_csv('../data/Eskom EAF data.csv',index_col=[1,0],parse_dates=True)\n",
    "df['capacity'] = df['EAF %']/100 * df['MW'] \n",
    "stations=df[df.type=='coal'].index.get_level_values(0)"
   ]
  },
  {
   "cell_type": "code",
   "execution_count": null,
   "metadata": {},
   "outputs": [],
   "source": [
    "stations"
   ]
  },
  {
   "cell_type": "code",
   "execution_count": null,
   "metadata": {},
   "outputs": [],
   "source": [
    "df = pd.read_csv('../data/Eskom EAF data.csv',index_col=[1,0],parse_dates=True)\n",
    "df['capacity'] = df['EAF %']/100 * df['MW'] \n",
    "stations=df[df.type=='coal'].index.get_level_values(0).unique()\n",
    "eaf=pd.DataFrame(0,index=stations,columns=range(2017,2023))\n",
    "planned=pd.DataFrame(0,index=stations,columns=range(2017,2023))\n",
    "unplanned=pd.DataFrame(0,index=stations,columns=range(2017,2023))\n",
    "for s in stations:\n",
    "    eaf.loc[s,:]=df.loc[s,'EAF %'].groupby(df.loc[s,'EAF %'].index.year).mean()\n",
    "    planned.loc[s,:]=df.loc[s,'PCLF %'].groupby(df.loc[s,'PCLF %'].index.year).mean()\n",
    "    unplanned.loc[s,:]=df.loc[s,'UCLF %'].groupby(df.loc[s,'UCLF %'].index.year).mean()+df.loc[s,'OCLF %'].groupby(df.loc[s,'OCLF %'].index.year).mean()"
   ]
  },
  {
   "cell_type": "code",
   "execution_count": null,
   "metadata": {},
   "outputs": [],
   "source": [
    "df = pd.read_csv('../data/Eskom EAF data.csv',index_col=[1,0],parse_dates=True)\n",
    "df['capacity'] = df['EAF %']/100 * df['MW'] \n",
    "df=df[df.type=='coal']\n",
    "df.index=df.index.get_level_values(1)\n",
    "variable='EAF %'\n",
    "type_avg=df.groupby(level=0).mean()\n",
    "type_avg.drop(['MW','capacity'],axis=1)\n",
    "type_avg.loc[:,variable].groupby(type_avg.index.year).mean()"
   ]
  },
  {
   "cell_type": "code",
   "execution_count": null,
   "metadata": {},
   "outputs": [],
   "source": [
    "df = pd.read_csv('../data/Eskom EAF data.csv',index_col=[1,0],parse_dates=True)\n",
    "df['capacity'] = df['EAF %']/100 * df['MW'] \n",
    "stations=df[df.type=='coal'].index.get_level_values(0)\n",
    "\n",
    "installed_capacity=pd.DataFrame(0,index=stations,columns=range(2017,2023))\n",
    "for s in stations:\n",
    "    for y in range(2017,2023):\n",
    "        installed_capacity.loc[s,y]=df.loc[(s,str(y)),'MW'].mean()"
   ]
  },
  {
   "cell_type": "code",
   "execution_count": null,
   "metadata": {},
   "outputs": [],
   "source": [
    "installed_capacity.to_clipboard()"
   ]
  },
  {
   "cell_type": "code",
   "execution_count": null,
   "metadata": {},
   "outputs": [],
   "source": [
    "mean_pclf=type_avg[variable].groupby(type_avg.index.month).mean().to_clipboard()\n",
    "for y in [2017,2018,2019,2020,2021,2022]:\n",
    "    plt.plot(type_avg.loc[str(y),variable].values)\n",
    "\n",
    "plt.plot(mean_pclf.values,'k--',linewidth=3)\n",
    "plt.legend([2017,2018,2019,2020,2021,2022])"
   ]
  },
  {
   "cell_type": "code",
   "execution_count": null,
   "metadata": {},
   "outputs": [],
   "source": [
    "mean_pclf=coal_plants['UCLF %'].groupby(coal_plants.index.month).mean()\n",
    "for y in [2017,2018,2019,2020,2021,2022]:\n",
    "    plt.plot(coal_plants.loc[str(y),'UCLF %'].values)\n",
    "\n",
    "plt.plot(mean_pclf.values,'k--',linewidth=3)\n",
    "plt.legend([2017,2018,2019,2020,2021,2022])"
   ]
  },
  {
   "cell_type": "code",
   "execution_count": null,
   "metadata": {},
   "outputs": [],
   "source": [
    "plt.plot(eskom_data['coal_eaf'])\n",
    "plt.plot(df[df.type=='coal'].groupby('Date').sum()['capacity'].divide(df[df.type=='coal'].groupby('Date').sum()['MW']))\n",
    "plt.ylabel('Coal fleet EAF')"
   ]
  },
  {
   "cell_type": "code",
   "execution_count": 212,
   "metadata": {},
   "outputs": [
    {
     "name": "stderr",
     "output_type": "stream",
     "text": [
      "INFO:pypsa.io:Imported network solved_za_original_27-supply_redz_lcopt_Co2L.nc has buses, carriers, generators, global_constraints, lines, loads, storage_units\n"
     ]
    }
   ],
   "source": [
    "n = pypsa.Network('../results/version-0.6/networks/solved_za_original_27-supply_redz_lcopt_Co2L.nc')"
   ]
  },
  {
   "cell_type": "code",
   "execution_count": 213,
   "metadata": {},
   "outputs": [
    {
     "data": {
      "text/plain": [
       "27.773794507377158"
      ]
     },
     "execution_count": 213,
     "metadata": {},
     "output_type": "execute_result"
    }
   ],
   "source": [
    "n.generators_t.p[n.generators[n.generators.carrier=='coal'].index].sum().sum()*n.carriers.loc['coal','co2_emissions']/1e6"
   ]
  },
  {
   "cell_type": "code",
   "execution_count": 182,
   "metadata": {},
   "outputs": [
    {
     "data": {
      "text/plain": [
       "Index(['Kendal', 'Kusile', 'MajubaDry', 'MajubaWet', 'Matimba', 'Medupi',\n",
       "       'Municipal_Coal', 'Sasol_SSF', 'RSA coal_2040'],\n",
       "      dtype='object', name='Generator')"
      ]
     },
     "execution_count": 182,
     "metadata": {},
     "output_type": "execute_result"
    }
   ],
   "source": [
    "n.generators[n.generators.carrier=='coal'].index"
   ]
  },
  {
   "cell_type": "code",
   "execution_count": 195,
   "metadata": {},
   "outputs": [
    {
     "data": {
      "text/plain": [
       "Generator\n",
       "Kendal               1.474924e+07\n",
       "Kusile               8.415800e+06\n",
       "MajubaDry            7.534441e+06\n",
       "MajubaWet            8.226581e+06\n",
       "Matimba              2.132717e+07\n",
       "Medupi               1.488773e+07\n",
       "Municipal_Coal       1.042342e+06\n",
       "Sasol_SSF            2.575943e+06\n",
       "GAUTENG coal_2040    1.038940e+02\n",
       "LIMPOPO coal_2040    9.774378e+01\n",
       "dtype: float64"
      ]
     },
     "execution_count": 195,
     "metadata": {},
     "output_type": "execute_result"
    }
   ],
   "source": [
    "n.generators_t.p[n.generators[n.generators.carrier=='coal'].index].sum()"
   ]
  },
  {
   "cell_type": "code",
   "execution_count": 176,
   "metadata": {},
   "outputs": [
    {
     "data": {
      "text/plain": [
       "0.354"
      ]
     },
     "execution_count": 176,
     "metadata": {},
     "output_type": "execute_result"
    }
   ],
   "source": [
    "n.carriers.loc['coal','co2_emissions']"
   ]
  },
  {
   "cell_type": "code",
   "execution_count": 214,
   "metadata": {},
   "outputs": [
    {
     "data": {
      "text/plain": [
       "carrier\n",
       "CCGT        1209.475642\n",
       "CSP          600.000000\n",
       "OCGT       24527.533363\n",
       "biomass      193.060000\n",
       "coal       18610.074049\n",
       "diesel      1005.000000\n",
       "gas          425.000000\n",
       "hydro       2447.020000\n",
       "nuclear     1854.063093\n",
       "onwind     77881.367380\n",
       "solar      42901.832989\n",
       "Name: p_nom_opt, dtype: float64"
      ]
     },
     "execution_count": 214,
     "metadata": {},
     "output_type": "execute_result"
    }
   ],
   "source": [
    "n.generators.p_nom_opt.groupby(n.generators.carrier).sum()"
   ]
  },
  {
   "cell_type": "code",
   "execution_count": 210,
   "metadata": {},
   "outputs": [
    {
     "data": {
      "text/plain": [
       "carrier\n",
       "False     2912.000000\n",
       "True     20183.865972\n",
       "Name: p_nom_opt, dtype: float64"
      ]
     },
     "execution_count": 210,
     "metadata": {},
     "output_type": "execute_result"
    }
   ],
   "source": [
    "n.storage_units.p_nom_opt.groupby(n.storage_units.carrier=='battery').sum()"
   ]
  },
  {
   "cell_type": "code",
   "execution_count": 155,
   "metadata": {},
   "outputs": [
    {
     "data": {
      "text/plain": [
       "0.36794823059360743"
      ]
     },
     "execution_count": 155,
     "metadata": {},
     "output_type": "execute_result"
    }
   ],
   "source": [
    "n.generators_t.p_max_pu['RSA onwind_2040'].mean()"
   ]
  },
  {
   "cell_type": "code",
   "execution_count": 207,
   "metadata": {},
   "outputs": [
    {
     "ename": "KeyError",
     "evalue": "'RSA solar_2040'",
     "output_type": "error",
     "traceback": [
      "\u001b[0;31m---------------------------------------------------------------------------\u001b[0m",
      "\u001b[0;31mKeyError\u001b[0m                                  Traceback (most recent call last)",
      "File \u001b[0;32m~/anaconda3/envs/pypsa-eur/lib/python3.9/site-packages/pandas/core/indexes/base.py:3621\u001b[0m, in \u001b[0;36mIndex.get_loc\u001b[0;34m(self, key, method, tolerance)\u001b[0m\n\u001b[1;32m   3620\u001b[0m \u001b[39mtry\u001b[39;00m:\n\u001b[0;32m-> 3621\u001b[0m     \u001b[39mreturn\u001b[39;00m \u001b[39mself\u001b[39;49m\u001b[39m.\u001b[39;49m_engine\u001b[39m.\u001b[39;49mget_loc(casted_key)\n\u001b[1;32m   3622\u001b[0m \u001b[39mexcept\u001b[39;00m \u001b[39mKeyError\u001b[39;00m \u001b[39mas\u001b[39;00m err:\n",
      "File \u001b[0;32m~/anaconda3/envs/pypsa-eur/lib/python3.9/site-packages/pandas/_libs/index.pyx:136\u001b[0m, in \u001b[0;36mpandas._libs.index.IndexEngine.get_loc\u001b[0;34m()\u001b[0m\n",
      "File \u001b[0;32m~/anaconda3/envs/pypsa-eur/lib/python3.9/site-packages/pandas/_libs/index.pyx:163\u001b[0m, in \u001b[0;36mpandas._libs.index.IndexEngine.get_loc\u001b[0;34m()\u001b[0m\n",
      "File \u001b[0;32mpandas/_libs/hashtable_class_helper.pxi:5198\u001b[0m, in \u001b[0;36mpandas._libs.hashtable.PyObjectHashTable.get_item\u001b[0;34m()\u001b[0m\n",
      "File \u001b[0;32mpandas/_libs/hashtable_class_helper.pxi:5206\u001b[0m, in \u001b[0;36mpandas._libs.hashtable.PyObjectHashTable.get_item\u001b[0;34m()\u001b[0m\n",
      "\u001b[0;31mKeyError\u001b[0m: 'RSA solar_2040'",
      "\nThe above exception was the direct cause of the following exception:\n",
      "\u001b[0;31mKeyError\u001b[0m                                  Traceback (most recent call last)",
      "\u001b[1;32m/mnt/d/GitHub/pypsa-za/notebooks/general_playground.ipynb Cell 21\u001b[0m in \u001b[0;36m<cell line: 1>\u001b[0;34m()\u001b[0m\n\u001b[0;32m----> <a href='vscode-notebook-cell://wsl%2Bubuntu/mnt/d/GitHub/pypsa-za/notebooks/general_playground.ipynb#X23sdnNjb2RlLXJlbW90ZQ%3D%3D?line=0'>1</a>\u001b[0m n\u001b[39m.\u001b[39;49mgenerators_t\u001b[39m.\u001b[39;49mp[\u001b[39m'\u001b[39;49m\u001b[39mRSA solar_2040\u001b[39;49m\u001b[39m'\u001b[39;49m]\u001b[39m.\u001b[39mmean()\u001b[39m/\u001b[39mn\u001b[39m.\u001b[39mgenerators\u001b[39m.\u001b[39mp_nom_opt[\u001b[39m'\u001b[39m\u001b[39mRSA solar_2040\u001b[39m\u001b[39m'\u001b[39m]\n",
      "File \u001b[0;32m~/anaconda3/envs/pypsa-eur/lib/python3.9/site-packages/pandas/core/frame.py:3505\u001b[0m, in \u001b[0;36mDataFrame.__getitem__\u001b[0;34m(self, key)\u001b[0m\n\u001b[1;32m   3503\u001b[0m \u001b[39mif\u001b[39;00m \u001b[39mself\u001b[39m\u001b[39m.\u001b[39mcolumns\u001b[39m.\u001b[39mnlevels \u001b[39m>\u001b[39m \u001b[39m1\u001b[39m:\n\u001b[1;32m   3504\u001b[0m     \u001b[39mreturn\u001b[39;00m \u001b[39mself\u001b[39m\u001b[39m.\u001b[39m_getitem_multilevel(key)\n\u001b[0;32m-> 3505\u001b[0m indexer \u001b[39m=\u001b[39m \u001b[39mself\u001b[39;49m\u001b[39m.\u001b[39;49mcolumns\u001b[39m.\u001b[39;49mget_loc(key)\n\u001b[1;32m   3506\u001b[0m \u001b[39mif\u001b[39;00m is_integer(indexer):\n\u001b[1;32m   3507\u001b[0m     indexer \u001b[39m=\u001b[39m [indexer]\n",
      "File \u001b[0;32m~/anaconda3/envs/pypsa-eur/lib/python3.9/site-packages/pandas/core/indexes/base.py:3623\u001b[0m, in \u001b[0;36mIndex.get_loc\u001b[0;34m(self, key, method, tolerance)\u001b[0m\n\u001b[1;32m   3621\u001b[0m     \u001b[39mreturn\u001b[39;00m \u001b[39mself\u001b[39m\u001b[39m.\u001b[39m_engine\u001b[39m.\u001b[39mget_loc(casted_key)\n\u001b[1;32m   3622\u001b[0m \u001b[39mexcept\u001b[39;00m \u001b[39mKeyError\u001b[39;00m \u001b[39mas\u001b[39;00m err:\n\u001b[0;32m-> 3623\u001b[0m     \u001b[39mraise\u001b[39;00m \u001b[39mKeyError\u001b[39;00m(key) \u001b[39mfrom\u001b[39;00m \u001b[39merr\u001b[39;00m\n\u001b[1;32m   3624\u001b[0m \u001b[39mexcept\u001b[39;00m \u001b[39mTypeError\u001b[39;00m:\n\u001b[1;32m   3625\u001b[0m     \u001b[39m# If we have a listlike key, _check_indexing_error will raise\u001b[39;00m\n\u001b[1;32m   3626\u001b[0m     \u001b[39m#  InvalidIndexError. Otherwise we fall through and re-raise\u001b[39;00m\n\u001b[1;32m   3627\u001b[0m     \u001b[39m#  the TypeError.\u001b[39;00m\n\u001b[1;32m   3628\u001b[0m     \u001b[39mself\u001b[39m\u001b[39m.\u001b[39m_check_indexing_error(key)\n",
      "\u001b[0;31mKeyError\u001b[0m: 'RSA solar_2040'"
     ]
    }
   ],
   "source": [
    "n.generators_t.p['RSA solar_2040'].mean()/n.generators.p_nom_opt['RSA solar_2040']"
   ]
  },
  {
   "cell_type": "code",
   "execution_count": 209,
   "metadata": {},
   "outputs": [
    {
     "data": {
      "text/plain": [
       "49.99998208501157"
      ]
     },
     "execution_count": 209,
     "metadata": {},
     "output_type": "execute_result"
    }
   ],
   "source": [
    "co2_emi = (n.generators_t.p.sum()/n.generators.efficiency * n.generators.carrier.map(n.carriers.co2_emissions)).sum()\n",
    "co2_emi/1e6"
   ]
  },
  {
   "cell_type": "code",
   "execution_count": 160,
   "metadata": {},
   "outputs": [
    {
     "data": {
      "text/html": [
       "<div>\n",
       "<style scoped>\n",
       "    .dataframe tbody tr th:only-of-type {\n",
       "        vertical-align: middle;\n",
       "    }\n",
       "\n",
       "    .dataframe tbody tr th {\n",
       "        vertical-align: top;\n",
       "    }\n",
       "\n",
       "    .dataframe thead th {\n",
       "        text-align: right;\n",
       "    }\n",
       "</style>\n",
       "<table border=\"1\" class=\"dataframe\">\n",
       "  <thead>\n",
       "    <tr style=\"text-align: right;\">\n",
       "      <th></th>\n",
       "      <th>objective</th>\n",
       "      <th>years</th>\n",
       "    </tr>\n",
       "    <tr>\n",
       "      <th>name</th>\n",
       "      <th></th>\n",
       "      <th></th>\n",
       "    </tr>\n",
       "  </thead>\n",
       "  <tbody>\n",
       "    <tr>\n",
       "      <th>2040</th>\n",
       "      <td>1</td>\n",
       "      <td>1</td>\n",
       "    </tr>\n",
       "  </tbody>\n",
       "</table>\n",
       "</div>"
      ],
      "text/plain": [
       "      objective  years\n",
       "name                  \n",
       "2040          1      1"
      ]
     },
     "execution_count": 160,
     "metadata": {},
     "output_type": "execute_result"
    }
   ],
   "source": [
    "n.investment_period_weightings"
   ]
  },
  {
   "cell_type": "code",
   "execution_count": null,
   "metadata": {},
   "outputs": [],
   "source": [
    "n.generators_t.p_max_pu.plot()"
   ]
  }
 ],
 "metadata": {
  "kernelspec": {
   "display_name": "Python 3.9.13 ('pypsa-eur')",
   "language": "python",
   "name": "python3"
  },
  "language_info": {
   "codemirror_mode": {
    "name": "ipython",
    "version": 3
   },
   "file_extension": ".py",
   "mimetype": "text/x-python",
   "name": "python",
   "nbconvert_exporter": "python",
   "pygments_lexer": "ipython3",
   "version": "3.9.13"
  },
  "orig_nbformat": 4,
  "vscode": {
   "interpreter": {
    "hash": "176109d3748470a01cf7c657233c4e326b36b49ffa10510176569af47614a650"
   }
  }
 },
 "nbformat": 4,
 "nbformat_minor": 2
}

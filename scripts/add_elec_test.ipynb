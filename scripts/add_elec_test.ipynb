{
 "cells": [
  {
   "cell_type": "code",
   "execution_count": 1,
   "metadata": {},
   "outputs": [],
   "source": [
    "import pypsa \n",
    "import pandas as pd\n",
    "import matplotlib.pyplot as plt\n",
    "import numpy as np\n",
    "from custom_constraints import set_operational_limits"
   ]
  },
  {
   "cell_type": "code",
   "execution_count": 2,
   "metadata": {},
   "outputs": [],
   "source": [
    "model_file = pd.ExcelFile(\"../data/model_file.xlsx\")\n",
    "model_setup = (\n",
    "    pd.read_excel(\n",
    "        model_file, \n",
    "        sheet_name=\"model_setup\",\n",
    "        index_col=[0])\n",
    "        .loc[\"grid-expansion\"]\n",
    ")\n"
   ]
  },
  {
   "cell_type": "code",
   "execution_count": 3,
   "metadata": {},
   "outputs": [
    {
     "name": "stderr",
     "output_type": "stream",
     "text": [
      "INFO:pypsa.io:Imported network pre_grid-2030-2040_11-supply_redz_lcopt_LC-300SEG.nc has buses, carriers, generators, global_constraints, lines, loads, storage_units\n"
     ]
    }
   ],
   "source": [
    "#n0 = pypsa.Network('../networks/elec_grid-2040_30-supply_redz.nc')\n",
    "n0 = pypsa.Network('../networks/pre_grid-2030-2040_11-supply_redz_lcopt_LC-300SEG.nc')"
   ]
  },
  {
   "cell_type": "code",
   "execution_count": 4,
   "metadata": {},
   "outputs": [],
   "source": [
    "n0.optimize.create_model(multi_investment_periods=True)\n",
    "set_operational_limits(n0, model_file, model_setup)\n",
    "# m.parameters = m.parameters.drop(\"snapshots\")\n",
    "# m.to_netcdf(\"test_network.nc\")"
   ]
  },
  {
   "cell_type": "code",
   "execution_count": 6,
   "metadata": {},
   "outputs": [
    {
     "name": "stderr",
     "output_type": "stream",
     "text": [
      "INFO:linopy.model: Solve problem using Xpress solver\n",
      "INFO:linopy.model:Solver options:\n",
      " - lpflags: 4\n",
      " - crossover: 0\n",
      "INFO:linopy.io:Writing objective.\n",
      "Writing constraints.: 100%|\u001b[38;2;128;191;255m██████████\u001b[0m| 41/41 [00:00<00:00, 73.54it/s]\n",
      "Writing continuous variables.: 100%|\u001b[38;2;128;191;255m██████████\u001b[0m| 9/9 [00:00<00:00, 122.78it/s]\n",
      "INFO:linopy.io: Writing time: 0.67s\n"
     ]
    },
    {
     "name": "stdout",
     "output_type": "stream",
     "text": [
      "Using the Community license in this session. If you have a full Xpress license, pass the full path to your license file to xpress.init(). If you want to use the FICO Community license and no longer want to see this message, use the following code before using the xpress module:\n",
      "  xpress.init('/home/pklein/anaconda3/envs/pypsa-earth-updated/lib/python3.10/site-packages/xpress/license/community-xpauth.xpr')\n",
      " \n",
      "Reading Problem linopy-problem-9kwrholo\n",
      "Problem Statistics\n",
      "      234647 (      0 spare) rows\n",
      "       88570 (      0 spare) structural columns\n",
      "      438890 (      0 spare) non-zero elements\n",
      "MIP Entity Statistics\n",
      "           0 entities        0 sets        0 set members\n",
      "FICO Xpress v9.1.2, Hyper, solve started 8:18:12, Nov 13, 2023\n",
      "Heap usage: 66MB (peak 104MB, 2567KB system)\n",
      "Minimizing LP linopy-problem-9kwrholo using up to 20 threads and up to 125GB memory, with these control settings:\n",
      "OUTPUTLOG = 1\n",
      "CROSSOVER = 0\n",
      "LPFLAGS = 4\n",
      "Original problem has:\n",
      "    234647 rows        88570 cols       438890 elements\n",
      " \n",
      " \n",
      "The problem is infeasible due to row c340171\n",
      "Presolve finished in 0 seconds\n",
      "Heap usage: 66MB (peak 104MB, 2567KB system)\n"
     ]
    },
    {
     "name": "stderr",
     "output_type": "stream",
     "text": [
      "WARNING:linopy.constants:Optimization failed: \n",
      "Status: warning\n",
      "Termination condition: infeasible\n",
      "Solution: 0 primals, 0 duals\n",
      "Objective: nan\n",
      "Solver model: available\n",
      "Solver message: lp_infeas\n",
      "\n"
     ]
    },
    {
     "data": {
      "text/plain": [
       "('warning', 'infeasible')"
      ]
     },
     "execution_count": 6,
     "metadata": {},
     "output_type": "execute_result"
    }
   ],
   "source": [
    "n0.optimize.solve_model(solver_name='xpress', solver_options = {\"lpflags\":4, \"crossover\":0})"
   ]
  },
  {
   "cell_type": "code",
   "execution_count": 7,
   "metadata": {},
   "outputs": [
    {
     "data": {
      "text/plain": [
       "Constraint `max-ocgt_diesel-week-2040` (week: 48):\n",
       "--------------------------------------------------\n",
       "[1]: +11 Generator-p[(2040, Timestamp('2040-01-02 06:00:00')), Eastern Cape-ocgt_diesel_IPP] + 13 Generator-p[(2040, Timestamp('2040-01-02 17:00:00')), Eastern Cape-ocgt_diesel_IPP] + 12 Generator-p[(2040, Timestamp('2040-01-03 06:00:00')), Eastern Cape-ocgt_diesel_IPP] ... -5.357 Generator-p_nom[Free State-ocgt_diesel-2040] - 3.826 Generator-p_nom[Free State-ocgt_diesel-2040] - 5.357 Generator-p_nom[Free State-ocgt_diesel-2040]   ≤ 67938.0\n",
       "[2]: +12 Generator-p[(2040, Timestamp('2040-01-09 07:00:00')), Eastern Cape-ocgt_diesel_IPP] + 14 Generator-p[(2040, Timestamp('2040-01-09 19:00:00')), Eastern Cape-ocgt_diesel_IPP] + 8 Generator-p[(2040, Timestamp('2040-01-10 09:00:00')), Eastern Cape-ocgt_diesel_IPP] ... -5.74 Generator-p_nom[Free State-ocgt_diesel-2040] - 3.444 Generator-p_nom[Free State-ocgt_diesel-2040] - 14.54 Generator-p_nom[Free State-ocgt_diesel-2040]     ≤ 67536.0\n",
       "[3]: +11 Generator-p[(2040, Timestamp('2040-01-16 07:00:00')), Eastern Cape-ocgt_diesel_IPP] + 181 Generator-p[(2040, Timestamp('2040-01-16 18:00:00')), Eastern Cape-ocgt_diesel_IPP] + 11 Generator-p[(2040, Timestamp('2040-01-16 07:00:00')), KwaZulu Natal-ocgt_diesel_IPP] ... -69.26 Generator-p_nom[Free State-ocgt_diesel-2030] - 4.209 Generator-p_nom[Free State-ocgt_diesel-2040] - 69.26 Generator-p_nom[Free State-ocgt_diesel-2040] ≤ 77184.0\n",
       "[4]: +10 Generator-p[(2040, Timestamp('2040-01-24 07:00:00')), Eastern Cape-ocgt_diesel_IPP] + 15 Generator-p[(2040, Timestamp('2040-01-24 17:00:00')), Eastern Cape-ocgt_diesel_IPP] + 9 Generator-p[(2040, Timestamp('2040-01-25 08:00:00')), Eastern Cape-ocgt_diesel_IPP] ... -5.74 Generator-p_nom[Free State-ocgt_diesel-2040] - 3.444 Generator-p_nom[Free State-ocgt_diesel-2040] - 60.46 Generator-p_nom[Free State-ocgt_diesel-2040]     ≤ 77184.0\n",
       "[5]: +10 Generator-p[(2040, Timestamp('2040-02-01 07:00:00')), Eastern Cape-ocgt_diesel_IPP] + 62 Generator-p[(2040, Timestamp('2040-02-01 17:00:00')), Eastern Cape-ocgt_diesel_IPP] + 10 Generator-p[(2040, Timestamp('2040-02-04 07:00:00')), Eastern Cape-ocgt_diesel_IPP] ... -4.476 Generator-p_nom[Free State-ocgt_diesel-2040] - 3.197 Generator-p_nom[Free State-ocgt_diesel-2040] - 12.47 Generator-p_nom[Free State-ocgt_diesel-2040]   ≤ 58290.0\n",
       "[6]: +10 Generator-p[(2040, Timestamp('2040-02-07 08:00:00')), Eastern Cape-ocgt_diesel_IPP] + 13 Generator-p[(2040, Timestamp('2040-02-07 18:00:00')), Eastern Cape-ocgt_diesel_IPP] + 11 Generator-p[(2040, Timestamp('2040-02-08 07:00:00')), Eastern Cape-ocgt_diesel_IPP] ... -4.156 Generator-p_nom[Free State-ocgt_diesel-2040] - 3.197 Generator-p_nom[Free State-ocgt_diesel-2040] - 43.16 Generator-p_nom[Free State-ocgt_diesel-2040]   ≤ 77184.0\n",
       "[7]: +10 Generator-p[(2040, Timestamp('2040-02-15 08:00:00')), Eastern Cape-ocgt_diesel_IPP] + 13 Generator-p[(2040, Timestamp('2040-02-15 18:00:00')), Eastern Cape-ocgt_diesel_IPP] + 11 Generator-p[(2040, Timestamp('2040-02-16 07:00:00')), Eastern Cape-ocgt_diesel_IPP] ... -4.156 Generator-p_nom[Free State-ocgt_diesel-2040] - 3.516 Generator-p_nom[Free State-ocgt_diesel-2040] - 34.85 Generator-p_nom[Free State-ocgt_diesel-2040]   ≤ 57486.0\n",
       "\t\t...\n",
       "[46]: +11 Generator-p[(2040, Timestamp('2040-11-12 06:00:00')), Eastern Cape-ocgt_diesel_IPP] + 15 Generator-p[(2040, Timestamp('2040-11-12 17:00:00')), Eastern Cape-ocgt_diesel_IPP] + 9 Generator-p[(2040, Timestamp('2040-11-13 08:00:00')), Eastern Cape-ocgt_diesel_IPP] ... -5.6 Generator-p_nom[Free State-ocgt_diesel-2040] - 2.8 Generator-p_nom[Free State-ocgt_diesel-2040] - 6 Generator-p_nom[Free State-ocgt_diesel-2040]           ≤ 67536.0\n",
       "[47]: +11 Generator-p[(2040, Timestamp('2040-11-19 06:00:00')), Eastern Cape-ocgt_diesel_IPP] + 37 Generator-p[(2040, Timestamp('2040-11-19 17:00:00')), Eastern Cape-ocgt_diesel_IPP] + 12 Generator-p[(2040, Timestamp('2040-11-21 06:00:00')), Eastern Cape-ocgt_diesel_IPP] ... -4.8 Generator-p_nom[Free State-ocgt_diesel-2040] - 4.8 Generator-p_nom[Free State-ocgt_diesel-2040] - 24.8 Generator-p_nom[Free State-ocgt_diesel-2040]       ≤ 77988.0\n",
       "[48]: +10 Generator-p[(2040, Timestamp('2040-11-27 08:00:00')), Eastern Cape-ocgt_diesel_IPP] + 12 Generator-p[(2040, Timestamp('2040-11-27 18:00:00')), Eastern Cape-ocgt_diesel_IPP] + 12 Generator-p[(2040, Timestamp('2040-11-28 06:00:00')), Eastern Cape-ocgt_diesel_IPP] ... -6 Generator-p_nom[Free State-ocgt_diesel-2040] - 4.383 Generator-p_nom[Free State-ocgt_diesel-2040] - 23.91 Generator-p_nom[Free State-ocgt_diesel-2040]      ≤ 66732.0\n",
       "[49]: +12 Generator-p[(2040, Timestamp('2040-12-04 06:00:00')), Eastern Cape-ocgt_diesel_IPP] + 14 Generator-p[(2040, Timestamp('2040-12-04 18:00:00')), Eastern Cape-ocgt_diesel_IPP] + 10 Generator-p[(2040, Timestamp('2040-12-05 08:00:00')), Eastern Cape-ocgt_diesel_IPP] ... -4.781 Generator-p_nom[Free State-ocgt_diesel-2040] - 4.383 Generator-p_nom[Free State-ocgt_diesel-2040] - 47.41 Generator-p_nom[Free State-ocgt_diesel-2040]  ≤ 77184.0\n",
       "[50]: +12 Generator-p[(2040, Timestamp('2040-12-12 06:00:00')), Eastern Cape-ocgt_diesel_IPP] + 86 Generator-p[(2040, Timestamp('2040-12-12 18:00:00')), Eastern Cape-ocgt_diesel_IPP] + 9 Generator-p[(2040, Timestamp('2040-12-16 08:00:00')), Eastern Cape-ocgt_diesel_IPP] ... -34.27 Generator-p_nom[Free State-ocgt_diesel-2040] - 3.586 Generator-p_nom[Free State-ocgt_diesel-2040] - 5.977 Generator-p_nom[Free State-ocgt_diesel-2040]   ≤ 49044.0\n",
       "[51]: +9 Generator-p[(2040, Timestamp('2040-12-17 08:00:00')), Eastern Cape-ocgt_diesel_IPP] + 16 Generator-p[(2040, Timestamp('2040-12-17 17:00:00')), Eastern Cape-ocgt_diesel_IPP] + 8 Generator-p[(2040, Timestamp('2040-12-18 09:00:00')), Eastern Cape-ocgt_diesel_IPP] ... -5.977 Generator-p_nom[Free State-ocgt_diesel-2040] - 3.586 Generator-p_nom[Free State-ocgt_diesel-2040] - 15.54 Generator-p_nom[Free State-ocgt_diesel-2040]    ≤ 77184.0\n",
       "[52]: +8 Generator-p[(2040, Timestamp('2040-01-01 00:00:00')), Eastern Cape-ocgt_diesel_IPP] + 10 Generator-p[(2040, Timestamp('2040-01-01 08:00:00')), Eastern Cape-ocgt_diesel_IPP] + 12 Generator-p[(2040, Timestamp('2040-01-01 18:00:00')), Eastern Cape-ocgt_diesel_IPP] ... -14.74 Generator-p_nom[Free State-ocgt_diesel-2040] - 3.586 Generator-p_nom[Free State-ocgt_diesel-2040] - 31.48 Generator-p_nom[Free State-ocgt_diesel-2040]   ≤ 76380.0"
      ]
     },
     "execution_count": 7,
     "metadata": {},
     "output_type": "execute_result"
    }
   ],
   "source": [
    "n0.model.constraints[\"max-ocgt_diesel-week-2040\"]"
   ]
  },
  {
   "cell_type": "code",
   "execution_count": null,
   "metadata": {},
   "outputs": [],
   "source": [
    "n0.model.variables.get_label_position(107)"
   ]
  },
  {
   "cell_type": "code",
   "execution_count": null,
   "metadata": {},
   "outputs": [],
   "source": [
    "n0.generators.p_nom_opt.groupby(n0.generators.carrier).sum()"
   ]
  },
  {
   "cell_type": "code",
   "execution_count": null,
   "metadata": {},
   "outputs": [],
   "source": [
    "n0.storage_units.query(\"carrier == 'phs'\").p_nom_opt"
   ]
  },
  {
   "cell_type": "code",
   "execution_count": null,
   "metadata": {},
   "outputs": [],
   "source": [
    "n0.generators_t.p[n0.generators[n0.generators.carrier==\"wind\"].index].sum()/1e6"
   ]
  },
  {
   "cell_type": "code",
   "execution_count": null,
   "metadata": {},
   "outputs": [],
   "source": [
    "n0.generators_t.p[n0.generators[n0.generators.carrier==\"coal\"].index].sum().sum()/1e6"
   ]
  },
  {
   "cell_type": "code",
   "execution_count": null,
   "metadata": {},
   "outputs": [],
   "source": [
    "n0.generators_t.p[n0.generators[n0.generators.carrier==\"solar_pv\"].index].sum().sum()/1e6"
   ]
  },
  {
   "cell_type": "code",
   "execution_count": null,
   "metadata": {},
   "outputs": [],
   "source": [
    "n0.loads_t.p_set.sum().sum()/1e6"
   ]
  },
  {
   "cell_type": "code",
   "execution_count": null,
   "metadata": {},
   "outputs": [],
   "source": [
    "n0.storage_units.query(\"carrier=='phs'\")"
   ]
  },
  {
   "cell_type": "code",
   "execution_count": null,
   "metadata": {},
   "outputs": [],
   "source": [
    "n0.statistics()"
   ]
  },
  {
   "cell_type": "code",
   "execution_count": null,
   "metadata": {},
   "outputs": [],
   "source": [
    "n0.loads_t.p_set.sum(axis=1).plot()"
   ]
  },
  {
   "cell_type": "code",
   "execution_count": null,
   "metadata": {},
   "outputs": [],
   "source": [
    "n0.generators_t.p_max_pu.mean()"
   ]
  },
  {
   "cell_type": "code",
   "execution_count": null,
   "metadata": {},
   "outputs": [],
   "source": [
    "n0.generators.query(\"p_nom_extendable == False\")"
   ]
  },
  {
   "cell_type": "code",
   "execution_count": null,
   "metadata": {},
   "outputs": [],
   "source": [
    "n0.generators_t.p.mean()"
   ]
  },
  {
   "cell_type": "code",
   "execution_count": null,
   "metadata": {},
   "outputs": [],
   "source": [
    "#n0.buses.loc[\"Northern Cape\", \"nom_max_wind\"] = 2000\n",
    "n0.buses.loc[\"Hydra Cluster\", \"nom_max_solar_pv\"] = 1000\n",
    "n0.buses.loc[\"Gauteng\", \"nom_min_nuclear\"] = 2200"
   ]
  },
  {
   "cell_type": "code",
   "execution_count": null,
   "metadata": {},
   "outputs": [],
   "source": [
    "#n0.export_to_netcdf('../networks/solved_elec_grid-expansion_11-supply_redz.nc')"
   ]
  },
  {
   "cell_type": "code",
   "execution_count": null,
   "metadata": {},
   "outputs": [],
   "source": [
    "model_setup = \"base\"\n",
    "model_file = pd.ExcelFile('../data/model_file.xlsx')\n",
    "\n",
    "ext_max_build = (\n",
    "    pd.read_excel(\n",
    "        model_file, \n",
    "        sheet_name='extendable_max_build',\n",
    "        index_col=[0,1,2,3])\n",
    ").loc[model_setup]\n",
    "ext_max_build.replace(\"unc\", np.inf, inplace=True)\n",
    "\n",
    "# global max build\n",
    "\n",
    "\n",
    "# bus-carrier max_build\n",
    "\n",
    "\n",
    "\n",
    "\n",
    "\n",
    "\n",
    "\n",
    "\n",
    "ext_min_build = (\n",
    "    pd.read_excel(\n",
    "        model_file, \n",
    "        sheet_name='extendable_min_build',\n",
    "        index_col=[0,1,2])\n",
    ").loc[model_setup]\n",
    "ext_min_build.replace(0, np.nan, inplace=True)\n",
    "\n",
    "# build_constraints = (pd.read_excel('../data/model_file.xlsx', \n",
    "#                             sheet_name='new_build_limits',\n",
    "#                             index_col=[0,1,2])).loc[model_setup['new_build_limits']]\n",
    "\n",
    "# max_build = build_constraints.loc['max_installed_limit'].fillna(100000)\n",
    "# min_build = build_constraints.loc['min_installed_limit']\n",
    "         \n"
   ]
  },
  {
   "cell_type": "code",
   "execution_count": null,
   "metadata": {},
   "outputs": [],
   "source": []
  },
  {
   "cell_type": "code",
   "execution_count": null,
   "metadata": {},
   "outputs": [],
   "source": [
    "ext_max_build.loc[(\"11-supply\",\"Western Cape\")]"
   ]
  },
  {
   "cell_type": "code",
   "execution_count": null,
   "metadata": {},
   "outputs": [],
   "source": [
    "n0.generators.p_nom_opt.groupby(n0.generators.carrier).sum()"
   ]
  },
  {
   "cell_type": "code",
   "execution_count": null,
   "metadata": {},
   "outputs": [],
   "source": [
    "n0.storage_units.p_nom_opt.groupby(n0.storage_units.carrier).sum()"
   ]
  },
  {
   "cell_type": "code",
   "execution_count": null,
   "metadata": {},
   "outputs": [],
   "source": [
    "n0.statistics()"
   ]
  }
 ],
 "metadata": {
  "kernelspec": {
   "display_name": "pypsa-za2",
   "language": "python",
   "name": "python3"
  },
  "language_info": {
   "codemirror_mode": {
    "name": "ipython",
    "version": 3
   },
   "file_extension": ".py",
   "mimetype": "text/x-python",
   "name": "python",
   "nbconvert_exporter": "python",
   "pygments_lexer": "ipython3",
   "version": "3.10.11"
  }
 },
 "nbformat": 4,
 "nbformat_minor": 2
}

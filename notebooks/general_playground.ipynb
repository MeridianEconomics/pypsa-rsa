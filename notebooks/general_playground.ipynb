{
 "cells": [
  {
   "cell_type": "code",
   "execution_count": 79,
   "metadata": {},
   "outputs": [],
   "source": [
    "import pypsa\n",
    "import pandas as pd\n",
    "import matplotlib.pyplot as plt\n",
    "sys.path.insert(1, '/home/pklein/Documents/GitHub/pypsa_utilities/eskom data/')\n",
    "\n",
    "import data_utilities as du\n",
    "import plotting_utilities as pu\n",
    "import financial_utilities as fu\n",
    "import xarray as xr\n",
    "import cartopy.crs as ccrs\n",
    "from pypsa.descriptors import get_switchable_as_dense as get_as_dense\n",
    "import geopandas as gpd\n",
    "import rasterio\n",
    "from rasterio.plot import show\n",
    "import numpy as np\n",
    "from shapely.geometry import shape\n",
    "import rioxarray"
   ]
  },
  {
   "cell_type": "code",
   "execution_count": 75,
   "metadata": {},
   "outputs": [
    {
     "ename": "AttributeError",
     "evalue": "'DatasetReader' object has no attribute 'astype'",
     "output_type": "error",
     "traceback": [
      "\u001b[0;31m---------------------------------------------------------------------------\u001b[0m",
      "\u001b[0;31mAttributeError\u001b[0m                            Traceback (most recent call last)",
      "Cell \u001b[0;32mIn [75], line 8\u001b[0m\n\u001b[1;32m      5\u001b[0m \u001b[39m# read the data and create the shapes \u001b[39;00m\n\u001b[1;32m      6\u001b[0m data \u001b[39m=\u001b[39m rasterio\u001b[39m.\u001b[39mopen(\u001b[39m'\u001b[39m\u001b[39m../data/bundle/ZAF_capacity-factor_IEC32.tif\u001b[39m\u001b[39m'\u001b[39m)\n\u001b[0;32m----> 8\u001b[0m data \u001b[39m=\u001b[39m data\u001b[39m.\u001b[39;49mastype(\u001b[39m'\u001b[39m\u001b[39mint16\u001b[39m\u001b[39m'\u001b[39m)\n\u001b[1;32m      9\u001b[0m shapes \u001b[39m=\u001b[39m rasterio\u001b[39m.\u001b[39mfeatures\u001b[39m.\u001b[39mshapes(data)\n",
      "\u001b[0;31mAttributeError\u001b[0m: 'DatasetReader' object has no attribute 'astype'"
     ]
    }
   ],
   "source": [
    "import geopandas as gpd\n",
    "import rasterio\n",
    "from shapely.geometry import shape\n",
    "\n",
    "# read the data and create the shapes \n",
    "data = rasterio.open('../data/bundle/ZAF_capacity-factor_IEC32.tif')\n",
    "    \n",
    "data = data.astype('int16')\n",
    "shapes = rasterio.features.shapes(data)\n"
   ]
  },
  {
   "cell_type": "code",
   "execution_count": null,
   "metadata": {},
   "outputs": [],
   "source": [
    "\n",
    "# read the shapes as separate lists\n",
    "deforestation = []\n",
    "geometry = []\n",
    "for shapedict, value in shapes:\n",
    "    deforestation.append(value)\n",
    "    geometry.append(shape(shapedict))\n",
    "\n",
    "# build the gdf object over the two lists\n",
    "gdf = gpd.GeoDataFrame(\n",
    "    {'deforestation': deforestation, 'geometry': geometry },\n",
    "    crs=\"EPSG:4326\"\n",
    ")"
   ]
  },
  {
   "cell_type": "code",
   "execution_count": 62,
   "metadata": {},
   "outputs": [],
   "source": [
    "dataset = rasterio.open('../data/bundle/ZAF_capacity-factor_IEC32.tif')"
   ]
  },
  {
   "cell_type": "code",
   "execution_count": 70,
   "metadata": {},
   "outputs": [
    {
     "data": {
      "text/plain": [
       "array([0.27727687, 0.2821858 ], dtype=float32)"
      ]
     },
     "execution_count": 70,
     "metadata": {},
     "output_type": "execute_result"
    }
   ],
   "source": [
    "band1=np.nan_to_num(dataset.read(1),-1)\n",
    "height = band1.shape[0] #y\n",
    "width = band1.shape[1] #x\n",
    "x=[24.61,25,]\n",
    "y=[-29.71,-29.71]\n",
    "row, col = dataset.index(x, y)\n",
    "band1[row, col]"
   ]
  },
  {
   "cell_type": "code",
   "execution_count": 72,
   "metadata": {},
   "outputs": [
    {
     "data": {
      "text/plain": [
       "BoundingBox(left=13.334072682, bottom=-50.314231252, right=42.844072682, top=-22.136731252)"
      ]
     },
     "execution_count": 72,
     "metadata": {},
     "output_type": "execute_result"
    }
   ],
   "source": [
    "dataset.bounds"
   ]
  },
  {
   "cell_type": "code",
   "execution_count": 64,
   "metadata": {},
   "outputs": [],
   "source": [
    "gt = dataset.transform\n",
    "pixelSizeX = gt[0]\n",
    "pixelSizeY =-gt[4]"
   ]
  },
  {
   "cell_type": "code",
   "execution_count": 67,
   "metadata": {},
   "outputs": [
    {
     "data": {
      "text/plain": [
       "0.0024999999999999996"
      ]
     },
     "execution_count": 67,
     "metadata": {},
     "output_type": "execute_result"
    }
   ],
   "source": [
    "pixelSizeX"
   ]
  },
  {
   "cell_type": "code",
   "execution_count": 60,
   "metadata": {},
   "outputs": [
    {
     "data": {
      "text/plain": [
       "(11271, 11804)"
      ]
     },
     "execution_count": 60,
     "metadata": {},
     "output_type": "execute_result"
    }
   ],
   "source": [
    "np.shape(dataset)"
   ]
  },
  {
   "cell_type": "code",
   "execution_count": 15,
   "metadata": {},
   "outputs": [
    {
     "name": "stdout",
     "output_type": "stream",
     "text": [
      "Band1 has shape (11271, 11804)\n",
      "lons shape (11271, 11804)\n"
     ]
    }
   ],
   "source": [
    "file_name = '../data/bundle/ZAF_capacity-factor_IEC3.tif'\n",
    "with rasterio.open(file_name) as src:\n",
    "    band1 = src.read(1)\n",
    "    print('Band1 has shape', band1.shape)\n",
    "    height = band1.shape[0]\n",
    "    width = band1.shape[1]\n",
    "    cols, rows = np.meshgrid(np.arange(width), np.arange(height))\n",
    "    xs, ys = rasterio.transform.xy(src.transform, rows, cols)\n",
    "    lons= np.array(xs)\n",
    "    lats = np.array(ys)\n",
    "    print('lons shape', lons.shape)"
   ]
  },
  {
   "cell_type": "code",
   "execution_count": 36,
   "metadata": {},
   "outputs": [
    {
     "data": {
      "text/plain": [
       "11804"
      ]
     },
     "execution_count": 36,
     "metadata": {},
     "output_type": "execute_result"
    }
   ],
   "source": [
    "len(lons[1])"
   ]
  },
  {
   "cell_type": "code",
   "execution_count": 32,
   "metadata": {},
   "outputs": [
    {
     "data": {
      "text/html": [
       "<div>\n",
       "<style scoped>\n",
       "    .dataframe tbody tr th:only-of-type {\n",
       "        vertical-align: middle;\n",
       "    }\n",
       "\n",
       "    .dataframe tbody tr th {\n",
       "        vertical-align: top;\n",
       "    }\n",
       "\n",
       "    .dataframe thead th {\n",
       "        text-align: right;\n",
       "    }\n",
       "</style>\n",
       "<table border=\"1\" class=\"dataframe\">\n",
       "  <thead>\n",
       "    <tr style=\"text-align: right;\">\n",
       "      <th></th>\n",
       "      <th>0</th>\n",
       "      <th>1</th>\n",
       "      <th>2</th>\n",
       "      <th>3</th>\n",
       "      <th>4</th>\n",
       "      <th>5</th>\n",
       "      <th>6</th>\n",
       "      <th>7</th>\n",
       "      <th>8</th>\n",
       "      <th>9</th>\n",
       "      <th>...</th>\n",
       "      <th>11794</th>\n",
       "      <th>11795</th>\n",
       "      <th>11796</th>\n",
       "      <th>11797</th>\n",
       "      <th>11798</th>\n",
       "      <th>11799</th>\n",
       "      <th>11800</th>\n",
       "      <th>11801</th>\n",
       "      <th>11802</th>\n",
       "      <th>11803</th>\n",
       "    </tr>\n",
       "  </thead>\n",
       "  <tbody>\n",
       "    <tr>\n",
       "      <th>0</th>\n",
       "      <td>-1.0</td>\n",
       "      <td>-1.0</td>\n",
       "      <td>-1.0</td>\n",
       "      <td>-1.0</td>\n",
       "      <td>-1.0</td>\n",
       "      <td>-1.0</td>\n",
       "      <td>-1.0</td>\n",
       "      <td>-1.0</td>\n",
       "      <td>-1.0</td>\n",
       "      <td>-1.0</td>\n",
       "      <td>...</td>\n",
       "      <td>-1.0</td>\n",
       "      <td>-1.0</td>\n",
       "      <td>-1.0</td>\n",
       "      <td>-1.0</td>\n",
       "      <td>-1.0</td>\n",
       "      <td>-1.0</td>\n",
       "      <td>-1.0</td>\n",
       "      <td>-1.0</td>\n",
       "      <td>-1.0</td>\n",
       "      <td>-1.0</td>\n",
       "    </tr>\n",
       "    <tr>\n",
       "      <th>1</th>\n",
       "      <td>-1.0</td>\n",
       "      <td>-1.0</td>\n",
       "      <td>-1.0</td>\n",
       "      <td>-1.0</td>\n",
       "      <td>-1.0</td>\n",
       "      <td>-1.0</td>\n",
       "      <td>-1.0</td>\n",
       "      <td>-1.0</td>\n",
       "      <td>-1.0</td>\n",
       "      <td>-1.0</td>\n",
       "      <td>...</td>\n",
       "      <td>-1.0</td>\n",
       "      <td>-1.0</td>\n",
       "      <td>-1.0</td>\n",
       "      <td>-1.0</td>\n",
       "      <td>-1.0</td>\n",
       "      <td>-1.0</td>\n",
       "      <td>-1.0</td>\n",
       "      <td>-1.0</td>\n",
       "      <td>-1.0</td>\n",
       "      <td>-1.0</td>\n",
       "    </tr>\n",
       "    <tr>\n",
       "      <th>2</th>\n",
       "      <td>-1.0</td>\n",
       "      <td>-1.0</td>\n",
       "      <td>-1.0</td>\n",
       "      <td>-1.0</td>\n",
       "      <td>-1.0</td>\n",
       "      <td>-1.0</td>\n",
       "      <td>-1.0</td>\n",
       "      <td>-1.0</td>\n",
       "      <td>-1.0</td>\n",
       "      <td>-1.0</td>\n",
       "      <td>...</td>\n",
       "      <td>-1.0</td>\n",
       "      <td>-1.0</td>\n",
       "      <td>-1.0</td>\n",
       "      <td>-1.0</td>\n",
       "      <td>-1.0</td>\n",
       "      <td>-1.0</td>\n",
       "      <td>-1.0</td>\n",
       "      <td>-1.0</td>\n",
       "      <td>-1.0</td>\n",
       "      <td>-1.0</td>\n",
       "    </tr>\n",
       "    <tr>\n",
       "      <th>3</th>\n",
       "      <td>-1.0</td>\n",
       "      <td>-1.0</td>\n",
       "      <td>-1.0</td>\n",
       "      <td>-1.0</td>\n",
       "      <td>-1.0</td>\n",
       "      <td>-1.0</td>\n",
       "      <td>-1.0</td>\n",
       "      <td>-1.0</td>\n",
       "      <td>-1.0</td>\n",
       "      <td>-1.0</td>\n",
       "      <td>...</td>\n",
       "      <td>-1.0</td>\n",
       "      <td>-1.0</td>\n",
       "      <td>-1.0</td>\n",
       "      <td>-1.0</td>\n",
       "      <td>-1.0</td>\n",
       "      <td>-1.0</td>\n",
       "      <td>-1.0</td>\n",
       "      <td>-1.0</td>\n",
       "      <td>-1.0</td>\n",
       "      <td>-1.0</td>\n",
       "    </tr>\n",
       "    <tr>\n",
       "      <th>4</th>\n",
       "      <td>-1.0</td>\n",
       "      <td>-1.0</td>\n",
       "      <td>-1.0</td>\n",
       "      <td>-1.0</td>\n",
       "      <td>-1.0</td>\n",
       "      <td>-1.0</td>\n",
       "      <td>-1.0</td>\n",
       "      <td>-1.0</td>\n",
       "      <td>-1.0</td>\n",
       "      <td>-1.0</td>\n",
       "      <td>...</td>\n",
       "      <td>-1.0</td>\n",
       "      <td>-1.0</td>\n",
       "      <td>-1.0</td>\n",
       "      <td>-1.0</td>\n",
       "      <td>-1.0</td>\n",
       "      <td>-1.0</td>\n",
       "      <td>-1.0</td>\n",
       "      <td>-1.0</td>\n",
       "      <td>-1.0</td>\n",
       "      <td>-1.0</td>\n",
       "    </tr>\n",
       "    <tr>\n",
       "      <th>...</th>\n",
       "      <td>...</td>\n",
       "      <td>...</td>\n",
       "      <td>...</td>\n",
       "      <td>...</td>\n",
       "      <td>...</td>\n",
       "      <td>...</td>\n",
       "      <td>...</td>\n",
       "      <td>...</td>\n",
       "      <td>...</td>\n",
       "      <td>...</td>\n",
       "      <td>...</td>\n",
       "      <td>...</td>\n",
       "      <td>...</td>\n",
       "      <td>...</td>\n",
       "      <td>...</td>\n",
       "      <td>...</td>\n",
       "      <td>...</td>\n",
       "      <td>...</td>\n",
       "      <td>...</td>\n",
       "      <td>...</td>\n",
       "      <td>...</td>\n",
       "    </tr>\n",
       "    <tr>\n",
       "      <th>11266</th>\n",
       "      <td>-1.0</td>\n",
       "      <td>-1.0</td>\n",
       "      <td>-1.0</td>\n",
       "      <td>-1.0</td>\n",
       "      <td>-1.0</td>\n",
       "      <td>-1.0</td>\n",
       "      <td>-1.0</td>\n",
       "      <td>-1.0</td>\n",
       "      <td>-1.0</td>\n",
       "      <td>-1.0</td>\n",
       "      <td>...</td>\n",
       "      <td>-1.0</td>\n",
       "      <td>-1.0</td>\n",
       "      <td>-1.0</td>\n",
       "      <td>-1.0</td>\n",
       "      <td>-1.0</td>\n",
       "      <td>-1.0</td>\n",
       "      <td>-1.0</td>\n",
       "      <td>-1.0</td>\n",
       "      <td>-1.0</td>\n",
       "      <td>-1.0</td>\n",
       "    </tr>\n",
       "    <tr>\n",
       "      <th>11267</th>\n",
       "      <td>-1.0</td>\n",
       "      <td>-1.0</td>\n",
       "      <td>-1.0</td>\n",
       "      <td>-1.0</td>\n",
       "      <td>-1.0</td>\n",
       "      <td>-1.0</td>\n",
       "      <td>-1.0</td>\n",
       "      <td>-1.0</td>\n",
       "      <td>-1.0</td>\n",
       "      <td>-1.0</td>\n",
       "      <td>...</td>\n",
       "      <td>-1.0</td>\n",
       "      <td>-1.0</td>\n",
       "      <td>-1.0</td>\n",
       "      <td>-1.0</td>\n",
       "      <td>-1.0</td>\n",
       "      <td>-1.0</td>\n",
       "      <td>-1.0</td>\n",
       "      <td>-1.0</td>\n",
       "      <td>-1.0</td>\n",
       "      <td>-1.0</td>\n",
       "    </tr>\n",
       "    <tr>\n",
       "      <th>11268</th>\n",
       "      <td>-1.0</td>\n",
       "      <td>-1.0</td>\n",
       "      <td>-1.0</td>\n",
       "      <td>-1.0</td>\n",
       "      <td>-1.0</td>\n",
       "      <td>-1.0</td>\n",
       "      <td>-1.0</td>\n",
       "      <td>-1.0</td>\n",
       "      <td>-1.0</td>\n",
       "      <td>-1.0</td>\n",
       "      <td>...</td>\n",
       "      <td>-1.0</td>\n",
       "      <td>-1.0</td>\n",
       "      <td>-1.0</td>\n",
       "      <td>-1.0</td>\n",
       "      <td>-1.0</td>\n",
       "      <td>-1.0</td>\n",
       "      <td>-1.0</td>\n",
       "      <td>-1.0</td>\n",
       "      <td>-1.0</td>\n",
       "      <td>-1.0</td>\n",
       "    </tr>\n",
       "    <tr>\n",
       "      <th>11269</th>\n",
       "      <td>-1.0</td>\n",
       "      <td>-1.0</td>\n",
       "      <td>-1.0</td>\n",
       "      <td>-1.0</td>\n",
       "      <td>-1.0</td>\n",
       "      <td>-1.0</td>\n",
       "      <td>-1.0</td>\n",
       "      <td>-1.0</td>\n",
       "      <td>-1.0</td>\n",
       "      <td>-1.0</td>\n",
       "      <td>...</td>\n",
       "      <td>-1.0</td>\n",
       "      <td>-1.0</td>\n",
       "      <td>-1.0</td>\n",
       "      <td>-1.0</td>\n",
       "      <td>-1.0</td>\n",
       "      <td>-1.0</td>\n",
       "      <td>-1.0</td>\n",
       "      <td>-1.0</td>\n",
       "      <td>-1.0</td>\n",
       "      <td>-1.0</td>\n",
       "    </tr>\n",
       "    <tr>\n",
       "      <th>11270</th>\n",
       "      <td>-1.0</td>\n",
       "      <td>-1.0</td>\n",
       "      <td>-1.0</td>\n",
       "      <td>-1.0</td>\n",
       "      <td>-1.0</td>\n",
       "      <td>-1.0</td>\n",
       "      <td>-1.0</td>\n",
       "      <td>-1.0</td>\n",
       "      <td>-1.0</td>\n",
       "      <td>-1.0</td>\n",
       "      <td>...</td>\n",
       "      <td>-1.0</td>\n",
       "      <td>-1.0</td>\n",
       "      <td>-1.0</td>\n",
       "      <td>-1.0</td>\n",
       "      <td>-1.0</td>\n",
       "      <td>-1.0</td>\n",
       "      <td>-1.0</td>\n",
       "      <td>-1.0</td>\n",
       "      <td>-1.0</td>\n",
       "      <td>-1.0</td>\n",
       "    </tr>\n",
       "  </tbody>\n",
       "</table>\n",
       "<p>11271 rows × 11804 columns</p>\n",
       "</div>"
      ],
      "text/plain": [
       "       0      1      2      3      4      5      6      7      8      9      \\\n",
       "0       -1.0   -1.0   -1.0   -1.0   -1.0   -1.0   -1.0   -1.0   -1.0   -1.0   \n",
       "1       -1.0   -1.0   -1.0   -1.0   -1.0   -1.0   -1.0   -1.0   -1.0   -1.0   \n",
       "2       -1.0   -1.0   -1.0   -1.0   -1.0   -1.0   -1.0   -1.0   -1.0   -1.0   \n",
       "3       -1.0   -1.0   -1.0   -1.0   -1.0   -1.0   -1.0   -1.0   -1.0   -1.0   \n",
       "4       -1.0   -1.0   -1.0   -1.0   -1.0   -1.0   -1.0   -1.0   -1.0   -1.0   \n",
       "...      ...    ...    ...    ...    ...    ...    ...    ...    ...    ...   \n",
       "11266   -1.0   -1.0   -1.0   -1.0   -1.0   -1.0   -1.0   -1.0   -1.0   -1.0   \n",
       "11267   -1.0   -1.0   -1.0   -1.0   -1.0   -1.0   -1.0   -1.0   -1.0   -1.0   \n",
       "11268   -1.0   -1.0   -1.0   -1.0   -1.0   -1.0   -1.0   -1.0   -1.0   -1.0   \n",
       "11269   -1.0   -1.0   -1.0   -1.0   -1.0   -1.0   -1.0   -1.0   -1.0   -1.0   \n",
       "11270   -1.0   -1.0   -1.0   -1.0   -1.0   -1.0   -1.0   -1.0   -1.0   -1.0   \n",
       "\n",
       "       ...  11794  11795  11796  11797  11798  11799  11800  11801  11802  \\\n",
       "0      ...   -1.0   -1.0   -1.0   -1.0   -1.0   -1.0   -1.0   -1.0   -1.0   \n",
       "1      ...   -1.0   -1.0   -1.0   -1.0   -1.0   -1.0   -1.0   -1.0   -1.0   \n",
       "2      ...   -1.0   -1.0   -1.0   -1.0   -1.0   -1.0   -1.0   -1.0   -1.0   \n",
       "3      ...   -1.0   -1.0   -1.0   -1.0   -1.0   -1.0   -1.0   -1.0   -1.0   \n",
       "4      ...   -1.0   -1.0   -1.0   -1.0   -1.0   -1.0   -1.0   -1.0   -1.0   \n",
       "...    ...    ...    ...    ...    ...    ...    ...    ...    ...    ...   \n",
       "11266  ...   -1.0   -1.0   -1.0   -1.0   -1.0   -1.0   -1.0   -1.0   -1.0   \n",
       "11267  ...   -1.0   -1.0   -1.0   -1.0   -1.0   -1.0   -1.0   -1.0   -1.0   \n",
       "11268  ...   -1.0   -1.0   -1.0   -1.0   -1.0   -1.0   -1.0   -1.0   -1.0   \n",
       "11269  ...   -1.0   -1.0   -1.0   -1.0   -1.0   -1.0   -1.0   -1.0   -1.0   \n",
       "11270  ...   -1.0   -1.0   -1.0   -1.0   -1.0   -1.0   -1.0   -1.0   -1.0   \n",
       "\n",
       "       11803  \n",
       "0       -1.0  \n",
       "1       -1.0  \n",
       "2       -1.0  \n",
       "3       -1.0  \n",
       "4       -1.0  \n",
       "...      ...  \n",
       "11266   -1.0  \n",
       "11267   -1.0  \n",
       "11268   -1.0  \n",
       "11269   -1.0  \n",
       "11270   -1.0  \n",
       "\n",
       "[11271 rows x 11804 columns]"
      ]
     },
     "execution_count": 32,
     "metadata": {},
     "output_type": "execute_result"
    }
   ],
   "source": [
    "pd.DataFrame(band1,index=rows.T[1],columns=cols[1]).fillna(-1)"
   ]
  },
  {
   "cell_type": "code",
   "execution_count": 3,
   "metadata": {},
   "outputs": [],
   "source": [
    "src = rasterio.open('../data/bundle/ZAF_capacity-factor_IEC3.tif')"
   ]
  },
  {
   "cell_type": "code",
   "execution_count": 9,
   "metadata": {},
   "outputs": [],
   "source": [
    "src2=np.nan_to_num(src.read(1),-1)"
   ]
  },
  {
   "cell_type": "code",
   "execution_count": 14,
   "metadata": {},
   "outputs": [
    {
     "data": {
      "text/plain": [
       "0.0"
      ]
     },
     "execution_count": 14,
     "metadata": {},
     "output_type": "execute_result"
    }
   ],
   "source": [
    "src2.min()"
   ]
  },
  {
   "cell_type": "code",
   "execution_count": 93,
   "metadata": {},
   "outputs": [
    {
     "ename": "AttributeError",
     "evalue": "module 'rasterio' has no attribute 'plot'",
     "output_type": "error",
     "traceback": [
      "\u001b[0;31m---------------------------------------------------------------------------\u001b[0m",
      "\u001b[0;31mAttributeError\u001b[0m                            Traceback (most recent call last)",
      "Cell \u001b[0;32mIn [93], line 5\u001b[0m\n\u001b[1;32m      3\u001b[0m \u001b[39m# transform rasterio plot to real world coords\u001b[39;00m\n\u001b[1;32m      4\u001b[0m extent\u001b[39m=\u001b[39m[src\u001b[39m.\u001b[39mbounds[\u001b[39m0\u001b[39m], src\u001b[39m.\u001b[39mbounds[\u001b[39m2\u001b[39m], src\u001b[39m.\u001b[39mbounds[\u001b[39m1\u001b[39m], src\u001b[39m.\u001b[39mbounds[\u001b[39m3\u001b[39m]]\n\u001b[0;32m----> 5\u001b[0m ax \u001b[39m=\u001b[39m rasterio\u001b[39m.\u001b[39;49mplot\u001b[39m.\u001b[39mshow(src, extent\u001b[39m=\u001b[39mextent, ax\u001b[39m=\u001b[39max, cmap\u001b[39m=\u001b[39m\u001b[39m'\u001b[39m\u001b[39mpink\u001b[39m\u001b[39m'\u001b[39m)\n",
      "\u001b[0;31mAttributeError\u001b[0m: module 'rasterio' has no attribute 'plot'"
     ]
    },
    {
     "data": {
      "image/png": "[encoded data removed]",
      "text/plain": [
       "<Figure size 640x480 with 1 Axes>"
      ]
     },
     "metadata": {},
     "output_type": "display_data"
    }
   ],
   "source": [
    "fig, ax = plt.subplots()\n",
    "\n",
    "# transform rasterio plot to real world coords\n",
    "extent=[src.bounds[0], src.bounds[2], src.bounds[1], src.bounds[3]]\n",
    "ax = rasterio.plot.show(src, extent=extent, ax=ax, cmap='pink')\n",
    "\n",
    "#gdf.plot(ax=ax)"
   ]
  },
  {
   "cell_type": "code",
   "execution_count": 68,
   "metadata": {},
   "outputs": [],
   "source": [
    "import rioxarray as rxr\n",
    "import xarray as xr\n",
    "\n",
    "dataarray = rxr.open_rasterio('../data/bundle/ZAF_capacity-factor_IEC3.tif')\n",
    "#dataarray = xr.open_rasterio('../data/testGeo.tif')\n",
    "\n",
    "df = dataarray[1].to_pandas()"
   ]
  },
  {
   "cell_type": "code",
   "execution_count": 88,
   "metadata": {},
   "outputs": [
    {
     "data": {
      "text/plain": [
       "<AxesSubplot: xlabel='y'>"
      ]
     },
     "execution_count": 88,
     "metadata": {},
     "output_type": "execute_result"
    },
    {
     "name": "stdout",
     "output_type": "stream",
     "text": [
      "Error in callback <function _draw_all_if_interactive at 0x7f2fe56adbd0> (for post_execute):\n"
     ]
    },
    {
     "ename": "KeyboardInterrupt",
     "evalue": "",
     "output_type": "error",
     "traceback": [
      "\u001b[0;31m---------------------------------------------------------------------------\u001b[0m",
      "\u001b[0;31mKeyboardInterrupt\u001b[0m                         Traceback (most recent call last)",
      "File \u001b[0;32m~/anaconda3/envs/pypsa-eur/lib/python3.10/site-packages/matplotlib/pyplot.py:119\u001b[0m, in \u001b[0;36m_draw_all_if_interactive\u001b[0;34m()\u001b[0m\n\u001b[1;32m    117\u001b[0m \u001b[39mdef\u001b[39;00m \u001b[39m_draw_all_if_interactive\u001b[39m():\n\u001b[1;32m    118\u001b[0m     \u001b[39mif\u001b[39;00m matplotlib\u001b[39m.\u001b[39mis_interactive():\n\u001b[0;32m--> 119\u001b[0m         draw_all()\n",
      "File \u001b[0;32m~/anaconda3/envs/pypsa-eur/lib/python3.10/site-packages/matplotlib/_pylab_helpers.py:132\u001b[0m, in \u001b[0;36mGcf.draw_all\u001b[0;34m(cls, force)\u001b[0m\n\u001b[1;32m    130\u001b[0m \u001b[39mfor\u001b[39;00m manager \u001b[39min\u001b[39;00m \u001b[39mcls\u001b[39m\u001b[39m.\u001b[39mget_all_fig_managers():\n\u001b[1;32m    131\u001b[0m     \u001b[39mif\u001b[39;00m force \u001b[39mor\u001b[39;00m manager\u001b[39m.\u001b[39mcanvas\u001b[39m.\u001b[39mfigure\u001b[39m.\u001b[39mstale:\n\u001b[0;32m--> 132\u001b[0m         manager\u001b[39m.\u001b[39;49mcanvas\u001b[39m.\u001b[39;49mdraw_idle()\n",
      "File \u001b[0;32m~/anaconda3/envs/pypsa-eur/lib/python3.10/site-packages/matplotlib/backend_bases.py:2054\u001b[0m, in \u001b[0;36mFigureCanvasBase.draw_idle\u001b[0;34m(self, *args, **kwargs)\u001b[0m\n\u001b[1;32m   2052\u001b[0m \u001b[39mif\u001b[39;00m \u001b[39mnot\u001b[39;00m \u001b[39mself\u001b[39m\u001b[39m.\u001b[39m_is_idle_drawing:\n\u001b[1;32m   2053\u001b[0m     \u001b[39mwith\u001b[39;00m \u001b[39mself\u001b[39m\u001b[39m.\u001b[39m_idle_draw_cntx():\n\u001b[0;32m-> 2054\u001b[0m         \u001b[39mself\u001b[39;49m\u001b[39m.\u001b[39;49mdraw(\u001b[39m*\u001b[39;49margs, \u001b[39m*\u001b[39;49m\u001b[39m*\u001b[39;49mkwargs)\n",
      "File \u001b[0;32m~/anaconda3/envs/pypsa-eur/lib/python3.10/site-packages/matplotlib/backends/backend_agg.py:408\u001b[0m, in \u001b[0;36mFigureCanvasAgg.draw\u001b[0;34m(self)\u001b[0m\n\u001b[1;32m    404\u001b[0m \u001b[39m# Acquire a lock on the shared font cache.\u001b[39;00m\n\u001b[1;32m    405\u001b[0m \u001b[39mwith\u001b[39;00m RendererAgg\u001b[39m.\u001b[39mlock, \\\n\u001b[1;32m    406\u001b[0m      (\u001b[39mself\u001b[39m\u001b[39m.\u001b[39mtoolbar\u001b[39m.\u001b[39m_wait_cursor_for_draw_cm() \u001b[39mif\u001b[39;00m \u001b[39mself\u001b[39m\u001b[39m.\u001b[39mtoolbar\n\u001b[1;32m    407\u001b[0m       \u001b[39melse\u001b[39;00m nullcontext()):\n\u001b[0;32m--> 408\u001b[0m     \u001b[39mself\u001b[39;49m\u001b[39m.\u001b[39;49mfigure\u001b[39m.\u001b[39;49mdraw(\u001b[39mself\u001b[39;49m\u001b[39m.\u001b[39;49mrenderer)\n\u001b[1;32m    409\u001b[0m     \u001b[39m# A GUI class may be need to update a window using this draw, so\u001b[39;00m\n\u001b[1;32m    410\u001b[0m     \u001b[39m# don't forget to call the superclass.\u001b[39;00m\n\u001b[1;32m    411\u001b[0m     \u001b[39msuper\u001b[39m()\u001b[39m.\u001b[39mdraw()\n",
      "File \u001b[0;32m~/anaconda3/envs/pypsa-eur/lib/python3.10/site-packages/matplotlib/artist.py:74\u001b[0m, in \u001b[0;36m_finalize_rasterization.<locals>.draw_wrapper\u001b[0;34m(artist, renderer, *args, **kwargs)\u001b[0m\n\u001b[1;32m     72\u001b[0m \u001b[39m@wraps\u001b[39m(draw)\n\u001b[1;32m     73\u001b[0m \u001b[39mdef\u001b[39;00m \u001b[39mdraw_wrapper\u001b[39m(artist, renderer, \u001b[39m*\u001b[39margs, \u001b[39m*\u001b[39m\u001b[39m*\u001b[39mkwargs):\n\u001b[0;32m---> 74\u001b[0m     result \u001b[39m=\u001b[39m draw(artist, renderer, \u001b[39m*\u001b[39;49margs, \u001b[39m*\u001b[39;49m\u001b[39m*\u001b[39;49mkwargs)\n\u001b[1;32m     75\u001b[0m     \u001b[39mif\u001b[39;00m renderer\u001b[39m.\u001b[39m_rasterizing:\n\u001b[1;32m     76\u001b[0m         renderer\u001b[39m.\u001b[39mstop_rasterizing()\n",
      "File \u001b[0;32m~/anaconda3/envs/pypsa-eur/lib/python3.10/site-packages/matplotlib/artist.py:51\u001b[0m, in \u001b[0;36mallow_rasterization.<locals>.draw_wrapper\u001b[0;34m(artist, renderer)\u001b[0m\n\u001b[1;32m     48\u001b[0m     \u001b[39mif\u001b[39;00m artist\u001b[39m.\u001b[39mget_agg_filter() \u001b[39mis\u001b[39;00m \u001b[39mnot\u001b[39;00m \u001b[39mNone\u001b[39;00m:\n\u001b[1;32m     49\u001b[0m         renderer\u001b[39m.\u001b[39mstart_filter()\n\u001b[0;32m---> 51\u001b[0m     \u001b[39mreturn\u001b[39;00m draw(artist, renderer)\n\u001b[1;32m     52\u001b[0m \u001b[39mfinally\u001b[39;00m:\n\u001b[1;32m     53\u001b[0m     \u001b[39mif\u001b[39;00m artist\u001b[39m.\u001b[39mget_agg_filter() \u001b[39mis\u001b[39;00m \u001b[39mnot\u001b[39;00m \u001b[39mNone\u001b[39;00m:\n",
      "File \u001b[0;32m~/anaconda3/envs/pypsa-eur/lib/python3.10/site-packages/matplotlib/figure.py:3069\u001b[0m, in \u001b[0;36mFigure.draw\u001b[0;34m(self, renderer)\u001b[0m\n\u001b[1;32m   3066\u001b[0m         \u001b[39m# ValueError can occur when resizing a window.\u001b[39;00m\n\u001b[1;32m   3068\u001b[0m \u001b[39mself\u001b[39m\u001b[39m.\u001b[39mpatch\u001b[39m.\u001b[39mdraw(renderer)\n\u001b[0;32m-> 3069\u001b[0m mimage\u001b[39m.\u001b[39;49m_draw_list_compositing_images(\n\u001b[1;32m   3070\u001b[0m     renderer, \u001b[39mself\u001b[39;49m, artists, \u001b[39mself\u001b[39;49m\u001b[39m.\u001b[39;49msuppressComposite)\n\u001b[1;32m   3072\u001b[0m \u001b[39mfor\u001b[39;00m sfig \u001b[39min\u001b[39;00m \u001b[39mself\u001b[39m\u001b[39m.\u001b[39msubfigs:\n\u001b[1;32m   3073\u001b[0m     sfig\u001b[39m.\u001b[39mdraw(renderer)\n",
      "File \u001b[0;32m~/anaconda3/envs/pypsa-eur/lib/python3.10/site-packages/matplotlib/image.py:131\u001b[0m, in \u001b[0;36m_draw_list_compositing_images\u001b[0;34m(renderer, parent, artists, suppress_composite)\u001b[0m\n\u001b[1;32m    129\u001b[0m \u001b[39mif\u001b[39;00m not_composite \u001b[39mor\u001b[39;00m \u001b[39mnot\u001b[39;00m has_images:\n\u001b[1;32m    130\u001b[0m     \u001b[39mfor\u001b[39;00m a \u001b[39min\u001b[39;00m artists:\n\u001b[0;32m--> 131\u001b[0m         a\u001b[39m.\u001b[39;49mdraw(renderer)\n\u001b[1;32m    132\u001b[0m \u001b[39melse\u001b[39;00m:\n\u001b[1;32m    133\u001b[0m     \u001b[39m# Composite any adjacent images together\u001b[39;00m\n\u001b[1;32m    134\u001b[0m     image_group \u001b[39m=\u001b[39m []\n",
      "File \u001b[0;32m~/anaconda3/envs/pypsa-eur/lib/python3.10/site-packages/matplotlib/artist.py:51\u001b[0m, in \u001b[0;36mallow_rasterization.<locals>.draw_wrapper\u001b[0;34m(artist, renderer)\u001b[0m\n\u001b[1;32m     48\u001b[0m     \u001b[39mif\u001b[39;00m artist\u001b[39m.\u001b[39mget_agg_filter() \u001b[39mis\u001b[39;00m \u001b[39mnot\u001b[39;00m \u001b[39mNone\u001b[39;00m:\n\u001b[1;32m     49\u001b[0m         renderer\u001b[39m.\u001b[39mstart_filter()\n\u001b[0;32m---> 51\u001b[0m     \u001b[39mreturn\u001b[39;00m draw(artist, renderer)\n\u001b[1;32m     52\u001b[0m \u001b[39mfinally\u001b[39;00m:\n\u001b[1;32m     53\u001b[0m     \u001b[39mif\u001b[39;00m artist\u001b[39m.\u001b[39mget_agg_filter() \u001b[39mis\u001b[39;00m \u001b[39mnot\u001b[39;00m \u001b[39mNone\u001b[39;00m:\n",
      "File \u001b[0;32m~/anaconda3/envs/pypsa-eur/lib/python3.10/site-packages/matplotlib/axes/_base.py:3106\u001b[0m, in \u001b[0;36m_AxesBase.draw\u001b[0;34m(self, renderer)\u001b[0m\n\u001b[1;32m   3103\u001b[0m         a\u001b[39m.\u001b[39mdraw(renderer)\n\u001b[1;32m   3104\u001b[0m     renderer\u001b[39m.\u001b[39mstop_rasterizing()\n\u001b[0;32m-> 3106\u001b[0m mimage\u001b[39m.\u001b[39;49m_draw_list_compositing_images(\n\u001b[1;32m   3107\u001b[0m     renderer, \u001b[39mself\u001b[39;49m, artists, \u001b[39mself\u001b[39;49m\u001b[39m.\u001b[39;49mfigure\u001b[39m.\u001b[39;49msuppressComposite)\n\u001b[1;32m   3109\u001b[0m renderer\u001b[39m.\u001b[39mclose_group(\u001b[39m'\u001b[39m\u001b[39maxes\u001b[39m\u001b[39m'\u001b[39m)\n\u001b[1;32m   3110\u001b[0m \u001b[39mself\u001b[39m\u001b[39m.\u001b[39mstale \u001b[39m=\u001b[39m \u001b[39mFalse\u001b[39;00m\n",
      "File \u001b[0;32m~/anaconda3/envs/pypsa-eur/lib/python3.10/site-packages/matplotlib/image.py:131\u001b[0m, in \u001b[0;36m_draw_list_compositing_images\u001b[0;34m(renderer, parent, artists, suppress_composite)\u001b[0m\n\u001b[1;32m    129\u001b[0m \u001b[39mif\u001b[39;00m not_composite \u001b[39mor\u001b[39;00m \u001b[39mnot\u001b[39;00m has_images:\n\u001b[1;32m    130\u001b[0m     \u001b[39mfor\u001b[39;00m a \u001b[39min\u001b[39;00m artists:\n\u001b[0;32m--> 131\u001b[0m         a\u001b[39m.\u001b[39;49mdraw(renderer)\n\u001b[1;32m    132\u001b[0m \u001b[39melse\u001b[39;00m:\n\u001b[1;32m    133\u001b[0m     \u001b[39m# Composite any adjacent images together\u001b[39;00m\n\u001b[1;32m    134\u001b[0m     image_group \u001b[39m=\u001b[39m []\n",
      "File \u001b[0;32m~/anaconda3/envs/pypsa-eur/lib/python3.10/site-packages/matplotlib/artist.py:51\u001b[0m, in \u001b[0;36mallow_rasterization.<locals>.draw_wrapper\u001b[0;34m(artist, renderer)\u001b[0m\n\u001b[1;32m     48\u001b[0m     \u001b[39mif\u001b[39;00m artist\u001b[39m.\u001b[39mget_agg_filter() \u001b[39mis\u001b[39;00m \u001b[39mnot\u001b[39;00m \u001b[39mNone\u001b[39;00m:\n\u001b[1;32m     49\u001b[0m         renderer\u001b[39m.\u001b[39mstart_filter()\n\u001b[0;32m---> 51\u001b[0m     \u001b[39mreturn\u001b[39;00m draw(artist, renderer)\n\u001b[1;32m     52\u001b[0m \u001b[39mfinally\u001b[39;00m:\n\u001b[1;32m     53\u001b[0m     \u001b[39mif\u001b[39;00m artist\u001b[39m.\u001b[39mget_agg_filter() \u001b[39mis\u001b[39;00m \u001b[39mnot\u001b[39;00m \u001b[39mNone\u001b[39;00m:\n",
      "File \u001b[0;32m~/anaconda3/envs/pypsa-eur/lib/python3.10/site-packages/matplotlib/legend.py:641\u001b[0m, in \u001b[0;36mLegend.draw\u001b[0;34m(self, renderer)\u001b[0m\n\u001b[1;32m    637\u001b[0m     \u001b[39mself\u001b[39m\u001b[39m.\u001b[39m_legend_box\u001b[39m.\u001b[39mset_width(\u001b[39mself\u001b[39m\u001b[39m.\u001b[39mget_bbox_to_anchor()\u001b[39m.\u001b[39mwidth \u001b[39m-\u001b[39m pad)\n\u001b[1;32m    639\u001b[0m \u001b[39m# update the location and size of the legend. This needs to\u001b[39;00m\n\u001b[1;32m    640\u001b[0m \u001b[39m# be done in any case to clip the figure right.\u001b[39;00m\n\u001b[0;32m--> 641\u001b[0m bbox \u001b[39m=\u001b[39m \u001b[39mself\u001b[39;49m\u001b[39m.\u001b[39;49m_legend_box\u001b[39m.\u001b[39;49mget_window_extent(renderer)\n\u001b[1;32m    642\u001b[0m \u001b[39mself\u001b[39m\u001b[39m.\u001b[39mlegendPatch\u001b[39m.\u001b[39mset_bounds(bbox\u001b[39m.\u001b[39mbounds)\n\u001b[1;32m    643\u001b[0m \u001b[39mself\u001b[39m\u001b[39m.\u001b[39mlegendPatch\u001b[39m.\u001b[39mset_mutation_scale(fontsize)\n",
      "File \u001b[0;32m~/anaconda3/envs/pypsa-eur/lib/python3.10/site-packages/matplotlib/offsetbox.py:354\u001b[0m, in \u001b[0;36mOffsetBox.get_window_extent\u001b[0;34m(self, renderer)\u001b[0m\n\u001b[1;32m    352\u001b[0m     renderer \u001b[39m=\u001b[39m \u001b[39mself\u001b[39m\u001b[39m.\u001b[39mfigure\u001b[39m.\u001b[39m_get_renderer()\n\u001b[1;32m    353\u001b[0m w, h, xd, yd, offsets \u001b[39m=\u001b[39m \u001b[39mself\u001b[39m\u001b[39m.\u001b[39mget_extent_offsets(renderer)\n\u001b[0;32m--> 354\u001b[0m px, py \u001b[39m=\u001b[39m \u001b[39mself\u001b[39;49m\u001b[39m.\u001b[39;49mget_offset(w, h, xd, yd, renderer)\n\u001b[1;32m    355\u001b[0m \u001b[39mreturn\u001b[39;00m mtransforms\u001b[39m.\u001b[39mBbox\u001b[39m.\u001b[39mfrom_bounds(px \u001b[39m-\u001b[39m xd, py \u001b[39m-\u001b[39m yd, w, h)\n",
      "File \u001b[0;32m~/anaconda3/envs/pypsa-eur/lib/python3.10/site-packages/matplotlib/offsetbox.py:291\u001b[0m, in \u001b[0;36mOffsetBox.get_offset\u001b[0;34m(self, width, height, xdescent, ydescent, renderer)\u001b[0m\n\u001b[1;32m    276\u001b[0m \u001b[39mdef\u001b[39;00m \u001b[39mget_offset\u001b[39m(\u001b[39mself\u001b[39m, width, height, xdescent, ydescent, renderer):\n\u001b[1;32m    277\u001b[0m     \u001b[39m\"\"\"\u001b[39;00m\n\u001b[1;32m    278\u001b[0m \u001b[39m    Return the offset as a tuple (x, y).\u001b[39;00m\n\u001b[1;32m    279\u001b[0m \n\u001b[0;32m   (...)\u001b[0m\n\u001b[1;32m    289\u001b[0m \n\u001b[1;32m    290\u001b[0m \u001b[39m    \"\"\"\u001b[39;00m\n\u001b[0;32m--> 291\u001b[0m     \u001b[39mreturn\u001b[39;00m (\u001b[39mself\u001b[39;49m\u001b[39m.\u001b[39;49m_offset(width, height, xdescent, ydescent, renderer)\n\u001b[1;32m    292\u001b[0m             \u001b[39mif\u001b[39;00m callable(\u001b[39mself\u001b[39m\u001b[39m.\u001b[39m_offset)\n\u001b[1;32m    293\u001b[0m             \u001b[39melse\u001b[39;00m \u001b[39mself\u001b[39m\u001b[39m.\u001b[39m_offset)\n",
      "File \u001b[0;32m~/anaconda3/envs/pypsa-eur/lib/python3.10/site-packages/matplotlib/legend.py:610\u001b[0m, in \u001b[0;36mLegend._findoffset\u001b[0;34m(self, width, height, xdescent, ydescent, renderer)\u001b[0m\n\u001b[1;32m    607\u001b[0m \u001b[39m\"\"\"Helper function to locate the legend.\"\"\"\u001b[39;00m\n\u001b[1;32m    609\u001b[0m \u001b[39mif\u001b[39;00m \u001b[39mself\u001b[39m\u001b[39m.\u001b[39m_loc \u001b[39m==\u001b[39m \u001b[39m0\u001b[39m:  \u001b[39m# \"best\".\u001b[39;00m\n\u001b[0;32m--> 610\u001b[0m     x, y \u001b[39m=\u001b[39m \u001b[39mself\u001b[39;49m\u001b[39m.\u001b[39;49m_find_best_position(width, height, renderer)\n\u001b[1;32m    611\u001b[0m \u001b[39melif\u001b[39;00m \u001b[39mself\u001b[39m\u001b[39m.\u001b[39m_loc \u001b[39min\u001b[39;00m Legend\u001b[39m.\u001b[39mcodes\u001b[39m.\u001b[39mvalues():  \u001b[39m# Fixed location.\u001b[39;00m\n\u001b[1;32m    612\u001b[0m     bbox \u001b[39m=\u001b[39m Bbox\u001b[39m.\u001b[39mfrom_bounds(\u001b[39m0\u001b[39m, \u001b[39m0\u001b[39m, width, height)\n",
      "File \u001b[0;32m~/anaconda3/envs/pypsa-eur/lib/python3.10/site-packages/matplotlib/legend.py:1053\u001b[0m, in \u001b[0;36mLegend._find_best_position\u001b[0;34m(self, width, height, renderer, consider)\u001b[0m\n\u001b[1;32m   1050\u001b[0m badness \u001b[39m=\u001b[39m \u001b[39m0\u001b[39m\n\u001b[1;32m   1051\u001b[0m \u001b[39m# XXX TODO: If markers are present, it would be good to take them\u001b[39;00m\n\u001b[1;32m   1052\u001b[0m \u001b[39m# into account when checking vertex overlaps in the next line.\u001b[39;00m\n\u001b[0;32m-> 1053\u001b[0m badness \u001b[39m=\u001b[39m (\u001b[39msum\u001b[39;49m(legendBox\u001b[39m.\u001b[39;49mcount_contains(line\u001b[39m.\u001b[39;49mvertices)\n\u001b[1;32m   1054\u001b[0m                \u001b[39mfor\u001b[39;49;00m line \u001b[39min\u001b[39;49;00m lines)\n\u001b[1;32m   1055\u001b[0m            \u001b[39m+\u001b[39m legendBox\u001b[39m.\u001b[39mcount_contains(offsets)\n\u001b[1;32m   1056\u001b[0m            \u001b[39m+\u001b[39m legendBox\u001b[39m.\u001b[39mcount_overlaps(bboxes)\n\u001b[1;32m   1057\u001b[0m            \u001b[39m+\u001b[39m \u001b[39msum\u001b[39m(line\u001b[39m.\u001b[39mintersects_bbox(legendBox, filled\u001b[39m=\u001b[39m\u001b[39mFalse\u001b[39;00m)\n\u001b[1;32m   1058\u001b[0m                  \u001b[39mfor\u001b[39;00m line \u001b[39min\u001b[39;00m lines))\n\u001b[1;32m   1059\u001b[0m \u001b[39mif\u001b[39;00m badness \u001b[39m==\u001b[39m \u001b[39m0\u001b[39m:\n\u001b[1;32m   1060\u001b[0m     \u001b[39mreturn\u001b[39;00m l, b\n",
      "File \u001b[0;32m~/anaconda3/envs/pypsa-eur/lib/python3.10/site-packages/matplotlib/legend.py:1053\u001b[0m, in \u001b[0;36m<genexpr>\u001b[0;34m(.0)\u001b[0m\n\u001b[1;32m   1050\u001b[0m badness \u001b[39m=\u001b[39m \u001b[39m0\u001b[39m\n\u001b[1;32m   1051\u001b[0m \u001b[39m# XXX TODO: If markers are present, it would be good to take them\u001b[39;00m\n\u001b[1;32m   1052\u001b[0m \u001b[39m# into account when checking vertex overlaps in the next line.\u001b[39;00m\n\u001b[0;32m-> 1053\u001b[0m badness \u001b[39m=\u001b[39m (\u001b[39msum\u001b[39m(legendBox\u001b[39m.\u001b[39;49mcount_contains(line\u001b[39m.\u001b[39;49mvertices)\n\u001b[1;32m   1054\u001b[0m                \u001b[39mfor\u001b[39;00m line \u001b[39min\u001b[39;00m lines)\n\u001b[1;32m   1055\u001b[0m            \u001b[39m+\u001b[39m legendBox\u001b[39m.\u001b[39mcount_contains(offsets)\n\u001b[1;32m   1056\u001b[0m            \u001b[39m+\u001b[39m legendBox\u001b[39m.\u001b[39mcount_overlaps(bboxes)\n\u001b[1;32m   1057\u001b[0m            \u001b[39m+\u001b[39m \u001b[39msum\u001b[39m(line\u001b[39m.\u001b[39mintersects_bbox(legendBox, filled\u001b[39m=\u001b[39m\u001b[39mFalse\u001b[39;00m)\n\u001b[1;32m   1058\u001b[0m                  \u001b[39mfor\u001b[39;00m line \u001b[39min\u001b[39;00m lines))\n\u001b[1;32m   1059\u001b[0m \u001b[39mif\u001b[39;00m badness \u001b[39m==\u001b[39m \u001b[39m0\u001b[39m:\n\u001b[1;32m   1060\u001b[0m     \u001b[39mreturn\u001b[39;00m l, b\n",
      "File \u001b[0;32m~/anaconda3/envs/pypsa-eur/lib/python3.10/site-packages/matplotlib/transforms.py:593\u001b[0m, in \u001b[0;36mBboxBase.count_contains\u001b[0;34m(self, vertices)\u001b[0m\n\u001b[1;32m    591\u001b[0m vertices \u001b[39m=\u001b[39m np\u001b[39m.\u001b[39masarray(vertices)\n\u001b[1;32m    592\u001b[0m \u001b[39mwith\u001b[39;00m np\u001b[39m.\u001b[39merrstate(invalid\u001b[39m=\u001b[39m\u001b[39m'\u001b[39m\u001b[39mignore\u001b[39m\u001b[39m'\u001b[39m):\n\u001b[0;32m--> 593\u001b[0m     \u001b[39mreturn\u001b[39;00m (((\u001b[39mself\u001b[39;49m\u001b[39m.\u001b[39;49mmin \u001b[39m<\u001b[39;49m vertices) \u001b[39m&\u001b[39;49m\n\u001b[1;32m    594\u001b[0m              (vertices \u001b[39m<\u001b[39;49m \u001b[39mself\u001b[39;49m\u001b[39m.\u001b[39;49mmax))\u001b[39m.\u001b[39;49mall(axis\u001b[39m=\u001b[39;49m\u001b[39m1\u001b[39;49m)\u001b[39m.\u001b[39msum())\n",
      "File \u001b[0;32m~/anaconda3/envs/pypsa-eur/lib/python3.10/site-packages/numpy/core/_methods.py:60\u001b[0m, in \u001b[0;36m_all\u001b[0;34m(a, axis, dtype, out, keepdims, where)\u001b[0m\n\u001b[1;32m     57\u001b[0m         \u001b[39mreturn\u001b[39;00m umr_any(a, axis, dtype, out, keepdims)\n\u001b[1;32m     58\u001b[0m     \u001b[39mreturn\u001b[39;00m umr_any(a, axis, dtype, out, keepdims, where\u001b[39m=\u001b[39mwhere)\n\u001b[0;32m---> 60\u001b[0m \u001b[39mdef\u001b[39;00m \u001b[39m_all\u001b[39m(a, axis\u001b[39m=\u001b[39m\u001b[39mNone\u001b[39;00m, dtype\u001b[39m=\u001b[39m\u001b[39mNone\u001b[39;00m, out\u001b[39m=\u001b[39m\u001b[39mNone\u001b[39;00m, keepdims\u001b[39m=\u001b[39m\u001b[39mFalse\u001b[39;00m, \u001b[39m*\u001b[39m, where\u001b[39m=\u001b[39m\u001b[39mTrue\u001b[39;00m):\n\u001b[1;32m     61\u001b[0m     \u001b[39m# Parsing keyword arguments is currently fairly slow, so avoid it for now\u001b[39;00m\n\u001b[1;32m     62\u001b[0m     \u001b[39mif\u001b[39;00m where \u001b[39mis\u001b[39;00m \u001b[39mTrue\u001b[39;00m:\n\u001b[1;32m     63\u001b[0m         \u001b[39mreturn\u001b[39;00m umr_all(a, axis, dtype, out, keepdims)\n",
      "\u001b[0;31mKeyboardInterrupt\u001b[0m: "
     ]
    }
   ],
   "source": [
    "dataarray[0].to_pandas().plot()"
   ]
  },
  {
   "cell_type": "code",
   "execution_count": 74,
   "metadata": {},
   "outputs": [
    {
     "ename": "IndexError",
     "evalue": "index 1 is out of bounds for axis 0 with size 1",
     "output_type": "error",
     "traceback": [
      "\u001b[0;31m---------------------------------------------------------------------------\u001b[0m",
      "\u001b[0;31mIndexError\u001b[0m                                Traceback (most recent call last)",
      "Cell \u001b[0;32mIn [74], line 1\u001b[0m\n\u001b[0;32m----> 1\u001b[0m df \u001b[39m=\u001b[39m dataarray[\u001b[39m1\u001b[39;49m]\u001b[39m.\u001b[39mto_pandas()\n\u001b[1;32m      2\u001b[0m df[df\u001b[39m.\u001b[39misna()]\u001b[39m=\u001b[39m\u001b[39m-\u001b[39m\u001b[39m1\u001b[39m\n\u001b[1;32m      3\u001b[0m df\u001b[39m.\u001b[39mmin()\n",
      "File \u001b[0;32m~/anaconda3/envs/pypsa-eur/lib/python3.10/site-packages/xarray/core/dataarray.py:815\u001b[0m, in \u001b[0;36mDataArray.__getitem__\u001b[0;34m(self, key)\u001b[0m\n\u001b[1;32m    812\u001b[0m     \u001b[39mreturn\u001b[39;00m \u001b[39mself\u001b[39m\u001b[39m.\u001b[39m_getitem_coord(key)\n\u001b[1;32m    813\u001b[0m \u001b[39melse\u001b[39;00m:\n\u001b[1;32m    814\u001b[0m     \u001b[39m# xarray-style array indexing\u001b[39;00m\n\u001b[0;32m--> 815\u001b[0m     \u001b[39mreturn\u001b[39;00m \u001b[39mself\u001b[39;49m\u001b[39m.\u001b[39;49misel(indexers\u001b[39m=\u001b[39;49m\u001b[39mself\u001b[39;49m\u001b[39m.\u001b[39;49m_item_key_to_dict(key))\n",
      "File \u001b[0;32m~/anaconda3/envs/pypsa-eur/lib/python3.10/site-packages/xarray/core/dataarray.py:1394\u001b[0m, in \u001b[0;36mDataArray.isel\u001b[0;34m(self, indexers, drop, missing_dims, **indexers_kwargs)\u001b[0m\n\u001b[1;32m   1389\u001b[0m     \u001b[39mreturn\u001b[39;00m \u001b[39mself\u001b[39m\u001b[39m.\u001b[39m_from_temp_dataset(ds)\n\u001b[1;32m   1391\u001b[0m \u001b[39m# Much faster algorithm for when all indexers are ints, slices, one-dimensional\u001b[39;00m\n\u001b[1;32m   1392\u001b[0m \u001b[39m# lists, or zero or one-dimensional np.ndarray's\u001b[39;00m\n\u001b[0;32m-> 1394\u001b[0m variable \u001b[39m=\u001b[39m \u001b[39mself\u001b[39;49m\u001b[39m.\u001b[39;49m_variable\u001b[39m.\u001b[39;49misel(indexers, missing_dims\u001b[39m=\u001b[39;49mmissing_dims)\n\u001b[1;32m   1395\u001b[0m indexes, index_variables \u001b[39m=\u001b[39m isel_indexes(\u001b[39mself\u001b[39m\u001b[39m.\u001b[39mxindexes, indexers)\n\u001b[1;32m   1397\u001b[0m coords \u001b[39m=\u001b[39m {}\n",
      "File \u001b[0;32m~/anaconda3/envs/pypsa-eur/lib/python3.10/site-packages/xarray/core/variable.py:1274\u001b[0m, in \u001b[0;36mVariable.isel\u001b[0;34m(self, indexers, missing_dims, **indexers_kwargs)\u001b[0m\n\u001b[1;32m   1271\u001b[0m indexers \u001b[39m=\u001b[39m drop_dims_from_indexers(indexers, \u001b[39mself\u001b[39m\u001b[39m.\u001b[39mdims, missing_dims)\n\u001b[1;32m   1273\u001b[0m key \u001b[39m=\u001b[39m \u001b[39mtuple\u001b[39m(indexers\u001b[39m.\u001b[39mget(dim, \u001b[39mslice\u001b[39m(\u001b[39mNone\u001b[39;00m)) \u001b[39mfor\u001b[39;00m dim \u001b[39min\u001b[39;00m \u001b[39mself\u001b[39m\u001b[39m.\u001b[39mdims)\n\u001b[0;32m-> 1274\u001b[0m \u001b[39mreturn\u001b[39;00m \u001b[39mself\u001b[39;49m[key]\n",
      "File \u001b[0;32m~/anaconda3/envs/pypsa-eur/lib/python3.10/site-packages/xarray/core/variable.py:821\u001b[0m, in \u001b[0;36mVariable.__getitem__\u001b[0;34m(self, key)\u001b[0m\n\u001b[1;32m    808\u001b[0m \u001b[39m\"\"\"Return a new Variable object whose contents are consistent with\u001b[39;00m\n\u001b[1;32m    809\u001b[0m \u001b[39mgetting the provided key from the underlying data.\u001b[39;00m\n\u001b[1;32m    810\u001b[0m \n\u001b[0;32m   (...)\u001b[0m\n\u001b[1;32m    818\u001b[0m \u001b[39marray `x.values` directly.\u001b[39;00m\n\u001b[1;32m    819\u001b[0m \u001b[39m\"\"\"\u001b[39;00m\n\u001b[1;32m    820\u001b[0m dims, indexer, new_order \u001b[39m=\u001b[39m \u001b[39mself\u001b[39m\u001b[39m.\u001b[39m_broadcast_indexes(key)\n\u001b[0;32m--> 821\u001b[0m data \u001b[39m=\u001b[39m as_indexable(\u001b[39mself\u001b[39;49m\u001b[39m.\u001b[39;49m_data)[indexer]\n\u001b[1;32m    822\u001b[0m \u001b[39mif\u001b[39;00m new_order:\n\u001b[1;32m    823\u001b[0m     data \u001b[39m=\u001b[39m np\u001b[39m.\u001b[39mmoveaxis(data, \u001b[39mrange\u001b[39m(\u001b[39mlen\u001b[39m(new_order)), new_order)\n",
      "File \u001b[0;32m~/anaconda3/envs/pypsa-eur/lib/python3.10/site-packages/xarray/core/indexing.py:657\u001b[0m, in \u001b[0;36mMemoryCachedArray.__getitem__\u001b[0;34m(self, key)\u001b[0m\n\u001b[1;32m    656\u001b[0m \u001b[39mdef\u001b[39;00m \u001b[39m__getitem__\u001b[39m(\u001b[39mself\u001b[39m, key):\n\u001b[0;32m--> 657\u001b[0m     \u001b[39mreturn\u001b[39;00m \u001b[39mtype\u001b[39m(\u001b[39mself\u001b[39m)(_wrap_numpy_scalars(\u001b[39mself\u001b[39;49m\u001b[39m.\u001b[39;49marray[key]))\n",
      "File \u001b[0;32m~/anaconda3/envs/pypsa-eur/lib/python3.10/site-packages/xarray/core/indexing.py:626\u001b[0m, in \u001b[0;36mCopyOnWriteArray.__getitem__\u001b[0;34m(self, key)\u001b[0m\n\u001b[1;32m    625\u001b[0m \u001b[39mdef\u001b[39;00m \u001b[39m__getitem__\u001b[39m(\u001b[39mself\u001b[39m, key):\n\u001b[0;32m--> 626\u001b[0m     \u001b[39mreturn\u001b[39;00m \u001b[39mtype\u001b[39m(\u001b[39mself\u001b[39m)(_wrap_numpy_scalars(\u001b[39mself\u001b[39;49m\u001b[39m.\u001b[39;49marray[key]))\n",
      "File \u001b[0;32m~/anaconda3/envs/pypsa-eur/lib/python3.10/site-packages/xarray/core/indexing.py:533\u001b[0m, in \u001b[0;36mLazilyIndexedArray.__getitem__\u001b[0;34m(self, indexer)\u001b[0m\n\u001b[1;32m    531\u001b[0m     array \u001b[39m=\u001b[39m LazilyVectorizedIndexedArray(\u001b[39mself\u001b[39m\u001b[39m.\u001b[39marray, \u001b[39mself\u001b[39m\u001b[39m.\u001b[39mkey)\n\u001b[1;32m    532\u001b[0m     \u001b[39mreturn\u001b[39;00m array[indexer]\n\u001b[0;32m--> 533\u001b[0m \u001b[39mreturn\u001b[39;00m \u001b[39mtype\u001b[39m(\u001b[39mself\u001b[39m)(\u001b[39mself\u001b[39m\u001b[39m.\u001b[39marray, \u001b[39mself\u001b[39;49m\u001b[39m.\u001b[39;49m_updated_key(indexer))\n",
      "File \u001b[0;32m~/anaconda3/envs/pypsa-eur/lib/python3.10/site-packages/xarray/core/indexing.py:505\u001b[0m, in \u001b[0;36mLazilyIndexedArray._updated_key\u001b[0;34m(self, new_key)\u001b[0m\n\u001b[1;32m    503\u001b[0m         full_key\u001b[39m.\u001b[39mappend(k)\n\u001b[1;32m    504\u001b[0m     \u001b[39melse\u001b[39;00m:\n\u001b[0;32m--> 505\u001b[0m         full_key\u001b[39m.\u001b[39mappend(_index_indexer_1d(k, \u001b[39mnext\u001b[39;49m(iter_new_key), size))\n\u001b[1;32m    506\u001b[0m full_key \u001b[39m=\u001b[39m \u001b[39mtuple\u001b[39m(full_key)\n\u001b[1;32m    508\u001b[0m \u001b[39mif\u001b[39;00m \u001b[39mall\u001b[39m(\u001b[39misinstance\u001b[39m(k, integer_types \u001b[39m+\u001b[39m (\u001b[39mslice\u001b[39m,)) \u001b[39mfor\u001b[39;00m k \u001b[39min\u001b[39;00m full_key):\n",
      "File \u001b[0;32m~/anaconda3/envs/pypsa-eur/lib/python3.10/site-packages/xarray/core/indexing.py:278\u001b[0m, in \u001b[0;36m_index_indexer_1d\u001b[0;34m(old_indexer, applied_indexer, size)\u001b[0m\n\u001b[1;32m    276\u001b[0m         indexer \u001b[39m=\u001b[39m slice_slice(old_indexer, applied_indexer, size)\n\u001b[1;32m    277\u001b[0m     \u001b[39melse\u001b[39;00m:\n\u001b[0;32m--> 278\u001b[0m         indexer \u001b[39m=\u001b[39m _expand_slice(old_indexer, size)[applied_indexer]\n\u001b[1;32m    279\u001b[0m \u001b[39melse\u001b[39;00m:\n\u001b[1;32m    280\u001b[0m     indexer \u001b[39m=\u001b[39m old_indexer[applied_indexer]\n",
      "\u001b[0;31mIndexError\u001b[0m: index 1 is out of bounds for axis 0 with size 1"
     ]
    }
   ],
   "source": [
    "df = dataarray[1].to_pandas()\n",
    "df[df.isna()]=-1\n",
    "df.min()"
   ]
  },
  {
   "cell_type": "code",
   "execution_count": 81,
   "metadata": {},
   "outputs": [],
   "source": [
    "src = rasterio.open('../data/bundle/ZAF_capacity-factor_IEC32.tif')\n",
    "src2 = src.read(1)\n",
    "src2[np.isnan(src2)] = -1\n"
   ]
  },
  {
   "cell_type": "code",
   "execution_count": 83,
   "metadata": {},
   "outputs": [
    {
     "data": {
      "text/plain": [
       "(11271, 11804)"
      ]
     },
     "execution_count": 83,
     "metadata": {},
     "output_type": "execute_result"
    }
   ],
   "source": [
    "np.shape(src2)"
   ]
  },
  {
   "cell_type": "code",
   "execution_count": null,
   "metadata": {},
   "outputs": [],
   "source": [
    "src"
   ]
  },
  {
   "cell_type": "code",
   "execution_count": 34,
   "metadata": {},
   "outputs": [],
   "source": [
    "mar = np.ma.masked_array(img2, np.isnan(img2))"
   ]
  },
  {
   "cell_type": "code",
   "execution_count": 47,
   "metadata": {},
   "outputs": [],
   "source": [
    "msk = src.read_masks(1)"
   ]
  },
  {
   "cell_type": "code",
   "execution_count": 52,
   "metadata": {},
   "outputs": [
    {
     "data": {
      "image/png": "[encoded data removed]",
      "text/plain": [
       "<Figure size 640x480 with 1 Axes>"
      ]
     },
     "metadata": {},
     "output_type": "display_data"
    },
    {
     "data": {
      "text/plain": [
       "<AxesSubplot: >"
      ]
     },
     "execution_count": 52,
     "metadata": {},
     "output_type": "execute_result"
    }
   ],
   "source": [
    "show(msk)"
   ]
  },
  {
   "cell_type": "code",
   "execution_count": 20,
   "metadata": {},
   "outputs": [],
   "source": [
    "file = rasterio.open('../data/bundle/ZAF_capacity-factor_IEC3.tif')"
   ]
  },
  {
   "cell_type": "code",
   "execution_count": 55,
   "metadata": {},
   "outputs": [
    {
     "data": {
      "text/plain": [
       "(11271, 11804)"
      ]
     },
     "execution_count": 55,
     "metadata": {},
     "output_type": "execute_result"
    }
   ],
   "source": [
    "np.shape(file.read(1))"
   ]
  },
  {
   "cell_type": "code",
   "execution_count": 16,
   "metadata": {},
   "outputs": [],
   "source": [
    "nightlights[nightlights==np.nan]=1"
   ]
  },
  {
   "cell_type": "code",
   "execution_count": 17,
   "metadata": {},
   "outputs": [
    {
     "data": {
      "text/plain": [
       "<matplotlib.image.AxesImage at 0x7f2df0530250>"
      ]
     },
     "execution_count": 17,
     "metadata": {},
     "output_type": "execute_result"
    },
    {
     "data": {
      "image/png": "[encoded data removed]",
      "text/plain": [
       "<Figure size 640x480 with 1 Axes>"
      ]
     },
     "metadata": {},
     "output_type": "display_data"
    }
   ],
   "source": [
    "plt.imshow(nightlights, cmap='hot')"
   ]
  },
  {
   "cell_type": "code",
   "execution_count": 53,
   "metadata": {},
   "outputs": [
    {
     "ename": "NameError",
     "evalue": "name 'dataarray' is not defined",
     "output_type": "error",
     "traceback": [
      "\u001b[0;31m---------------------------------------------------------------------------\u001b[0m",
      "\u001b[0;31mNameError\u001b[0m                                 Traceback (most recent call last)",
      "Cell \u001b[0;32mIn [53], line 1\u001b[0m\n\u001b[0;32m----> 1\u001b[0m dataarray\u001b[39m.\u001b[39mvalues\n",
      "\u001b[0;31mNameError\u001b[0m: name 'dataarray' is not defined"
     ]
    }
   ],
   "source": [
    "dataarray.values"
   ]
  },
  {
   "cell_type": "markdown",
   "metadata": {},
   "source": []
  },
  {
   "cell_type": "code",
   "execution_count": 118,
   "metadata": {},
   "outputs": [
    {
     "data": {
      "text/plain": [
       "True"
      ]
     },
     "execution_count": 118,
     "metadata": {},
     "output_type": "execute_result"
    }
   ],
   "source": [
    "(dataarray.values!=np.nan).max()"
   ]
  },
  {
   "cell_type": "code",
   "execution_count": 87,
   "metadata": {},
   "outputs": [],
   "source": [
    "GWA_wind_speed_100m_rasterio = rasterio.open('../data/testGeo.tif')\n",
    "raster_100m = GWA_wind_speed_100m_rasterio.read(1)"
   ]
  },
  {
   "cell_type": "code",
   "execution_count": 88,
   "metadata": {},
   "outputs": [
    {
     "data": {
      "text/plain": [
       "nan"
      ]
     },
     "execution_count": 88,
     "metadata": {},
     "output_type": "execute_result"
    }
   ],
   "source": [
    "raster_100m[0,0]"
   ]
  },
  {
   "cell_type": "code",
   "execution_count": 34,
   "metadata": {},
   "outputs": [],
   "source": [
    "pd.Series(0,index=pd.date_range(start='2018-04-01 00:00', end = '2022-09-27 00:00', freq='1H')).to_clipboard()"
   ]
  },
  {
   "cell_type": "code",
   "execution_count": 36,
   "metadata": {},
   "outputs": [
    {
     "data": {
      "text/plain": [
       "<AxesSubplot: xlabel='Date Time Hour Beginning'>"
      ]
     },
     "execution_count": 36,
     "metadata": {},
     "output_type": "execute_result"
    },
    {
     "data": {
      "image/png": "[encoded data removed]",
      "text/plain": [
       "<Figure size 640x480 with 1 Axes>"
      ]
     },
     "metadata": {},
     "output_type": "display_data"
    }
   ],
   "source": [
    "carriers='solar'\n",
    "eskom_data = (pd.read_csv(\"../data/eskom_pu_profiles.csv\",skiprows=[1], \n",
    "                            index_col=0,parse_dates=True))\n",
    "                            #.resample('1h').mean())\n",
    "#eskom_data  = remove_leap_day(eskom_data)\n",
    "eskom_data['solar'].plot()"
   ]
  },
  {
   "cell_type": "code",
   "execution_count": 37,
   "metadata": {},
   "outputs": [
    {
     "data": {
      "text/html": [
       "<div>\n",
       "<style scoped>\n",
       "    .dataframe tbody tr th:only-of-type {\n",
       "        vertical-align: middle;\n",
       "    }\n",
       "\n",
       "    .dataframe tbody tr th {\n",
       "        vertical-align: top;\n",
       "    }\n",
       "\n",
       "    .dataframe thead th {\n",
       "        text-align: right;\n",
       "    }\n",
       "</style>\n",
       "<table border=\"1\" class=\"dataframe\">\n",
       "  <thead>\n",
       "    <tr style=\"text-align: right;\">\n",
       "      <th></th>\n",
       "      <th>onwind</th>\n",
       "      <th>solar</th>\n",
       "      <th>CSP</th>\n",
       "      <th>hydro</th>\n",
       "      <th>imports</th>\n",
       "      <th>biomass</th>\n",
       "    </tr>\n",
       "    <tr>\n",
       "      <th>Date Time Hour Beginning</th>\n",
       "      <th></th>\n",
       "      <th></th>\n",
       "      <th></th>\n",
       "      <th></th>\n",
       "      <th></th>\n",
       "      <th></th>\n",
       "    </tr>\n",
       "  </thead>\n",
       "  <tbody>\n",
       "    <tr>\n",
       "      <th>2018-04-01 00:00:00</th>\n",
       "      <td>0.218973</td>\n",
       "      <td>0.0</td>\n",
       "      <td>0.058517</td>\n",
       "      <td>0.600000</td>\n",
       "      <td>0.634561</td>\n",
       "      <td>0.575712</td>\n",
       "    </tr>\n",
       "    <tr>\n",
       "      <th>2018-04-01 01:00:00</th>\n",
       "      <td>0.189129</td>\n",
       "      <td>0.0</td>\n",
       "      <td>0.130437</td>\n",
       "      <td>0.600000</td>\n",
       "      <td>0.626629</td>\n",
       "      <td>0.569513</td>\n",
       "    </tr>\n",
       "    <tr>\n",
       "      <th>2018-04-01 02:00:00</th>\n",
       "      <td>0.162369</td>\n",
       "      <td>0.0</td>\n",
       "      <td>0.130543</td>\n",
       "      <td>0.600000</td>\n",
       "      <td>0.632861</td>\n",
       "      <td>0.554729</td>\n",
       "    </tr>\n",
       "    <tr>\n",
       "      <th>2018-04-01 03:00:00</th>\n",
       "      <td>0.143058</td>\n",
       "      <td>0.0</td>\n",
       "      <td>0.129807</td>\n",
       "      <td>0.600000</td>\n",
       "      <td>0.633428</td>\n",
       "      <td>0.563728</td>\n",
       "    </tr>\n",
       "    <tr>\n",
       "      <th>2018-04-01 04:00:00</th>\n",
       "      <td>0.149191</td>\n",
       "      <td>0.0</td>\n",
       "      <td>0.083413</td>\n",
       "      <td>0.600000</td>\n",
       "      <td>0.627762</td>\n",
       "      <td>0.573370</td>\n",
       "    </tr>\n",
       "    <tr>\n",
       "      <th>...</th>\n",
       "      <td>...</td>\n",
       "      <td>...</td>\n",
       "      <td>...</td>\n",
       "      <td>...</td>\n",
       "      <td>...</td>\n",
       "      <td>...</td>\n",
       "    </tr>\n",
       "    <tr>\n",
       "      <th>2022-09-26 20:00:00</th>\n",
       "      <td>0.404864</td>\n",
       "      <td>0.0</td>\n",
       "      <td>0.580880</td>\n",
       "      <td>0.711667</td>\n",
       "      <td>0.636827</td>\n",
       "      <td>0.923665</td>\n",
       "    </tr>\n",
       "    <tr>\n",
       "      <th>2022-09-26 21:00:00</th>\n",
       "      <td>0.354436</td>\n",
       "      <td>0.0</td>\n",
       "      <td>0.369890</td>\n",
       "      <td>0.216667</td>\n",
       "      <td>0.633428</td>\n",
       "      <td>0.923171</td>\n",
       "    </tr>\n",
       "    <tr>\n",
       "      <th>2022-09-26 22:00:00</th>\n",
       "      <td>0.314230</td>\n",
       "      <td>0.0</td>\n",
       "      <td>0.050250</td>\n",
       "      <td>0.000000</td>\n",
       "      <td>0.636261</td>\n",
       "      <td>0.919751</td>\n",
       "    </tr>\n",
       "    <tr>\n",
       "      <th>2022-09-26 23:00:00</th>\n",
       "      <td>0.304405</td>\n",
       "      <td>0.0</td>\n",
       "      <td>0.000000</td>\n",
       "      <td>0.000000</td>\n",
       "      <td>0.639093</td>\n",
       "      <td>0.913820</td>\n",
       "    </tr>\n",
       "    <tr>\n",
       "      <th>2022-09-27 00:00:00</th>\n",
       "      <td>NaN</td>\n",
       "      <td>NaN</td>\n",
       "      <td>NaN</td>\n",
       "      <td>NaN</td>\n",
       "      <td>NaN</td>\n",
       "      <td>NaN</td>\n",
       "    </tr>\n",
       "  </tbody>\n",
       "</table>\n",
       "<p>39361 rows × 6 columns</p>\n",
       "</div>"
      ],
      "text/plain": [
       "                            onwind  solar       CSP     hydro   imports  \\\n",
       "Date Time Hour Beginning                                                  \n",
       "2018-04-01 00:00:00       0.218973    0.0  0.058517  0.600000  0.634561   \n",
       "2018-04-01 01:00:00       0.189129    0.0  0.130437  0.600000  0.626629   \n",
       "2018-04-01 02:00:00       0.162369    0.0  0.130543  0.600000  0.632861   \n",
       "2018-04-01 03:00:00       0.143058    0.0  0.129807  0.600000  0.633428   \n",
       "2018-04-01 04:00:00       0.149191    0.0  0.083413  0.600000  0.627762   \n",
       "...                            ...    ...       ...       ...       ...   \n",
       "2022-09-26 20:00:00       0.404864    0.0  0.580880  0.711667  0.636827   \n",
       "2022-09-26 21:00:00       0.354436    0.0  0.369890  0.216667  0.633428   \n",
       "2022-09-26 22:00:00       0.314230    0.0  0.050250  0.000000  0.636261   \n",
       "2022-09-26 23:00:00       0.304405    0.0  0.000000  0.000000  0.639093   \n",
       "2022-09-27 00:00:00            NaN    NaN       NaN       NaN       NaN   \n",
       "\n",
       "                           biomass  \n",
       "Date Time Hour Beginning            \n",
       "2018-04-01 00:00:00       0.575712  \n",
       "2018-04-01 01:00:00       0.569513  \n",
       "2018-04-01 02:00:00       0.554729  \n",
       "2018-04-01 03:00:00       0.563728  \n",
       "2018-04-01 04:00:00       0.573370  \n",
       "...                            ...  \n",
       "2022-09-26 20:00:00       0.923665  \n",
       "2022-09-26 21:00:00       0.923171  \n",
       "2022-09-26 22:00:00       0.919751  \n",
       "2022-09-26 23:00:00       0.913820  \n",
       "2022-09-27 00:00:00            NaN  \n",
       "\n",
       "[39361 rows x 6 columns]"
      ]
     },
     "execution_count": 37,
     "metadata": {},
     "output_type": "execute_result"
    }
   ],
   "source": [
    "eskom_data"
   ]
  },
  {
   "cell_type": "code",
   "execution_count": 71,
   "metadata": {},
   "outputs": [
    {
     "name": "stderr",
     "output_type": "stream",
     "text": [
      "INFO:pypsa.io:Imported network solved_CSIR-2019m_RSA_redz_lcopt_LC.nc has buses, carriers, generators, global_constraints, loads, storage_units\n"
     ]
    }
   ],
   "source": [
    "n = pypsa.Network('../results/networks/solved_CSIR-2019m_RSA_redz_lcopt_LC.nc')"
   ]
  },
  {
   "cell_type": "code",
   "execution_count": 119,
   "metadata": {},
   "outputs": [
    {
     "data": {
      "text/plain": [
       "3540.247707160601"
      ]
     },
     "execution_count": 119,
     "metadata": {},
     "output_type": "execute_result"
    }
   ],
   "source": [
    "reserve_type='total'\n",
    "carriers = ['battery','PHS']\n",
    "carriers=['diesel','gas','OCGT','CCGT','battery','PHS'] \n",
    "y=2030\n",
    "p_nom=n.generators.p_nom_opt[n.get_active_assets('Generator',y) & n.generators.carrier.isin(carriers)].sum()+n.storage_units.p_nom_opt[n.get_active_assets('StorageUnit',y)].sum()\n",
    "(p_nom-n.generators_t.p.loc[y][n.generators.p_nom_opt[n.get_active_assets('Generator',y) & n.generators.carrier.isin(carriers)].index].sum(axis=1)-n.storage_units_t.p_dispatch.loc[y].sum(axis=1)).min()"
   ]
  },
  {
   "cell_type": "code",
   "execution_count": 61,
   "metadata": {},
   "outputs": [
    {
     "data": {
      "text/plain": [
       "Generator\n",
       "RSA REIPPPP_BW1_onwind      739.340000\n",
       "RSA REIPPPP_BW2_onwind      555.130000\n",
       "RSA REIPPPP_BW3_onwind      785.310000\n",
       "RSA REIPPPP_BW4_onwind     1362.810000\n",
       "RSA onwind_2022               0.000000\n",
       "RSA onwind_2025           15805.571829\n",
       "RSA onwind_2030            7066.097073\n",
       "RSA onwind_2035           10559.423091\n",
       "RSA onwind_2040            3178.255871\n",
       "Name: p_nom_opt, dtype: float64"
      ]
     },
     "execution_count": 61,
     "metadata": {},
     "output_type": "execute_result"
    }
   ],
   "source": [
    "n.generators.p_nom_opt[n.generators[n.generators.carrier=='onwind'].index]"
   ]
  },
  {
   "cell_type": "code",
   "execution_count": 75,
   "metadata": {},
   "outputs": [
    {
     "data": {
      "text/plain": [
       "StorageUnit\n",
       "Drakensberg         1000.000000\n",
       "Ingula              1332.000000\n",
       "Palmiet              400.000000\n",
       "Steenbras            180.000000\n",
       "RSA battery_2022       0.000000\n",
       "RSA battery_2025    3969.222645\n",
       "RSA battery_2030    2790.381971\n",
       "RSA battery_2035    4035.272999\n",
       "RSA battery_2040    7278.264259\n",
       "Name: p_nom_opt, dtype: float64"
      ]
     },
     "execution_count": 75,
     "metadata": {},
     "output_type": "execute_result"
    }
   ],
   "source": [
    "n.storage_units.p_nom_opt"
   ]
  },
  {
   "cell_type": "code",
   "execution_count": 72,
   "metadata": {},
   "outputs": [],
   "source": [
    "capacity=pd.DataFrame(0,index=n.generators.carrier.unique(),columns=n.investment_periods)       \n",
    "carriers=n.generators.carrier.unique()\n",
    "carriers = carriers[carriers !='load_shedding']\n",
    "for y in n.investment_periods:\n",
    "    capacity.loc[carriers,y]=n.generators.p_nom_opt[(n.get_active_assets('Generator',y))].groupby(n.generators.carrier).sum()"
   ]
  },
  {
   "cell_type": "code",
   "execution_count": 73,
   "metadata": {},
   "outputs": [
    {
     "data": {
      "text/html": [
       "<div>\n",
       "<style scoped>\n",
       "    .dataframe tbody tr th:only-of-type {\n",
       "        vertical-align: middle;\n",
       "    }\n",
       "\n",
       "    .dataframe tbody tr th {\n",
       "        vertical-align: top;\n",
       "    }\n",
       "\n",
       "    .dataframe thead th {\n",
       "        text-align: right;\n",
       "    }\n",
       "</style>\n",
       "<table border=\"1\" class=\"dataframe\">\n",
       "  <thead>\n",
       "    <tr style=\"text-align: right;\">\n",
       "      <th>name</th>\n",
       "      <th>2022</th>\n",
       "      <th>2025</th>\n",
       "      <th>2030</th>\n",
       "      <th>2035</th>\n",
       "      <th>2040</th>\n",
       "    </tr>\n",
       "  </thead>\n",
       "  <tbody>\n",
       "    <tr>\n",
       "      <th>coal</th>\n",
       "      <td>40216.00</td>\n",
       "      <td>36635.006018</td>\n",
       "      <td>32003.012761</td>\n",
       "      <td>25678.021297</td>\n",
       "      <td>18610.032030</td>\n",
       "    </tr>\n",
       "    <tr>\n",
       "      <th>nuclear</th>\n",
       "      <td>1854.00</td>\n",
       "      <td>1854.000000</td>\n",
       "      <td>1854.000000</td>\n",
       "      <td>1854.000000</td>\n",
       "      <td>1854.000000</td>\n",
       "    </tr>\n",
       "    <tr>\n",
       "      <th>hydro</th>\n",
       "      <td>2447.02</td>\n",
       "      <td>2447.020000</td>\n",
       "      <td>2447.020000</td>\n",
       "      <td>2447.020000</td>\n",
       "      <td>2447.020000</td>\n",
       "    </tr>\n",
       "    <tr>\n",
       "      <th>diesel</th>\n",
       "      <td>3072.00</td>\n",
       "      <td>3072.000000</td>\n",
       "      <td>3072.000000</td>\n",
       "      <td>3072.000000</td>\n",
       "      <td>1005.000000</td>\n",
       "    </tr>\n",
       "    <tr>\n",
       "      <th>gas</th>\n",
       "      <td>425.00</td>\n",
       "      <td>425.000000</td>\n",
       "      <td>425.000000</td>\n",
       "      <td>425.000000</td>\n",
       "      <td>425.000000</td>\n",
       "    </tr>\n",
       "    <tr>\n",
       "      <th>CSP</th>\n",
       "      <td>600.00</td>\n",
       "      <td>600.000000</td>\n",
       "      <td>600.000000</td>\n",
       "      <td>600.000000</td>\n",
       "      <td>600.000000</td>\n",
       "    </tr>\n",
       "    <tr>\n",
       "      <th>biomass</th>\n",
       "      <td>193.06</td>\n",
       "      <td>193.060000</td>\n",
       "      <td>193.060000</td>\n",
       "      <td>193.060000</td>\n",
       "      <td>193.060000</td>\n",
       "    </tr>\n",
       "    <tr>\n",
       "      <th>solar</th>\n",
       "      <td>2287.07</td>\n",
       "      <td>6072.112187</td>\n",
       "      <td>16243.545107</td>\n",
       "      <td>25678.761454</td>\n",
       "      <td>34685.804141</td>\n",
       "    </tr>\n",
       "    <tr>\n",
       "      <th>onwind</th>\n",
       "      <td>3442.59</td>\n",
       "      <td>12858.257900</td>\n",
       "      <td>13701.809997</td>\n",
       "      <td>19580.761810</td>\n",
       "      <td>26534.207177</td>\n",
       "    </tr>\n",
       "    <tr>\n",
       "      <th>CCGT</th>\n",
       "      <td>0.00</td>\n",
       "      <td>0.000000</td>\n",
       "      <td>0.000000</td>\n",
       "      <td>0.000000</td>\n",
       "      <td>0.000000</td>\n",
       "    </tr>\n",
       "    <tr>\n",
       "      <th>OCGT</th>\n",
       "      <td>0.00</td>\n",
       "      <td>1427.740211</td>\n",
       "      <td>1427.850125</td>\n",
       "      <td>1428.240301</td>\n",
       "      <td>4734.810473</td>\n",
       "    </tr>\n",
       "    <tr>\n",
       "      <th>load_shedding</th>\n",
       "      <td>0.00</td>\n",
       "      <td>0.000000</td>\n",
       "      <td>0.000000</td>\n",
       "      <td>0.000000</td>\n",
       "      <td>0.000000</td>\n",
       "    </tr>\n",
       "  </tbody>\n",
       "</table>\n",
       "</div>"
      ],
      "text/plain": [
       "name               2022          2025          2030          2035  \\\n",
       "coal           40216.00  36635.006018  32003.012761  25678.021297   \n",
       "nuclear         1854.00   1854.000000   1854.000000   1854.000000   \n",
       "hydro           2447.02   2447.020000   2447.020000   2447.020000   \n",
       "diesel          3072.00   3072.000000   3072.000000   3072.000000   \n",
       "gas              425.00    425.000000    425.000000    425.000000   \n",
       "CSP              600.00    600.000000    600.000000    600.000000   \n",
       "biomass          193.06    193.060000    193.060000    193.060000   \n",
       "solar           2287.07   6072.112187  16243.545107  25678.761454   \n",
       "onwind          3442.59  12858.257900  13701.809997  19580.761810   \n",
       "CCGT               0.00      0.000000      0.000000      0.000000   \n",
       "OCGT               0.00   1427.740211   1427.850125   1428.240301   \n",
       "load_shedding      0.00      0.000000      0.000000      0.000000   \n",
       "\n",
       "name                   2040  \n",
       "coal           18610.032030  \n",
       "nuclear         1854.000000  \n",
       "hydro           2447.020000  \n",
       "diesel          1005.000000  \n",
       "gas              425.000000  \n",
       "CSP              600.000000  \n",
       "biomass          193.060000  \n",
       "solar          34685.804141  \n",
       "onwind         26534.207177  \n",
       "CCGT               0.000000  \n",
       "OCGT            4734.810473  \n",
       "load_shedding      0.000000  "
      ]
     },
     "execution_count": 73,
     "metadata": {},
     "output_type": "execute_result"
    }
   ],
   "source": [
    "capacity"
   ]
  },
  {
   "cell_type": "code",
   "execution_count": 74,
   "metadata": {},
   "outputs": [
    {
     "data": {
      "text/plain": [
       "<AxesSubplot: xlabel='name'>"
      ]
     },
     "execution_count": 74,
     "metadata": {},
     "output_type": "execute_result"
    },
    {
     "data": {
      "image/png": "[encoded data removed]",
      "text/plain": [
       "<Figure size 640x480 with 1 Axes>"
      ]
     },
     "metadata": {},
     "output_type": "display_data"
    }
   ],
   "source": [
    "capacity.T.plot.bar(stacked=True)"
   ]
  },
  {
   "cell_type": "code",
   "execution_count": 131,
   "metadata": {},
   "outputs": [
    {
     "data": {
      "text/html": [
       "<div>\n",
       "<style scoped>\n",
       "    .dataframe tbody tr th:only-of-type {\n",
       "        vertical-align: middle;\n",
       "    }\n",
       "\n",
       "    .dataframe tbody tr th {\n",
       "        vertical-align: top;\n",
       "    }\n",
       "\n",
       "    .dataframe thead th {\n",
       "        text-align: right;\n",
       "    }\n",
       "</style>\n",
       "<table border=\"1\" class=\"dataframe\">\n",
       "  <thead>\n",
       "    <tr style=\"text-align: right;\">\n",
       "      <th>Generator</th>\n",
       "      <th>CahoraBassa</th>\n",
       "      <th>ColleyWobbles</th>\n",
       "      <th>Gariep</th>\n",
       "      <th>Kruisvallei Hydro</th>\n",
       "      <th>Neusberg Hydro Electrical Project</th>\n",
       "      <th>RSA REIPPPP_BW1_CSP</th>\n",
       "      <th>RSA REIPPPP_BW1_onwind</th>\n",
       "      <th>RSA REIPPPP_BW1_solar</th>\n",
       "      <th>RSA REIPPPP_BW2_CSP</th>\n",
       "      <th>RSA REIPPPP_BW2_onwind</th>\n",
       "      <th>...</th>\n",
       "      <th>RSA coal_2030</th>\n",
       "      <th>RSA OCGT_2022</th>\n",
       "      <th>RSA OCGT_2025</th>\n",
       "      <th>RSA OCGT_2030</th>\n",
       "      <th>RSA CCGT_2022</th>\n",
       "      <th>RSA CCGT_2025</th>\n",
       "      <th>RSA CCGT_2030</th>\n",
       "      <th>RSA nuclear_2022</th>\n",
       "      <th>RSA nuclear_2025</th>\n",
       "      <th>RSA nuclear_2030</th>\n",
       "    </tr>\n",
       "    <tr>\n",
       "      <th>period</th>\n",
       "      <th></th>\n",
       "      <th></th>\n",
       "      <th></th>\n",
       "      <th></th>\n",
       "      <th></th>\n",
       "      <th></th>\n",
       "      <th></th>\n",
       "      <th></th>\n",
       "      <th></th>\n",
       "      <th></th>\n",
       "      <th></th>\n",
       "      <th></th>\n",
       "      <th></th>\n",
       "      <th></th>\n",
       "      <th></th>\n",
       "      <th></th>\n",
       "      <th></th>\n",
       "      <th></th>\n",
       "      <th></th>\n",
       "      <th></th>\n",
       "      <th></th>\n",
       "    </tr>\n",
       "  </thead>\n",
       "  <tbody>\n",
       "    <tr>\n",
       "      <th>2022</th>\n",
       "      <td>0.299423</td>\n",
       "      <td>0.299423</td>\n",
       "      <td>0.930752</td>\n",
       "      <td>0.299423</td>\n",
       "      <td>0.299423</td>\n",
       "      <td>0.377918</td>\n",
       "      <td>0.357253</td>\n",
       "      <td>0.263677</td>\n",
       "      <td>0.377918</td>\n",
       "      <td>0.357253</td>\n",
       "      <td>...</td>\n",
       "      <td>0.776562</td>\n",
       "      <td>0.936948</td>\n",
       "      <td>0.936948</td>\n",
       "      <td>0.936948</td>\n",
       "      <td>0.936948</td>\n",
       "      <td>0.936948</td>\n",
       "      <td>0.936948</td>\n",
       "      <td>0.947321</td>\n",
       "      <td>0.947321</td>\n",
       "      <td>0.947321</td>\n",
       "    </tr>\n",
       "    <tr>\n",
       "      <th>2025</th>\n",
       "      <td>0.299423</td>\n",
       "      <td>0.299423</td>\n",
       "      <td>0.930752</td>\n",
       "      <td>0.299423</td>\n",
       "      <td>0.299423</td>\n",
       "      <td>0.377918</td>\n",
       "      <td>0.357253</td>\n",
       "      <td>0.263677</td>\n",
       "      <td>0.377918</td>\n",
       "      <td>0.357253</td>\n",
       "      <td>...</td>\n",
       "      <td>0.776562</td>\n",
       "      <td>0.936948</td>\n",
       "      <td>0.936948</td>\n",
       "      <td>0.936948</td>\n",
       "      <td>0.936948</td>\n",
       "      <td>0.936948</td>\n",
       "      <td>0.936948</td>\n",
       "      <td>0.947321</td>\n",
       "      <td>0.947321</td>\n",
       "      <td>0.947321</td>\n",
       "    </tr>\n",
       "    <tr>\n",
       "      <th>2030</th>\n",
       "      <td>0.299423</td>\n",
       "      <td>0.299423</td>\n",
       "      <td>0.930752</td>\n",
       "      <td>0.299423</td>\n",
       "      <td>0.299423</td>\n",
       "      <td>0.377918</td>\n",
       "      <td>0.357253</td>\n",
       "      <td>0.263677</td>\n",
       "      <td>0.377918</td>\n",
       "      <td>0.357253</td>\n",
       "      <td>...</td>\n",
       "      <td>0.776562</td>\n",
       "      <td>0.936948</td>\n",
       "      <td>0.936948</td>\n",
       "      <td>0.936948</td>\n",
       "      <td>0.936948</td>\n",
       "      <td>0.936948</td>\n",
       "      <td>0.936948</td>\n",
       "      <td>0.947321</td>\n",
       "      <td>0.947321</td>\n",
       "      <td>0.947321</td>\n",
       "    </tr>\n",
       "  </tbody>\n",
       "</table>\n",
       "<p>3 rows × 61 columns</p>\n",
       "</div>"
      ],
      "text/plain": [
       "Generator  CahoraBassa  ColleyWobbles    Gariep  Kruisvallei Hydro  \\\n",
       "period                                                               \n",
       "2022          0.299423       0.299423  0.930752           0.299423   \n",
       "2025          0.299423       0.299423  0.930752           0.299423   \n",
       "2030          0.299423       0.299423  0.930752           0.299423   \n",
       "\n",
       "Generator  Neusberg Hydro Electrical Project  RSA REIPPPP_BW1_CSP  \\\n",
       "period                                                              \n",
       "2022                                0.299423             0.377918   \n",
       "2025                                0.299423             0.377918   \n",
       "2030                                0.299423             0.377918   \n",
       "\n",
       "Generator  RSA REIPPPP_BW1_onwind  RSA REIPPPP_BW1_solar  RSA REIPPPP_BW2_CSP  \\\n",
       "period                                                                          \n",
       "2022                     0.357253               0.263677             0.377918   \n",
       "2025                     0.357253               0.263677             0.377918   \n",
       "2030                     0.357253               0.263677             0.377918   \n",
       "\n",
       "Generator  RSA REIPPPP_BW2_onwind  ...  RSA coal_2030  RSA OCGT_2022  \\\n",
       "period                             ...                                 \n",
       "2022                     0.357253  ...       0.776562       0.936948   \n",
       "2025                     0.357253  ...       0.776562       0.936948   \n",
       "2030                     0.357253  ...       0.776562       0.936948   \n",
       "\n",
       "Generator  RSA OCGT_2025  RSA OCGT_2030  RSA CCGT_2022  RSA CCGT_2025  \\\n",
       "period                                                                  \n",
       "2022            0.936948       0.936948       0.936948       0.936948   \n",
       "2025            0.936948       0.936948       0.936948       0.936948   \n",
       "2030            0.936948       0.936948       0.936948       0.936948   \n",
       "\n",
       "Generator  RSA CCGT_2030  RSA nuclear_2022  RSA nuclear_2025  RSA nuclear_2030  \n",
       "period                                                                          \n",
       "2022            0.936948          0.947321          0.947321          0.947321  \n",
       "2025            0.936948          0.947321          0.947321          0.947321  \n",
       "2030            0.936948          0.947321          0.947321          0.947321  \n",
       "\n",
       "[3 rows x 61 columns]"
      ]
     },
     "execution_count": 131,
     "metadata": {},
     "output_type": "execute_result"
    }
   ],
   "source": [
    "n.generators_t.p_max_pu.groupby(n.generators_t.p.index.get_level_values(0)).mean()"
   ]
  },
  {
   "cell_type": "code",
   "execution_count": 113,
   "metadata": {},
   "outputs": [
    {
     "data": {
      "text/plain": [
       "period\n",
       "2022    0.024486\n",
       "2025    0.005740\n",
       "2030    0.007721\n",
       "Name: RSA load_shedding, dtype: float64"
      ]
     },
     "execution_count": 113,
     "metadata": {},
     "output_type": "execute_result"
    }
   ],
   "source": [
    "n.generators_t.p['RSA load_shedding'].groupby(n.generators_t.p.index.get_level_values(0)).sum()/1e6"
   ]
  },
  {
   "cell_type": "code",
   "execution_count": 115,
   "metadata": {},
   "outputs": [
    {
     "data": {
      "text/plain": [
       "period\n",
       "2022    0.024284\n",
       "2025    0.000455\n",
       "2030    0.000408\n",
       "dtype: float64"
      ]
     },
     "execution_count": 115,
     "metadata": {},
     "output_type": "execute_result"
    }
   ],
   "source": [
    "years=n.generators_t.p.index.get_level_values(0)\n",
    "n.generators_t.p[n.generators[n.generators.carrier.isin(['diesel'])].index].sum(axis=1).groupby(years).sum()/(3056*8760)"
   ]
  },
  {
   "cell_type": "code",
   "execution_count": 87,
   "metadata": {},
   "outputs": [
    {
     "data": {
      "text/plain": [
       "StorageUnit\n",
       "Drakensberg         1000.000000\n",
       "Ingula              1332.000000\n",
       "Palmiet              400.000000\n",
       "Steenbras            180.000000\n",
       "RSA battery_2022       0.000000\n",
       "RSA battery_2025       0.108594\n",
       "RSA battery_2030    4679.312905\n",
       "Name: p_nom_opt, dtype: float64"
      ]
     },
     "execution_count": 87,
     "metadata": {},
     "output_type": "execute_result"
    }
   ],
   "source": [
    "n.storage_units.p_nom_opt"
   ]
  },
  {
   "cell_type": "code",
   "execution_count": 86,
   "metadata": {},
   "outputs": [
    {
     "data": {
      "text/plain": [
       "<AxesSubplot: xlabel='period,timestep'>"
      ]
     },
     "execution_count": 86,
     "metadata": {},
     "output_type": "execute_result"
    },
    {
     "data": {
      "image/png": "[encoded data removed]",
      "text/plain": [
       "<Figure size 640x480 with 1 Axes>"
      ]
     },
     "metadata": {},
     "output_type": "display_data"
    }
   ],
   "source": [
    "n.storage_units_t.state_of_charge['Drakensberg'].plot()"
   ]
  },
  {
   "cell_type": "code",
   "execution_count": 19,
   "metadata": {},
   "outputs": [
    {
     "data": {
      "text/html": [
       "<div>\n",
       "<style scoped>\n",
       "    .dataframe tbody tr th:only-of-type {\n",
       "        vertical-align: middle;\n",
       "    }\n",
       "\n",
       "    .dataframe tbody tr th {\n",
       "        vertical-align: top;\n",
       "    }\n",
       "\n",
       "    .dataframe thead th {\n",
       "        text-align: right;\n",
       "    }\n",
       "</style>\n",
       "<table border=\"1\" class=\"dataframe\">\n",
       "  <thead>\n",
       "    <tr style=\"text-align: right;\">\n",
       "      <th></th>\n",
       "      <th>carrier_attribute</th>\n",
       "      <th>sense</th>\n",
       "      <th>investment_period</th>\n",
       "      <th>type</th>\n",
       "      <th>constant</th>\n",
       "      <th>mu</th>\n",
       "    </tr>\n",
       "    <tr>\n",
       "      <th>GlobalConstraint</th>\n",
       "      <th></th>\n",
       "      <th></th>\n",
       "      <th></th>\n",
       "      <th></th>\n",
       "      <th></th>\n",
       "      <th></th>\n",
       "    </tr>\n",
       "  </thead>\n",
       "  <tbody>\n",
       "    <tr>\n",
       "      <th>max_period_limit_biomass_2025</th>\n",
       "      <td>biomass</td>\n",
       "      <td>&lt;=</td>\n",
       "      <td>2025.0</td>\n",
       "      <td>tech_capacity_expansion_limit</td>\n",
       "      <td>100000.0</td>\n",
       "      <td>0.000000e+00</td>\n",
       "    </tr>\n",
       "    <tr>\n",
       "      <th>max_period_limit_solar_2025</th>\n",
       "      <td>solar</td>\n",
       "      <td>&lt;=</td>\n",
       "      <td>2025.0</td>\n",
       "      <td>tech_capacity_expansion_limit</td>\n",
       "      <td>4000.0</td>\n",
       "      <td>6.977080e+08</td>\n",
       "    </tr>\n",
       "    <tr>\n",
       "      <th>max_period_limit_onwind_2025</th>\n",
       "      <td>onwind</td>\n",
       "      <td>&lt;=</td>\n",
       "      <td>2025.0</td>\n",
       "      <td>tech_capacity_expansion_limit</td>\n",
       "      <td>5000.0</td>\n",
       "      <td>1.124587e+09</td>\n",
       "    </tr>\n",
       "    <tr>\n",
       "      <th>max_period_limit_CCGT_2025</th>\n",
       "      <td>CCGT</td>\n",
       "      <td>&lt;=</td>\n",
       "      <td>2025.0</td>\n",
       "      <td>tech_capacity_expansion_limit</td>\n",
       "      <td>0.0</td>\n",
       "      <td>3.016649e+09</td>\n",
       "    </tr>\n",
       "    <tr>\n",
       "      <th>max_period_limit_OCGT_2025</th>\n",
       "      <td>OCGT</td>\n",
       "      <td>&lt;=</td>\n",
       "      <td>2025.0</td>\n",
       "      <td>tech_capacity_expansion_limit</td>\n",
       "      <td>3000.0</td>\n",
       "      <td>2.993399e+09</td>\n",
       "    </tr>\n",
       "    <tr>\n",
       "      <th>max_period_limit_coal_2025</th>\n",
       "      <td>coal</td>\n",
       "      <td>&lt;=</td>\n",
       "      <td>2025.0</td>\n",
       "      <td>tech_capacity_expansion_limit</td>\n",
       "      <td>10000.0</td>\n",
       "      <td>2.430924e+09</td>\n",
       "    </tr>\n",
       "    <tr>\n",
       "      <th>max_period_limit_nuclear_2025</th>\n",
       "      <td>nuclear</td>\n",
       "      <td>&lt;=</td>\n",
       "      <td>2025.0</td>\n",
       "      <td>tech_capacity_expansion_limit</td>\n",
       "      <td>2000.0</td>\n",
       "      <td>7.804030e-02</td>\n",
       "    </tr>\n",
       "    <tr>\n",
       "      <th>max_period_limit_biomass_2030</th>\n",
       "      <td>biomass</td>\n",
       "      <td>&lt;=</td>\n",
       "      <td>2030.0</td>\n",
       "      <td>tech_capacity_expansion_limit</td>\n",
       "      <td>100000.0</td>\n",
       "      <td>0.000000e+00</td>\n",
       "    </tr>\n",
       "    <tr>\n",
       "      <th>max_period_limit_solar_2030</th>\n",
       "      <td>solar</td>\n",
       "      <td>&lt;=</td>\n",
       "      <td>2030.0</td>\n",
       "      <td>tech_capacity_expansion_limit</td>\n",
       "      <td>14000.0</td>\n",
       "      <td>8.964934e+04</td>\n",
       "    </tr>\n",
       "    <tr>\n",
       "      <th>max_period_limit_onwind_2030</th>\n",
       "      <td>onwind</td>\n",
       "      <td>&lt;=</td>\n",
       "      <td>2030.0</td>\n",
       "      <td>tech_capacity_expansion_limit</td>\n",
       "      <td>20000.0</td>\n",
       "      <td>7.558651e+06</td>\n",
       "    </tr>\n",
       "    <tr>\n",
       "      <th>max_period_limit_CCGT_2030</th>\n",
       "      <td>CCGT</td>\n",
       "      <td>&lt;=</td>\n",
       "      <td>2030.0</td>\n",
       "      <td>tech_capacity_expansion_limit</td>\n",
       "      <td>15000.0</td>\n",
       "      <td>0.000000e+00</td>\n",
       "    </tr>\n",
       "    <tr>\n",
       "      <th>max_period_limit_OCGT_2030</th>\n",
       "      <td>OCGT</td>\n",
       "      <td>&lt;=</td>\n",
       "      <td>2030.0</td>\n",
       "      <td>tech_capacity_expansion_limit</td>\n",
       "      <td>18000.0</td>\n",
       "      <td>1.463891e+00</td>\n",
       "    </tr>\n",
       "    <tr>\n",
       "      <th>max_period_limit_coal_2030</th>\n",
       "      <td>coal</td>\n",
       "      <td>&lt;=</td>\n",
       "      <td>2030.0</td>\n",
       "      <td>tech_capacity_expansion_limit</td>\n",
       "      <td>10005.0</td>\n",
       "      <td>3.164592e+04</td>\n",
       "    </tr>\n",
       "    <tr>\n",
       "      <th>max_period_limit_nuclear_2030</th>\n",
       "      <td>nuclear</td>\n",
       "      <td>&lt;=</td>\n",
       "      <td>2030.0</td>\n",
       "      <td>tech_capacity_expansion_limit</td>\n",
       "      <td>100000.0</td>\n",
       "      <td>0.000000e+00</td>\n",
       "    </tr>\n",
       "  </tbody>\n",
       "</table>\n",
       "</div>"
      ],
      "text/plain": [
       "                              carrier_attribute sense  investment_period  \\\n",
       "GlobalConstraint                                                           \n",
       "max_period_limit_biomass_2025           biomass    <=             2025.0   \n",
       "max_period_limit_solar_2025               solar    <=             2025.0   \n",
       "max_period_limit_onwind_2025             onwind    <=             2025.0   \n",
       "max_period_limit_CCGT_2025                 CCGT    <=             2025.0   \n",
       "max_period_limit_OCGT_2025                 OCGT    <=             2025.0   \n",
       "max_period_limit_coal_2025                 coal    <=             2025.0   \n",
       "max_period_limit_nuclear_2025           nuclear    <=             2025.0   \n",
       "max_period_limit_biomass_2030           biomass    <=             2030.0   \n",
       "max_period_limit_solar_2030               solar    <=             2030.0   \n",
       "max_period_limit_onwind_2030             onwind    <=             2030.0   \n",
       "max_period_limit_CCGT_2030                 CCGT    <=             2030.0   \n",
       "max_period_limit_OCGT_2030                 OCGT    <=             2030.0   \n",
       "max_period_limit_coal_2030                 coal    <=             2030.0   \n",
       "max_period_limit_nuclear_2030           nuclear    <=             2030.0   \n",
       "\n",
       "                                                        type  constant  \\\n",
       "GlobalConstraint                                                         \n",
       "max_period_limit_biomass_2025  tech_capacity_expansion_limit  100000.0   \n",
       "max_period_limit_solar_2025    tech_capacity_expansion_limit    4000.0   \n",
       "max_period_limit_onwind_2025   tech_capacity_expansion_limit    5000.0   \n",
       "max_period_limit_CCGT_2025     tech_capacity_expansion_limit       0.0   \n",
       "max_period_limit_OCGT_2025     tech_capacity_expansion_limit    3000.0   \n",
       "max_period_limit_coal_2025     tech_capacity_expansion_limit   10000.0   \n",
       "max_period_limit_nuclear_2025  tech_capacity_expansion_limit    2000.0   \n",
       "max_period_limit_biomass_2030  tech_capacity_expansion_limit  100000.0   \n",
       "max_period_limit_solar_2030    tech_capacity_expansion_limit   14000.0   \n",
       "max_period_limit_onwind_2030   tech_capacity_expansion_limit   20000.0   \n",
       "max_period_limit_CCGT_2030     tech_capacity_expansion_limit   15000.0   \n",
       "max_period_limit_OCGT_2030     tech_capacity_expansion_limit   18000.0   \n",
       "max_period_limit_coal_2030     tech_capacity_expansion_limit   10005.0   \n",
       "max_period_limit_nuclear_2030  tech_capacity_expansion_limit  100000.0   \n",
       "\n",
       "                                         mu  \n",
       "GlobalConstraint                             \n",
       "max_period_limit_biomass_2025  0.000000e+00  \n",
       "max_period_limit_solar_2025    6.977080e+08  \n",
       "max_period_limit_onwind_2025   1.124587e+09  \n",
       "max_period_limit_CCGT_2025     3.016649e+09  \n",
       "max_period_limit_OCGT_2025     2.993399e+09  \n",
       "max_period_limit_coal_2025     2.430924e+09  \n",
       "max_period_limit_nuclear_2025  7.804030e-02  \n",
       "max_period_limit_biomass_2030  0.000000e+00  \n",
       "max_period_limit_solar_2030    8.964934e+04  \n",
       "max_period_limit_onwind_2030   7.558651e+06  \n",
       "max_period_limit_CCGT_2030     0.000000e+00  \n",
       "max_period_limit_OCGT_2030     1.463891e+00  \n",
       "max_period_limit_coal_2030     3.164592e+04  \n",
       "max_period_limit_nuclear_2030  0.000000e+00  "
      ]
     },
     "execution_count": 19,
     "metadata": {},
     "output_type": "execute_result"
    }
   ],
   "source": [
    "n.global_constraints[n.global_constraints['sense']=='<=']"
   ]
  },
  {
   "cell_type": "code",
   "execution_count": 2,
   "metadata": {},
   "outputs": [],
   "source": [
    "eskom_data=du.eskom_data('../data/ESK2791.csv')"
   ]
  },
  {
   "cell_type": "code",
   "execution_count": 15,
   "metadata": {},
   "outputs": [],
   "source": [
    "eskom_data['other_re_installed'].groupby(eskom_data.index.year).max().to_clipboard()"
   ]
  },
  {
   "cell_type": "code",
   "execution_count": null,
   "metadata": {},
   "outputs": [],
   "source": []
  },
  {
   "cell_type": "code",
   "execution_count": 6,
   "metadata": {},
   "outputs": [],
   "source": [
    "eskom_data['loadshed_mlr'].groupby(eskom_data.index.year).sum().to_clipboard()"
   ]
  },
  {
   "cell_type": "code",
   "execution_count": null,
   "metadata": {},
   "outputs": [],
   "source": [
    "df = pd.read_csv('../data/Eskom EAF data.csv',index_col=[1,0],parse_dates=True)\n",
    "df['capacity'] = df['EAF %']/100 * df['MW'] \n",
    "\n",
    "\n",
    "for y in [2017,2018,2019,2020,2021,2022]:\n",
    "    data=df.loc['Generation Total','PCLF %']\n",
    "    plt.plot(data[data.index.year==y].values)\n",
    "\n"
   ]
  },
  {
   "cell_type": "code",
   "execution_count": null,
   "metadata": {},
   "outputs": [],
   "source": [
    "df = pd.read_csv('../data/Eskom EAF data.csv',index_col=[1,0],parse_dates=True)\n",
    "df['capacity'] = df['EAF %']/100 * df['MW'] \n",
    "stations=df[df.type=='coal'].index.get_level_values(0)"
   ]
  },
  {
   "cell_type": "code",
   "execution_count": null,
   "metadata": {},
   "outputs": [],
   "source": [
    "stations"
   ]
  },
  {
   "cell_type": "code",
   "execution_count": null,
   "metadata": {},
   "outputs": [],
   "source": [
    "df = pd.read_csv('../data/Eskom EAF data.csv',index_col=[1,0],parse_dates=True)\n",
    "df['capacity'] = df['EAF %']/100 * df['MW'] \n",
    "stations=df[df.type=='coal'].index.get_level_values(0).unique()\n",
    "eaf=pd.DataFrame(0,index=stations,columns=range(2017,2023))\n",
    "planned=pd.DataFrame(0,index=stations,columns=range(2017,2023))\n",
    "unplanned=pd.DataFrame(0,index=stations,columns=range(2017,2023))\n",
    "for s in stations:\n",
    "    eaf.loc[s,:]=df.loc[s,'EAF %'].groupby(df.loc[s,'EAF %'].index.year).mean()\n",
    "    planned.loc[s,:]=df.loc[s,'PCLF %'].groupby(df.loc[s,'PCLF %'].index.year).mean()\n",
    "    unplanned.loc[s,:]=df.loc[s,'UCLF %'].groupby(df.loc[s,'UCLF %'].index.year).mean()+df.loc[s,'OCLF %'].groupby(df.loc[s,'OCLF %'].index.year).mean()"
   ]
  },
  {
   "cell_type": "code",
   "execution_count": null,
   "metadata": {},
   "outputs": [],
   "source": [
    "df = pd.read_csv('../data/Eskom EAF data.csv',index_col=[1,0],parse_dates=True)\n",
    "df['capacity'] = df['EAF %']/100 * df['MW'] \n",
    "df=df[df.type=='coal']\n",
    "df.index=df.index.get_level_values(1)\n",
    "variable='EAF %'\n",
    "type_avg=df.groupby(level=0).mean()\n",
    "type_avg.drop(['MW','capacity'],axis=1)\n",
    "type_avg.loc[:,variable].groupby(type_avg.index.year).mean()"
   ]
  },
  {
   "cell_type": "code",
   "execution_count": null,
   "metadata": {},
   "outputs": [],
   "source": [
    "df = pd.read_csv('../data/Eskom EAF data.csv',index_col=[1,0],parse_dates=True)\n",
    "df['capacity'] = df['EAF %']/100 * df['MW'] \n",
    "stations=df[df.type=='coal'].index.get_level_values(0)\n",
    "\n",
    "installed_capacity=pd.DataFrame(0,index=stations,columns=range(2017,2023))\n",
    "for s in stations:\n",
    "    for y in range(2017,2023):\n",
    "        installed_capacity.loc[s,y]=df.loc[(s,str(y)),'MW'].mean()"
   ]
  },
  {
   "cell_type": "code",
   "execution_count": null,
   "metadata": {},
   "outputs": [],
   "source": [
    "installed_capacity.to_clipboard()"
   ]
  },
  {
   "cell_type": "code",
   "execution_count": null,
   "metadata": {},
   "outputs": [],
   "source": [
    "mean_pclf=type_avg[variable].groupby(type_avg.index.month).mean().to_clipboard()\n",
    "for y in [2017,2018,2019,2020,2021,2022]:\n",
    "    plt.plot(type_avg.loc[str(y),variable].values)\n",
    "\n",
    "plt.plot(mean_pclf.values,'k--',linewidth=3)\n",
    "plt.legend([2017,2018,2019,2020,2021,2022])"
   ]
  },
  {
   "cell_type": "code",
   "execution_count": null,
   "metadata": {},
   "outputs": [],
   "source": [
    "mean_pclf=coal_plants['UCLF %'].groupby(coal_plants.index.month).mean()\n",
    "for y in [2017,2018,2019,2020,2021,2022]:\n",
    "    plt.plot(coal_plants.loc[str(y),'UCLF %'].values)\n",
    "\n",
    "plt.plot(mean_pclf.values,'k--',linewidth=3)\n",
    "plt.legend([2017,2018,2019,2020,2021,2022])"
   ]
  },
  {
   "cell_type": "code",
   "execution_count": null,
   "metadata": {},
   "outputs": [],
   "source": [
    "plt.plot(eskom_data['coal_eaf'])\n",
    "plt.plot(df[df.type=='coal'].groupby('Date').sum()['capacity'].divide(df[df.type=='coal'].groupby('Date').sum()['MW']))\n",
    "plt.ylabel('Coal fleet EAF')"
   ]
  },
  {
   "cell_type": "code",
   "execution_count": 18,
   "metadata": {},
   "outputs": [
    {
     "name": "stderr",
     "output_type": "stream",
     "text": [
      "INFO:pypsa.io:Imported network solved_za-original_27-supply_redz_lcopt_LC.nc has buses, carriers, generators, lines, loads, storage_units\n"
     ]
    },
    {
     "data": {
      "text/plain": [
       "<AxesSubplot:xlabel='Generator'>"
      ]
     },
     "execution_count": 18,
     "metadata": {},
     "output_type": "execute_result"
    },
    {
     "data": {
      "image/png": "[encoded data removed]",
      "text/plain": [
       "<Figure size 432x288 with 1 Axes>"
      ]
     },
     "metadata": {
      "needs_background": "light"
     },
     "output_type": "display_data"
    }
   ],
   "source": [
    "n365 = pypsa.Network('../results/version-0.6/networks/solved_za-original_27-supply_redz_lcopt_LC.nc')\n",
    "n365.generators.p_nom_opt[(n365.get_active_assets('Generator',2040)) & (n365.generators.carrier=='onwind')].plot.bar()"
   ]
  },
  {
   "cell_type": "code",
   "execution_count": 22,
   "metadata": {},
   "outputs": [
    {
     "name": "stderr",
     "output_type": "stream",
     "text": [
      "INFO:pypsa.io:Imported network solved_za-original_27-supply_redz_lcopt_LC-350p.nc has buses, carriers, generators, lines, loads, storage_units\n"
     ]
    },
    {
     "data": {
      "text/plain": [
       "<AxesSubplot:xlabel='Generator'>"
      ]
     },
     "execution_count": 22,
     "metadata": {},
     "output_type": "execute_result"
    },
    {
     "data": {
      "image/png": "[encoded data removed]",
      "text/plain": [
       "<Figure size 432x288 with 1 Axes>"
      ]
     },
     "metadata": {
      "needs_background": "light"
     },
     "output_type": "display_data"
    }
   ],
   "source": [
    "n350 = pypsa.Network('../results/version-0.6/networks/solved_za-original_27-supply_redz_lcopt_LC-350p.nc')\n",
    "n350.generators.p_nom_opt[(n350.get_active_assets('Generator',2040)) & (n350.generators.carrier=='onwind')].plot.bar()"
   ]
  },
  {
   "cell_type": "code",
   "execution_count": 23,
   "metadata": {},
   "outputs": [
    {
     "name": "stderr",
     "output_type": "stream",
     "text": [
      "INFO:pypsa.io:Imported network solved_IRP-2019_RSA_redz_lcopt_LC.nc has buses, carriers, generators, loads, storage_units\n"
     ]
    }
   ],
   "source": [
    "n = pypsa.Network('../results/version-0.6/networks/solved_IRP-2019_RSA_redz_lcopt_LC.nc')"
   ]
  },
  {
   "cell_type": "code",
   "execution_count": 62,
   "metadata": {},
   "outputs": [
    {
     "name": "stderr",
     "output_type": "stream",
     "text": [
      "INFO:pypsa.io:Imported network solved_za-original_27-supply_redz_lcopt_LC-25p.nc has buses, carriers, generators, lines, loads, storage_units\n",
      "INFO:pypsa.io:Imported network solved_za-original_27-supply_redz_lcopt_LC-10p.nc has buses, carriers, generators, lines, loads, storage_units\n",
      "INFO:pypsa.io:Imported network solved_za-original_27-supply_redz_lcopt_LC-5p.nc has buses, carriers, generators, lines, loads, storage_units\n"
     ]
    }
   ],
   "source": [
    "n[25] = pypsa.Network('../results/version-0.6/networks/solved_za-original_27-supply_redz_lcopt_LC-25p.nc')\n",
    "n[10] = pypsa.Network('../results/version-0.6/networks/solved_za-original_27-supply_redz_lcopt_LC-10p.nc')\n",
    "n[5] = pypsa.Network('../results/version-0.6/networks/solved_za-original_27-supply_redz_lcopt_LC-5p.nc')"
   ]
  },
  {
   "cell_type": "code",
   "execution_count": 80,
   "metadata": {},
   "outputs": [
    {
     "name": "stderr",
     "output_type": "stream",
     "text": [
      "INFO:pypsa.io:Imported network solved_za-original_27-supply_redz_lcopt_LC-3600SEG.nc has buses, carriers, generators, lines, loads, storage_units\n"
     ]
    }
   ],
   "source": [
    "#s={}\n",
    "#s[1200] = pypsa.Network('../results/version-0.6/networks/solved_za-original_27-supply_redz_lcopt_LC-1200SEG.nc')\n",
    "#s[2400] = pypsa.Network('../results/version-0.6/networks/solved_za-original_27-supply_redz_lcopt_LC-2400SEG.nc')\n",
    "s[3600] = pypsa.Network('../results/version-0.6/networks/solved_za-original_27-supply_redz_lcopt_LC-3600SEG.nc')"
   ]
  },
  {
   "cell_type": "code",
   "execution_count": 38,
   "metadata": {},
   "outputs": [
    {
     "name": "stderr",
     "output_type": "stream",
     "text": [
      "INFO:pypsa.io:Imported network solved_za-original_27-supply_redz_lcopt_LC.nc has buses, carriers, generators, lines, loads, storage_units\n",
      "INFO:pypsa.io:Imported network solved_za-original_27-supply_redz_lcopt_LC-350p.nc has buses, carriers, generators, lines, loads, storage_units\n",
      "INFO:pypsa.io:Imported network solved_za-original_27-supply_redz_lcopt_LC-300p.nc has buses, carriers, generators, lines, loads, storage_units\n",
      "INFO:pypsa.io:Imported network solved_za-original_27-supply_redz_lcopt_LC-250p.nc has buses, carriers, generators, lines, loads, storage_units\n",
      "INFO:pypsa.io:Imported network solved_za-original_27-supply_redz_lcopt_LC-200p.nc has buses, carriers, generators, lines, loads, storage_units\n",
      "INFO:pypsa.io:Imported network solved_za-original_27-supply_redz_lcopt_LC-150p.nc has buses, carriers, generators, lines, loads, storage_units\n",
      "INFO:pypsa.io:Imported network solved_za-original_27-supply_redz_lcopt_LC-100p.nc has buses, carriers, generators, lines, loads, storage_units\n",
      "INFO:pypsa.io:Imported network solved_za-original_27-supply_redz_lcopt_LC-50p.nc has buses, carriers, generators, lines, loads, storage_units\n"
     ]
    }
   ],
   "source": [
    "n={}\n",
    "n[365] = pypsa.Network('../results/version-0.6/networks/solved_za-original_27-supply_redz_lcopt_LC.nc')\n",
    "n[350] = pypsa.Network('../results/version-0.6/networks/solved_za-original_27-supply_redz_lcopt_LC-350p.nc')\n",
    "n[300] = pypsa.Network('../results/version-0.6/networks/solved_za-original_27-supply_redz_lcopt_LC-300p.nc')\n",
    "n[250] = pypsa.Network('../results/version-0.6/networks/solved_za-original_27-supply_redz_lcopt_LC-250p.nc')\n",
    "n[200] = pypsa.Network('../results/version-0.6/networks/solved_za-original_27-supply_redz_lcopt_LC-200p.nc')\n",
    "n[150] = pypsa.Network('../results/version-0.6/networks/solved_za-original_27-supply_redz_lcopt_LC-150p.nc')\n",
    "n[100] = pypsa.Network('../results/version-0.6/networks/solved_za-original_27-supply_redz_lcopt_LC-100p.nc')\n",
    "n[50] = pypsa.Network('../results/version-0.6/networks/solved_za-original_27-supply_redz_lcopt_LC-50p.nc')\n",
    "n[25] = pypsa.Network('../results/version-0.6/networks/solved_za-original_27-supply_redz_lcopt_LC-25p.nc')\n",
    "n[10] = pypsa.Network('../results/version-0.6/networks/solved_za-original_27-supply_redz_lcopt_LC-10p.nc')\n",
    "n[50] = pypsa.Network('../results/version-0.6/networks/solved_za-original_27-supply_redz_lcopt_LC-5p.nc')"
   ]
  },
  {
   "cell_type": "code",
   "execution_count": 31,
   "metadata": {},
   "outputs": [
    {
     "data": {
      "text/html": [
       "<div>\n",
       "<style scoped>\n",
       "    .dataframe tbody tr th:only-of-type {\n",
       "        vertical-align: middle;\n",
       "    }\n",
       "\n",
       "    .dataframe tbody tr th {\n",
       "        vertical-align: top;\n",
       "    }\n",
       "\n",
       "    .dataframe thead th {\n",
       "        text-align: right;\n",
       "    }\n",
       "</style>\n",
       "<table border=\"1\" class=\"dataframe\">\n",
       "  <thead>\n",
       "    <tr style=\"text-align: right;\">\n",
       "      <th></th>\n",
       "      <th>objective</th>\n",
       "      <th>years</th>\n",
       "    </tr>\n",
       "    <tr>\n",
       "      <th>name</th>\n",
       "      <th></th>\n",
       "      <th></th>\n",
       "    </tr>\n",
       "  </thead>\n",
       "  <tbody>\n",
       "    <tr>\n",
       "      <th>2025</th>\n",
       "      <td>4.312127</td>\n",
       "      <td>5</td>\n",
       "    </tr>\n",
       "    <tr>\n",
       "      <th>2030</th>\n",
       "      <td>2.934761</td>\n",
       "      <td>5</td>\n",
       "    </tr>\n",
       "    <tr>\n",
       "      <th>2035</th>\n",
       "      <td>1.997349</td>\n",
       "      <td>5</td>\n",
       "    </tr>\n",
       "    <tr>\n",
       "      <th>2040</th>\n",
       "      <td>1.359362</td>\n",
       "      <td>5</td>\n",
       "    </tr>\n",
       "  </tbody>\n",
       "</table>\n",
       "</div>"
      ],
      "text/plain": [
       "      objective  years\n",
       "name                  \n",
       "2025   4.312127      5\n",
       "2030   2.934761      5\n",
       "2035   1.997349      5\n",
       "2040   1.359362      5"
      ]
     },
     "execution_count": 31,
     "metadata": {},
     "output_type": "execute_result"
    }
   ],
   "source": [
    "n.investment_period_weightings"
   ]
  },
  {
   "cell_type": "code",
   "execution_count": 28,
   "metadata": {},
   "outputs": [
    {
     "data": {
      "text/plain": [
       "carrier\n",
       "CCGT       15273.324689\n",
       "CSP          600.000000\n",
       "OCGT       18655.519965\n",
       "biomass      193.060000\n",
       "coal       36635.058473\n",
       "diesel      3072.000000\n",
       "gas          425.000000\n",
       "hydro       2447.020000\n",
       "nuclear     1854.017612\n",
       "onwind     25481.799337\n",
       "solar      24999.084064\n",
       "Name: p_nom_opt, dtype: float64"
      ]
     },
     "execution_count": 28,
     "metadata": {},
     "output_type": "execute_result"
    }
   ],
   "source": [
    "n.generators.p_nom_opt[n.get_active_assets('Generator',2025)].groupby(n.generators.carrier).sum()"
   ]
  },
  {
   "cell_type": "code",
   "execution_count": 22,
   "metadata": {},
   "outputs": [
    {
     "data": {
      "text/plain": [
       "Generator\n",
       "Duvha             2875.000000\n",
       "Grootvlei          570.000000\n",
       "Hendrina          1098.000000\n",
       "Kendal            3840.000000\n",
       "Komati             114.000000\n",
       "Kriel             2850.000000\n",
       "Kusile            2880.000000\n",
       "Lethabo           3558.000000\n",
       "MajubaDry         1833.000000\n",
       "MajubaWet         2010.000000\n",
       "Matimba           3690.000000\n",
       "Matla             3450.000000\n",
       "Medupi            3597.000000\n",
       "Tutuka            3510.000000\n",
       "Municipal_Coal     160.000000\n",
       "Sasol_SSF          600.000000\n",
       "RSA coal_2025        0.061846\n",
       "RSA coal_2030        0.063909\n",
       "RSA coal_2035        0.117561\n",
       "RSA coal_2040        0.661647\n",
       "Name: p_nom_opt, dtype: float64"
      ]
     },
     "execution_count": 22,
     "metadata": {},
     "output_type": "execute_result"
    }
   ],
   "source": [
    "n.generators.p_nom_opt[n.generators.carrier=='coal']"
   ]
  },
  {
   "cell_type": "code",
   "execution_count": 18,
   "metadata": {},
   "outputs": [
    {
     "data": {
      "text/plain": [
       "Generator\n",
       "RSA REIPPPP_BW1_solar      625.170000\n",
       "RSA REIPPPP_BW2_solar      414.000000\n",
       "RSA REIPPPP_BW3_solar      435.000000\n",
       "RSA REIPPPP_BW4_solar      812.900000\n",
       "RSA solar_2025           22712.176992\n",
       "RSA solar_2030               0.905760\n",
       "RSA solar_2035            9087.808068\n",
       "RSA solar_2040            1890.721361\n",
       "Name: p_nom_opt, dtype: float64"
      ]
     },
     "execution_count": 18,
     "metadata": {},
     "output_type": "execute_result"
    }
   ],
   "source": [
    "n.generators.p_nom_opt[n.generators.carrier=='solar']"
   ]
  },
  {
   "cell_type": "code",
   "execution_count": 63,
   "metadata": {},
   "outputs": [],
   "source": [
    "nodes=[5,10,25,50,100,150,200,250,300,350,365]\n",
    "capacity = pd.DataFrame(0,index=n[365].generators.carrier.unique(),columns=nodes)\n",
    "for node in nodes:\n",
    "    p_nom_opt = n[node].generators.p_nom_opt.groupby(n365.generators.carrier).sum()\n",
    "    for tech in n365.generators.carrier:\n",
    "        capacity.loc[tech,node] = p_nom_opt[tech]\n"
   ]
  },
  {
   "cell_type": "code",
   "execution_count": 55,
   "metadata": {},
   "outputs": [],
   "source": [
    "capacity = pd.DataFrame(0,index=n[365].generators.carrier,columns=nodes)"
   ]
  },
  {
   "cell_type": "code",
   "execution_count": 64,
   "metadata": {},
   "outputs": [
    {
     "data": {
      "text/plain": [
       "<AxesSubplot:>"
      ]
     },
     "execution_count": 64,
     "metadata": {},
     "output_type": "execute_result"
    },
    {
     "data": {
      "image/png": "[encoded data removed]",
      "text/plain": [
       "<Figure size 432x288 with 1 Axes>"
      ]
     },
     "metadata": {
      "needs_background": "light"
     },
     "output_type": "display_data"
    }
   ],
   "source": [
    "capacity.T.plot.area()"
   ]
  },
  {
   "cell_type": "code",
   "execution_count": null,
   "metadata": {},
   "outputs": [],
   "source": [
    "supply_regions = gpd.read_file(snakemake.input.supply_regions).buffer(-0.005) #.to_crs(n.crs)\n",
    "resarea = gpd.read_file(snakemake.input.resarea).to_crs(supply_regions.crs)"
   ]
  },
  {
   "cell_type": "code",
   "execution_count": 38,
   "metadata": {},
   "outputs": [
    {
     "data": {
      "text/plain": [
       "(<matplotlib.collections.PatchCollection at 0x7f6d10be7f40>,\n",
       " <matplotlib.collections.LineCollection at 0x7f6d10be7070>)"
      ]
     },
     "execution_count": 38,
     "metadata": {},
     "output_type": "execute_result"
    },
    {
     "data": {
      "image/png": "[encoded data removed]",
      "text/plain": [
       "<Figure size 504x504 with 1 Axes>"
      ]
     },
     "metadata": {
      "needs_background": "light"
     },
     "output_type": "display_data"
    }
   ],
   "source": [
    "fig, ax = plt.subplots(figsize=[7, 7], subplot_kw={\"projection\": ccrs.PlateCarree()})\n",
    "n.plot(ax=ax, boundaries=[14, 34, -35, -22])"
   ]
  },
  {
   "cell_type": "code",
   "execution_count": 29,
   "metadata": {},
   "outputs": [
    {
     "data": {
      "text/plain": [
       "(<matplotlib.collections.PatchCollection at 0x7f6d19a628e0>,\n",
       " <matplotlib.collections.LineCollection at 0x7f6d19b435e0>)"
      ]
     },
     "execution_count": 29,
     "metadata": {},
     "output_type": "execute_result"
    }
   ],
   "source": [
    "n.plot(ax=ax)"
   ]
  },
  {
   "cell_type": "code",
   "execution_count": 19,
   "metadata": {},
   "outputs": [
    {
     "data": {
      "text/html": [
       "<div>\n",
       "<style scoped>\n",
       "    .dataframe tbody tr th:only-of-type {\n",
       "        vertical-align: middle;\n",
       "    }\n",
       "\n",
       "    .dataframe tbody tr th {\n",
       "        vertical-align: top;\n",
       "    }\n",
       "\n",
       "    .dataframe thead th {\n",
       "        text-align: right;\n",
       "    }\n",
       "</style>\n",
       "<table border=\"1\" class=\"dataframe\">\n",
       "  <thead>\n",
       "    <tr style=\"text-align: right;\">\n",
       "      <th></th>\n",
       "      <th>bus0</th>\n",
       "      <th>bus1</th>\n",
       "      <th>num_parallel</th>\n",
       "      <th>length</th>\n",
       "      <th>s_nom_min</th>\n",
       "    </tr>\n",
       "    <tr>\n",
       "      <th>Line</th>\n",
       "      <th></th>\n",
       "      <th></th>\n",
       "      <th></th>\n",
       "      <th></th>\n",
       "      <th></th>\n",
       "    </tr>\n",
       "  </thead>\n",
       "  <tbody>\n",
       "    <tr>\n",
       "      <th>0</th>\n",
       "      <td>EASTERN CAPE</td>\n",
       "      <td>FREE STATE</td>\n",
       "      <td>0.775623</td>\n",
       "      <td>494.565353</td>\n",
       "      <td>1317.087898</td>\n",
       "    </tr>\n",
       "    <tr>\n",
       "      <th>1</th>\n",
       "      <td>EASTERN CAPE</td>\n",
       "      <td>KZN</td>\n",
       "      <td>0.775623</td>\n",
       "      <td>702.781934</td>\n",
       "      <td>1317.087898</td>\n",
       "    </tr>\n",
       "    <tr>\n",
       "      <th>2</th>\n",
       "      <td>EASTERN CAPE</td>\n",
       "      <td>NORTHERN CAPE</td>\n",
       "      <td>7.958380</td>\n",
       "      <td>709.406767</td>\n",
       "      <td>13514.145017</td>\n",
       "    </tr>\n",
       "    <tr>\n",
       "      <th>4</th>\n",
       "      <td>FREE STATE</td>\n",
       "      <td>GAUTENG</td>\n",
       "      <td>4.712396</td>\n",
       "      <td>381.671114</td>\n",
       "      <td>8002.132162</td>\n",
       "    </tr>\n",
       "    <tr>\n",
       "      <th>5</th>\n",
       "      <td>FREE STATE</td>\n",
       "      <td>KZN</td>\n",
       "      <td>1.508830</td>\n",
       "      <td>473.546735</td>\n",
       "      <td>2562.147552</td>\n",
       "    </tr>\n",
       "    <tr>\n",
       "      <th>6</th>\n",
       "      <td>FREE STATE</td>\n",
       "      <td>MPUMALANGA</td>\n",
       "      <td>7.225173</td>\n",
       "      <td>569.987267</td>\n",
       "      <td>12269.085363</td>\n",
       "    </tr>\n",
       "    <tr>\n",
       "      <th>7</th>\n",
       "      <td>FREE STATE</td>\n",
       "      <td>NORTH WEST</td>\n",
       "      <td>0.775623</td>\n",
       "      <td>366.030831</td>\n",
       "      <td>1317.087898</td>\n",
       "    </tr>\n",
       "    <tr>\n",
       "      <th>8</th>\n",
       "      <td>FREE STATE</td>\n",
       "      <td>NORTHERN CAPE</td>\n",
       "      <td>9.509626</td>\n",
       "      <td>674.168985</td>\n",
       "      <td>16148.320813</td>\n",
       "    </tr>\n",
       "    <tr>\n",
       "      <th>9</th>\n",
       "      <td>GAUTENG</td>\n",
       "      <td>LIMPOPO</td>\n",
       "      <td>0.366603</td>\n",
       "      <td>354.359250</td>\n",
       "      <td>622.529827</td>\n",
       "    </tr>\n",
       "    <tr>\n",
       "      <th>10</th>\n",
       "      <td>GAUTENG</td>\n",
       "      <td>MPUMALANGA</td>\n",
       "      <td>15.937725</td>\n",
       "      <td>273.427528</td>\n",
       "      <td>27063.892565</td>\n",
       "    </tr>\n",
       "    <tr>\n",
       "      <th>11</th>\n",
       "      <td>GAUTENG</td>\n",
       "      <td>NORTH WEST</td>\n",
       "      <td>8.223909</td>\n",
       "      <td>325.828086</td>\n",
       "      <td>13965.041827</td>\n",
       "    </tr>\n",
       "    <tr>\n",
       "      <th>12</th>\n",
       "      <td>KZN</td>\n",
       "      <td>MPUMALANGA</td>\n",
       "      <td>8.266326</td>\n",
       "      <td>399.031056</td>\n",
       "      <td>14037.070071</td>\n",
       "    </tr>\n",
       "    <tr>\n",
       "      <th>13</th>\n",
       "      <td>LIMPOPO</td>\n",
       "      <td>MPUMALANGA</td>\n",
       "      <td>3.060076</td>\n",
       "      <td>316.949315</td>\n",
       "      <td>5196.323349</td>\n",
       "    </tr>\n",
       "    <tr>\n",
       "      <th>14</th>\n",
       "      <td>LIMPOPO</td>\n",
       "      <td>NORTH WEST</td>\n",
       "      <td>6.306060</td>\n",
       "      <td>586.917745</td>\n",
       "      <td>10708.336203</td>\n",
       "    </tr>\n",
       "    <tr>\n",
       "      <th>15</th>\n",
       "      <td>NORTH WEST</td>\n",
       "      <td>NORTHERN CAPE</td>\n",
       "      <td>7.225173</td>\n",
       "      <td>672.151780</td>\n",
       "      <td>12269.085363</td>\n",
       "    </tr>\n",
       "    <tr>\n",
       "      <th>16</th>\n",
       "      <td>NORTHERN CAPE</td>\n",
       "      <td>WESTERN CAPE</td>\n",
       "      <td>16.001593</td>\n",
       "      <td>503.724971</td>\n",
       "      <td>27172.346522</td>\n",
       "    </tr>\n",
       "  </tbody>\n",
       "</table>\n",
       "</div>"
      ],
      "text/plain": [
       "               bus0           bus1  num_parallel      length     s_nom_min\n",
       "Line                                                                      \n",
       "0      EASTERN CAPE     FREE STATE      0.775623  494.565353   1317.087898\n",
       "1      EASTERN CAPE            KZN      0.775623  702.781934   1317.087898\n",
       "2      EASTERN CAPE  NORTHERN CAPE      7.958380  709.406767  13514.145017\n",
       "4        FREE STATE        GAUTENG      4.712396  381.671114   8002.132162\n",
       "5        FREE STATE            KZN      1.508830  473.546735   2562.147552\n",
       "6        FREE STATE     MPUMALANGA      7.225173  569.987267  12269.085363\n",
       "7        FREE STATE     NORTH WEST      0.775623  366.030831   1317.087898\n",
       "8        FREE STATE  NORTHERN CAPE      9.509626  674.168985  16148.320813\n",
       "9           GAUTENG        LIMPOPO      0.366603  354.359250    622.529827\n",
       "10          GAUTENG     MPUMALANGA     15.937725  273.427528  27063.892565\n",
       "11          GAUTENG     NORTH WEST      8.223909  325.828086  13965.041827\n",
       "12              KZN     MPUMALANGA      8.266326  399.031056  14037.070071\n",
       "13          LIMPOPO     MPUMALANGA      3.060076  316.949315   5196.323349\n",
       "14          LIMPOPO     NORTH WEST      6.306060  586.917745  10708.336203\n",
       "15       NORTH WEST  NORTHERN CAPE      7.225173  672.151780  12269.085363\n",
       "16    NORTHERN CAPE   WESTERN CAPE     16.001593  503.724971  27172.346522"
      ]
     },
     "execution_count": 19,
     "metadata": {},
     "output_type": "execute_result"
    }
   ],
   "source": [
    "n.lines[['bus0','bus1','num_parallel','length','s_nom_min']]"
   ]
  },
  {
   "cell_type": "code",
   "execution_count": 18,
   "metadata": {},
   "outputs": [
    {
     "data": {
      "text/plain": [
       "Line\n",
       "0        0.026466\n",
       "1      511.364081\n",
       "2        0.052320\n",
       "4        0.025606\n",
       "5      873.306989\n",
       "6        0.016355\n",
       "7      574.254739\n",
       "8        0.016591\n",
       "9        0.040905\n",
       "10       0.023069\n",
       "11    6456.179768\n",
       "12       0.017079\n",
       "13       0.028437\n",
       "14       0.014536\n",
       "15       0.010777\n",
       "16       0.096711\n",
       "dtype: float64"
      ]
     },
     "execution_count": 18,
     "metadata": {},
     "output_type": "execute_result"
    }
   ],
   "source": [
    "n.lines['s_nom_opt']-n.lines['s_nom_min']"
   ]
  },
  {
   "cell_type": "code",
   "execution_count": 255,
   "metadata": {},
   "outputs": [
    {
     "data": {
      "text/plain": [
       "carrier\n",
       "CCGT       10986.255965\n",
       "CSP          600.000000\n",
       "OCGT       19902.625973\n",
       "biomass      193.060000\n",
       "coal       18610.042110\n",
       "diesel      1005.000000\n",
       "gas          425.000000\n",
       "hydro       2447.020000\n",
       "nuclear     1854.062427\n",
       "onwind     66244.888120\n",
       "solar      48430.089174\n",
       "Name: p_nom_opt, dtype: float64"
      ]
     },
     "execution_count": 255,
     "metadata": {},
     "output_type": "execute_result"
    }
   ],
   "source": [
    "n.generators.p_nom_opt.groupby(n.generators.carrier).sum()"
   ]
  },
  {
   "cell_type": "code",
   "execution_count": 237,
   "metadata": {},
   "outputs": [
    {
     "data": {
      "text/plain": [
       "carrier\n",
       "False     2912.000000\n",
       "True     30977.145211\n",
       "Name: p_nom_opt, dtype: float64"
      ]
     },
     "execution_count": 237,
     "metadata": {},
     "output_type": "execute_result"
    }
   ],
   "source": [
    "n.storage_units.p_nom_opt.groupby(n.storage_units.carrier=='battery').sum()"
   ]
  },
  {
   "cell_type": "code",
   "execution_count": 246,
   "metadata": {},
   "outputs": [
    {
     "data": {
      "text/plain": [
       "0.36794823059360743"
      ]
     },
     "execution_count": 246,
     "metadata": {},
     "output_type": "execute_result"
    }
   ],
   "source": [
    "n.generators_t.p_max_pu['RSA onwind_2040'].mean()"
   ]
  },
  {
   "cell_type": "code",
   "execution_count": 245,
   "metadata": {},
   "outputs": [
    {
     "data": {
      "text/plain": [
       "0.31765458296685184"
      ]
     },
     "execution_count": 245,
     "metadata": {},
     "output_type": "execute_result"
    }
   ],
   "source": [
    "n.generators_t.p['RSA onwind_2040'].mean()/n.generators.p_nom_opt['RSA onwind_2040']"
   ]
  },
  {
   "cell_type": "code",
   "execution_count": 253,
   "metadata": {},
   "outputs": [
    {
     "data": {
      "text/plain": [
       "62.6626460703809"
      ]
     },
     "execution_count": 253,
     "metadata": {},
     "output_type": "execute_result"
    }
   ],
   "source": [
    "co2_emi = (n.generators_t.p.sum()/n.generators.efficiency * n.generators.carrier.map(n.carriers.co2_emissions)).sum()\n",
    "co2_emi/1e6"
   ]
  },
  {
   "cell_type": "code",
   "execution_count": 160,
   "metadata": {},
   "outputs": [
    {
     "data": {
      "text/html": [
       "<div>\n",
       "<style scoped>\n",
       "    .dataframe tbody tr th:only-of-type {\n",
       "        vertical-align: middle;\n",
       "    }\n",
       "\n",
       "    .dataframe tbody tr th {\n",
       "        vertical-align: top;\n",
       "    }\n",
       "\n",
       "    .dataframe thead th {\n",
       "        text-align: right;\n",
       "    }\n",
       "</style>\n",
       "<table border=\"1\" class=\"dataframe\">\n",
       "  <thead>\n",
       "    <tr style=\"text-align: right;\">\n",
       "      <th></th>\n",
       "      <th>objective</th>\n",
       "      <th>years</th>\n",
       "    </tr>\n",
       "    <tr>\n",
       "      <th>name</th>\n",
       "      <th></th>\n",
       "      <th></th>\n",
       "    </tr>\n",
       "  </thead>\n",
       "  <tbody>\n",
       "    <tr>\n",
       "      <th>2040</th>\n",
       "      <td>1</td>\n",
       "      <td>1</td>\n",
       "    </tr>\n",
       "  </tbody>\n",
       "</table>\n",
       "</div>"
      ],
      "text/plain": [
       "      objective  years\n",
       "name                  \n",
       "2040          1      1"
      ]
     },
     "execution_count": 160,
     "metadata": {},
     "output_type": "execute_result"
    }
   ],
   "source": [
    "n.investment_period_weightings"
   ]
  },
  {
   "cell_type": "code",
   "execution_count": null,
   "metadata": {},
   "outputs": [],
   "source": [
    "n.generators_t.p_max_pu.plot()"
   ]
  }
 ],
 "metadata": {
  "kernelspec": {
   "display_name": "Python 3.10.6 ('pypsa-eur')",
   "language": "python",
   "name": "python3"
  },
  "language_info": {
   "codemirror_mode": {
    "name": "ipython",
    "version": 3
   },
   "file_extension": ".py",
   "mimetype": "text/x-python",
   "name": "python",
   "nbconvert_exporter": "python",
   "pygments_lexer": "ipython3",
   "version": "3.10.6"
  },
  "orig_nbformat": 4,
  "vscode": {
   "interpreter": {
    "hash": "176109d3748470a01cf7c657233c4e326b36b49ffa10510176569af47614a650"
   }
  }
 },
 "nbformat": 4,
 "nbformat_minor": 2
}

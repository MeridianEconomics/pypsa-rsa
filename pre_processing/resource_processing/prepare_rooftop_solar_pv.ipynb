{
 "cells": [
  {
   "cell_type": "markdown",
   "metadata": {},
   "source": [
    "# Overview\n",
    "\n",
    "Download population density geotiff from https://hub.worldpop.org/geodata/summary?id=43847\n"
   ]
  },
  {
   "cell_type": "code",
   "execution_count": 1,
   "metadata": {},
   "outputs": [],
   "source": [
    "import atlite\n",
    "import xarray as xr\n",
    "import pandas as pd\n",
    "import PySAM.Pvwattsv8 as pv\n",
    "import numpy as np\n",
    "import os\n",
    "import matplotlib.pyplot as plt\n",
    "import rasterio\n",
    "from _helpers import (\n",
    "    get_nsrdb_weather_file,\n",
    "    aggregate_intra_region,\n",
    "    generate_pv_timeseries,\n",
    "    reshape_xarray,\n",
    ")\n",
    "from rasterio.plot import show\n",
    "from rasterio.features import geometry_mask\n",
    "\n",
    "from _helpers import load_gis_data, set_availability\n",
    "import geopandas as gpd\n",
    "from IPython.display import clear_output\n",
    "from scipy.spatial.distance import cdist\n",
    "from shapely import wkt\n",
    "import concurrent.futures\n",
    "\n",
    "import pyogrio\n",
    "from shapely.geometry import Point"
   ]
  },
  {
   "cell_type": "code",
   "execution_count": 2,
   "metadata": {},
   "outputs": [],
   "source": [
    "albers_crs = {\n",
    "    \"proj\": \"aea\",  # Albers Equal Area\n",
    "    \"lat_1\": 29.5,  # First standard parallel\n",
    "    \"lat_2\": 45.5,  # Second standard parallel\n",
    "    \"lat_0\": 23,    # Latitude of projection center\n",
    "    \"lon_0\": -96,   # Longitude of projection center\n",
    "    \"x_0\": 0,\n",
    "    \"y_0\": 0,\n",
    "    \"datum\": \"NAD83\",\n",
    "    \"units\": \"m\",\n",
    "    \"no_defs\": True\n",
    "}"
   ]
  },
  {
   "cell_type": "code",
   "execution_count": 4,
   "metadata": {},
   "outputs": [],
   "source": [
    "buildings = pyogrio.read_dataframe(\n",
    "    \"/media/pklein/1TB_SSD/Meridian Dropbox/ME Projects/03 R E S O U R C E S/Modelling data/GIS data/Buildings/hotosm_zaf_buildings_polygons_shp/hotosm_zaf_buildings_polygons.shp\"\n",
    ")\n",
    "buildings = buildings.to_crs(albers_crs)\n",
    "buildings.sindex\n",
    "buildings[\"area\"] = buildings.geometry.area"
   ]
  },
  {
   "cell_type": "code",
   "execution_count": null,
   "metadata": {},
   "outputs": [],
   "source": [
    "bin = bin.groupby([\"y\",\"x\"]).sum()[\"area\"]"
   ]
  },
  {
   "cell_type": "code",
   "execution_count": 5,
   "metadata": {},
   "outputs": [],
   "source": [
    "cutout = atlite.Cutout(\n",
    "    path=\"../../cutouts/RSA-2010_22-era5.nc\",\n",
    "    chunks={'time': 100}\n",
    ")\n",
    "grid = cutout.grid\n",
    "grid = grid.to_crs(albers_crs)"
   ]
  },
  {
   "cell_type": "code",
   "execution_count": 6,
   "metadata": {},
   "outputs": [
    {
     "name": "stderr",
     "output_type": "stream",
     "text": [
      "/home/pklein/.local/lib/python3.10/site-packages/IPython/core/interactiveshell.py:3448: FutureWarning: The `op` parameter is deprecated and will be removed in a future release. Please use the `predicate` parameter instead.\n",
      "  if await self.run_code(code, result, async_=asy):\n"
     ]
    }
   ],
   "source": [
    "buildings_in_cells = gpd.sjoin(buildings, grid, op=\"within\")"
   ]
  },
  {
   "cell_type": "code",
   "execution_count": 7,
   "metadata": {},
   "outputs": [
    {
     "name": "stdout",
     "output_type": "stream",
     "text": [
      "Loading Eskom Supply Regions from ../../data/bundle/rsa_supply_regions.gpkg\n",
      "Loading EIA applications from ../../data/bundle/REEA_OR_2023_Q3.shp\n",
      "Loading REDZs from ../../data/bundle/REDZs.shp\n",
      "Loading Power Corridors from ../../data/bundle/Power_corridors.shp\n",
      "Loading SACAD from ../../data/bundle/SACAD_OR_2023_Q3.shp\n",
      "Loading SAPAD from ../../data/bundle/SAPAD_OR_2023_Q3.shp\n",
      "Loading SKA exclusion from ../../data/bundle/SKA/SKA_exclusion.shp\n"
     ]
    }
   ],
   "source": [
    "data_bundle_path = \"../../data/bundle\"\n",
    "gis_data = load_gis_data(data_bundle_path)"
   ]
  },
  {
   "cell_type": "code",
   "execution_count": 20,
   "metadata": {},
   "outputs": [
    {
     "name": "stderr",
     "output_type": "stream",
     "text": [
      "/tmp/ipykernel_30297/1947448932.py:1: FutureWarning: The default value of numeric_only in DataFrameGroupBy.sum is deprecated. In a future version, numeric_only will default to False. Either specify numeric_only or select only columns which should be valid for the function.\n",
      "  building_area_in_cell = buildings_in_cells.groupby([\"y\",\"x\"]).sum()[\"area\"].to_xarray()\n"
     ]
    }
   ],
   "source": [
    "building_area_in_cell = buildings_in_cells.groupby([\"y\",\"x\"]).sum()[\"area\"].to_xarray()"
   ]
  },
  {
   "cell_type": "code",
   "execution_count": 29,
   "metadata": {},
   "outputs": [
    {
     "name": "stdout",
     "output_type": "stream",
     "text": [
      "1\n",
      "10\n"
     ]
    },
    {
     "name": "stderr",
     "output_type": "stream",
     "text": [
      "/home/pklein/.local/lib/python3.10/site-packages/IPython/core/interactiveshell.py:3448: FutureWarning: The `op` parameter is deprecated and will be removed in a future release. Please use the `predicate` parameter instead.\n",
      "  if await self.run_code(code, result, async_=asy):\n",
      "/home/pklein/.local/lib/python3.10/site-packages/IPython/core/interactiveshell.py:3448: FutureWarning: The `op` parameter is deprecated and will be removed in a future release. Please use the `predicate` parameter instead.\n",
      "  if await self.run_code(code, result, async_=asy):\n",
      "/home/pklein/.local/lib/python3.10/site-packages/IPython/core/interactiveshell.py:3448: FutureWarning: The `op` parameter is deprecated and will be removed in a future release. Please use the `predicate` parameter instead.\n",
      "  if await self.run_code(code, result, async_=asy):\n"
     ]
    },
    {
     "name": "stdout",
     "output_type": "stream",
     "text": [
      "27\n",
      "34\n"
     ]
    },
    {
     "name": "stderr",
     "output_type": "stream",
     "text": [
      "/home/pklein/.local/lib/python3.10/site-packages/IPython/core/interactiveshell.py:3448: FutureWarning: The `op` parameter is deprecated and will be removed in a future release. Please use the `predicate` parameter instead.\n",
      "  if await self.run_code(code, result, async_=asy):\n"
     ]
    },
    {
     "name": "stdout",
     "output_type": "stream",
     "text": [
      "159\n"
     ]
    },
    {
     "name": "stderr",
     "output_type": "stream",
     "text": [
      "/home/pklein/.local/lib/python3.10/site-packages/IPython/core/interactiveshell.py:3448: FutureWarning: The `op` parameter is deprecated and will be removed in a future release. Please use the `predicate` parameter instead.\n",
      "  if await self.run_code(code, result, async_=asy):\n"
     ]
    }
   ],
   "source": [
    "for region_num in gis_data[\"supply_regions\"].keys():\n",
    "    print(region_num)\n",
    "    bus_list = gis_data[\"supply_regions\"][region_num].name.to_list()\n",
    "    map_cell_to_region = gpd.sjoin(grid.to_crs(albers_crs), gis_data[\"supply_regions\"][region_num].to_crs(albers_crs), op=\"within\")[[\"x\", \"y\", \"name\"]]\n",
    "\n",
    "    availability_matrix = xr.DataArray(\n",
    "        coords = {\n",
    "            \"bus\": bus_list, \n",
    "            \"y\": cutout.grid.y.unique(),\n",
    "            \"x\": cutout.grid.x.unique(),\n",
    "        },\n",
    "        dims = [\"bus\", \"y\",\"x\"],\n",
    "    )\n",
    "\n",
    "    for bus in bus_list:\n",
    "        cell_list = map_cell_to_region[map_cell_to_region[\"name\"] == bus][[\"x\",\"y\"]]\n",
    "        mask = availability_matrix.coords['x'].isin(cell_list['x']) & availability_matrix.coords['y'].isin(cell_list['y'])\n",
    "        selected_data = building_area_in_cell.where(mask, drop=True)\n",
    "        availability_matrix.loc[dict(bus=bus, x=selected_data.coords['x'], y=selected_data.coords['y'])] = (selected_data/selected_data.sum()).values\n",
    "\n",
    "    availability_matrix.to_netcdf(f\"availability/rooftop_availability_matrix_{region_num}.nc\")"
   ]
  }
 ],
 "metadata": {
  "kernelspec": {
   "display_name": "atlite",
   "language": "python",
   "name": "python3"
  },
  "language_info": {
   "codemirror_mode": {
    "name": "ipython",
    "version": 3
   },
   "file_extension": ".py",
   "mimetype": "text/x-python",
   "name": "python",
   "nbconvert_exporter": "python",
   "pygments_lexer": "ipython3",
   "version": "3.10.11"
  }
 },
 "nbformat": 4,
 "nbformat_minor": 2
}
